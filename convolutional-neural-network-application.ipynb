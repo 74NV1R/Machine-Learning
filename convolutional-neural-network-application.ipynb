{
 "cells": [
  {
   "cell_type": "code",
   "execution_count": 1,
   "id": "7d69cebf",
   "metadata": {
    "_cell_guid": "b1076dfc-b9ad-4769-8c92-a6c4dae69d19",
    "_uuid": "8f2839f25d086af736a60e9eeb907d3b93b6e0e5",
    "execution": {
     "iopub.execute_input": "2025-07-29T16:11:21.969074Z",
     "iopub.status.busy": "2025-07-29T16:11:21.968593Z",
     "iopub.status.idle": "2025-07-29T16:11:24.282649Z",
     "shell.execute_reply": "2025-07-29T16:11:24.281340Z"
    },
    "papermill": {
     "duration": 2.320788,
     "end_time": "2025-07-29T16:11:24.284889",
     "exception": false,
     "start_time": "2025-07-29T16:11:21.964101",
     "status": "completed"
    },
    "tags": []
   },
   "outputs": [
    {
     "name": "stdout",
     "output_type": "stream",
     "text": [
      "/kaggle/input/happy-house-dataset/train_happy.h5\n",
      "/kaggle/input/happy-house-dataset/test_happy.h5\n"
     ]
    }
   ],
   "source": [
    "# This Python 3 environment comes with many helpful analytics libraries installed\n",
    "# It is defined by the kaggle/python Docker image: https://github.com/kaggle/docker-python\n",
    "# For example, here's several helpful packages to load\n",
    "\n",
    "import numpy as np # linear algebra\n",
    "import pandas as pd # data processing, CSV file I/O (e.g. pd.read_csv)\n",
    "\n",
    "# Input data files are available in the read-only \"../input/\" directory\n",
    "# For example, running this (by clicking run or pressing Shift+Enter) will list all files under the input directory\n",
    "\n",
    "import os\n",
    "for dirname, _, filenames in os.walk('/kaggle/input'):\n",
    "    for filename in filenames:\n",
    "        print(os.path.join(dirname, filename))\n",
    "\n",
    "# You can write up to 20GB to the current directory (/kaggle/working/) that gets preserved as output when you create a version using \"Save & Run All\" \n",
    "# You can also write temporary files to /kaggle/temp/, but they won't be saved outside of the current session"
   ]
  },
  {
   "cell_type": "code",
   "execution_count": 2,
   "id": "6bdd6937",
   "metadata": {
    "execution": {
     "iopub.execute_input": "2025-07-29T16:11:24.292610Z",
     "iopub.status.busy": "2025-07-29T16:11:24.291230Z",
     "iopub.status.idle": "2025-07-29T16:11:24.634451Z",
     "shell.execute_reply": "2025-07-29T16:11:24.633475Z"
    },
    "papermill": {
     "duration": 0.348953,
     "end_time": "2025-07-29T16:11:24.636481",
     "exception": false,
     "start_time": "2025-07-29T16:11:24.287528",
     "status": "completed"
    },
    "tags": []
   },
   "outputs": [],
   "source": [
    "import h5py"
   ]
  },
  {
   "cell_type": "code",
   "execution_count": 3,
   "id": "395d439e",
   "metadata": {
    "execution": {
     "iopub.execute_input": "2025-07-29T16:11:24.642528Z",
     "iopub.status.busy": "2025-07-29T16:11:24.641909Z",
     "iopub.status.idle": "2025-07-29T16:11:24.656611Z",
     "shell.execute_reply": "2025-07-29T16:11:24.655373Z"
    },
    "papermill": {
     "duration": 0.019691,
     "end_time": "2025-07-29T16:11:24.658449",
     "exception": false,
     "start_time": "2025-07-29T16:11:24.638758",
     "status": "completed"
    },
    "tags": []
   },
   "outputs": [
    {
     "name": "stdout",
     "output_type": "stream",
     "text": [
      "<KeysViewHDF5 ['list_classes', 'test_set_x', 'test_set_y']>\n"
     ]
    }
   ],
   "source": [
    "train_dataset = h5py.File(\"/kaggle/input/happy-house-dataset/test_happy.h5\", \"r\")\n",
    "print(train_dataset.keys())"
   ]
  },
  {
   "cell_type": "code",
   "execution_count": 4,
   "id": "a81d6a57",
   "metadata": {
    "execution": {
     "iopub.execute_input": "2025-07-29T16:11:24.664380Z",
     "iopub.status.busy": "2025-07-29T16:11:24.663970Z",
     "iopub.status.idle": "2025-07-29T16:11:24.670436Z",
     "shell.execute_reply": "2025-07-29T16:11:24.669217Z"
    },
    "papermill": {
     "duration": 0.011461,
     "end_time": "2025-07-29T16:11:24.672195",
     "exception": false,
     "start_time": "2025-07-29T16:11:24.660734",
     "status": "completed"
    },
    "tags": []
   },
   "outputs": [],
   "source": [
    "if 'train_set_x' in train_dataset:\n",
    "    data = train_dataset['train_set_x']\n",
    "    datay = train_dataset['train_set_y']\n",
    "    print(\"Shape of train_set_y:\", datay.shape)\n",
    "    \n",
    "    \n",
    "    print(\"Shape of train_set_x:\", data.shape)\n",
    "    print(\"First few rows:\")\n",
    "    print(data[0])"
   ]
  }
 ],
 "metadata": {
  "kaggle": {
   "accelerator": "none",
   "dataSources": [
    {
     "datasetId": 50539,
     "sourceId": 94480,
     "sourceType": "datasetVersion"
    }
   ],
   "dockerImageVersionId": 31089,
   "isGpuEnabled": false,
   "isInternetEnabled": true,
   "language": "python",
   "sourceType": "notebook"
  },
  "kernelspec": {
   "display_name": "Python 3",
   "language": "python",
   "name": "python3"
  },
  "language_info": {
   "codemirror_mode": {
    "name": "ipython",
    "version": 3
   },
   "file_extension": ".py",
   "mimetype": "text/x-python",
   "name": "python",
   "nbconvert_exporter": "python",
   "pygments_lexer": "ipython3",
   "version": "3.11.13"
  },
  "papermill": {
   "default_parameters": {},
   "duration": 9.484481,
   "end_time": "2025-07-29T16:11:25.497307",
   "environment_variables": {},
   "exception": null,
   "input_path": "__notebook__.ipynb",
   "output_path": "__notebook__.ipynb",
   "parameters": {},
   "start_time": "2025-07-29T16:11:16.012826",
   "version": "2.6.0"
  }
 },
 "nbformat": 4,
 "nbformat_minor": 5
}
