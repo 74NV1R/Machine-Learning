{
  "nbformat": 4,
  "nbformat_minor": 0,
  "metadata": {
    "colab": {
      "provenance": []
    },
    "kernelspec": {
      "name": "python3",
      "display_name": "Python 3"
    },
    "language_info": {
      "name": "python"
    }
  },
  "cells": [
    {
      "cell_type": "code",
      "execution_count": null,
      "metadata": {
        "id": "a4ducTCEXjis",
        "colab": {
          "base_uri": "https://localhost:8080/"
        },
        "outputId": "85714ab2-9d2b-4bd2-b489-def8efa96718"
      },
      "outputs": [
        {
          "output_type": "stream",
          "name": "stdout",
          "text": [
            "Mounted at /content/drive\n",
            "/content/drive/MyDrive\n"
          ]
        }
      ],
      "source": [
        "from google.colab import drive\n",
        "import numpy as np\n",
        "import pandas as pd\n",
        "\n",
        "drive.mount('/content/drive', force_remount=True)\n",
        "\n",
        "%cd /content/drive/MyDrive\n",
        "\n",
        "d= pd.read_csv(\"diabetes.csv\")"
      ]
    },
    {
      "cell_type": "code",
      "source": [
        "npa = d.to_numpy()\n",
        "yAxis = npa.shape[0]\n",
        "\n",
        "#yAxis\n",
        "a = int((yAxis/100)*80)\n",
        "\n",
        "train, test = npa[:a,:], npa[a:,:]\n",
        "\n",
        "test.shape"
      ],
      "metadata": {
        "colab": {
          "base_uri": "https://localhost:8080/"
        },
        "id": "gHLl_pqkX33Y",
        "outputId": "9cec5be7-039f-42a9-ea40-39db8440137b"
      },
      "execution_count": null,
      "outputs": [
        {
          "output_type": "execute_result",
          "data": {
            "text/plain": [
              "(154, 8)"
            ]
          },
          "metadata": {},
          "execution_count": 54
        }
      ]
    },
    {
      "cell_type": "code",
      "source": [
        "npa[8, 7]"
      ],
      "metadata": {
        "colab": {
          "base_uri": "https://localhost:8080/"
        },
        "id": "a_vAOf8RcbFZ",
        "outputId": "fb9e5e96-e5b3-4211-f382-ee24f2798a44"
      },
      "execution_count": null,
      "outputs": [
        {
          "output_type": "execute_result",
          "data": {
            "text/plain": [
              "1.0"
            ]
          },
          "metadata": {},
          "execution_count": 57
        }
      ]
    },
    {
      "cell_type": "code",
      "source": [
        "test[:,7]"
      ],
      "metadata": {
        "id": "6Q4I-rr6gYB2"
      },
      "execution_count": null,
      "outputs": []
    },
    {
      "cell_type": "code",
      "source": [
        "def KNN(point):\n",
        "  distances = [None]* yAxis\n",
        "  ind = [None]* 7\n",
        "  neigh = [None] * 7\n",
        "  for j in range(0, yAxis):\n",
        "    for i in range (0, 7):\n",
        "      dist = abs(point[i] - npa[j, i])\n",
        "      distances[j] = dist\n",
        "\n",
        "  for i in range (0, 6):\n",
        "    minDist = min(distances)\n",
        "    min_index = distances.index(minDist)\n",
        "    \n",
        "    ind[i] = min_index\n",
        "    distances.remove(minDist)\n",
        "\n",
        "  res = 0\n",
        "  for i in range (0, 6):\n",
        "    find = distances[i]\n",
        "    res = res + npa[i, 7]\n",
        "\n",
        "\n",
        "  if res >= 4:\n",
        "    return 1\n",
        "  else:\n",
        "    return 0\n",
        "\n",
        "  \n",
        "      \n",
        "\n",
        "\n",
        "\n",
        "for i in range(0, train.shape[0]-1):\n",
        "  train[i, 7] = KNN(train[i, :])"
      ],
      "metadata": {
        "id": "41XdtgmPGfkV"
      },
      "execution_count": null,
      "outputs": []
    },
    {
      "cell_type": "code",
      "source": [
        "yAxis"
      ],
      "metadata": {
        "colab": {
          "base_uri": "https://localhost:8080/"
        },
        "id": "1x-bCGOj-XKN",
        "outputId": "825f4b05-280d-486a-ba30-cf55c70573ee"
      },
      "execution_count": null,
      "outputs": [
        {
          "output_type": "execute_result",
          "data": {
            "text/plain": [
              "768"
            ]
          },
          "metadata": {},
          "execution_count": 77
        }
      ]
    },
    {
      "cell_type": "code",
      "source": [
        "acc = 0\n",
        "for i in range(a-1, yAxis):\n",
        "  j = i - a\n",
        "  if npa[i, 7] == train[j, 7]:\n",
        "    acc = acc + 1"
      ],
      "metadata": {
        "id": "80ngrRbddovI"
      },
      "execution_count": null,
      "outputs": []
    },
    {
      "cell_type": "code",
      "source": [
        " acc / test.shape[0] *100"
      ],
      "metadata": {
        "colab": {
          "base_uri": "https://localhost:8080/"
        },
        "id": "nckPDe_TJsq1",
        "outputId": "0f1de3bb-c280-47e8-faff-470523f7e5db"
      },
      "execution_count": null,
      "outputs": [
        {
          "output_type": "execute_result",
          "data": {
            "text/plain": [
              "64.93506493506493"
            ]
          },
          "metadata": {},
          "execution_count": 92
        }
      ]
    }
  ]
}