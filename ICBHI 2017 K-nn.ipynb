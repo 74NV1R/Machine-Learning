{
  "nbformat": 4,
  "nbformat_minor": 0,
  "metadata": {
    "colab": {
      "provenance": []
    },
    "kernelspec": {
      "name": "python3",
      "display_name": "Python 3"
    },
    "language_info": {
      "name": "python"
    }
  },
  "cells": [
    {
      "cell_type": "code",
      "source": [
        "import tensorflow as tf\n",
        "from tensorflow.keras import datasets, layers, models\n",
        "import matplotlib.pyplot as plt\n",
        "import numpy as np\n",
        "import tensorflow.keras as keras\n",
        "import pandas as pd\n",
        "import os"
      ],
      "metadata": {
        "id": "EUCq3DSeO_zJ"
      },
      "execution_count": 1,
      "outputs": []
    },
    {
      "cell_type": "markdown",
      "source": [
        "##making the list of wav files"
      ],
      "metadata": {
        "id": "AvqJmeG-PCEP"
      }
    },
    {
      "cell_type": "code",
      "source": [
        "import glob\n",
        "path = r'/content/drive/MyDrive/Respiratory sound analysis, classification and disease detection (Final Year Design Project)/Respiratory_Sound_Database/Respiratory_Sound_Database/audio_and_txt_files/*.wav'\n",
        "files = glob.glob(path)"
      ],
      "metadata": {
        "id": "8kAlUCVb0L6c"
      },
      "execution_count": 7,
      "outputs": []
    },
    {
      "cell_type": "code",
      "source": [
        "from google.colab import drive\n",
        "drive.mount('/content/drive')"
      ],
      "metadata": {
        "colab": {
          "base_uri": "https://localhost:8080/"
        },
        "id": "Or80Iz9OiCS3",
        "outputId": "ed26934e-17b9-4f53-85b6-02074fa781f0"
      },
      "execution_count": 3,
      "outputs": [
        {
          "output_type": "stream",
          "name": "stdout",
          "text": [
            "Mounted at /content/drive\n"
          ]
        }
      ]
    },
    {
      "cell_type": "code",
      "source": [
        "pip install pydub"
      ],
      "metadata": {
        "colab": {
          "base_uri": "https://localhost:8080/"
        },
        "id": "FjBg28N51eB6",
        "outputId": "4b7b6002-4317-4d83-d711-7ae576b5ed10"
      },
      "execution_count": null,
      "outputs": [
        {
          "output_type": "stream",
          "name": "stdout",
          "text": [
            "Looking in indexes: https://pypi.org/simple, https://us-python.pkg.dev/colab-wheels/public/simple/\n",
            "Collecting pydub\n",
            "  Downloading pydub-0.25.1-py2.py3-none-any.whl (32 kB)\n",
            "Installing collected packages: pydub\n",
            "Successfully installed pydub-0.25.1\n"
          ]
        }
      ]
    },
    {
      "cell_type": "markdown",
      "source": [
        "##testing audio from list\n"
      ],
      "metadata": {
        "id": "B2jxdkrUPJXJ"
      }
    },
    {
      "cell_type": "code",
      "source": [
        "from pydub import AudioSegment\n",
        "from pydub.playback import play\n",
        " \n",
        "song = AudioSegment.from_wav(files[100])\n",
        "print('playing sound using  pydub')\n",
        "play(song)"
      ],
      "metadata": {
        "colab": {
          "base_uri": "https://localhost:8080/"
        },
        "id": "XfIxIXNW00Y0",
        "outputId": "6353d59f-5a12-4010-90dd-d92712fda413"
      },
      "execution_count": null,
      "outputs": [
        {
          "output_type": "stream",
          "name": "stdout",
          "text": [
            "playing sound using  pydub\n"
          ]
        }
      ]
    },
    {
      "cell_type": "code",
      "source": [
        "import librosa"
      ],
      "metadata": {
        "id": "gMVk3eYO6tPQ"
      },
      "execution_count": 4,
      "outputs": []
    },
    {
      "cell_type": "code",
      "source": [
        "f = files[101]\n",
        "\n",
        "sound, sample_rate = librosa.load(f)\n",
        "stft = np.abs(librosa.stft(sound)) \n",
        "\n",
        "zcr = np.mean(librosa.feature.zero_crossing_rate(sound, sample_rate),axis=1)\n",
        "\n",
        "rms = np.mean(librosa.feature.rms(sound, sample_rate),axis=1)"
      ],
      "metadata": {
        "id": "EDE0ErGh7fYo"
      },
      "execution_count": 13,
      "outputs": []
    },
    {
      "cell_type": "code",
      "source": [
        "np.mean(zcr)"
      ],
      "metadata": {
        "colab": {
          "base_uri": "https://localhost:8080/"
        },
        "id": "VzDeoTi48Rza",
        "outputId": "9eca9307-8451-431d-cd63-8620bcde1124"
      },
      "execution_count": 14,
      "outputs": [
        {
          "output_type": "execute_result",
          "data": {
            "text/plain": [
              "0.0035896059893408255"
            ]
          },
          "metadata": {},
          "execution_count": 14
        }
      ]
    },
    {
      "cell_type": "markdown",
      "source": [
        "##this function returns numPy ndArray of mfcc, chroma, mel spectrogram values, in one array"
      ],
      "metadata": {
        "id": "RghPREV7PQYo"
      }
    },
    {
      "cell_type": "code",
      "source": [
        "def sendFeature(f):\n",
        "  sound, sample_rate = librosa.load(f)\n",
        "  stft = np.abs(librosa.stft(sound))  \n",
        "    \n",
        "  mfccs = np.mean(librosa.feature.mfcc(y=sound, sr=sample_rate, n_mfcc=40),axis=1)\n",
        "  #chroma = np.mean(librosa.feature.chroma_stft(S=stft, sr=sample_rate),axis=1)\n",
        "  mel = np.mean(librosa.feature.melspectrogram(sound, sr=sample_rate),axis=1)\n",
        "  zcr = np.mean(librosa.feature.zero_crossing_rate(sound, sample_rate),axis=1)\n",
        "  \n",
        "  rms = np.mean(librosa.feature.rms(sound, sample_rate),axis=1)\n",
        "\n",
        "\n",
        "  pname = os.path.basename(f).split(\"_\")\n",
        "  SL = pname[0]\n",
        "  row = []\n",
        "  \n",
        "  row = np.concatenate((mfccs,mel, zcr))\n",
        "\n",
        "  row = np.insert(row, 0, SL)\n",
        "  return row\n"
      ],
      "metadata": {
        "id": "MI_IMFQW6BPW"
      },
      "execution_count": 15,
      "outputs": []
    },
    {
      "cell_type": "markdown",
      "source": [
        "##creating dataframe of mfcc, chroma, mel 1D values without class column"
      ],
      "metadata": {
        "id": "fT7-GPb3Pxio"
      }
    },
    {
      "cell_type": "code",
      "source": [
        "df = pd.DataFrame()\n",
        "\n",
        "for x in files:\n",
        "  Row = sendFeature(x)\n",
        "  df = df.append(pd.DataFrame(data=[Row]))"
      ],
      "metadata": {
        "id": "8wSJFqlG7Fy9"
      },
      "execution_count": 16,
      "outputs": []
    },
    {
      "cell_type": "markdown",
      "source": [
        "##making dataframe of diagnosis data"
      ],
      "metadata": {
        "id": "UhlnQLbdQDDt"
      }
    },
    {
      "cell_type": "code",
      "source": [
        "classes = pd.read_csv(\"/content/drive/MyDrive/Respiratory sound analysis, classification and disease detection (Final Year Design Project)/Respiratory_Sound_Database/Respiratory_Sound_Database/patient_diagnosis.csv\")"
      ],
      "metadata": {
        "id": "caXddPu363m7"
      },
      "execution_count": 17,
      "outputs": []
    },
    {
      "cell_type": "markdown",
      "source": [],
      "metadata": {
        "id": "luixGi-bjUka"
      }
    },
    {
      "cell_type": "code",
      "source": [
        "df[0].value_counts()"
      ],
      "metadata": {
        "colab": {
          "base_uri": "https://localhost:8080/"
        },
        "id": "_Vx9DLTHmUfM",
        "outputId": "d6c6ad7e-86f8-4e66-fb51-571b63c0712b"
      },
      "execution_count": 18,
      "outputs": [
        {
          "output_type": "execute_result",
          "data": {
            "text/plain": [
              "130.0    66\n",
              "151.0    28\n",
              "107.0    28\n",
              "138.0    27\n",
              "172.0    27\n",
              "         ..\n",
              "125.0     1\n",
              "126.0     1\n",
              "128.0     1\n",
              "123.0     1\n",
              "184.0     1\n",
              "Name: 0, Length: 126, dtype: int64"
            ]
          },
          "metadata": {},
          "execution_count": 18
        }
      ]
    },
    {
      "cell_type": "code",
      "source": [
        "resultPath = \"/content/drive/MyDrive/Respiratory sound analysis, classification and disease detection (Final Year Design Project)/Respiratory_Sound_Database/Respiratory_Sound_Database/patient_diagnosis.csv\""
      ],
      "metadata": {
        "id": "5wXEQ_74uyin"
      },
      "execution_count": 19,
      "outputs": []
    },
    {
      "cell_type": "code",
      "source": [
        "title = [\"SL\", \"class\"]\n",
        "\n",
        "diag = pd.read_csv(resultPath, names=title)"
      ],
      "metadata": {
        "id": "Vox778JixjAm"
      },
      "execution_count": 20,
      "outputs": []
    },
    {
      "cell_type": "code",
      "source": [
        "df.rename(columns = {0:'SL'}, inplace = True)"
      ],
      "metadata": {
        "id": "yf5DBMVkyUji"
      },
      "execution_count": 21,
      "outputs": []
    },
    {
      "cell_type": "code",
      "source": [
        "df2 = pd.merge(df, diag, on=\"SL\")"
      ],
      "metadata": {
        "id": "ZyXxWsshtHEQ"
      },
      "execution_count": 22,
      "outputs": []
    },
    {
      "cell_type": "markdown",
      "source": [
        "###merging dataframes of attributes and label column"
      ],
      "metadata": {
        "id": "H_d6cioeQNV-"
      }
    },
    {
      "cell_type": "code",
      "source": [
        "df2 = df2.drop('SL', axis=1)"
      ],
      "metadata": {
        "id": "YdKxBmhnVsoT"
      },
      "execution_count": 23,
      "outputs": []
    },
    {
      "cell_type": "code",
      "source": [
        "df2"
      ],
      "metadata": {
        "colab": {
          "base_uri": "https://localhost:8080/",
          "height": 661
        },
        "id": "PyO-Z5JpydEB",
        "outputId": "d8d89b4f-3429-48f2-ddfe-0a00e7485022"
      },
      "execution_count": 24,
      "outputs": [
        {
          "output_type": "execute_result",
          "data": {
            "text/plain": [
              "              1           2          3          4          5          6  \\\n",
              "0   -376.834167  112.070412  54.905434  48.952473  31.104082  26.692186   \n",
              "1   -355.735504  112.486313  64.843376  33.597191  25.152960  25.082975   \n",
              "2   -388.970917  105.133408  49.908825  44.876896  30.665163  29.289984   \n",
              "3   -353.922516  105.388161  66.852875  36.985683  26.500805  26.432636   \n",
              "4   -353.211151  111.863373  62.016300  30.860928  23.401262  24.418919   \n",
              "..          ...         ...        ...        ...        ...        ...   \n",
              "915 -291.696014  178.602997  64.844208  20.630623  21.570168  13.506413   \n",
              "916 -502.216705  100.117805  60.128754  32.277088  36.383972  38.851910   \n",
              "917 -524.256897  103.861298  58.770683  24.850790  34.807739  35.451801   \n",
              "918 -515.420593   78.584358  59.590454  41.739243  40.581760  36.480518   \n",
              "919 -452.372742   92.264221  57.185860  36.311768  31.497892  29.684912   \n",
              "\n",
              "             7          8          9         10  ...       161       162  \\\n",
              "0    17.166862  15.440213   9.706236   9.781637  ...  0.000047  0.000044   \n",
              "1    23.064644  19.242466  16.606459  15.464816  ...  0.000027  0.000026   \n",
              "2    21.182224  20.246838  14.096419  14.026716  ...  0.000043  0.000039   \n",
              "3    25.833517  23.252085  20.827061  18.568815  ...  0.000051  0.000048   \n",
              "4    24.640217  22.140684  18.652845  15.788815  ...  0.000025  0.000024   \n",
              "..         ...        ...        ...        ...  ...       ...       ...   \n",
              "915  -3.262139  -3.864437  12.238049  22.694208  ...  0.000012  0.000012   \n",
              "916  28.873722  12.902280  10.237914  15.450107  ...  0.000025  0.000014   \n",
              "917  24.114174  11.107311   8.224469  13.108119  ...  0.000032  0.000018   \n",
              "918  25.066301  17.418379  14.219076  14.065955  ...  0.000054  0.000032   \n",
              "919  22.305649  15.502880  13.018945  13.575228  ...  0.000021  0.000013   \n",
              "\n",
              "          163       164       165           166           167           168  \\\n",
              "0    0.000041  0.000038  0.000024  7.245791e-06  6.603987e-07  1.131897e-08   \n",
              "1    0.000025  0.000022  0.000015  4.328226e-06  4.023240e-07  5.512888e-08   \n",
              "2    0.000037  0.000034  0.000021  6.409333e-06  5.948819e-07  5.328588e-08   \n",
              "3    0.000047  0.000042  0.000027  7.938614e-06  7.775130e-07  2.073103e-07   \n",
              "4    0.000023  0.000021  0.000013  3.950217e-06  3.776953e-07  5.037608e-08   \n",
              "..        ...       ...       ...           ...           ...           ...   \n",
              "915  0.000011  0.000011  0.000007  1.917187e-06  1.739017e-07  4.180725e-09   \n",
              "916  0.000006  0.000011  0.000002  6.539217e-07  1.711861e-07  9.336559e-08   \n",
              "917  0.000007  0.000015  0.000002  7.095514e-07  1.193747e-07  1.740210e-08   \n",
              "918  0.000033  0.000041  0.000017  5.137932e-06  6.610316e-07  7.150481e-08   \n",
              "919  0.000006  0.000011  0.000002  1.026347e-06  4.793567e-07  3.888738e-07   \n",
              "\n",
              "          169    class  \n",
              "0    0.005526     COPD  \n",
              "1    0.003274     COPD  \n",
              "2    0.004312     COPD  \n",
              "3    0.002623     COPD  \n",
              "4    0.003196     COPD  \n",
              "..        ...      ...  \n",
              "915  0.008666     COPD  \n",
              "916  0.002331  Healthy  \n",
              "917  0.005799  Healthy  \n",
              "918  0.002766  Healthy  \n",
              "919  0.002106  Healthy  \n",
              "\n",
              "[920 rows x 170 columns]"
            ],
            "text/html": [
              "\n",
              "  <div id=\"df-c783478d-e51a-4ba5-900f-68c88b594d2d\">\n",
              "    <div class=\"colab-df-container\">\n",
              "      <div>\n",
              "<style scoped>\n",
              "    .dataframe tbody tr th:only-of-type {\n",
              "        vertical-align: middle;\n",
              "    }\n",
              "\n",
              "    .dataframe tbody tr th {\n",
              "        vertical-align: top;\n",
              "    }\n",
              "\n",
              "    .dataframe thead th {\n",
              "        text-align: right;\n",
              "    }\n",
              "</style>\n",
              "<table border=\"1\" class=\"dataframe\">\n",
              "  <thead>\n",
              "    <tr style=\"text-align: right;\">\n",
              "      <th></th>\n",
              "      <th>1</th>\n",
              "      <th>2</th>\n",
              "      <th>3</th>\n",
              "      <th>4</th>\n",
              "      <th>5</th>\n",
              "      <th>6</th>\n",
              "      <th>7</th>\n",
              "      <th>8</th>\n",
              "      <th>9</th>\n",
              "      <th>10</th>\n",
              "      <th>...</th>\n",
              "      <th>161</th>\n",
              "      <th>162</th>\n",
              "      <th>163</th>\n",
              "      <th>164</th>\n",
              "      <th>165</th>\n",
              "      <th>166</th>\n",
              "      <th>167</th>\n",
              "      <th>168</th>\n",
              "      <th>169</th>\n",
              "      <th>class</th>\n",
              "    </tr>\n",
              "  </thead>\n",
              "  <tbody>\n",
              "    <tr>\n",
              "      <th>0</th>\n",
              "      <td>-376.834167</td>\n",
              "      <td>112.070412</td>\n",
              "      <td>54.905434</td>\n",
              "      <td>48.952473</td>\n",
              "      <td>31.104082</td>\n",
              "      <td>26.692186</td>\n",
              "      <td>17.166862</td>\n",
              "      <td>15.440213</td>\n",
              "      <td>9.706236</td>\n",
              "      <td>9.781637</td>\n",
              "      <td>...</td>\n",
              "      <td>0.000047</td>\n",
              "      <td>0.000044</td>\n",
              "      <td>0.000041</td>\n",
              "      <td>0.000038</td>\n",
              "      <td>0.000024</td>\n",
              "      <td>7.245791e-06</td>\n",
              "      <td>6.603987e-07</td>\n",
              "      <td>1.131897e-08</td>\n",
              "      <td>0.005526</td>\n",
              "      <td>COPD</td>\n",
              "    </tr>\n",
              "    <tr>\n",
              "      <th>1</th>\n",
              "      <td>-355.735504</td>\n",
              "      <td>112.486313</td>\n",
              "      <td>64.843376</td>\n",
              "      <td>33.597191</td>\n",
              "      <td>25.152960</td>\n",
              "      <td>25.082975</td>\n",
              "      <td>23.064644</td>\n",
              "      <td>19.242466</td>\n",
              "      <td>16.606459</td>\n",
              "      <td>15.464816</td>\n",
              "      <td>...</td>\n",
              "      <td>0.000027</td>\n",
              "      <td>0.000026</td>\n",
              "      <td>0.000025</td>\n",
              "      <td>0.000022</td>\n",
              "      <td>0.000015</td>\n",
              "      <td>4.328226e-06</td>\n",
              "      <td>4.023240e-07</td>\n",
              "      <td>5.512888e-08</td>\n",
              "      <td>0.003274</td>\n",
              "      <td>COPD</td>\n",
              "    </tr>\n",
              "    <tr>\n",
              "      <th>2</th>\n",
              "      <td>-388.970917</td>\n",
              "      <td>105.133408</td>\n",
              "      <td>49.908825</td>\n",
              "      <td>44.876896</td>\n",
              "      <td>30.665163</td>\n",
              "      <td>29.289984</td>\n",
              "      <td>21.182224</td>\n",
              "      <td>20.246838</td>\n",
              "      <td>14.096419</td>\n",
              "      <td>14.026716</td>\n",
              "      <td>...</td>\n",
              "      <td>0.000043</td>\n",
              "      <td>0.000039</td>\n",
              "      <td>0.000037</td>\n",
              "      <td>0.000034</td>\n",
              "      <td>0.000021</td>\n",
              "      <td>6.409333e-06</td>\n",
              "      <td>5.948819e-07</td>\n",
              "      <td>5.328588e-08</td>\n",
              "      <td>0.004312</td>\n",
              "      <td>COPD</td>\n",
              "    </tr>\n",
              "    <tr>\n",
              "      <th>3</th>\n",
              "      <td>-353.922516</td>\n",
              "      <td>105.388161</td>\n",
              "      <td>66.852875</td>\n",
              "      <td>36.985683</td>\n",
              "      <td>26.500805</td>\n",
              "      <td>26.432636</td>\n",
              "      <td>25.833517</td>\n",
              "      <td>23.252085</td>\n",
              "      <td>20.827061</td>\n",
              "      <td>18.568815</td>\n",
              "      <td>...</td>\n",
              "      <td>0.000051</td>\n",
              "      <td>0.000048</td>\n",
              "      <td>0.000047</td>\n",
              "      <td>0.000042</td>\n",
              "      <td>0.000027</td>\n",
              "      <td>7.938614e-06</td>\n",
              "      <td>7.775130e-07</td>\n",
              "      <td>2.073103e-07</td>\n",
              "      <td>0.002623</td>\n",
              "      <td>COPD</td>\n",
              "    </tr>\n",
              "    <tr>\n",
              "      <th>4</th>\n",
              "      <td>-353.211151</td>\n",
              "      <td>111.863373</td>\n",
              "      <td>62.016300</td>\n",
              "      <td>30.860928</td>\n",
              "      <td>23.401262</td>\n",
              "      <td>24.418919</td>\n",
              "      <td>24.640217</td>\n",
              "      <td>22.140684</td>\n",
              "      <td>18.652845</td>\n",
              "      <td>15.788815</td>\n",
              "      <td>...</td>\n",
              "      <td>0.000025</td>\n",
              "      <td>0.000024</td>\n",
              "      <td>0.000023</td>\n",
              "      <td>0.000021</td>\n",
              "      <td>0.000013</td>\n",
              "      <td>3.950217e-06</td>\n",
              "      <td>3.776953e-07</td>\n",
              "      <td>5.037608e-08</td>\n",
              "      <td>0.003196</td>\n",
              "      <td>COPD</td>\n",
              "    </tr>\n",
              "    <tr>\n",
              "      <th>...</th>\n",
              "      <td>...</td>\n",
              "      <td>...</td>\n",
              "      <td>...</td>\n",
              "      <td>...</td>\n",
              "      <td>...</td>\n",
              "      <td>...</td>\n",
              "      <td>...</td>\n",
              "      <td>...</td>\n",
              "      <td>...</td>\n",
              "      <td>...</td>\n",
              "      <td>...</td>\n",
              "      <td>...</td>\n",
              "      <td>...</td>\n",
              "      <td>...</td>\n",
              "      <td>...</td>\n",
              "      <td>...</td>\n",
              "      <td>...</td>\n",
              "      <td>...</td>\n",
              "      <td>...</td>\n",
              "      <td>...</td>\n",
              "      <td>...</td>\n",
              "    </tr>\n",
              "    <tr>\n",
              "      <th>915</th>\n",
              "      <td>-291.696014</td>\n",
              "      <td>178.602997</td>\n",
              "      <td>64.844208</td>\n",
              "      <td>20.630623</td>\n",
              "      <td>21.570168</td>\n",
              "      <td>13.506413</td>\n",
              "      <td>-3.262139</td>\n",
              "      <td>-3.864437</td>\n",
              "      <td>12.238049</td>\n",
              "      <td>22.694208</td>\n",
              "      <td>...</td>\n",
              "      <td>0.000012</td>\n",
              "      <td>0.000012</td>\n",
              "      <td>0.000011</td>\n",
              "      <td>0.000011</td>\n",
              "      <td>0.000007</td>\n",
              "      <td>1.917187e-06</td>\n",
              "      <td>1.739017e-07</td>\n",
              "      <td>4.180725e-09</td>\n",
              "      <td>0.008666</td>\n",
              "      <td>COPD</td>\n",
              "    </tr>\n",
              "    <tr>\n",
              "      <th>916</th>\n",
              "      <td>-502.216705</td>\n",
              "      <td>100.117805</td>\n",
              "      <td>60.128754</td>\n",
              "      <td>32.277088</td>\n",
              "      <td>36.383972</td>\n",
              "      <td>38.851910</td>\n",
              "      <td>28.873722</td>\n",
              "      <td>12.902280</td>\n",
              "      <td>10.237914</td>\n",
              "      <td>15.450107</td>\n",
              "      <td>...</td>\n",
              "      <td>0.000025</td>\n",
              "      <td>0.000014</td>\n",
              "      <td>0.000006</td>\n",
              "      <td>0.000011</td>\n",
              "      <td>0.000002</td>\n",
              "      <td>6.539217e-07</td>\n",
              "      <td>1.711861e-07</td>\n",
              "      <td>9.336559e-08</td>\n",
              "      <td>0.002331</td>\n",
              "      <td>Healthy</td>\n",
              "    </tr>\n",
              "    <tr>\n",
              "      <th>917</th>\n",
              "      <td>-524.256897</td>\n",
              "      <td>103.861298</td>\n",
              "      <td>58.770683</td>\n",
              "      <td>24.850790</td>\n",
              "      <td>34.807739</td>\n",
              "      <td>35.451801</td>\n",
              "      <td>24.114174</td>\n",
              "      <td>11.107311</td>\n",
              "      <td>8.224469</td>\n",
              "      <td>13.108119</td>\n",
              "      <td>...</td>\n",
              "      <td>0.000032</td>\n",
              "      <td>0.000018</td>\n",
              "      <td>0.000007</td>\n",
              "      <td>0.000015</td>\n",
              "      <td>0.000002</td>\n",
              "      <td>7.095514e-07</td>\n",
              "      <td>1.193747e-07</td>\n",
              "      <td>1.740210e-08</td>\n",
              "      <td>0.005799</td>\n",
              "      <td>Healthy</td>\n",
              "    </tr>\n",
              "    <tr>\n",
              "      <th>918</th>\n",
              "      <td>-515.420593</td>\n",
              "      <td>78.584358</td>\n",
              "      <td>59.590454</td>\n",
              "      <td>41.739243</td>\n",
              "      <td>40.581760</td>\n",
              "      <td>36.480518</td>\n",
              "      <td>25.066301</td>\n",
              "      <td>17.418379</td>\n",
              "      <td>14.219076</td>\n",
              "      <td>14.065955</td>\n",
              "      <td>...</td>\n",
              "      <td>0.000054</td>\n",
              "      <td>0.000032</td>\n",
              "      <td>0.000033</td>\n",
              "      <td>0.000041</td>\n",
              "      <td>0.000017</td>\n",
              "      <td>5.137932e-06</td>\n",
              "      <td>6.610316e-07</td>\n",
              "      <td>7.150481e-08</td>\n",
              "      <td>0.002766</td>\n",
              "      <td>Healthy</td>\n",
              "    </tr>\n",
              "    <tr>\n",
              "      <th>919</th>\n",
              "      <td>-452.372742</td>\n",
              "      <td>92.264221</td>\n",
              "      <td>57.185860</td>\n",
              "      <td>36.311768</td>\n",
              "      <td>31.497892</td>\n",
              "      <td>29.684912</td>\n",
              "      <td>22.305649</td>\n",
              "      <td>15.502880</td>\n",
              "      <td>13.018945</td>\n",
              "      <td>13.575228</td>\n",
              "      <td>...</td>\n",
              "      <td>0.000021</td>\n",
              "      <td>0.000013</td>\n",
              "      <td>0.000006</td>\n",
              "      <td>0.000011</td>\n",
              "      <td>0.000002</td>\n",
              "      <td>1.026347e-06</td>\n",
              "      <td>4.793567e-07</td>\n",
              "      <td>3.888738e-07</td>\n",
              "      <td>0.002106</td>\n",
              "      <td>Healthy</td>\n",
              "    </tr>\n",
              "  </tbody>\n",
              "</table>\n",
              "<p>920 rows × 170 columns</p>\n",
              "</div>\n",
              "      <button class=\"colab-df-convert\" onclick=\"convertToInteractive('df-c783478d-e51a-4ba5-900f-68c88b594d2d')\"\n",
              "              title=\"Convert this dataframe to an interactive table.\"\n",
              "              style=\"display:none;\">\n",
              "        \n",
              "  <svg xmlns=\"http://www.w3.org/2000/svg\" height=\"24px\"viewBox=\"0 0 24 24\"\n",
              "       width=\"24px\">\n",
              "    <path d=\"M0 0h24v24H0V0z\" fill=\"none\"/>\n",
              "    <path d=\"M18.56 5.44l.94 2.06.94-2.06 2.06-.94-2.06-.94-.94-2.06-.94 2.06-2.06.94zm-11 1L8.5 8.5l.94-2.06 2.06-.94-2.06-.94L8.5 2.5l-.94 2.06-2.06.94zm10 10l.94 2.06.94-2.06 2.06-.94-2.06-.94-.94-2.06-.94 2.06-2.06.94z\"/><path d=\"M17.41 7.96l-1.37-1.37c-.4-.4-.92-.59-1.43-.59-.52 0-1.04.2-1.43.59L10.3 9.45l-7.72 7.72c-.78.78-.78 2.05 0 2.83L4 21.41c.39.39.9.59 1.41.59.51 0 1.02-.2 1.41-.59l7.78-7.78 2.81-2.81c.8-.78.8-2.07 0-2.86zM5.41 20L4 18.59l7.72-7.72 1.47 1.35L5.41 20z\"/>\n",
              "  </svg>\n",
              "      </button>\n",
              "      \n",
              "  <style>\n",
              "    .colab-df-container {\n",
              "      display:flex;\n",
              "      flex-wrap:wrap;\n",
              "      gap: 12px;\n",
              "    }\n",
              "\n",
              "    .colab-df-convert {\n",
              "      background-color: #E8F0FE;\n",
              "      border: none;\n",
              "      border-radius: 50%;\n",
              "      cursor: pointer;\n",
              "      display: none;\n",
              "      fill: #1967D2;\n",
              "      height: 32px;\n",
              "      padding: 0 0 0 0;\n",
              "      width: 32px;\n",
              "    }\n",
              "\n",
              "    .colab-df-convert:hover {\n",
              "      background-color: #E2EBFA;\n",
              "      box-shadow: 0px 1px 2px rgba(60, 64, 67, 0.3), 0px 1px 3px 1px rgba(60, 64, 67, 0.15);\n",
              "      fill: #174EA6;\n",
              "    }\n",
              "\n",
              "    [theme=dark] .colab-df-convert {\n",
              "      background-color: #3B4455;\n",
              "      fill: #D2E3FC;\n",
              "    }\n",
              "\n",
              "    [theme=dark] .colab-df-convert:hover {\n",
              "      background-color: #434B5C;\n",
              "      box-shadow: 0px 1px 3px 1px rgba(0, 0, 0, 0.15);\n",
              "      filter: drop-shadow(0px 1px 2px rgba(0, 0, 0, 0.3));\n",
              "      fill: #FFFFFF;\n",
              "    }\n",
              "  </style>\n",
              "\n",
              "      <script>\n",
              "        const buttonEl =\n",
              "          document.querySelector('#df-c783478d-e51a-4ba5-900f-68c88b594d2d button.colab-df-convert');\n",
              "        buttonEl.style.display =\n",
              "          google.colab.kernel.accessAllowed ? 'block' : 'none';\n",
              "\n",
              "        async function convertToInteractive(key) {\n",
              "          const element = document.querySelector('#df-c783478d-e51a-4ba5-900f-68c88b594d2d');\n",
              "          const dataTable =\n",
              "            await google.colab.kernel.invokeFunction('convertToInteractive',\n",
              "                                                     [key], {});\n",
              "          if (!dataTable) return;\n",
              "\n",
              "          const docLinkHtml = 'Like what you see? Visit the ' +\n",
              "            '<a target=\"_blank\" href=https://colab.research.google.com/notebooks/data_table.ipynb>data table notebook</a>'\n",
              "            + ' to learn more about interactive tables.';\n",
              "          element.innerHTML = '';\n",
              "          dataTable['output_type'] = 'display_data';\n",
              "          await google.colab.output.renderOutput(dataTable, element);\n",
              "          const docLink = document.createElement('div');\n",
              "          docLink.innerHTML = docLinkHtml;\n",
              "          element.appendChild(docLink);\n",
              "        }\n",
              "      </script>\n",
              "    </div>\n",
              "  </div>\n",
              "  "
            ]
          },
          "metadata": {},
          "execution_count": 24
        }
      ]
    },
    {
      "cell_type": "markdown",
      "source": [
        "###train test, X Y split"
      ],
      "metadata": {
        "id": "MRE0U_U0Qa1P"
      }
    },
    {
      "cell_type": "code",
      "source": [
        "from sklearn.model_selection import train_test_split\n",
        "\n",
        "X =df2.loc[:,df2.columns != 'class']\n",
        "Y = df2['class']\n",
        "X_train, X_test, y_train, y_test = train_test_split(X, Y, test_size=0.20, random_state=42)"
      ],
      "metadata": {
        "id": "dLy8hV6A1pRr"
      },
      "execution_count": 45,
      "outputs": []
    },
    {
      "cell_type": "code",
      "source": [
        "from sklearn.preprocessing import MinMaxScaler\n",
        "\n",
        "mc = MinMaxScaler()\n",
        "\n",
        "mc.fit(X_train)\n",
        "mc_trainx=mc.transform(X_train)\n",
        "mc_testx= mc.transform(X_train)"
      ],
      "metadata": {
        "id": "UO1gjAASWhJi"
      },
      "execution_count": 46,
      "outputs": []
    },
    {
      "cell_type": "code",
      "source": [
        "X_train.shape"
      ],
      "metadata": {
        "colab": {
          "base_uri": "https://localhost:8080/"
        },
        "id": "Afj_FIC24SKn",
        "outputId": "c898f42d-7d2c-4993-8f9e-0a7dbf3078d9"
      },
      "execution_count": null,
      "outputs": [
        {
          "output_type": "execute_result",
          "data": {
            "text/plain": [
              "(736, 169)"
            ]
          },
          "metadata": {},
          "execution_count": 20
        }
      ]
    },
    {
      "cell_type": "code",
      "source": [
        "mc_trainx.shape"
      ],
      "metadata": {
        "colab": {
          "base_uri": "https://localhost:8080/"
        },
        "id": "tUs1aONQX1vg",
        "outputId": "195e81f0-5743-4702-a3f5-9cf8d7008e98"
      },
      "execution_count": null,
      "outputs": [
        {
          "output_type": "execute_result",
          "data": {
            "text/plain": [
              "(736, 169)"
            ]
          },
          "metadata": {},
          "execution_count": 21
        }
      ]
    },
    {
      "cell_type": "code",
      "source": [
        "y_test"
      ],
      "metadata": {
        "colab": {
          "base_uri": "https://localhost:8080/"
        },
        "id": "ql261zUatUvt",
        "outputId": "4f938787-bc61-4454-efd1-d40de992de01"
      },
      "execution_count": null,
      "outputs": [
        {
          "output_type": "execute_result",
          "data": {
            "text/plain": [
              "319         COPD\n",
              "377         COPD\n",
              "538         COPD\n",
              "296         COPD\n",
              "531         COPD\n",
              "         ...    \n",
              "382         COPD\n",
              "97          COPD\n",
              "906         COPD\n",
              "467    Pneumonia\n",
              "732         COPD\n",
              "Name: class, Length: 184, dtype: object"
            ]
          },
          "metadata": {},
          "execution_count": 29
        }
      ]
    },
    {
      "cell_type": "code",
      "source": [
        "mc_trainx"
      ],
      "metadata": {
        "colab": {
          "base_uri": "https://localhost:8080/"
        },
        "id": "azz7F2sQxyRQ",
        "outputId": "d4190ce1-cdbe-424f-9ea3-dc9876a9ad63"
      },
      "execution_count": 47,
      "outputs": [
        {
          "output_type": "execute_result",
          "data": {
            "text/plain": [
              "array([[3.45171196e-01, 5.65145251e-01, 7.66245824e-01, ...,\n",
              "        3.33574423e-05, 5.39598104e-05, 2.95501951e-02],\n",
              "       [5.94763390e-01, 2.34400774e-01, 7.88176344e-01, ...,\n",
              "        1.85655794e-04, 1.54333609e-03, 1.14134837e-02],\n",
              "       [7.56083052e-01, 7.71946625e-01, 8.51997912e-01, ...,\n",
              "        5.76484664e-04, 3.62775696e-04, 9.16845000e-02],\n",
              "       ...,\n",
              "       [4.40473643e-01, 3.31420066e-01, 6.10290270e-01, ...,\n",
              "        2.37373036e-04, 7.19057007e-05, 3.62119819e-02],\n",
              "       [6.51182687e-01, 4.64153800e-01, 7.47310665e-01, ...,\n",
              "        9.89904831e-04, 4.57510822e-03, 2.70453431e-02],\n",
              "       [6.02713586e-01, 3.93431210e-01, 5.17991474e-01, ...,\n",
              "        1.09673481e-03, 3.70889992e-04, 5.21490031e-02]])"
            ]
          },
          "metadata": {},
          "execution_count": 47
        }
      ]
    },
    {
      "cell_type": "code",
      "source": [
        "from sklearn.neighbors import KNeighborsClassifier  \n",
        "classifier= KNeighborsClassifier(n_neighbors=5, metric='minkowski', p=2 )  \n",
        "classifier.fit(mc_trainx, y_train)  "
      ],
      "metadata": {
        "colab": {
          "base_uri": "https://localhost:8080/"
        },
        "id": "Ppi647xNKJ60",
        "outputId": "32ae7ee2-e888-4bb3-c06e-7fb8598c8b22"
      },
      "execution_count": 48,
      "outputs": [
        {
          "output_type": "execute_result",
          "data": {
            "text/plain": [
              "KNeighborsClassifier()"
            ]
          },
          "metadata": {},
          "execution_count": 48
        }
      ]
    },
    {
      "cell_type": "code",
      "source": [
        "y_pred= classifier.predict(X_test)  "
      ],
      "metadata": {
        "id": "A30aJB1OEXFB"
      },
      "execution_count": 49,
      "outputs": []
    },
    {
      "cell_type": "code",
      "source": [
        "from sklearn.metrics import accuracy_score\n",
        "\n",
        "accuracy_score(y_test, y_pred)"
      ],
      "metadata": {
        "colab": {
          "base_uri": "https://localhost:8080/"
        },
        "id": "kalM2FZfEgdg",
        "outputId": "e0454cbf-0081-4f02-9224-c08a2578955d"
      },
      "execution_count": 50,
      "outputs": [
        {
          "output_type": "execute_result",
          "data": {
            "text/plain": [
              "0.8478260869565217"
            ]
          },
          "metadata": {},
          "execution_count": 50
        }
      ]
    }
  ]
}
