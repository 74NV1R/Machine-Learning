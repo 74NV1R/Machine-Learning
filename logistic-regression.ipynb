{
 "cells": [
  {
   "cell_type": "markdown",
   "id": "f17abecb",
   "metadata": {
    "papermill": {
     "duration": 0.008291,
     "end_time": "2025-06-21T10:12:50.516359",
     "exception": false,
     "start_time": "2025-06-21T10:12:50.508068",
     "status": "completed"
    },
    "tags": []
   },
   "source": [
    "We are about to do the Logistic Regression, one of the basic statistical methods. Even though the name says \"Regression\", its actually a binary classification. So the output is yes or no, 1 or 0, cat or not cat, delay or no delay etc. "
   ]
  },
  {
   "cell_type": "markdown",
   "id": "dc6742d7",
   "metadata": {
    "papermill": {
     "duration": 0.006854,
     "end_time": "2025-06-21T10:12:50.530654",
     "exception": false,
     "start_time": "2025-06-21T10:12:50.523800",
     "status": "completed"
    },
    "tags": []
   },
   "source": [
    "To out learning curve smooth, lets start with something simple.\n",
    "Lets work with a simple dataset.\n",
    "And as always, at first we import the essential libraries, Pandas and NumPy."
   ]
  },
  {
   "cell_type": "code",
   "execution_count": 1,
   "id": "91ee1747",
   "metadata": {
    "execution": {
     "iopub.execute_input": "2025-06-21T10:12:50.546579Z",
     "iopub.status.busy": "2025-06-21T10:12:50.546154Z",
     "iopub.status.idle": "2025-06-21T10:12:52.331717Z",
     "shell.execute_reply": "2025-06-21T10:12:52.330865Z"
    },
    "papermill": {
     "duration": 1.795758,
     "end_time": "2025-06-21T10:12:52.333506",
     "exception": false,
     "start_time": "2025-06-21T10:12:50.537748",
     "status": "completed"
    },
    "tags": []
   },
   "outputs": [],
   "source": [
    "import pandas as pd\n",
    "import numpy as np"
   ]
  },
  {
   "cell_type": "markdown",
   "id": "47c3752c",
   "metadata": {
    "papermill": {
     "duration": 0.006951,
     "end_time": "2025-06-21T10:12:52.347976",
     "exception": false,
     "start_time": "2025-06-21T10:12:52.341025",
     "status": "completed"
    },
    "tags": []
   },
   "source": [
    "### **Toy Dataset: Exam Performance Prediction (Binary Classification)**\n",
    "**Description**: Predict whether a student passes (`1`) or fails (`0`) based on study hours and sleep hours.\n",
    "\n",
    "```csv\n",
    "Study_Hours,Sleep_Hours,Pass\n",
    "1.0,4.0,0\n",
    "1.5,5.0,0\n",
    "2.0,6.0,0\n",
    "2.5,4.5,0\n",
    "3.0,5.5,0\n",
    "3.5,7.0,1\n",
    "4.0,6.5,1\n",
    "4.5,7.5,1\n",
    "5.0,8.0,1\n",
    "5.5,7.0,1\n",
    "6.0,5.0,0\n",
    "6.5,8.5,1\n",
    "7.0,9.0,1\n",
    "7.5,6.0,1\n",
    "8.0,9.5,1\n",
    "8.5,7.5,1\n",
    "9.0,10.0,1\n",
    "9.5,5.5,1\n",
    "10.0,8.5,1\n",
    "10.5,9.0,1\n",
    "```\n",
    "\n",
    "#### **Columns**\n",
    "- `Study_Hours`: Hours studied (numerical, range: 1.0–10.5)  \n",
    "- `Sleep_Hours`: Hours slept (numerical, range: 4.0–10.0)  \n",
    "- `Pass`: Binary label (`0` = Fail, `1` = Pass)  \n",
    "\n",
    "Lets visualize the data here, to see how it talks to us: "
   ]
  },
  {
   "cell_type": "code",
   "execution_count": 2,
   "id": "db929e92",
   "metadata": {
    "execution": {
     "iopub.execute_input": "2025-06-21T10:12:52.364395Z",
     "iopub.status.busy": "2025-06-21T10:12:52.363961Z",
     "iopub.status.idle": "2025-06-21T10:12:52.373700Z",
     "shell.execute_reply": "2025-06-21T10:12:52.372749Z"
    },
    "papermill": {
     "duration": 0.01992,
     "end_time": "2025-06-21T10:12:52.375139",
     "exception": false,
     "start_time": "2025-06-21T10:12:52.355219",
     "status": "completed"
    },
    "tags": []
   },
   "outputs": [
    {
     "name": "stdout",
     "output_type": "stream",
     "text": [
      "Features (X):\n",
      " [[ 1.   4. ]\n",
      " [ 1.5  5. ]\n",
      " [ 2.   6. ]\n",
      " [ 2.5  4.5]\n",
      " [ 3.   5.5]\n",
      " [ 3.5  7. ]\n",
      " [ 4.   6.5]\n",
      " [ 4.5  7.5]\n",
      " [ 5.   8. ]\n",
      " [ 5.5  7. ]\n",
      " [ 6.   5. ]\n",
      " [ 6.5  8.5]\n",
      " [ 7.   9. ]\n",
      " [ 7.5  6. ]\n",
      " [ 8.   9.5]\n",
      " [ 8.5  7.5]\n",
      " [ 9.  10. ]\n",
      " [ 9.5  5.5]\n",
      " [10.   8.5]\n",
      " [10.5  9. ]]\n",
      "Labels (y): [0 0 0 0 0 1 1 1 1 1 0 1 1 1 1 1 1 1 1 1]\n"
     ]
    }
   ],
   "source": [
    "import numpy as np\n",
    "\n",
    "# Features (Study Hours, Sleep Hours)\n",
    "X = np.array([\n",
    "    [1.0, 4.0], [1.5, 5.0], [2.0, 6.0], [2.5, 4.5], [3.0, 5.5],\n",
    "    [3.5, 7.0], [4.0, 6.5], [4.5, 7.5], [5.0, 8.0], [5.5, 7.0],\n",
    "    [6.0, 5.0], [6.5, 8.5], [7.0, 9.0], [7.5, 6.0], [8.0, 9.5],\n",
    "    [8.5, 7.5], [9.0, 10.0], [9.5, 5.5], [10.0, 8.5], [10.5, 9.0]\n",
    "])\n",
    "\n",
    "# Labels (0 = Fail, 1 = Pass)\n",
    "y = np.array([0, 0, 0, 0, 0, 1, 1, 1, 1, 1, 0, 1, 1, 1, 1, 1, 1, 1, 1, 1])\n",
    "\n",
    "print(\"Features (X):\\n\", X)\n",
    "print(\"Labels (y):\", y)"
   ]
  },
  {
   "cell_type": "code",
   "execution_count": 3,
   "id": "b2e622ef",
   "metadata": {
    "execution": {
     "iopub.execute_input": "2025-06-21T10:12:52.390905Z",
     "iopub.status.busy": "2025-06-21T10:12:52.390619Z",
     "iopub.status.idle": "2025-06-21T10:12:52.398076Z",
     "shell.execute_reply": "2025-06-21T10:12:52.397180Z"
    },
    "papermill": {
     "duration": 0.017028,
     "end_time": "2025-06-21T10:12:52.399484",
     "exception": false,
     "start_time": "2025-06-21T10:12:52.382456",
     "status": "completed"
    },
    "tags": []
   },
   "outputs": [],
   "source": [
    "df = pd.DataFrame({\n",
    "    'Study_Hours': X[:, 0],  # First column of X\n",
    "    'Sleep_Hours': X[:, 1],  # Second column of X\n",
    "    'Pass': y\n",
    "})"
   ]
  },
  {
   "cell_type": "code",
   "execution_count": 4,
   "id": "e706ecd6",
   "metadata": {
    "execution": {
     "iopub.execute_input": "2025-06-21T10:12:52.415395Z",
     "iopub.status.busy": "2025-06-21T10:12:52.415093Z",
     "iopub.status.idle": "2025-06-21T10:12:52.716358Z",
     "shell.execute_reply": "2025-06-21T10:12:52.715543Z"
    },
    "papermill": {
     "duration": 0.310996,
     "end_time": "2025-06-21T10:12:52.717933",
     "exception": false,
     "start_time": "2025-06-21T10:12:52.406937",
     "status": "completed"
    },
    "tags": []
   },
   "outputs": [
    {
     "data": {
      "image/png": "[encoded data removed]",
      "text/plain": [
       "<Figure size 640x480 with 1 Axes>"
      ]
     },
     "metadata": {},
     "output_type": "display_data"
    }
   ],
   "source": [
    "import matplotlib.pyplot as plt\n",
    "\n",
    "plt.scatter(X[y == 0, 0], X[y == 0, 1], color='red', label='Fail')\n",
    "plt.scatter(X[y == 1, 0], X[y == 1, 1], color='green', label='Pass')\n",
    "plt.xlabel('Study Hours')\n",
    "plt.ylabel('Sleep Hours')\n",
    "plt.legend()\n",
    "plt.title('Exam Performance Dataset')\n",
    "plt.show()"
   ]
  },
  {
   "cell_type": "code",
   "execution_count": 5,
   "id": "3e016add",
   "metadata": {
    "execution": {
     "iopub.execute_input": "2025-06-21T10:12:52.735101Z",
     "iopub.status.busy": "2025-06-21T10:12:52.734567Z",
     "iopub.status.idle": "2025-06-21T10:12:54.820474Z",
     "shell.execute_reply": "2025-06-21T10:12:54.819283Z"
    },
    "papermill": {
     "duration": 2.096336,
     "end_time": "2025-06-21T10:12:54.822286",
     "exception": false,
     "start_time": "2025-06-21T10:12:52.725950",
     "status": "completed"
    },
    "tags": []
   },
   "outputs": [
    {
     "data": {
      "text/plain": [
       "<Axes: xlabel='Study_Hours', ylabel='Sleep_Hours'>"
      ]
     },
     "execution_count": 5,
     "metadata": {},
     "output_type": "execute_result"
    },
    {
     "data": {
      "image/png": "[encoded data removed]",
      "text/plain": [
       "<Figure size 640x480 with 1 Axes>"
      ]
     },
     "metadata": {},
     "output_type": "display_data"
    }
   ],
   "source": [
    "import seaborn as sns\n",
    "sns.scatterplot(data=df, x='Study_Hours', y='Sleep_Hours', hue='Pass', palette=['red', 'green'])"
   ]
  },
  {
   "cell_type": "markdown",
   "id": "b65a92d6",
   "metadata": {
    "papermill": {
     "duration": 0.010097,
     "end_time": "2025-06-21T10:12:54.847248",
     "exception": false,
     "start_time": "2025-06-21T10:12:54.837151",
     "status": "completed"
    },
    "tags": []
   },
   "source": [
    "Hmm, it's pretty easy. Because it's made up. We can almost divide the 0 and 1 simply by drawing a line between them. Lets see how that works. "
   ]
  },
  {
   "cell_type": "markdown",
   "id": "3db5285e",
   "metadata": {
    "papermill": {
     "duration": 0.008367,
     "end_time": "2025-06-21T10:12:54.869124",
     "exception": false,
     "start_time": "2025-06-21T10:12:54.860757",
     "status": "completed"
    },
    "tags": []
   },
   "source": [
    "As we said before, we can try to draw a straight line and separate the reds from greens. Lets take that approach.\n",
    "If we want to draw a line, we need a line's equation. The simplest equation we have is:\n",
    "\n",
    "$$Y = ax + b$$\n",
    "\n",
    "where, \"a\" is the slope of \"x\", the input variable. And \"b\" is the bias. \"a\" decide the rate of change in Y from x, and \"b\" is the headstart, or how much elevation we get.\n",
    "Now, we need to find Y, and Y isn't exactly ax + b. We have to apply a function to get Y. It's more like $$Y = some_function(ax + b)$$\n",
    "Let's take a another variable z, z = ax+b. Later we can get the value of Y from z.  \n",
    "One more problem, we have two different values of x here. The \"study hours\" and the \"sleep hours\".\n",
    "We can work with that. Essentialy, we have to assume that study hours and sleep hours dont affect result similarly. Probably study hour is more important? And sleep hour is not that important? But we can not run on 0 hour of sleep, can we?\n",
    "So, these two independant variable, x1 (study hour), and x2(sleep hour) should be \"weighted\" differently. \n",
    "Here, weights = [w1, w2]\n",
    "So, $$z = w1 * x1 + w2 * x2 + b$$"
   ]
  },
  {
   "cell_type": "code",
   "execution_count": 6,
   "id": "743b5736",
   "metadata": {
    "execution": {
     "iopub.execute_input": "2025-06-21T10:12:54.890061Z",
     "iopub.status.busy": "2025-06-21T10:12:54.889584Z",
     "iopub.status.idle": "2025-06-21T10:12:54.894291Z",
     "shell.execute_reply": "2025-06-21T10:12:54.893640Z"
    },
    "papermill": {
     "duration": 0.017398,
     "end_time": "2025-06-21T10:12:54.895619",
     "exception": false,
     "start_time": "2025-06-21T10:12:54.878221",
     "status": "completed"
    },
    "tags": []
   },
   "outputs": [],
   "source": [
    "X_bias = np.c_[np.ones((X.shape[0], 1)), X]"
   ]
  },
  {
   "cell_type": "markdown",
   "id": "5ab6f2c4",
   "metadata": {
    "papermill": {
     "duration": 0.007836,
     "end_time": "2025-06-21T10:12:54.911610",
     "exception": false,
     "start_time": "2025-06-21T10:12:54.903774",
     "status": "completed"
    },
    "tags": []
   },
   "source": [
    "X_bias is an array that consist of b, x1, x2."
   ]
  },
  {
   "cell_type": "markdown",
   "id": "2535ef77",
   "metadata": {
    "papermill": {
     "duration": 0.007958,
     "end_time": "2025-06-21T10:12:54.927736",
     "exception": false,
     "start_time": "2025-06-21T10:12:54.919778",
     "status": "completed"
    },
    "tags": []
   },
   "source": [
    "We are going to split the dataset into train and test part. Our regression will learn from train set, and test the hypothesis on the test set.\n",
    "We are doing 80% 20% split here."
   ]
  },
  {
   "cell_type": "code",
   "execution_count": 7,
   "id": "8436b83a",
   "metadata": {
    "execution": {
     "iopub.execute_input": "2025-06-21T10:12:54.948337Z",
     "iopub.status.busy": "2025-06-21T10:12:54.947708Z",
     "iopub.status.idle": "2025-06-21T10:12:54.953607Z",
     "shell.execute_reply": "2025-06-21T10:12:54.952595Z"
    },
    "papermill": {
     "duration": 0.019291,
     "end_time": "2025-06-21T10:12:54.955046",
     "exception": false,
     "start_time": "2025-06-21T10:12:54.935755",
     "status": "completed"
    },
    "tags": []
   },
   "outputs": [],
   "source": [
    "np.random.shuffle(X_bias) #shuffling the dataset"
   ]
  },
  {
   "cell_type": "code",
   "execution_count": 8,
   "id": "d103da9c",
   "metadata": {
    "execution": {
     "iopub.execute_input": "2025-06-21T10:12:54.977267Z",
     "iopub.status.busy": "2025-06-21T10:12:54.976831Z",
     "iopub.status.idle": "2025-06-21T10:12:54.983093Z",
     "shell.execute_reply": "2025-06-21T10:12:54.981879Z"
    },
    "papermill": {
     "duration": 0.019559,
     "end_time": "2025-06-21T10:12:54.984856",
     "exception": false,
     "start_time": "2025-06-21T10:12:54.965297",
     "status": "completed"
    },
    "tags": []
   },
   "outputs": [],
   "source": [
    "train_size = int(len(X_bias) * 0.8)  # 80% of the total length\n",
    "train_set = X_bias[:train_size]  # First 80% of elements\n",
    "test_set = X_bias[train_size:]  # Remaining 20% of elements"
   ]
  },
  {
   "cell_type": "markdown",
   "id": "4c131e79",
   "metadata": {
    "papermill": {
     "duration": 0.011038,
     "end_time": "2025-06-21T10:12:55.007217",
     "exception": false,
     "start_time": "2025-06-21T10:12:54.996179",
     "status": "completed"
    },
    "tags": []
   },
   "source": [
    "We are initializing weight array."
   ]
  },
  {
   "cell_type": "code",
   "execution_count": 9,
   "id": "6cc29749",
   "metadata": {
    "execution": {
     "iopub.execute_input": "2025-06-21T10:12:55.028707Z",
     "iopub.status.busy": "2025-06-21T10:12:55.027861Z",
     "iopub.status.idle": "2025-06-21T10:12:55.032724Z",
     "shell.execute_reply": "2025-06-21T10:12:55.031940Z"
    },
    "papermill": {
     "duration": 0.017479,
     "end_time": "2025-06-21T10:12:55.034035",
     "exception": false,
     "start_time": "2025-06-21T10:12:55.016556",
     "status": "completed"
    },
    "tags": []
   },
   "outputs": [],
   "source": [
    "w = np.zeros(X_bias.shape[1])  # Shape: (3,) for [bias, w1, w2]"
   ]
  },
  {
   "cell_type": "markdown",
   "id": "52c9decd",
   "metadata": {
    "papermill": {
     "duration": 0.007933,
     "end_time": "2025-06-21T10:12:55.110392",
     "exception": false,
     "start_time": "2025-06-21T10:12:55.102459",
     "status": "completed"
    },
    "tags": []
   },
   "source": [
    "Remeber when we said we need to put \"z\" through some function to get \"Y\"? We have to make that function now. That function is sigmoid function. Its a function that maps real number values to 0 or 1. That means, we send some \"z\", we get some 0 or 1, and those values are \"y\".\n",
    "\n",
    "The sigmoid function is defined as:\n",
    "\n",
    "$$\\sigma(x) = \\frac{1}{1 + e^{-x}}$$\n",
    "\n",
    "\n",
    "now we are going to implement the function here."
   ]
  },
  {
   "cell_type": "code",
   "execution_count": 10,
   "id": "f6fc1bb5",
   "metadata": {
    "execution": {
     "iopub.execute_input": "2025-06-21T10:12:55.128489Z",
     "iopub.status.busy": "2025-06-21T10:12:55.127625Z",
     "iopub.status.idle": "2025-06-21T10:12:55.131871Z",
     "shell.execute_reply": "2025-06-21T10:12:55.131135Z"
    },
    "papermill": {
     "duration": 0.014709,
     "end_time": "2025-06-21T10:12:55.133264",
     "exception": false,
     "start_time": "2025-06-21T10:12:55.118555",
     "status": "completed"
    },
    "tags": []
   },
   "outputs": [],
   "source": [
    "def sigmoid(z):\n",
    "    return 1 / (1 + np.exp(-z))"
   ]
  },
  {
   "cell_type": "markdown",
   "id": "a8f9761d",
   "metadata": {
    "papermill": {
     "duration": 0.007963,
     "end_time": "2025-06-21T10:12:55.149776",
     "exception": false,
     "start_time": "2025-06-21T10:12:55.141813",
     "status": "completed"
    },
    "tags": []
   },
   "source": [
    "Now, the weight and bias we initiated randomly, aren't necessarily accurate. We need to change that. In fact, we need to change it a lot of times till it gives us a line that's the perfect fit. If not, it should be near perfect. Also, the need to see the cost or the error. Error is the difference of the real value of y and the hypothetical value of y. Here, the cost function is \n",
    "$$J(w) = -\\frac{1}{m} \\sum_{i=1}^{m} \\left[ y^{(i)} \\log a^{(i)} + (1 - y^{(i)}) \\log (1 - a^{(i)}) \\right]$$\n",
    "where:\n",
    "- \\( m \\) is the number of training examples.\n",
    "- \\( y^{(i)} \\) is the actual label (0 or 1).\n",
    "- \\( a^{(i)} \\) is the predicted probability from the sigmoid function.\n",
    "\n",
    "We have to update the weights till we find the optimal weights. That means, we have to find the perfect or near perfect w1, w2 weights for variable x1, x2 to plug into the equation.\n",
    "\n",
    "### Gradient Descent Formula\n",
    "\n",
    "The weight update rule in gradient descent is:\n",
    "\n",
    "$$ w := w - \\alpha \\frac{\\partial J}{\\partial w} $$\n",
    "\n",
    "where:\n",
    "- \\( w \\) represents the weights.\n",
    "- \\( \\alpha \\) is the learning rate.\n",
    "- \\( \\frac{\\partial J}{\\partial w} \\) is the gradient of the cost function with respect to \\( w \\).\n",
    "\n",
    "For logistic regression, the gradient descent update for weights and bias is:\n",
    "\n",
    "$$ w := w - \\alpha \\frac{1}{m} \\sum_{i=1}^{m} X^{(i)} (A^{(i)} - Y^{(i)}) $$\n",
    "\n",
    "$$ b := b - \\alpha \\frac{1}{m} \\sum_{i=1}^{m} (A^{(i)} - Y^{(i)}) $$\n",
    "\n",
    "where:\n",
    "- \\( m \\) is the number of training examples.\n",
    "- \\( X^{(i)} \\) is the input feature vector.\n",
    "- \\( A^{(i)} \\) is the predicted probability from the sigmoid function.\n",
    "- \\( Y^{(i)} \\) is the actual label.\n",
    "\n",
    "\n",
    "We will adjust the weights 1000 times. These attempts are called epochs. \n",
    "\n",
    "\n",
    "### What Happens in One Epoch: ###\n"
   ]
  },
  {
   "cell_type": "markdown",
   "id": "589a015d",
   "metadata": {
    "papermill": {
     "duration": 0.007871,
     "end_time": "2025-06-21T10:12:55.165736",
     "exception": false,
     "start_time": "2025-06-21T10:12:55.157865",
     "status": "completed"
    },
    "tags": []
   },
   "source": [
    "*Forward Pass:* Compute predictions (A) and cost for all 20 examples."
   ]
  },
  {
   "cell_type": "code",
   "execution_count": 11,
   "id": "6d5c4fa7",
   "metadata": {
    "execution": {
     "iopub.execute_input": "2025-06-21T10:12:55.182971Z",
     "iopub.status.busy": "2025-06-21T10:12:55.182697Z",
     "iopub.status.idle": "2025-06-21T10:12:55.187550Z",
     "shell.execute_reply": "2025-06-21T10:12:55.186656Z"
    },
    "papermill": {
     "duration": 0.015253,
     "end_time": "2025-06-21T10:12:55.189015",
     "exception": false,
     "start_time": "2025-06-21T10:12:55.173762",
     "status": "completed"
    },
    "tags": []
   },
   "outputs": [],
   "source": [
    "def forward(X, w):\n",
    "    z = np.dot(X, w)\n",
    "    A = sigmoid(z)  # Predicted probabilities\n",
    "    J = -np.mean(y * np.log(A) + (1 - y) * np.log(1 - A))  # Cross-entropy cost\n",
    "    return A, J"
   ]
  },
  {
   "cell_type": "markdown",
   "id": "80dccab0",
   "metadata": {
    "papermill": {
     "duration": 0.007956,
     "end_time": "2025-06-21T10:12:55.205220",
     "exception": false,
     "start_time": "2025-06-21T10:12:55.197264",
     "status": "completed"
    },
    "tags": []
   },
   "source": [
    "*Backward Pass:* Calculate the gradient (dw) by averaging contributions from all examples."
   ]
  },
  {
   "cell_type": "code",
   "execution_count": 12,
   "id": "c9e6a545",
   "metadata": {
    "execution": {
     "iopub.execute_input": "2025-06-21T10:12:55.222814Z",
     "iopub.status.busy": "2025-06-21T10:12:55.222533Z",
     "iopub.status.idle": "2025-06-21T10:12:55.226898Z",
     "shell.execute_reply": "2025-06-21T10:12:55.226151Z"
    },
    "papermill": {
     "duration": 0.014955,
     "end_time": "2025-06-21T10:12:55.228242",
     "exception": false,
     "start_time": "2025-06-21T10:12:55.213287",
     "status": "completed"
    },
    "tags": []
   },
   "outputs": [],
   "source": [
    "def backward(X, A, y):\n",
    "    dw = np.dot(X.T, (A - y)) / len(y)  # Gradient for weights\n",
    "    return dw"
   ]
  },
  {
   "cell_type": "markdown",
   "id": "c2d5e4f5",
   "metadata": {
    "papermill": {
     "duration": 0.010302,
     "end_time": "2025-06-21T10:12:55.246929",
     "exception": false,
     "start_time": "2025-06-21T10:12:55.236627",
     "status": "completed"
    },
    "tags": []
   },
   "source": [
    "*Update Weights:* Adjust w using the gradient: $$w = w - \\alpha * dw.$$\n",
    "Here, $$\\alpha$$ is the learning rate.\n",
    "\n",
    "We have the liberty to choose the learning rate. But we should be careful, since with smaller learning rate, we need way more epochs and if we set it too big, we might cross the optimal point."
   ]
  },
  {
   "cell_type": "code",
   "execution_count": 13,
   "id": "cf320a04",
   "metadata": {
    "execution": {
     "iopub.execute_input": "2025-06-21T10:12:55.268991Z",
     "iopub.status.busy": "2025-06-21T10:12:55.268604Z",
     "iopub.status.idle": "2025-06-21T10:12:55.283316Z",
     "shell.execute_reply": "2025-06-21T10:12:55.282212Z"
    },
    "papermill": {
     "duration": 0.026674,
     "end_time": "2025-06-21T10:12:55.284783",
     "exception": false,
     "start_time": "2025-06-21T10:12:55.258109",
     "status": "completed"
    },
    "tags": []
   },
   "outputs": [
    {
     "name": "stdout",
     "output_type": "stream",
     "text": [
      "Epoch 0, Cost: 0.6931\n"
     ]
    }
   ],
   "source": [
    "alpha = 0.01  # Learning rate\n",
    "epochs = 100\n",
    "\n",
    "for epoch in range(epochs):\n",
    "    A, cost = forward(X_bias, w)  # Forward pass\n",
    "    dw = backward(X_bias, A, y)   # Backward pass\n",
    "    w -= alpha * dw               # Update weights\n",
    "    \n",
    "    if epoch % 100 == 0:\n",
    "        print(f\"Epoch {epoch}, Cost: {cost:.4f}\")"
   ]
  },
  {
   "cell_type": "markdown",
   "id": "c2809d82",
   "metadata": {
    "papermill": {
     "duration": 0.008128,
     "end_time": "2025-06-21T10:12:55.302948",
     "exception": false,
     "start_time": "2025-06-21T10:12:55.294820",
     "status": "completed"
    },
    "tags": []
   },
   "source": [
    "Now we check how good our hypothesis is after adjusting the weights **1,000** times!"
   ]
  },
  {
   "cell_type": "code",
   "execution_count": 14,
   "id": "fa6031e0",
   "metadata": {
    "execution": {
     "iopub.execute_input": "2025-06-21T10:12:55.320921Z",
     "iopub.status.busy": "2025-06-21T10:12:55.320634Z",
     "iopub.status.idle": "2025-06-21T10:12:55.325367Z",
     "shell.execute_reply": "2025-06-21T10:12:55.324557Z"
    },
    "papermill": {
     "duration": 0.015458,
     "end_time": "2025-06-21T10:12:55.326929",
     "exception": false,
     "start_time": "2025-06-21T10:12:55.311471",
     "status": "completed"
    },
    "tags": []
   },
   "outputs": [],
   "source": [
    "def predict(X, w):\n",
    "    A, _ = forward(X, w)\n",
    "    return (A >= 0.5).astype(int)  # Threshold at 0.5\n",
    "\n",
    "y_pred = predict(X_bias, w)"
   ]
  },
  {
   "cell_type": "code",
   "execution_count": 15,
   "id": "731910a1",
   "metadata": {
    "execution": {
     "iopub.execute_input": "2025-06-21T10:12:55.344840Z",
     "iopub.status.busy": "2025-06-21T10:12:55.344539Z",
     "iopub.status.idle": "2025-06-21T10:12:55.349538Z",
     "shell.execute_reply": "2025-06-21T10:12:55.348592Z"
    },
    "papermill": {
     "duration": 0.015754,
     "end_time": "2025-06-21T10:12:55.351051",
     "exception": false,
     "start_time": "2025-06-21T10:12:55.335297",
     "status": "completed"
    },
    "tags": []
   },
   "outputs": [
    {
     "name": "stdout",
     "output_type": "stream",
     "text": [
      "Accuracy: 75.00%\n"
     ]
    }
   ],
   "source": [
    "accuracy = np.mean(y_pred == y)\n",
    "print(f\"Accuracy: {accuracy * 100:.2f}%\")"
   ]
  },
  {
   "cell_type": "markdown",
   "id": "ccf21bdb",
   "metadata": {
    "papermill": {
     "duration": 0.008206,
     "end_time": "2025-06-21T10:12:55.367859",
     "exception": false,
     "start_time": "2025-06-21T10:12:55.359653",
     "status": "completed"
    },
    "tags": []
   },
   "source": [
    "Honestly, it's not good. **Only 70.00% accuracy!**\n",
    "But at least we learned something.\n",
    "Let's visually see  how our hypothesis worked."
   ]
  },
  {
   "cell_type": "code",
   "execution_count": 16,
   "id": "569ea0c2",
   "metadata": {
    "execution": {
     "iopub.execute_input": "2025-06-21T10:12:55.386016Z",
     "iopub.status.busy": "2025-06-21T10:12:55.385727Z",
     "iopub.status.idle": "2025-06-21T10:12:55.603923Z",
     "shell.execute_reply": "2025-06-21T10:12:55.603026Z"
    },
    "papermill": {
     "duration": 0.229195,
     "end_time": "2025-06-21T10:12:55.605596",
     "exception": false,
     "start_time": "2025-06-21T10:12:55.376401",
     "status": "completed"
    },
    "tags": []
   },
   "outputs": [
    {
     "data": {
      "image/png": "[encoded data removed]",
      "text/plain": [
       "<Figure size 500x300 with 1 Axes>"
      ]
     },
     "metadata": {},
     "output_type": "display_data"
    }
   ],
   "source": [
    "# Fix Sleep_Hours at median (or mean)\n",
    "sleep_fixed = np.median(X[:, 1])  # Try np.mean() if needed\n",
    "\n",
    "# Create a range of Study_Hours values\n",
    "study_range = np.linspace(min(X[:, 0]), max(X[:, 0]), 100)\n",
    "\n",
    "# Compute predicted probabilities (A) for each Study_Hours\n",
    "z = w[0] + w[1] * study_range + w[2] * sleep_fixed\n",
    "A = sigmoid(z)  # S-curve probabilities\n",
    "\n",
    "# Plot\n",
    "plt.figure(figsize=(5, 3))\n",
    "plt.plot(study_range, A, color='red', linewidth=3, label='Sigmoid Curve')\n",
    "plt.scatter(X[:, 0], y, color='blue', label='True Labels (0/1)')  # Actual data\n",
    "plt.xlabel('Study_Hours')\n",
    "plt.ylabel('Probability of Passing (A)')\n",
    "plt.title('S-shaped Sigmoid Curve: P(Pass) vs. Study_Hours')\n",
    "plt.axhline(y=0.5, color='gray', linestyle='--', label='Decision Threshold (A=0.5)')\n",
    "plt.legend()\n",
    "plt.grid(True)\n",
    "plt.show()"
   ]
  },
  {
   "cell_type": "markdown",
   "id": "60d64046",
   "metadata": {
    "papermill": {
     "duration": 0.010002,
     "end_time": "2025-06-21T10:12:55.625731",
     "exception": false,
     "start_time": "2025-06-21T10:12:55.615729",
     "status": "completed"
    },
    "tags": []
   },
   "source": [
    "### Real dataset ###\n",
    "\n",
    "As the next step of our learning, we should see how to apply our knowledge on real life dataset."
   ]
  },
  {
   "cell_type": "markdown",
   "id": "cb9547f3",
   "metadata": {
    "papermill": {
     "duration": 0.008713,
     "end_time": "2025-06-21T10:12:55.644000",
     "exception": false,
     "start_time": "2025-06-21T10:12:55.635287",
     "status": "completed"
    },
    "tags": []
   },
   "source": [
    "This is dataset that consists of cancer images and images that are not of cancer. This could be a good dataset to train a model for binary classification."
   ]
  },
  {
   "cell_type": "code",
   "execution_count": 17,
   "id": "044f46cd",
   "metadata": {
    "execution": {
     "iopub.execute_input": "2025-06-21T10:12:55.668655Z",
     "iopub.status.busy": "2025-06-21T10:12:55.668324Z",
     "iopub.status.idle": "2025-06-21T10:12:58.803631Z",
     "shell.execute_reply": "2025-06-21T10:12:58.802227Z"
    },
    "papermill": {
     "duration": 3.150108,
     "end_time": "2025-06-21T10:12:58.805359",
     "exception": false,
     "start_time": "2025-06-21T10:12:55.655251",
     "status": "completed"
    },
    "tags": []
   },
   "outputs": [
    {
     "name": "stdout",
     "output_type": "stream",
     "text": [
      "Loaded images shape: (288, 64, 64, 3)\n",
      "Labels shape: (288,)\n"
     ]
    }
   ],
   "source": [
    "import os\n",
    "import cv2\n",
    "import numpy as np\n",
    "\n",
    "dataset_path = '/kaggle/input/skin-cancer-binary-classification-dataset/Skin_Data'\n",
    "\n",
    "# Initialize lists\n",
    "images = []\n",
    "labels = []\n",
    "\n",
    "# Label map based on top-level folder names\n",
    "label_map = {'Cancer': 1, 'Non_Cancer': 0}\n",
    "\n",
    "# Walk through directory tree\n",
    "for category in ['Cancer', 'Non_Cancer']:\n",
    "    for split in ['Training', 'Testing']:\n",
    "        folder_path = os.path.join(dataset_path, category, split)\n",
    "        for filename in os.listdir(folder_path):\n",
    "            if filename.lower().endswith(('.jpg', '.png')):\n",
    "                img_path = os.path.join(folder_path, filename)\n",
    "                img = cv2.imread(img_path)\n",
    "                img = cv2.resize(img, (64, 64))  # Resize to match model input\n",
    "                images.append(img)\n",
    "                labels.append(label_map[category])\n",
    "\n",
    "# Convert to NumPy arrays\n",
    "X = np.array(images) / 255.0  # Normalize pixel values\n",
    "y = np.array(labels)\n",
    "\n",
    "print(\"Loaded images shape:\", X.shape)\n",
    "print(\"Labels shape:\", y.shape)\n"
   ]
  },
  {
   "cell_type": "code",
   "execution_count": 18,
   "id": "30a2b428",
   "metadata": {
    "execution": {
     "iopub.execute_input": "2025-06-21T10:12:58.825285Z",
     "iopub.status.busy": "2025-06-21T10:12:58.824998Z",
     "iopub.status.idle": "2025-06-21T10:12:58.922884Z",
     "shell.execute_reply": "2025-06-21T10:12:58.921727Z"
    },
    "papermill": {
     "duration": 0.109604,
     "end_time": "2025-06-21T10:12:58.924669",
     "exception": false,
     "start_time": "2025-06-21T10:12:58.815065",
     "status": "completed"
    },
    "tags": []
   },
   "outputs": [
    {
     "data": {
      "image/png": "[encoded data removed]",
      "text/plain": [
       "<Figure size 640x480 with 1 Axes>"
      ]
     },
     "metadata": {},
     "output_type": "display_data"
    }
   ],
   "source": [
    "import matplotlib.pyplot as plt\n",
    "\n",
    "idx = 166\n",
    "\n",
    "plt.imshow(X[idx])\n",
    "plt.axis('off')\n",
    "plt.title(\"Cancer\" if y[idx] == 1 else 'Non Cancer')\n",
    "plt.show()"
   ]
  },
  {
   "cell_type": "markdown",
   "id": "a57fb3cc",
   "metadata": {
    "papermill": {
     "duration": 0.009278,
     "end_time": "2025-06-21T10:12:58.943990",
     "exception": false,
     "start_time": "2025-06-21T10:12:58.934712",
     "status": "completed"
    },
    "tags": []
   },
   "source": [
    "Now, we have loaded the images in an array X and the labels in an array y. But there is a slight problem."
   ]
  },
  {
   "cell_type": "code",
   "execution_count": 19,
   "id": "ee5a61d5",
   "metadata": {
    "execution": {
     "iopub.execute_input": "2025-06-21T10:12:58.964549Z",
     "iopub.status.busy": "2025-06-21T10:12:58.964110Z",
     "iopub.status.idle": "2025-06-21T10:12:58.970481Z",
     "shell.execute_reply": "2025-06-21T10:12:58.969507Z"
    },
    "papermill": {
     "duration": 0.018352,
     "end_time": "2025-06-21T10:12:58.971929",
     "exception": false,
     "start_time": "2025-06-21T10:12:58.953577",
     "status": "completed"
    },
    "tags": []
   },
   "outputs": [
    {
     "data": {
      "text/plain": [
       "(288, 64, 64, 3)"
      ]
     },
     "execution_count": 19,
     "metadata": {},
     "output_type": "execute_result"
    }
   ],
   "source": [
    "X.shape"
   ]
  },
  {
   "cell_type": "markdown",
   "id": "db40dadd",
   "metadata": {
    "papermill": {
     "duration": 0.009362,
     "end_time": "2025-06-21T10:12:58.991236",
     "exception": false,
     "start_time": "2025-06-21T10:12:58.981874",
     "status": "completed"
    },
    "tags": []
   },
   "source": [
    "There are 288 examples. That's not the problem. The problem is, instead of two attributes like \"study hours\" and \"sleep hours\", we have a 3D array of shape (64, 64, 3) size!\n",
    "That is because, the images are 64 * 64 pixels big, and has 3 color combinations (RGB values). So we have to deal with 64 * 64 * 3 = 12,288 numerical values for each images! But we can do that.\n",
    "\n",
    "To deal with 3 dimensional instances, at first we have to flatten them. making X.shape = (288, 64, 64, 3) to X.shape = (288, 12288)"
   ]
  },
  {
   "cell_type": "code",
   "execution_count": 20,
   "id": "2ea10cf0",
   "metadata": {
    "execution": {
     "iopub.execute_input": "2025-06-21T10:12:59.011792Z",
     "iopub.status.busy": "2025-06-21T10:12:59.011498Z",
     "iopub.status.idle": "2025-06-21T10:12:59.017657Z",
     "shell.execute_reply": "2025-06-21T10:12:59.016697Z"
    },
    "papermill": {
     "duration": 0.018061,
     "end_time": "2025-06-21T10:12:59.018972",
     "exception": false,
     "start_time": "2025-06-21T10:12:59.000911",
     "status": "completed"
    },
    "tags": []
   },
   "outputs": [
    {
     "data": {
      "text/plain": [
       "(288, 12288)"
      ]
     },
     "execution_count": 20,
     "metadata": {},
     "output_type": "execute_result"
    }
   ],
   "source": [
    "X_flattened = X.reshape(X.shape[0], -1)  # Shape: (288, 12288)\n",
    "X_flattened.shape"
   ]
  },
  {
   "cell_type": "markdown",
   "id": "79187715",
   "metadata": {
    "papermill": {
     "duration": 0.00943,
     "end_time": "2025-06-21T10:12:59.038305",
     "exception": false,
     "start_time": "2025-06-21T10:12:59.028875",
     "status": "completed"
    },
    "tags": []
   },
   "source": [
    "Now, all of these 188 * 12288 values are between 0 to 255 because they are RGB values. We normalize this value by dividing them by 255, so now they have values between 0.0 and 1.0."
   ]
  },
  {
   "cell_type": "code",
   "execution_count": 21,
   "id": "affe4e72",
   "metadata": {
    "execution": {
     "iopub.execute_input": "2025-06-21T10:12:59.059659Z",
     "iopub.status.busy": "2025-06-21T10:12:59.058812Z",
     "iopub.status.idle": "2025-06-21T10:12:59.076131Z",
     "shell.execute_reply": "2025-06-21T10:12:59.075161Z"
    },
    "papermill": {
     "duration": 0.029879,
     "end_time": "2025-06-21T10:12:59.077912",
     "exception": false,
     "start_time": "2025-06-21T10:12:59.048033",
     "status": "completed"
    },
    "tags": []
   },
   "outputs": [],
   "source": [
    "X_normalized = X_flattened / 255.0"
   ]
  },
  {
   "cell_type": "markdown",
   "id": "d37871ce",
   "metadata": {
    "papermill": {
     "duration": 0.009617,
     "end_time": "2025-06-21T10:12:59.098121",
     "exception": false,
     "start_time": "2025-06-21T10:12:59.088504",
     "status": "completed"
    },
    "tags": []
   },
   "source": [
    "We are appending bias weight with the dataset now."
   ]
  },
  {
   "cell_type": "code",
   "execution_count": 22,
   "id": "40a614a6",
   "metadata": {
    "execution": {
     "iopub.execute_input": "2025-06-21T10:12:59.120190Z",
     "iopub.status.busy": "2025-06-21T10:12:59.119308Z",
     "iopub.status.idle": "2025-06-21T10:12:59.139543Z",
     "shell.execute_reply": "2025-06-21T10:12:59.138288Z"
    },
    "papermill": {
     "duration": 0.032705,
     "end_time": "2025-06-21T10:12:59.141214",
     "exception": false,
     "start_time": "2025-06-21T10:12:59.108509",
     "status": "completed"
    },
    "tags": []
   },
   "outputs": [],
   "source": [
    "X_bias = np.c_[np.ones(X_normalized.shape[0]), X_normalized]  # Shape: (288, 12289)"
   ]
  },
  {
   "cell_type": "markdown",
   "id": "55fc3411",
   "metadata": {
    "papermill": {
     "duration": 0.00942,
     "end_time": "2025-06-21T10:12:59.160607",
     "exception": false,
     "start_time": "2025-06-21T10:12:59.151187",
     "status": "completed"
    },
    "tags": []
   },
   "source": [
    " Here, the weight matrix is initiated, and the shape is 12289. Why 12289 instead of 12288? because, $$z = w_0 + w_1x_1 + w_2x_2 + w_3x_3 + ...... + w_12288x_12288 $$"
   ]
  },
  {
   "cell_type": "markdown",
   "id": "61116667",
   "metadata": {
    "papermill": {
     "duration": 0.009499,
     "end_time": "2025-06-21T10:12:59.179877",
     "exception": false,
     "start_time": "2025-06-21T10:12:59.170378",
     "status": "completed"
    },
    "tags": []
   },
   "source": [
    "we have to initiate bias matrices. They have to be initiated randomly and the values shouldn't be very large."
   ]
  },
  {
   "cell_type": "code",
   "execution_count": 23,
   "id": "d4d05627",
   "metadata": {
    "execution": {
     "iopub.execute_input": "2025-06-21T10:12:59.201476Z",
     "iopub.status.busy": "2025-06-21T10:12:59.200835Z",
     "iopub.status.idle": "2025-06-21T10:12:59.205359Z",
     "shell.execute_reply": "2025-06-21T10:12:59.204527Z"
    },
    "papermill": {
     "duration": 0.016859,
     "end_time": "2025-06-21T10:12:59.206850",
     "exception": false,
     "start_time": "2025-06-21T10:12:59.189991",
     "status": "completed"
    },
    "tags": []
   },
   "outputs": [],
   "source": [
    "np.random.seed(42)\n",
    "w = np.random.randn(X_bias.shape[1]) * 0.01  # Shape: (12289,)"
   ]
  },
  {
   "cell_type": "markdown",
   "id": "0af94987",
   "metadata": {
    "papermill": {
     "duration": 0.009523,
     "end_time": "2025-06-21T10:12:59.226286",
     "exception": false,
     "start_time": "2025-06-21T10:12:59.216763",
     "status": "completed"
    },
    "tags": []
   },
   "source": [
    "Now we train our model. We run it for 1000 epochs and learning rate = 0.01"
   ]
  },
  {
   "cell_type": "code",
   "execution_count": 24,
   "id": "c0e87a1a",
   "metadata": {
    "execution": {
     "iopub.execute_input": "2025-06-21T10:12:59.246700Z",
     "iopub.status.busy": "2025-06-21T10:12:59.246362Z",
     "iopub.status.idle": "2025-06-21T10:13:01.337241Z",
     "shell.execute_reply": "2025-06-21T10:13:01.336516Z"
    },
    "papermill": {
     "duration": 2.103021,
     "end_time": "2025-06-21T10:13:01.338856",
     "exception": false,
     "start_time": "2025-06-21T10:12:59.235835",
     "status": "completed"
    },
    "tags": []
   },
   "outputs": [
    {
     "name": "stdout",
     "output_type": "stream",
     "text": [
      "Epoch 0, Loss: 0.6940\n",
      "Epoch 100, Loss: 0.6582\n",
      "Epoch 200, Loss: 0.6369\n",
      "Epoch 300, Loss: 0.6241\n",
      "Epoch 400, Loss: 0.6162\n",
      "Epoch 500, Loss: 0.6114\n",
      "Epoch 600, Loss: 0.6084\n",
      "Epoch 700, Loss: 0.6065\n",
      "Epoch 800, Loss: 0.6053\n",
      "Epoch 900, Loss: 0.6045\n"
     ]
    }
   ],
   "source": [
    "learning_rate = 0.01\n",
    "epochs = 1000\n",
    "\n",
    "for epoch in range(epochs):\n",
    "    # Forward pass\n",
    "    A, loss = forward(X_bias, w)\n",
    "    \n",
    "    # Backward pass\n",
    "    dw = backward(X_bias, A, y)\n",
    "    \n",
    "    # Update weights\n",
    "    w -= learning_rate * dw\n",
    "    \n",
    "    # Print progress\n",
    "    if epoch % 100 == 0:\n",
    "        print(f\"Epoch {epoch}, Loss: {loss:.4f}\")"
   ]
  },
  {
   "cell_type": "markdown",
   "id": "b922fae0",
   "metadata": {
    "papermill": {
     "duration": 0.01107,
     "end_time": "2025-06-21T10:13:01.360773",
     "exception": false,
     "start_time": "2025-06-21T10:13:01.349703",
     "status": "completed"
    },
    "tags": []
   },
   "source": [
    "lets predict and see the accuracy of our logistic regression model"
   ]
  },
  {
   "cell_type": "code",
   "execution_count": 25,
   "id": "dae79532",
   "metadata": {
    "execution": {
     "iopub.execute_input": "2025-06-21T10:13:01.382532Z",
     "iopub.status.busy": "2025-06-21T10:13:01.381814Z",
     "iopub.status.idle": "2025-06-21T10:13:01.389555Z",
     "shell.execute_reply": "2025-06-21T10:13:01.388675Z"
    },
    "papermill": {
     "duration": 0.0201,
     "end_time": "2025-06-21T10:13:01.391094",
     "exception": false,
     "start_time": "2025-06-21T10:13:01.370994",
     "status": "completed"
    },
    "tags": []
   },
   "outputs": [
    {
     "name": "stdout",
     "output_type": "stream",
     "text": [
      "Accuracy: 70.83%\n"
     ]
    }
   ],
   "source": [
    "def predict(X, w):\n",
    "    A = sigmoid(np.dot(X, w))\n",
    "    return (A >= 0.5).astype(int)\n",
    "\n",
    "y_pred = predict(X_bias, w)\n",
    "accuracy = np.mean(y_pred == y)\n",
    "print(f\"Accuracy: {accuracy * 100:.2f}%\")"
   ]
  },
  {
   "cell_type": "markdown",
   "id": "8fd16924",
   "metadata": {
    "papermill": {
     "duration": 0.009938,
     "end_time": "2025-06-21T10:13:01.411313",
     "exception": false,
     "start_time": "2025-06-21T10:13:01.401375",
     "status": "completed"
    },
    "tags": []
   },
   "source": [
    "The loss curve is visualised here. We can see that the loss is decreasing with more epochs."
   ]
  },
  {
   "cell_type": "code",
   "execution_count": 26,
   "id": "9a968e1a",
   "metadata": {
    "execution": {
     "iopub.execute_input": "2025-06-21T10:13:01.433072Z",
     "iopub.status.busy": "2025-06-21T10:13:01.432512Z",
     "iopub.status.idle": "2025-06-21T10:13:03.658586Z",
     "shell.execute_reply": "2025-06-21T10:13:03.657509Z"
    },
    "papermill": {
     "duration": 2.238451,
     "end_time": "2025-06-21T10:13:03.659964",
     "exception": false,
     "start_time": "2025-06-21T10:13:01.421513",
     "status": "completed"
    },
    "tags": []
   },
   "outputs": [
    {
     "data": {
      "image/png": "[encoded data removed]",
      "text/plain": [
       "<Figure size 800x400 with 1 Axes>"
      ]
     },
     "metadata": {},
     "output_type": "display_data"
    }
   ],
   "source": [
    "loss_history = []\n",
    "for epoch in range(epochs):\n",
    "    A, loss = forward(X_bias, w)\n",
    "    dw = backward(X_bias, A, y)\n",
    "    w -= learning_rate * dw\n",
    "    loss_history.append(loss)  # Store loss\n",
    "\n",
    "# Plot\n",
    "plt.figure(figsize=(8, 4))\n",
    "plt.plot(loss_history)\n",
    "plt.xlabel('Epochs')\n",
    "plt.ylabel('Loss')\n",
    "plt.title('Training Loss Curve')\n",
    "plt.grid(True)\n",
    "plt.show()"
   ]
  },
  {
   "cell_type": "code",
   "execution_count": 27,
   "id": "13140cd9",
   "metadata": {
    "execution": {
     "iopub.execute_input": "2025-06-21T10:13:03.683686Z",
     "iopub.status.busy": "2025-06-21T10:13:03.683335Z",
     "iopub.status.idle": "2025-06-21T10:13:04.645126Z",
     "shell.execute_reply": "2025-06-21T10:13:04.644185Z"
    },
    "papermill": {
     "duration": 0.975409,
     "end_time": "2025-06-21T10:13:04.646978",
     "exception": false,
     "start_time": "2025-06-21T10:13:03.671569",
     "status": "completed"
    },
    "tags": []
   },
   "outputs": [
    {
     "data": {
      "image/png": "[encoded data removed]",
      "text/plain": [
       "<Figure size 800x600 with 2 Axes>"
      ]
     },
     "metadata": {},
     "output_type": "display_data"
    }
   ],
   "source": [
    "from sklearn.decomposition import PCA\n",
    "\n",
    "# Reduce to 2D for visualization\n",
    "pca = PCA(n_components=2)\n",
    "X_2d = pca.fit_transform(X_normalized)\n",
    "\n",
    "# Train logistic regression on 2D data (for visualization only)\n",
    "w_2d = np.random.randn(3) * 0.01  # 2 features + bias\n",
    "X_2d_bias = np.c_[np.ones(X_2d.shape[0]), X_2d]\n",
    "\n",
    "for _ in range(1000):\n",
    "    A_2d, _ = forward(X_2d_bias, w_2d)\n",
    "    dw_2d = backward(X_2d_bias, A_2d, y)\n",
    "    w_2d -= 0.1 * dw_2d\n",
    "\n",
    "# Plot\n",
    "plt.figure(figsize=(8, 6))\n",
    "plt.scatter(X_2d[:, 0], X_2d[:, 1], c=y, cmap='coolwarm', alpha=0.7)\n",
    "\n",
    "# Create decision boundary grid\n",
    "x_min, x_max = X_2d[:, 0].min() - 1, X_2d[:, 0].max() + 1\n",
    "y_min, y_max = X_2d[:, 1].min() - 1, X_2d[:, 1].max() + 1\n",
    "xx, yy = np.meshgrid(np.linspace(x_min, x_max, 100), \n",
    "                     np.linspace(y_min, y_max, 100))\n",
    "Z = sigmoid(w_2d[0] + w_2d[1] * xx.ravel() + w_2d[2] * yy.ravel())\n",
    "Z = Z.reshape(xx.shape)\n",
    "plt.contourf(xx, yy, Z, levels=[0, 0.5, 1], colors=['blue', 'red'], alpha=0.2)\n",
    "plt.colorbar()\n",
    "plt.title('2D Decision Boundary (PCA Projection)')\n",
    "plt.xlabel('Principal Component 1')\n",
    "plt.ylabel('Principal Component 2')\n",
    "plt.show()"
   ]
  }
 ],
 "metadata": {
  "kaggle": {
   "accelerator": "none",
   "dataSources": [
    {
     "datasetId": 2921725,
     "sourceId": 5034040,
     "sourceType": "datasetVersion"
    },
    {
     "datasetId": 5700459,
     "sourceId": 9393137,
     "sourceType": "datasetVersion"
    }
   ],
   "dockerImageVersionId": 31040,
   "isGpuEnabled": false,
   "isInternetEnabled": true,
   "language": "python",
   "sourceType": "notebook"
  },
  "kernelspec": {
   "display_name": "Python 3",
   "language": "python",
   "name": "python3"
  },
  "language_info": {
   "codemirror_mode": {
    "name": "ipython",
    "version": 3
   },
   "file_extension": ".py",
   "mimetype": "text/x-python",
   "name": "python",
   "nbconvert_exporter": "python",
   "pygments_lexer": "ipython3",
   "version": "3.11.11"
  },
  "papermill": {
   "default_parameters": {},
   "duration": 19.632632,
   "end_time": "2025-06-21T10:13:05.378621",
   "environment_variables": {},
   "exception": null,
   "input_path": "__notebook__.ipynb",
   "output_path": "__notebook__.ipynb",
   "parameters": {},
   "start_time": "2025-06-21T10:12:45.745989",
   "version": "2.6.0"
  }
 },
 "nbformat": 4,
 "nbformat_minor": 5
}
