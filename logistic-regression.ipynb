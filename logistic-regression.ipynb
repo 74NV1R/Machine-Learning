{
 "cells": [
  {
   "cell_type": "markdown",
   "id": "17295973",
   "metadata": {
    "papermill": {
     "duration": 0.006798,
     "end_time": "2025-06-20T09:43:38.195905",
     "exception": false,
     "start_time": "2025-06-20T09:43:38.189107",
     "status": "completed"
    },
    "tags": []
   },
   "source": [
    "We are about to do the Logistic Regression, one of the basic statistical methods. Even though the name says \"Regression\", its actually a binary classification. So the output is yes or no, 1 or 0, cat or not cat, delay or no delay etc. "
   ]
  },
  {
   "cell_type": "markdown",
   "id": "2ffb9c27",
   "metadata": {
    "papermill": {
     "duration": 0.005116,
     "end_time": "2025-06-20T09:43:38.206737",
     "exception": false,
     "start_time": "2025-06-20T09:43:38.201621",
     "status": "completed"
    },
    "tags": []
   },
   "source": [
    "To out learning curve smooth, lets start with something simple.\n",
    "Lets work with a simple dataset.\n",
    "And as always, at first we import the essential libraries, Pandas and NumPy."
   ]
  },
  {
   "cell_type": "code",
   "execution_count": 1,
   "id": "444e6a7e",
   "metadata": {
    "execution": {
     "iopub.execute_input": "2025-06-20T09:43:38.218717Z",
     "iopub.status.busy": "2025-06-20T09:43:38.218384Z",
     "iopub.status.idle": "2025-06-20T09:43:40.088262Z",
     "shell.execute_reply": "2025-06-20T09:43:40.087144Z"
    },
    "papermill": {
     "duration": 1.877984,
     "end_time": "2025-06-20T09:43:40.090006",
     "exception": false,
     "start_time": "2025-06-20T09:43:38.212022",
     "status": "completed"
    },
    "tags": []
   },
   "outputs": [],
   "source": [
    "import pandas as pd\n",
    "import numpy as np"
   ]
  },
  {
   "cell_type": "markdown",
   "id": "7e251b93",
   "metadata": {
    "papermill": {
     "duration": 0.005223,
     "end_time": "2025-06-20T09:43:40.100801",
     "exception": false,
     "start_time": "2025-06-20T09:43:40.095578",
     "status": "completed"
    },
    "tags": []
   },
   "source": [
    "### **Toy Dataset: Exam Performance Prediction (Binary Classification)**\n",
    "**Description**: Predict whether a student passes (`1`) or fails (`0`) based on study hours and sleep hours.\n",
    "\n",
    "```csv\n",
    "Study_Hours,Sleep_Hours,Pass\n",
    "1.0,4.0,0\n",
    "1.5,5.0,0\n",
    "2.0,6.0,0\n",
    "2.5,4.5,0\n",
    "3.0,5.5,0\n",
    "3.5,7.0,1\n",
    "4.0,6.5,1\n",
    "4.5,7.5,1\n",
    "5.0,8.0,1\n",
    "5.5,7.0,1\n",
    "6.0,5.0,0\n",
    "6.5,8.5,1\n",
    "7.0,9.0,1\n",
    "7.5,6.0,1\n",
    "8.0,9.5,1\n",
    "8.5,7.5,1\n",
    "9.0,10.0,1\n",
    "9.5,5.5,1\n",
    "10.0,8.5,1\n",
    "10.5,9.0,1\n",
    "```\n",
    "\n",
    "#### **Columns**\n",
    "- `Study_Hours`: Hours studied (numerical, range: 1.0–10.5)  \n",
    "- `Sleep_Hours`: Hours slept (numerical, range: 4.0–10.0)  \n",
    "- `Pass`: Binary label (`0` = Fail, `1` = Pass)  \n",
    "\n",
    "Lets visualize the data here, to see how it talks to us: "
   ]
  },
  {
   "cell_type": "code",
   "execution_count": 2,
   "id": "74bcbd12",
   "metadata": {
    "execution": {
     "iopub.execute_input": "2025-06-20T09:43:40.112534Z",
     "iopub.status.busy": "2025-06-20T09:43:40.112075Z",
     "iopub.status.idle": "2025-06-20T09:43:40.121903Z",
     "shell.execute_reply": "2025-06-20T09:43:40.120909Z"
    },
    "papermill": {
     "duration": 0.017355,
     "end_time": "2025-06-20T09:43:40.123323",
     "exception": false,
     "start_time": "2025-06-20T09:43:40.105968",
     "status": "completed"
    },
    "tags": []
   },
   "outputs": [
    {
     "name": "stdout",
     "output_type": "stream",
     "text": [
      "Features (X):\n",
      " [[ 1.   4. ]\n",
      " [ 1.5  5. ]\n",
      " [ 2.   6. ]\n",
      " [ 2.5  4.5]\n",
      " [ 3.   5.5]\n",
      " [ 3.5  7. ]\n",
      " [ 4.   6.5]\n",
      " [ 4.5  7.5]\n",
      " [ 5.   8. ]\n",
      " [ 5.5  7. ]\n",
      " [ 6.   5. ]\n",
      " [ 6.5  8.5]\n",
      " [ 7.   9. ]\n",
      " [ 7.5  6. ]\n",
      " [ 8.   9.5]\n",
      " [ 8.5  7.5]\n",
      " [ 9.  10. ]\n",
      " [ 9.5  5.5]\n",
      " [10.   8.5]\n",
      " [10.5  9. ]]\n",
      "Labels (y): [0 0 0 0 0 1 1 1 1 1 0 1 1 1 1 1 1 1 1 1]\n"
     ]
    }
   ],
   "source": [
    "import numpy as np\n",
    "\n",
    "# Features (Study Hours, Sleep Hours)\n",
    "X = np.array([\n",
    "    [1.0, 4.0], [1.5, 5.0], [2.0, 6.0], [2.5, 4.5], [3.0, 5.5],\n",
    "    [3.5, 7.0], [4.0, 6.5], [4.5, 7.5], [5.0, 8.0], [5.5, 7.0],\n",
    "    [6.0, 5.0], [6.5, 8.5], [7.0, 9.0], [7.5, 6.0], [8.0, 9.5],\n",
    "    [8.5, 7.5], [9.0, 10.0], [9.5, 5.5], [10.0, 8.5], [10.5, 9.0]\n",
    "])\n",
    "\n",
    "# Labels (0 = Fail, 1 = Pass)\n",
    "y = np.array([0, 0, 0, 0, 0, 1, 1, 1, 1, 1, 0, 1, 1, 1, 1, 1, 1, 1, 1, 1])\n",
    "\n",
    "print(\"Features (X):\\n\", X)\n",
    "print(\"Labels (y):\", y)"
   ]
  },
  {
   "cell_type": "code",
   "execution_count": 3,
   "id": "16233936",
   "metadata": {
    "execution": {
     "iopub.execute_input": "2025-06-20T09:43:40.136086Z",
     "iopub.status.busy": "2025-06-20T09:43:40.135324Z",
     "iopub.status.idle": "2025-06-20T09:43:40.142809Z",
     "shell.execute_reply": "2025-06-20T09:43:40.142032Z"
    },
    "papermill": {
     "duration": 0.015186,
     "end_time": "2025-06-20T09:43:40.144137",
     "exception": false,
     "start_time": "2025-06-20T09:43:40.128951",
     "status": "completed"
    },
    "tags": []
   },
   "outputs": [],
   "source": [
    "df = pd.DataFrame({\n",
    "    'Study_Hours': X[:, 0],  # First column of X\n",
    "    'Sleep_Hours': X[:, 1],  # Second column of X\n",
    "    'Pass': y\n",
    "})"
   ]
  },
  {
   "cell_type": "code",
   "execution_count": 4,
   "id": "0da82b1e",
   "metadata": {
    "execution": {
     "iopub.execute_input": "2025-06-20T09:43:40.156212Z",
     "iopub.status.busy": "2025-06-20T09:43:40.155920Z",
     "iopub.status.idle": "2025-06-20T09:43:40.460332Z",
     "shell.execute_reply": "2025-06-20T09:43:40.459364Z"
    },
    "papermill": {
     "duration": 0.312268,
     "end_time": "2025-06-20T09:43:40.461867",
     "exception": false,
     "start_time": "2025-06-20T09:43:40.149599",
     "status": "completed"
    },
    "tags": []
   },
   "outputs": [
    {
     "data": {
      "image/png": "[encoded data removed]",
      "text/plain": [
       "<Figure size 640x480 with 1 Axes>"
      ]
     },
     "metadata": {},
     "output_type": "display_data"
    }
   ],
   "source": [
    "import matplotlib.pyplot as plt\n",
    "\n",
    "plt.scatter(X[y == 0, 0], X[y == 0, 1], color='red', label='Fail')\n",
    "plt.scatter(X[y == 1, 0], X[y == 1, 1], color='green', label='Pass')\n",
    "plt.xlabel('Study Hours')\n",
    "plt.ylabel('Sleep Hours')\n",
    "plt.legend()\n",
    "plt.title('Exam Performance Dataset')\n",
    "plt.show()"
   ]
  },
  {
   "cell_type": "code",
   "execution_count": 5,
   "id": "749be6f7",
   "metadata": {
    "execution": {
     "iopub.execute_input": "2025-06-20T09:43:40.475397Z",
     "iopub.status.busy": "2025-06-20T09:43:40.475059Z",
     "iopub.status.idle": "2025-06-20T09:43:42.631351Z",
     "shell.execute_reply": "2025-06-20T09:43:42.630336Z"
    },
    "papermill": {
     "duration": 2.165098,
     "end_time": "2025-06-20T09:43:42.633052",
     "exception": false,
     "start_time": "2025-06-20T09:43:40.467954",
     "status": "completed"
    },
    "tags": []
   },
   "outputs": [
    {
     "data": {
      "text/plain": [
       "<Axes: xlabel='Study_Hours', ylabel='Sleep_Hours'>"
      ]
     },
     "execution_count": 5,
     "metadata": {},
     "output_type": "execute_result"
    },
    {
     "data": {
      "image/png": "[encoded data removed]",
      "text/plain": [
       "<Figure size 640x480 with 1 Axes>"
      ]
     },
     "metadata": {},
     "output_type": "display_data"
    }
   ],
   "source": [
    "import seaborn as sns\n",
    "sns.scatterplot(data=df, x='Study_Hours', y='Sleep_Hours', hue='Pass', palette=['red', 'green'])"
   ]
  },
  {
   "cell_type": "markdown",
   "id": "7b84c14f",
   "metadata": {
    "papermill": {
     "duration": 0.006208,
     "end_time": "2025-06-20T09:43:42.646005",
     "exception": false,
     "start_time": "2025-06-20T09:43:42.639797",
     "status": "completed"
    },
    "tags": []
   },
   "source": [
    "Hmm, it's pretty easy. Because it's made up. We can almost divide the 0 and 1 simply by drawing a line between them. Lets see how that works. "
   ]
  },
  {
   "cell_type": "markdown",
   "id": "cc16d72d",
   "metadata": {
    "papermill": {
     "duration": 0.00618,
     "end_time": "2025-06-20T09:43:42.658700",
     "exception": false,
     "start_time": "2025-06-20T09:43:42.652520",
     "status": "completed"
    },
    "tags": []
   },
   "source": [
    "As we said before, we can try to draw a straight line and separate the reds from greens. Lets take that approach.\n",
    "If we want to draw a line, we need a line's equation. The simplest equation we have is:\n",
    "\n",
    "$$Y = ax + b$$\n",
    "\n",
    "where, \"a\" is the slope of \"x\", the input variable. And \"b\" is the bias. \"a\" decide the rate of change in Y from x, and \"b\" is the headstart, or how much elevation we get.\n",
    "Now, we need to find Y, and Y isn't exactly ax + b. We have to apply a function to get Y. It's more like $$Y = some_function(ax + b)$$\n",
    "Let's take a another variable z, z = ax+b. Later we can get the value of Y from z.  \n",
    "One more problem, we have two different values of x here. The \"study hours\" and the \"sleep hours\".\n",
    "We can work with that. Essentialy, we have to assume that study hours and sleep hours dont affect result similarly. Probably study hour is more important? And sleep hour is not that important? But we can not run on 0 hour of sleep, can we?\n",
    "So, these two independant variable, x1 (study hour), and x2(sleep hour) should be \"weighted\" differently. \n",
    "Here, weights = [w1, w2]\n",
    "So, $$z = w1 * x1 + w2 * x2 + b$$"
   ]
  },
  {
   "cell_type": "code",
   "execution_count": 6,
   "id": "98a79940",
   "metadata": {
    "execution": {
     "iopub.execute_input": "2025-06-20T09:43:42.674370Z",
     "iopub.status.busy": "2025-06-20T09:43:42.673352Z",
     "iopub.status.idle": "2025-06-20T09:43:42.678546Z",
     "shell.execute_reply": "2025-06-20T09:43:42.677624Z"
    },
    "papermill": {
     "duration": 0.014392,
     "end_time": "2025-06-20T09:43:42.680092",
     "exception": false,
     "start_time": "2025-06-20T09:43:42.665700",
     "status": "completed"
    },
    "tags": []
   },
   "outputs": [],
   "source": [
    "X_bias = np.c_[np.ones((X.shape[0], 1)), X]"
   ]
  },
  {
   "cell_type": "markdown",
   "id": "73d07678",
   "metadata": {
    "papermill": {
     "duration": 0.006047,
     "end_time": "2025-06-20T09:43:42.692600",
     "exception": false,
     "start_time": "2025-06-20T09:43:42.686553",
     "status": "completed"
    },
    "tags": []
   },
   "source": [
    "X_bias is an array that consist of b, x1, x2."
   ]
  },
  {
   "cell_type": "markdown",
   "id": "be7b278f",
   "metadata": {
    "papermill": {
     "duration": 0.006142,
     "end_time": "2025-06-20T09:43:42.705061",
     "exception": false,
     "start_time": "2025-06-20T09:43:42.698919",
     "status": "completed"
    },
    "tags": []
   },
   "source": [
    "We are going to split the dataset into train and test part. Our regression will learn from train set, and test the hypothesis on the test set.\n",
    "We are doing 80% 20% split here."
   ]
  },
  {
   "cell_type": "code",
   "execution_count": 7,
   "id": "5daa1e68",
   "metadata": {
    "execution": {
     "iopub.execute_input": "2025-06-20T09:43:42.719392Z",
     "iopub.status.busy": "2025-06-20T09:43:42.718702Z",
     "iopub.status.idle": "2025-06-20T09:43:42.723121Z",
     "shell.execute_reply": "2025-06-20T09:43:42.722374Z"
    },
    "papermill": {
     "duration": 0.01333,
     "end_time": "2025-06-20T09:43:42.724777",
     "exception": false,
     "start_time": "2025-06-20T09:43:42.711447",
     "status": "completed"
    },
    "tags": []
   },
   "outputs": [],
   "source": [
    "np.random.shuffle(X_bias) #shuffling the dataset"
   ]
  },
  {
   "cell_type": "code",
   "execution_count": 8,
   "id": "6bf9e06b",
   "metadata": {
    "execution": {
     "iopub.execute_input": "2025-06-20T09:43:42.745361Z",
     "iopub.status.busy": "2025-06-20T09:43:42.744957Z",
     "iopub.status.idle": "2025-06-20T09:43:42.750308Z",
     "shell.execute_reply": "2025-06-20T09:43:42.749523Z"
    },
    "papermill": {
     "duration": 0.015966,
     "end_time": "2025-06-20T09:43:42.751927",
     "exception": false,
     "start_time": "2025-06-20T09:43:42.735961",
     "status": "completed"
    },
    "tags": []
   },
   "outputs": [],
   "source": [
    "train_size = int(len(X_bias) * 0.8)  # 80% of the total length\n",
    "train_set = X_bias[:train_size]  # First 80% of elements\n",
    "test_set = X_bias[train_size:]  # Remaining 20% of elements"
   ]
  },
  {
   "cell_type": "markdown",
   "id": "ba656ba5",
   "metadata": {
    "papermill": {
     "duration": 0.006042,
     "end_time": "2025-06-20T09:43:42.764534",
     "exception": false,
     "start_time": "2025-06-20T09:43:42.758492",
     "status": "completed"
    },
    "tags": []
   },
   "source": [
    "We are initializing weight array."
   ]
  },
  {
   "cell_type": "code",
   "execution_count": 9,
   "id": "a99383a5",
   "metadata": {
    "execution": {
     "iopub.execute_input": "2025-06-20T09:43:42.778593Z",
     "iopub.status.busy": "2025-06-20T09:43:42.777848Z",
     "iopub.status.idle": "2025-06-20T09:43:42.782674Z",
     "shell.execute_reply": "2025-06-20T09:43:42.781740Z"
    },
    "papermill": {
     "duration": 0.013491,
     "end_time": "2025-06-20T09:43:42.784171",
     "exception": false,
     "start_time": "2025-06-20T09:43:42.770680",
     "status": "completed"
    },
    "tags": []
   },
   "outputs": [],
   "source": [
    "w = np.zeros(X_bias.shape[1])  # Shape: (3,) for [bias, w1, w2]"
   ]
  },
  {
   "cell_type": "markdown",
   "id": "715007fe",
   "metadata": {
    "papermill": {
     "duration": 0.006384,
     "end_time": "2025-06-20T09:43:42.797013",
     "exception": false,
     "start_time": "2025-06-20T09:43:42.790629",
     "status": "completed"
    },
    "tags": []
   },
   "source": [
    "Remeber when we said we need to put \"z\" through some function to get \"Y\"? We have to make that function now. That function is sigmoid function. Its a function that maps real number values to 0 or 1. That means, we send some \"z\", we get some 0 or 1, and those values are \"y\".\n",
    "\n",
    "The sigmoid function is defined as:\n",
    "\n",
    "$$\\sigma(x) = \\frac{1}{1 + e^{-x}}$$\n",
    "\n",
    "\n",
    "now we are going to implement the function here."
   ]
  },
  {
   "cell_type": "code",
   "execution_count": 10,
   "id": "bd51914c",
   "metadata": {
    "execution": {
     "iopub.execute_input": "2025-06-20T09:43:42.811307Z",
     "iopub.status.busy": "2025-06-20T09:43:42.810933Z",
     "iopub.status.idle": "2025-06-20T09:43:42.815964Z",
     "shell.execute_reply": "2025-06-20T09:43:42.815116Z"
    },
    "papermill": {
     "duration": 0.013965,
     "end_time": "2025-06-20T09:43:42.817462",
     "exception": false,
     "start_time": "2025-06-20T09:43:42.803497",
     "status": "completed"
    },
    "tags": []
   },
   "outputs": [],
   "source": [
    "def sigmoid(z):\n",
    "    return 1 / (1 + np.exp(-z))"
   ]
  },
  {
   "cell_type": "markdown",
   "id": "a2da944e",
   "metadata": {
    "papermill": {
     "duration": 0.00616,
     "end_time": "2025-06-20T09:43:42.830116",
     "exception": false,
     "start_time": "2025-06-20T09:43:42.823956",
     "status": "completed"
    },
    "tags": []
   },
   "source": [
    "Now, the weight and bias we initiated randomly, aren't necessarily accurate. We need to change that. In fact, we need to change it a lot of times till it gives us a line that's the perfect fit. If not, it should be near perfect. Also, the need to see the cost or the error. Error is the difference of the real value of y and the hypothetical value of y. Here, the cost function is \n",
    "$$J(w) = -\\frac{1}{m} \\sum_{i=1}^{m} \\left[ y^{(i)} \\log a^{(i)} + (1 - y^{(i)}) \\log (1 - a^{(i)}) \\right]$$\n",
    "where:\n",
    "- \\( m \\) is the number of training examples.\n",
    "- \\( y^{(i)} \\) is the actual label (0 or 1).\n",
    "- \\( a^{(i)} \\) is the predicted probability from the sigmoid function.\n",
    "\n",
    "We have to update the weights till we find the optimal weights. That means, we have to find the perfect or near perfect w1, w2 weights for variable x1, x2 to plug into the equation.\n",
    "\n",
    "### Gradient Descent Formula\n",
    "\n",
    "The weight update rule in gradient descent is:\n",
    "\n",
    "$$ w := w - \\alpha \\frac{\\partial J}{\\partial w} $$\n",
    "\n",
    "where:\n",
    "- \\( w \\) represents the weights.\n",
    "- \\( \\alpha \\) is the learning rate.\n",
    "- \\( \\frac{\\partial J}{\\partial w} \\) is the gradient of the cost function with respect to \\( w \\).\n",
    "\n",
    "For logistic regression, the gradient descent update for weights and bias is:\n",
    "\n",
    "$$ w := w - \\alpha \\frac{1}{m} \\sum_{i=1}^{m} X^{(i)} (A^{(i)} - Y^{(i)}) $$\n",
    "\n",
    "$$ b := b - \\alpha \\frac{1}{m} \\sum_{i=1}^{m} (A^{(i)} - Y^{(i)}) $$\n",
    "\n",
    "where:\n",
    "- \\( m \\) is the number of training examples.\n",
    "- \\( X^{(i)} \\) is the input feature vector.\n",
    "- \\( A^{(i)} \\) is the predicted probability from the sigmoid function.\n",
    "- \\( Y^{(i)} \\) is the actual label.\n",
    "\n",
    "\n",
    "We will adjust the weights 1000 times. These attempts are called epochs. \n",
    "\n",
    "\n",
    "### What Happens in One Epoch: ###\n"
   ]
  },
  {
   "cell_type": "markdown",
   "id": "ebb6e76e",
   "metadata": {
    "papermill": {
     "duration": 0.006008,
     "end_time": "2025-06-20T09:43:42.842353",
     "exception": false,
     "start_time": "2025-06-20T09:43:42.836345",
     "status": "completed"
    },
    "tags": []
   },
   "source": [
    "*Forward Pass:* Compute predictions (A) and cost for all 20 examples."
   ]
  },
  {
   "cell_type": "code",
   "execution_count": 11,
   "id": "0147bcc9",
   "metadata": {
    "execution": {
     "iopub.execute_input": "2025-06-20T09:43:42.856768Z",
     "iopub.status.busy": "2025-06-20T09:43:42.855877Z",
     "iopub.status.idle": "2025-06-20T09:43:42.861917Z",
     "shell.execute_reply": "2025-06-20T09:43:42.861053Z"
    },
    "papermill": {
     "duration": 0.015015,
     "end_time": "2025-06-20T09:43:42.863748",
     "exception": false,
     "start_time": "2025-06-20T09:43:42.848733",
     "status": "completed"
    },
    "tags": []
   },
   "outputs": [],
   "source": [
    "def forward(X, w):\n",
    "    z = np.dot(X, w)\n",
    "    A = sigmoid(z)  # Predicted probabilities\n",
    "    J = -np.mean(y * np.log(A) + (1 - y) * np.log(1 - A))  # Cross-entropy cost\n",
    "    return A, J"
   ]
  },
  {
   "cell_type": "markdown",
   "id": "b7268ff3",
   "metadata": {
    "papermill": {
     "duration": 0.00646,
     "end_time": "2025-06-20T09:43:42.876958",
     "exception": false,
     "start_time": "2025-06-20T09:43:42.870498",
     "status": "completed"
    },
    "tags": []
   },
   "source": [
    "*Backward Pass:* Calculate the gradient (dw) by averaging contributions from all examples."
   ]
  },
  {
   "cell_type": "code",
   "execution_count": 12,
   "id": "22a583e0",
   "metadata": {
    "execution": {
     "iopub.execute_input": "2025-06-20T09:43:42.891613Z",
     "iopub.status.busy": "2025-06-20T09:43:42.890913Z",
     "iopub.status.idle": "2025-06-20T09:43:42.896145Z",
     "shell.execute_reply": "2025-06-20T09:43:42.895294Z"
    },
    "papermill": {
     "duration": 0.014275,
     "end_time": "2025-06-20T09:43:42.897707",
     "exception": false,
     "start_time": "2025-06-20T09:43:42.883432",
     "status": "completed"
    },
    "tags": []
   },
   "outputs": [],
   "source": [
    "def backward(X, A, y):\n",
    "    dw = np.dot(X.T, (A - y)) / len(y)  # Gradient for weights\n",
    "    return dw"
   ]
  },
  {
   "cell_type": "markdown",
   "id": "ad7cebcb",
   "metadata": {
    "papermill": {
     "duration": 0.006308,
     "end_time": "2025-06-20T09:43:42.910569",
     "exception": false,
     "start_time": "2025-06-20T09:43:42.904261",
     "status": "completed"
    },
    "tags": []
   },
   "source": [
    "*Update Weights:* Adjust w using the gradient: $$w = w - \\alpha * dw.$$\n",
    "Here, $$\\alpha$$ is the learning rate.\n",
    "\n",
    "We have the liberty to choose the learning rate. But we should be careful, since with smaller learning rate, we need way more epochs and if we set it too big, we might cross the optimal point."
   ]
  },
  {
   "cell_type": "code",
   "execution_count": 13,
   "id": "5c52f47a",
   "metadata": {
    "execution": {
     "iopub.execute_input": "2025-06-20T09:43:42.924699Z",
     "iopub.status.busy": "2025-06-20T09:43:42.924304Z",
     "iopub.status.idle": "2025-06-20T09:43:42.941161Z",
     "shell.execute_reply": "2025-06-20T09:43:42.940139Z"
    },
    "papermill": {
     "duration": 0.026005,
     "end_time": "2025-06-20T09:43:42.942900",
     "exception": false,
     "start_time": "2025-06-20T09:43:42.916895",
     "status": "completed"
    },
    "tags": []
   },
   "outputs": [
    {
     "name": "stdout",
     "output_type": "stream",
     "text": [
      "Epoch 0, Cost: 0.6931\n"
     ]
    }
   ],
   "source": [
    "alpha = 0.01  # Learning rate\n",
    "epochs = 100\n",
    "\n",
    "for epoch in range(epochs):\n",
    "    A, cost = forward(X_bias, w)  # Forward pass\n",
    "    dw = backward(X_bias, A, y)   # Backward pass\n",
    "    w -= alpha * dw               # Update weights\n",
    "    \n",
    "    if epoch % 100 == 0:\n",
    "        print(f\"Epoch {epoch}, Cost: {cost:.4f}\")"
   ]
  },
  {
   "cell_type": "markdown",
   "id": "9f596b86",
   "metadata": {
    "papermill": {
     "duration": 0.007644,
     "end_time": "2025-06-20T09:43:42.961804",
     "exception": false,
     "start_time": "2025-06-20T09:43:42.954160",
     "status": "completed"
    },
    "tags": []
   },
   "source": [
    "Now we check how good our hypothesis is after adjusting the weights **1,000** times!"
   ]
  },
  {
   "cell_type": "code",
   "execution_count": 14,
   "id": "3b46496a",
   "metadata": {
    "execution": {
     "iopub.execute_input": "2025-06-20T09:43:42.976372Z",
     "iopub.status.busy": "2025-06-20T09:43:42.975664Z",
     "iopub.status.idle": "2025-06-20T09:43:42.981496Z",
     "shell.execute_reply": "2025-06-20T09:43:42.980616Z"
    },
    "papermill": {
     "duration": 0.014849,
     "end_time": "2025-06-20T09:43:42.983057",
     "exception": false,
     "start_time": "2025-06-20T09:43:42.968208",
     "status": "completed"
    },
    "tags": []
   },
   "outputs": [],
   "source": [
    "def predict(X, w):\n",
    "    A, _ = forward(X, w)\n",
    "    return (A >= 0.5).astype(int)  # Threshold at 0.5\n",
    "\n",
    "y_pred = predict(X_bias, w)"
   ]
  },
  {
   "cell_type": "code",
   "execution_count": 15,
   "id": "29d400d8",
   "metadata": {
    "execution": {
     "iopub.execute_input": "2025-06-20T09:43:42.998455Z",
     "iopub.status.busy": "2025-06-20T09:43:42.997672Z",
     "iopub.status.idle": "2025-06-20T09:43:43.003254Z",
     "shell.execute_reply": "2025-06-20T09:43:43.002333Z"
    },
    "papermill": {
     "duration": 0.015144,
     "end_time": "2025-06-20T09:43:43.004967",
     "exception": false,
     "start_time": "2025-06-20T09:43:42.989823",
     "status": "completed"
    },
    "tags": []
   },
   "outputs": [
    {
     "name": "stdout",
     "output_type": "stream",
     "text": [
      "Accuracy: 70.00%\n"
     ]
    }
   ],
   "source": [
    "accuracy = np.mean(y_pred == y)\n",
    "print(f\"Accuracy: {accuracy * 100:.2f}%\")"
   ]
  },
  {
   "cell_type": "markdown",
   "id": "92464d47",
   "metadata": {
    "papermill": {
     "duration": 0.007616,
     "end_time": "2025-06-20T09:43:43.023929",
     "exception": false,
     "start_time": "2025-06-20T09:43:43.016313",
     "status": "completed"
    },
    "tags": []
   },
   "source": [
    "Honestly, it's not good. **Only 70.00% accuracy!**\n",
    "But at least we learned something.\n",
    "Let's visually see  how our hypothesis worked."
   ]
  },
  {
   "cell_type": "code",
   "execution_count": 16,
   "id": "ff288304",
   "metadata": {
    "execution": {
     "iopub.execute_input": "2025-06-20T09:43:43.038033Z",
     "iopub.status.busy": "2025-06-20T09:43:43.037659Z",
     "iopub.status.idle": "2025-06-20T09:43:43.272353Z",
     "shell.execute_reply": "2025-06-20T09:43:43.271477Z"
    },
    "papermill": {
     "duration": 0.24355,
     "end_time": "2025-06-20T09:43:43.273896",
     "exception": false,
     "start_time": "2025-06-20T09:43:43.030346",
     "status": "completed"
    },
    "tags": []
   },
   "outputs": [
    {
     "data": {
      "image/png": "[encoded data removed]",
      "text/plain": [
       "<Figure size 500x300 with 1 Axes>"
      ]
     },
     "metadata": {},
     "output_type": "display_data"
    }
   ],
   "source": [
    "# Fix Sleep_Hours at median (or mean)\n",
    "sleep_fixed = np.median(X[:, 1])  # Try np.mean() if needed\n",
    "\n",
    "# Create a range of Study_Hours values\n",
    "study_range = np.linspace(min(X[:, 0]), max(X[:, 0]), 100)\n",
    "\n",
    "# Compute predicted probabilities (A) for each Study_Hours\n",
    "z = w[0] + w[1] * study_range + w[2] * sleep_fixed\n",
    "A = sigmoid(z)  # S-curve probabilities\n",
    "\n",
    "# Plot\n",
    "plt.figure(figsize=(5, 3))\n",
    "plt.plot(study_range, A, color='red', linewidth=3, label='Sigmoid Curve')\n",
    "plt.scatter(X[:, 0], y, color='blue', label='True Labels (0/1)')  # Actual data\n",
    "plt.xlabel('Study_Hours')\n",
    "plt.ylabel('Probability of Passing (A)')\n",
    "plt.title('S-shaped Sigmoid Curve: P(Pass) vs. Study_Hours')\n",
    "plt.axhline(y=0.5, color='gray', linestyle='--', label='Decision Threshold (A=0.5)')\n",
    "plt.legend()\n",
    "plt.grid(True)\n",
    "plt.show()"
   ]
  },
  {
   "cell_type": "markdown",
   "id": "cf8895ce",
   "metadata": {
    "papermill": {
     "duration": 0.007744,
     "end_time": "2025-06-20T09:43:43.289368",
     "exception": false,
     "start_time": "2025-06-20T09:43:43.281624",
     "status": "completed"
    },
    "tags": []
   },
   "source": [
    "### Real dataset ###\n",
    "\n",
    "As the next step of our learning, we should see how to apply our knowledge on real life dataset."
   ]
  },
  {
   "cell_type": "markdown",
   "id": "ddfb5441",
   "metadata": {
    "papermill": {
     "duration": 0.007624,
     "end_time": "2025-06-20T09:43:43.305224",
     "exception": false,
     "start_time": "2025-06-20T09:43:43.297600",
     "status": "completed"
    },
    "tags": []
   },
   "source": [
    "This is dataset that consists of retina images and images that are not of retina. This could be a good dataset to train a model for binary classification."
   ]
  },
  {
   "cell_type": "code",
   "execution_count": 17,
   "id": "d7e500fe",
   "metadata": {
    "execution": {
     "iopub.execute_input": "2025-06-20T09:43:43.321553Z",
     "iopub.status.busy": "2025-06-20T09:43:43.321186Z",
     "iopub.status.idle": "2025-06-20T09:43:46.700875Z",
     "shell.execute_reply": "2025-06-20T09:43:46.699937Z"
    },
    "papermill": {
     "duration": 3.389439,
     "end_time": "2025-06-20T09:43:46.702307",
     "exception": false,
     "start_time": "2025-06-20T09:43:43.312868",
     "status": "completed"
    },
    "tags": []
   },
   "outputs": [
    {
     "name": "stdout",
     "output_type": "stream",
     "text": [
      "Loaded images shape: (288, 64, 64, 3)\n",
      "Labels shape: (288,)\n"
     ]
    }
   ],
   "source": [
    "import os\n",
    "import cv2\n",
    "import numpy as np\n",
    "\n",
    "# Path to your dataset\n",
    "dataset_path = '/kaggle/input/skin-cancer-binary-classification-dataset/Skin_Data'\n",
    "\n",
    "# Initialize lists\n",
    "images = []\n",
    "labels = []\n",
    "\n",
    "# Label map based on top-level folder names\n",
    "label_map = {'Cancer': 1, 'Non_Cancer': 0}\n",
    "\n",
    "# Walk through directory tree\n",
    "for category in ['Cancer', 'Non_Cancer']:\n",
    "    for split in ['Training', 'Testing']:\n",
    "        folder_path = os.path.join(dataset_path, category, split)\n",
    "        for filename in os.listdir(folder_path):\n",
    "            if filename.lower().endswith(('.jpg', '.png')):\n",
    "                img_path = os.path.join(folder_path, filename)\n",
    "                img = cv2.imread(img_path)\n",
    "                img = cv2.resize(img, (64, 64))  # Resize to match model input\n",
    "                images.append(img)\n",
    "                labels.append(label_map[category])\n",
    "\n",
    "# Convert to NumPy arrays\n",
    "X = np.array(images) / 255.0  # Normalize pixel values\n",
    "y = np.array(labels)\n",
    "\n",
    "print(\"Loaded images shape:\", X.shape)\n",
    "print(\"Labels shape:\", y.shape)\n"
   ]
  },
  {
   "cell_type": "code",
   "execution_count": 18,
   "id": "2c8cda1a",
   "metadata": {
    "execution": {
     "iopub.execute_input": "2025-06-20T09:43:46.718441Z",
     "iopub.status.busy": "2025-06-20T09:43:46.718078Z",
     "iopub.status.idle": "2025-06-20T09:43:46.820106Z",
     "shell.execute_reply": "2025-06-20T09:43:46.818935Z"
    },
    "papermill": {
     "duration": 0.112059,
     "end_time": "2025-06-20T09:43:46.821835",
     "exception": false,
     "start_time": "2025-06-20T09:43:46.709776",
     "status": "completed"
    },
    "tags": []
   },
   "outputs": [
    {
     "data": {
      "image/png": "[encoded data removed]",
      "text/plain": [
       "<Figure size 640x480 with 1 Axes>"
      ]
     },
     "metadata": {},
     "output_type": "display_data"
    }
   ],
   "source": [
    "import matplotlib.pyplot as plt\n",
    "\n",
    "idx = 166\n",
    "\n",
    "plt.imshow(X[idx])\n",
    "plt.axis('off')\n",
    "plt.title(\"Cancer\" if y[idx] == 1 else 'Non Cancer')\n",
    "plt.show()"
   ]
  },
  {
   "cell_type": "code",
   "execution_count": null,
   "id": "a63500b6",
   "metadata": {
    "papermill": {
     "duration": 0.008126,
     "end_time": "2025-06-20T09:43:46.839955",
     "exception": false,
     "start_time": "2025-06-20T09:43:46.831829",
     "status": "completed"
    },
    "tags": []
   },
   "outputs": [],
   "source": []
  }
 ],
 "metadata": {
  "kaggle": {
   "accelerator": "none",
   "dataSources": [
    {
     "datasetId": 5700459,
     "sourceId": 9393137,
     "sourceType": "datasetVersion"
    },
    {
     "datasetId": 2921725,
     "sourceId": 5034040,
     "sourceType": "datasetVersion"
    }
   ],
   "dockerImageVersionId": 31040,
   "isGpuEnabled": false,
   "isInternetEnabled": true,
   "language": "python",
   "sourceType": "notebook"
  },
  "kernelspec": {
   "display_name": "Python 3",
   "language": "python",
   "name": "python3"
  },
  "language_info": {
   "codemirror_mode": {
    "name": "ipython",
    "version": 3
   },
   "file_extension": ".py",
   "mimetype": "text/x-python",
   "name": "python",
   "nbconvert_exporter": "python",
   "pygments_lexer": "ipython3",
   "version": "3.11.11"
  },
  "papermill": {
   "default_parameters": {},
   "duration": 14.014587,
   "end_time": "2025-06-20T09:43:47.568574",
   "environment_variables": {},
   "exception": null,
   "input_path": "__notebook__.ipynb",
   "output_path": "__notebook__.ipynb",
   "parameters": {},
   "start_time": "2025-06-20T09:43:33.553987",
   "version": "2.6.0"
  }
 },
 "nbformat": 4,
 "nbformat_minor": 5
}
