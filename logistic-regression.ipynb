{
 "cells": [
  {
   "cell_type": "markdown",
   "id": "7526a43f",
   "metadata": {
    "papermill": {
     "duration": 0.003869,
     "end_time": "2025-06-10T14:43:38.404849",
     "exception": false,
     "start_time": "2025-06-10T14:43:38.400980",
     "status": "completed"
    },
    "tags": []
   },
   "source": [
    "We are about to do the Logistic Regression, one of the basic statistical methods. Even though the name says \"Regression\", its actually a binary classification. So the output is yes or no, 1 or 0, cat or not cat, delay or no delay etc. "
   ]
  },
  {
   "cell_type": "markdown",
   "id": "f7557b64",
   "metadata": {
    "papermill": {
     "duration": 0.002828,
     "end_time": "2025-06-10T14:43:38.410915",
     "exception": false,
     "start_time": "2025-06-10T14:43:38.408087",
     "status": "completed"
    },
    "tags": []
   },
   "source": [
    "To out learning curve smooth, lets start with something simple.\n",
    "Lets work with a simple dataset.\n",
    "And as always, at first we import the essential libraries, Pandas and NumPy."
   ]
  },
  {
   "cell_type": "code",
   "execution_count": 1,
   "id": "f7c8a31f",
   "metadata": {
    "execution": {
     "iopub.execute_input": "2025-06-10T14:43:38.418206Z",
     "iopub.status.busy": "2025-06-10T14:43:38.417903Z",
     "iopub.status.idle": "2025-06-10T14:43:40.288811Z",
     "shell.execute_reply": "2025-06-10T14:43:40.287599Z"
    },
    "papermill": {
     "duration": 1.876562,
     "end_time": "2025-06-10T14:43:40.290507",
     "exception": false,
     "start_time": "2025-06-10T14:43:38.413945",
     "status": "completed"
    },
    "tags": []
   },
   "outputs": [],
   "source": [
    "import pandas as pd\n",
    "import numpy as np"
   ]
  },
  {
   "cell_type": "markdown",
   "id": "9d4f6922",
   "metadata": {
    "papermill": {
     "duration": 0.002853,
     "end_time": "2025-06-10T14:43:40.296755",
     "exception": false,
     "start_time": "2025-06-10T14:43:40.293902",
     "status": "completed"
    },
    "tags": []
   },
   "source": [
    "### **Toy Dataset: Exam Performance Prediction (Binary Classification)**\n",
    "**Description**: Predict whether a student passes (`1`) or fails (`0`) based on study hours and sleep hours.\n",
    "\n",
    "```csv\n",
    "Study_Hours,Sleep_Hours,Pass\n",
    "1.0,4.0,0\n",
    "1.5,5.0,0\n",
    "2.0,6.0,0\n",
    "2.5,4.5,0\n",
    "3.0,5.5,0\n",
    "3.5,7.0,1\n",
    "4.0,6.5,1\n",
    "4.5,7.5,1\n",
    "5.0,8.0,1\n",
    "5.5,7.0,1\n",
    "6.0,5.0,0\n",
    "6.5,8.5,1\n",
    "7.0,9.0,1\n",
    "7.5,6.0,1\n",
    "8.0,9.5,1\n",
    "8.5,7.5,1\n",
    "9.0,10.0,1\n",
    "9.5,5.5,1\n",
    "10.0,8.5,1\n",
    "10.5,9.0,1\n",
    "```\n",
    "\n",
    "#### **Columns**\n",
    "- `Study_Hours`: Hours studied (numerical, range: 1.0–10.5)  \n",
    "- `Sleep_Hours`: Hours slept (numerical, range: 4.0–10.0)  \n",
    "- `Pass`: Binary label (`0` = Fail, `1` = Pass)  \n",
    "\n",
    "Lets visualize the data here, to see how it talks to us: "
   ]
  },
  {
   "cell_type": "code",
   "execution_count": 2,
   "id": "bf840aee",
   "metadata": {
    "execution": {
     "iopub.execute_input": "2025-06-10T14:43:40.304494Z",
     "iopub.status.busy": "2025-06-10T14:43:40.304053Z",
     "iopub.status.idle": "2025-06-10T14:43:40.314147Z",
     "shell.execute_reply": "2025-06-10T14:43:40.312987Z"
    },
    "papermill": {
     "duration": 0.015612,
     "end_time": "2025-06-10T14:43:40.315504",
     "exception": false,
     "start_time": "2025-06-10T14:43:40.299892",
     "status": "completed"
    },
    "tags": []
   },
   "outputs": [
    {
     "name": "stdout",
     "output_type": "stream",
     "text": [
      "Features (X):\n",
      " [[ 1.   4. ]\n",
      " [ 1.5  5. ]\n",
      " [ 2.   6. ]\n",
      " [ 2.5  4.5]\n",
      " [ 3.   5.5]\n",
      " [ 3.5  7. ]\n",
      " [ 4.   6.5]\n",
      " [ 4.5  7.5]\n",
      " [ 5.   8. ]\n",
      " [ 5.5  7. ]\n",
      " [ 6.   5. ]\n",
      " [ 6.5  8.5]\n",
      " [ 7.   9. ]\n",
      " [ 7.5  6. ]\n",
      " [ 8.   9.5]\n",
      " [ 8.5  7.5]\n",
      " [ 9.  10. ]\n",
      " [ 9.5  5.5]\n",
      " [10.   8.5]\n",
      " [10.5  9. ]]\n",
      "Labels (y): [0 0 0 0 0 1 1 1 1 1 0 1 1 1 1 1 1 1 1 1]\n"
     ]
    }
   ],
   "source": [
    "import numpy as np\n",
    "\n",
    "# Features (Study Hours, Sleep Hours)\n",
    "X = np.array([\n",
    "    [1.0, 4.0], [1.5, 5.0], [2.0, 6.0], [2.5, 4.5], [3.0, 5.5],\n",
    "    [3.5, 7.0], [4.0, 6.5], [4.5, 7.5], [5.0, 8.0], [5.5, 7.0],\n",
    "    [6.0, 5.0], [6.5, 8.5], [7.0, 9.0], [7.5, 6.0], [8.0, 9.5],\n",
    "    [8.5, 7.5], [9.0, 10.0], [9.5, 5.5], [10.0, 8.5], [10.5, 9.0]\n",
    "])\n",
    "\n",
    "# Labels (0 = Fail, 1 = Pass)\n",
    "y = np.array([0, 0, 0, 0, 0, 1, 1, 1, 1, 1, 0, 1, 1, 1, 1, 1, 1, 1, 1, 1])\n",
    "\n",
    "print(\"Features (X):\\n\", X)\n",
    "print(\"Labels (y):\", y)"
   ]
  },
  {
   "cell_type": "code",
   "execution_count": 3,
   "id": "22ec267a",
   "metadata": {
    "execution": {
     "iopub.execute_input": "2025-06-10T14:43:40.323245Z",
     "iopub.status.busy": "2025-06-10T14:43:40.322948Z",
     "iopub.status.idle": "2025-06-10T14:43:40.330879Z",
     "shell.execute_reply": "2025-06-10T14:43:40.330181Z"
    },
    "papermill": {
     "duration": 0.013344,
     "end_time": "2025-06-10T14:43:40.332209",
     "exception": false,
     "start_time": "2025-06-10T14:43:40.318865",
     "status": "completed"
    },
    "tags": []
   },
   "outputs": [],
   "source": [
    "df = pd.DataFrame({\n",
    "    'Study_Hours': X[:, 0],  # First column of X\n",
    "    'Sleep_Hours': X[:, 1],  # Second column of X\n",
    "    'Pass': y\n",
    "})"
   ]
  },
  {
   "cell_type": "code",
   "execution_count": 4,
   "id": "260f7254",
   "metadata": {
    "execution": {
     "iopub.execute_input": "2025-06-10T14:43:40.340097Z",
     "iopub.status.busy": "2025-06-10T14:43:40.339782Z",
     "iopub.status.idle": "2025-06-10T14:43:40.642553Z",
     "shell.execute_reply": "2025-06-10T14:43:40.641615Z"
    },
    "papermill": {
     "duration": 0.3085,
     "end_time": "2025-06-10T14:43:40.644117",
     "exception": false,
     "start_time": "2025-06-10T14:43:40.335617",
     "status": "completed"
    },
    "tags": []
   },
   "outputs": [
    {
     "data": {
      "image/png": "[encoded data removed]",
      "text/plain": [
       "<Figure size 640x480 with 1 Axes>"
      ]
     },
     "metadata": {},
     "output_type": "display_data"
    }
   ],
   "source": [
    "import matplotlib.pyplot as plt\n",
    "\n",
    "plt.scatter(X[y == 0, 0], X[y == 0, 1], color='red', label='Fail')\n",
    "plt.scatter(X[y == 1, 0], X[y == 1, 1], color='green', label='Pass')\n",
    "plt.xlabel('Study Hours')\n",
    "plt.ylabel('Sleep Hours')\n",
    "plt.legend()\n",
    "plt.title('Exam Performance Dataset')\n",
    "plt.show()"
   ]
  },
  {
   "cell_type": "code",
   "execution_count": 5,
   "id": "0cd5a284",
   "metadata": {
    "execution": {
     "iopub.execute_input": "2025-06-10T14:43:40.652685Z",
     "iopub.status.busy": "2025-06-10T14:43:40.652362Z",
     "iopub.status.idle": "2025-06-10T14:43:42.968423Z",
     "shell.execute_reply": "2025-06-10T14:43:42.967529Z"
    },
    "papermill": {
     "duration": 2.322058,
     "end_time": "2025-06-10T14:43:42.970041",
     "exception": false,
     "start_time": "2025-06-10T14:43:40.647983",
     "status": "completed"
    },
    "tags": []
   },
   "outputs": [
    {
     "data": {
      "text/plain": [
       "<Axes: xlabel='Study_Hours', ylabel='Sleep_Hours'>"
      ]
     },
     "execution_count": 5,
     "metadata": {},
     "output_type": "execute_result"
    },
    {
     "data": {
      "image/png": "[encoded data removed]",
      "text/plain": [
       "<Figure size 640x480 with 1 Axes>"
      ]
     },
     "metadata": {},
     "output_type": "display_data"
    }
   ],
   "source": [
    "import seaborn as sns\n",
    "sns.scatterplot(data=df, x='Study_Hours', y='Sleep_Hours', hue='Pass', palette=['red', 'green'])"
   ]
  },
  {
   "cell_type": "markdown",
   "id": "fe59bcdd",
   "metadata": {
    "papermill": {
     "duration": 0.003881,
     "end_time": "2025-06-10T14:43:42.978255",
     "exception": false,
     "start_time": "2025-06-10T14:43:42.974374",
     "status": "completed"
    },
    "tags": []
   },
   "source": [
    "Hmm, it's pretty easy. Because it's made up. We can divide the 0 ans 1 simply by drawing a line between them. Lets see how that works. "
   ]
  },
  {
   "cell_type": "markdown",
   "id": "30cb36a1",
   "metadata": {
    "papermill": {
     "duration": 0.003644,
     "end_time": "2025-06-10T14:43:42.985790",
     "exception": false,
     "start_time": "2025-06-10T14:43:42.982146",
     "status": "completed"
    },
    "tags": []
   },
   "source": [
    "As we said before, we can just draw a straight line and separate the reds from greens. Lets take that approach.\n",
    "If we want to draw a line, we need a line's equation. The simplest equation we have is:\n",
    "Y = ax + b\n",
    "where, \"a\" is the slope of \"x\", the input variable. And \"b\" is the bias. \"a\" decide the rate of change in Y from x, and \"b\" is the headstart, or how much elevation we get.\n",
    "Now, we need to find Y, and Y isn't exactly ax + b. We have to apply a function to get Y. It's more like Y = some_function(ax + b). Let's take a another variable z, z = ax+b. Later we can get the value of Y from z.  \n",
    "One more problem, we have two different values of x here. The \"study hours\" and the \"sleep hours\".\n",
    "We can work with that. Essentialy, we have to assume that study hours and sleep hours dont affect result similarly. Probably study hour is more important? And sleep hour is not that important? But we can not run on 0 hour of sleep, can we?\n",
    "So, these two independant variable, x1 (study hour), and x2(sleep hour) should be \"weighted\" differently. \n",
    "Here, weights = [w1, w2]\n",
    "So, z = w1 * x1 + w2 * x2 + b"
   ]
  },
  {
   "cell_type": "code",
   "execution_count": 6,
   "id": "c5e55cb3",
   "metadata": {
    "execution": {
     "iopub.execute_input": "2025-06-10T14:43:42.994747Z",
     "iopub.status.busy": "2025-06-10T14:43:42.994282Z",
     "iopub.status.idle": "2025-06-10T14:43:42.998897Z",
     "shell.execute_reply": "2025-06-10T14:43:42.998118Z"
    },
    "papermill": {
     "duration": 0.010826,
     "end_time": "2025-06-10T14:43:43.000362",
     "exception": false,
     "start_time": "2025-06-10T14:43:42.989536",
     "status": "completed"
    },
    "tags": []
   },
   "outputs": [],
   "source": [
    "X_bias = np.c_[np.ones((X.shape[0], 1)), X]"
   ]
  },
  {
   "cell_type": "markdown",
   "id": "8be4c506",
   "metadata": {
    "papermill": {
     "duration": 0.003835,
     "end_time": "2025-06-10T14:43:43.008468",
     "exception": false,
     "start_time": "2025-06-10T14:43:43.004633",
     "status": "completed"
    },
    "tags": []
   },
   "source": [
    "X_bias is an array that consist of b, x1, x2."
   ]
  },
  {
   "cell_type": "markdown",
   "id": "bfe2d595",
   "metadata": {
    "papermill": {
     "duration": 0.003854,
     "end_time": "2025-06-10T14:43:43.016401",
     "exception": false,
     "start_time": "2025-06-10T14:43:43.012547",
     "status": "completed"
    },
    "tags": []
   },
   "source": [
    "We are going to split the dataset into train and test part. Our regression will learn from train set, and test the hypothesis on the test set.\n",
    "We are doing 80% 20% split here."
   ]
  },
  {
   "cell_type": "code",
   "execution_count": 7,
   "id": "25d0f34e",
   "metadata": {
    "execution": {
     "iopub.execute_input": "2025-06-10T14:43:43.025673Z",
     "iopub.status.busy": "2025-06-10T14:43:43.025321Z",
     "iopub.status.idle": "2025-06-10T14:43:43.030250Z",
     "shell.execute_reply": "2025-06-10T14:43:43.029396Z"
    },
    "papermill": {
     "duration": 0.011276,
     "end_time": "2025-06-10T14:43:43.031703",
     "exception": false,
     "start_time": "2025-06-10T14:43:43.020427",
     "status": "completed"
    },
    "tags": []
   },
   "outputs": [],
   "source": [
    "np.random.shuffle(X_bias) #shuffling the dataset"
   ]
  },
  {
   "cell_type": "code",
   "execution_count": 8,
   "id": "918d9deb",
   "metadata": {
    "execution": {
     "iopub.execute_input": "2025-06-10T14:43:43.041128Z",
     "iopub.status.busy": "2025-06-10T14:43:43.040823Z",
     "iopub.status.idle": "2025-06-10T14:43:43.044962Z",
     "shell.execute_reply": "2025-06-10T14:43:43.044247Z"
    },
    "papermill": {
     "duration": 0.010375,
     "end_time": "2025-06-10T14:43:43.046328",
     "exception": false,
     "start_time": "2025-06-10T14:43:43.035953",
     "status": "completed"
    },
    "tags": []
   },
   "outputs": [],
   "source": [
    "train_size = int(len(X_bias) * 0.8)  # 80% of the total length\n",
    "train_set = X_bias[:train_size]  # First 80% of elements\n",
    "test_set = X_bias[train_size:]  # Remaining 20% of elements"
   ]
  },
  {
   "cell_type": "markdown",
   "id": "d15448a2",
   "metadata": {
    "papermill": {
     "duration": 0.003869,
     "end_time": "2025-06-10T14:43:43.054320",
     "exception": false,
     "start_time": "2025-06-10T14:43:43.050451",
     "status": "completed"
    },
    "tags": []
   },
   "source": [
    "We are initializing weight array."
   ]
  },
  {
   "cell_type": "code",
   "execution_count": 9,
   "id": "47d35678",
   "metadata": {
    "execution": {
     "iopub.execute_input": "2025-06-10T14:43:43.063634Z",
     "iopub.status.busy": "2025-06-10T14:43:43.063067Z",
     "iopub.status.idle": "2025-06-10T14:43:43.067490Z",
     "shell.execute_reply": "2025-06-10T14:43:43.066672Z"
    },
    "papermill": {
     "duration": 0.010682,
     "end_time": "2025-06-10T14:43:43.068951",
     "exception": false,
     "start_time": "2025-06-10T14:43:43.058269",
     "status": "completed"
    },
    "tags": []
   },
   "outputs": [],
   "source": [
    "w = np.zeros(X_bias.shape[1])  # Shape: (3,) for [bias, w1, w2]"
   ]
  },
  {
   "cell_type": "code",
   "execution_count": 10,
   "id": "58afaf01",
   "metadata": {
    "execution": {
     "iopub.execute_input": "2025-06-10T14:43:43.078305Z",
     "iopub.status.busy": "2025-06-10T14:43:43.077752Z",
     "iopub.status.idle": "2025-06-10T14:43:43.083208Z",
     "shell.execute_reply": "2025-06-10T14:43:43.082351Z"
    },
    "papermill": {
     "duration": 0.01162,
     "end_time": "2025-06-10T14:43:43.084621",
     "exception": false,
     "start_time": "2025-06-10T14:43:43.073001",
     "status": "completed"
    },
    "tags": []
   },
   "outputs": [
    {
     "data": {
      "text/plain": [
       "array([0., 0., 0.])"
      ]
     },
     "execution_count": 10,
     "metadata": {},
     "output_type": "execute_result"
    }
   ],
   "source": [
    "w"
   ]
  }
 ],
 "metadata": {
  "kaggle": {
   "accelerator": "none",
   "dataSources": [],
   "dockerImageVersionId": 31040,
   "isGpuEnabled": false,
   "isInternetEnabled": true,
   "language": "python",
   "sourceType": "notebook"
  },
  "kernelspec": {
   "display_name": "Python 3",
   "language": "python",
   "name": "python3"
  },
  "language_info": {
   "codemirror_mode": {
    "name": "ipython",
    "version": 3
   },
   "file_extension": ".py",
   "mimetype": "text/x-python",
   "name": "python",
   "nbconvert_exporter": "python",
   "pygments_lexer": "ipython3",
   "version": "3.11.11"
  },
  "papermill": {
   "default_parameters": {},
   "duration": 10.094863,
   "end_time": "2025-06-10T14:43:43.707690",
   "environment_variables": {},
   "exception": null,
   "input_path": "__notebook__.ipynb",
   "output_path": "__notebook__.ipynb",
   "parameters": {},
   "start_time": "2025-06-10T14:43:33.612827",
   "version": "2.6.0"
  }
 },
 "nbformat": 4,
 "nbformat_minor": 5
}
