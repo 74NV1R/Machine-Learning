{
 "cells": [
  {
   "cell_type": "markdown",
   "id": "21fcabad",
   "metadata": {
    "papermill": {
     "duration": 0.003051,
     "end_time": "2025-06-09T16:08:13.983969",
     "exception": false,
     "start_time": "2025-06-09T16:08:13.980918",
     "status": "completed"
    },
    "tags": []
   },
   "source": [
    "We are about to do the Logistic Regression, one of the basic statistical methods. Even though the name says \"Regression\", its actually a binary classification. So the output is yes or no, 1 or 0, cat or not cat, delay or no delay etc. "
   ]
  },
  {
   "cell_type": "markdown",
   "id": "7771cbb1",
   "metadata": {
    "papermill": {
     "duration": 0.002098,
     "end_time": "2025-06-09T16:08:13.988907",
     "exception": false,
     "start_time": "2025-06-09T16:08:13.986809",
     "status": "completed"
    },
    "tags": []
   },
   "source": [
    "To out learning curve smooth, lets start with something simple.\n",
    "Lets work with a simple dataset.\n",
    "And as always, at first we import the essential libraries, Pandas and NumPy."
   ]
  },
  {
   "cell_type": "code",
   "execution_count": 1,
   "id": "ad8d3d48",
   "metadata": {
    "execution": {
     "iopub.execute_input": "2025-06-09T16:08:13.995200Z",
     "iopub.status.busy": "2025-06-09T16:08:13.994731Z",
     "iopub.status.idle": "2025-06-09T16:08:16.195194Z",
     "shell.execute_reply": "2025-06-09T16:08:16.193895Z"
    },
    "papermill": {
     "duration": 2.205869,
     "end_time": "2025-06-09T16:08:16.197221",
     "exception": false,
     "start_time": "2025-06-09T16:08:13.991352",
     "status": "completed"
    },
    "tags": []
   },
   "outputs": [],
   "source": [
    "import pandas as pd\n",
    "import numpy as np"
   ]
  },
  {
   "cell_type": "markdown",
   "id": "796b65ae",
   "metadata": {
    "papermill": {
     "duration": 0.001929,
     "end_time": "2025-06-09T16:08:16.201622",
     "exception": false,
     "start_time": "2025-06-09T16:08:16.199693",
     "status": "completed"
    },
    "tags": []
   },
   "source": [
    "### **Toy Dataset: Exam Performance Prediction (Binary Classification)**\n",
    "**Description**: Predict whether a student passes (`1`) or fails (`0`) based on study hours and sleep hours.\n",
    "\n",
    "```csv\n",
    "Study_Hours,Sleep_Hours,Pass\n",
    "1.0,4.0,0\n",
    "1.5,5.0,0\n",
    "2.0,6.0,0\n",
    "2.5,4.5,0\n",
    "3.0,5.5,0\n",
    "3.5,7.0,1\n",
    "4.0,6.5,1\n",
    "4.5,7.5,1\n",
    "5.0,8.0,1\n",
    "5.5,7.0,1\n",
    "6.0,5.0,0\n",
    "6.5,8.5,1\n",
    "7.0,9.0,1\n",
    "7.5,6.0,1\n",
    "8.0,9.5,1\n",
    "8.5,7.5,1\n",
    "9.0,10.0,1\n",
    "9.5,5.5,1\n",
    "10.0,8.5,1\n",
    "10.5,9.0,1\n",
    "```\n",
    "\n",
    "#### **Columns**\n",
    "- `Study_Hours`: Hours studied (numerical, range: 1.0–10.5)  \n",
    "- `Sleep_Hours`: Hours slept (numerical, range: 4.0–10.0)  \n",
    "- `Pass`: Binary label (`0` = Fail, `1` = Pass)  \n",
    "\n",
    "Lets visualize the data here, to see how it talks to us: "
   ]
  },
  {
   "cell_type": "code",
   "execution_count": 2,
   "id": "c44fb693",
   "metadata": {
    "execution": {
     "iopub.execute_input": "2025-06-09T16:08:16.207391Z",
     "iopub.status.busy": "2025-06-09T16:08:16.206910Z",
     "iopub.status.idle": "2025-06-09T16:08:16.218041Z",
     "shell.execute_reply": "2025-06-09T16:08:16.217015Z"
    },
    "papermill": {
     "duration": 0.015811,
     "end_time": "2025-06-09T16:08:16.219497",
     "exception": false,
     "start_time": "2025-06-09T16:08:16.203686",
     "status": "completed"
    },
    "tags": []
   },
   "outputs": [
    {
     "name": "stdout",
     "output_type": "stream",
     "text": [
      "Features (X):\n",
      " [[ 1.   4. ]\n",
      " [ 1.5  5. ]\n",
      " [ 2.   6. ]\n",
      " [ 2.5  4.5]\n",
      " [ 3.   5.5]\n",
      " [ 3.5  7. ]\n",
      " [ 4.   6.5]\n",
      " [ 4.5  7.5]\n",
      " [ 5.   8. ]\n",
      " [ 5.5  7. ]\n",
      " [ 6.   5. ]\n",
      " [ 6.5  8.5]\n",
      " [ 7.   9. ]\n",
      " [ 7.5  6. ]\n",
      " [ 8.   9.5]\n",
      " [ 8.5  7.5]\n",
      " [ 9.  10. ]\n",
      " [ 9.5  5.5]\n",
      " [10.   8.5]\n",
      " [10.5  9. ]]\n",
      "Labels (y): [0 0 0 0 0 1 1 1 1 1 0 1 1 1 1 1 1 1 1 1]\n"
     ]
    }
   ],
   "source": [
    "import numpy as np\n",
    "\n",
    "# Features (Study Hours, Sleep Hours)\n",
    "X = np.array([\n",
    "    [1.0, 4.0], [1.5, 5.0], [2.0, 6.0], [2.5, 4.5], [3.0, 5.5],\n",
    "    [3.5, 7.0], [4.0, 6.5], [4.5, 7.5], [5.0, 8.0], [5.5, 7.0],\n",
    "    [6.0, 5.0], [6.5, 8.5], [7.0, 9.0], [7.5, 6.0], [8.0, 9.5],\n",
    "    [8.5, 7.5], [9.0, 10.0], [9.5, 5.5], [10.0, 8.5], [10.5, 9.0]\n",
    "])\n",
    "\n",
    "# Labels (0 = Fail, 1 = Pass)\n",
    "y = np.array([0, 0, 0, 0, 0, 1, 1, 1, 1, 1, 0, 1, 1, 1, 1, 1, 1, 1, 1, 1])\n",
    "\n",
    "print(\"Features (X):\\n\", X)\n",
    "print(\"Labels (y):\", y)"
   ]
  },
  {
   "cell_type": "code",
   "execution_count": 3,
   "id": "e14d8584",
   "metadata": {
    "execution": {
     "iopub.execute_input": "2025-06-09T16:08:16.225487Z",
     "iopub.status.busy": "2025-06-09T16:08:16.225046Z",
     "iopub.status.idle": "2025-06-09T16:08:16.599230Z",
     "shell.execute_reply": "2025-06-09T16:08:16.598256Z"
    },
    "papermill": {
     "duration": 0.379423,
     "end_time": "2025-06-09T16:08:16.601360",
     "exception": false,
     "start_time": "2025-06-09T16:08:16.221937",
     "status": "completed"
    },
    "tags": []
   },
   "outputs": [
    {
     "data": {
      "image/png": "[encoded data removed]",
      "text/plain": [
       "<Figure size 640x480 with 1 Axes>"
      ]
     },
     "metadata": {},
     "output_type": "display_data"
    }
   ],
   "source": [
    "import matplotlib.pyplot as plt\n",
    "\n",
    "plt.scatter(X[y == 0, 0], X[y == 0, 1], color='red', label='Fail')\n",
    "plt.scatter(X[y == 1, 0], X[y == 1, 1], color='green', label='Pass')\n",
    "plt.xlabel('Study Hours')\n",
    "plt.ylabel('Sleep Hours')\n",
    "plt.legend()\n",
    "plt.title('Exam Performance Dataset')\n",
    "plt.show()"
   ]
  },
  {
   "cell_type": "markdown",
   "id": "d691ade2",
   "metadata": {
    "papermill": {
     "duration": 0.002519,
     "end_time": "2025-06-09T16:08:16.606870",
     "exception": false,
     "start_time": "2025-06-09T16:08:16.604351",
     "status": "completed"
    },
    "tags": []
   },
   "source": [
    "Hmm, it's pretty easy. Because it's made up. We can divide the 0 ans 1 simply by drawing a line between them. Lets see how that works. "
   ]
  },
  {
   "cell_type": "markdown",
   "id": "526e5040",
   "metadata": {
    "papermill": {
     "duration": 0.002375,
     "end_time": "2025-06-09T16:08:16.612045",
     "exception": false,
     "start_time": "2025-06-09T16:08:16.609670",
     "status": "completed"
    },
    "tags": []
   },
   "source": [
    "Now lets see how many of them can save the semester!"
   ]
  },
  {
   "cell_type": "code",
   "execution_count": null,
   "id": "8589c03c",
   "metadata": {
    "papermill": {
     "duration": 0.002318,
     "end_time": "2025-06-09T16:08:16.617125",
     "exception": false,
     "start_time": "2025-06-09T16:08:16.614807",
     "status": "completed"
    },
    "tags": []
   },
   "outputs": [],
   "source": []
  }
 ],
 "metadata": {
  "kaggle": {
   "accelerator": "none",
   "dataSources": [],
   "dockerImageVersionId": 31040,
   "isGpuEnabled": false,
   "isInternetEnabled": true,
   "language": "python",
   "sourceType": "notebook"
  },
  "kernelspec": {
   "display_name": "Python 3",
   "language": "python",
   "name": "python3"
  },
  "language_info": {
   "codemirror_mode": {
    "name": "ipython",
    "version": 3
   },
   "file_extension": ".py",
   "mimetype": "text/x-python",
   "name": "python",
   "nbconvert_exporter": "python",
   "pygments_lexer": "ipython3",
   "version": "3.11.11"
  },
  "papermill": {
   "default_parameters": {},
   "duration": 8.466496,
   "end_time": "2025-06-09T16:08:17.139627",
   "environment_variables": {},
   "exception": null,
   "input_path": "__notebook__.ipynb",
   "output_path": "__notebook__.ipynb",
   "parameters": {},
   "start_time": "2025-06-09T16:08:08.673131",
   "version": "2.6.0"
  }
 },
 "nbformat": 4,
 "nbformat_minor": 5
}
