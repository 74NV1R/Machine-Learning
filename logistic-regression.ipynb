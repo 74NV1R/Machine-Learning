{
 "cells": [
  {
   "cell_type": "markdown",
   "id": "4c986c78",
   "metadata": {
    "papermill": {
     "duration": 0.008577,
     "end_time": "2025-06-21T09:23:24.934834",
     "exception": false,
     "start_time": "2025-06-21T09:23:24.926257",
     "status": "completed"
    },
    "tags": []
   },
   "source": [
    "We are about to do the Logistic Regression, one of the basic statistical methods. Even though the name says \"Regression\", its actually a binary classification. So the output is yes or no, 1 or 0, cat or not cat, delay or no delay etc. "
   ]
  },
  {
   "cell_type": "markdown",
   "id": "459d87db",
   "metadata": {
    "papermill": {
     "duration": 0.007118,
     "end_time": "2025-06-21T09:23:24.949649",
     "exception": false,
     "start_time": "2025-06-21T09:23:24.942531",
     "status": "completed"
    },
    "tags": []
   },
   "source": [
    "To out learning curve smooth, lets start with something simple.\n",
    "Lets work with a simple dataset.\n",
    "And as always, at first we import the essential libraries, Pandas and NumPy."
   ]
  },
  {
   "cell_type": "code",
   "execution_count": 1,
   "id": "f01924e5",
   "metadata": {
    "execution": {
     "iopub.execute_input": "2025-06-21T09:23:24.967029Z",
     "iopub.status.busy": "2025-06-21T09:23:24.966119Z",
     "iopub.status.idle": "2025-06-21T09:23:26.771286Z",
     "shell.execute_reply": "2025-06-21T09:23:26.770435Z"
    },
    "papermill": {
     "duration": 1.816161,
     "end_time": "2025-06-21T09:23:26.773394",
     "exception": false,
     "start_time": "2025-06-21T09:23:24.957233",
     "status": "completed"
    },
    "tags": []
   },
   "outputs": [],
   "source": [
    "import pandas as pd\n",
    "import numpy as np"
   ]
  },
  {
   "cell_type": "markdown",
   "id": "4490e3b1",
   "metadata": {
    "papermill": {
     "duration": 0.007568,
     "end_time": "2025-06-21T09:23:26.788793",
     "exception": false,
     "start_time": "2025-06-21T09:23:26.781225",
     "status": "completed"
    },
    "tags": []
   },
   "source": [
    "### **Toy Dataset: Exam Performance Prediction (Binary Classification)**\n",
    "**Description**: Predict whether a student passes (`1`) or fails (`0`) based on study hours and sleep hours.\n",
    "\n",
    "```csv\n",
    "Study_Hours,Sleep_Hours,Pass\n",
    "1.0,4.0,0\n",
    "1.5,5.0,0\n",
    "2.0,6.0,0\n",
    "2.5,4.5,0\n",
    "3.0,5.5,0\n",
    "3.5,7.0,1\n",
    "4.0,6.5,1\n",
    "4.5,7.5,1\n",
    "5.0,8.0,1\n",
    "5.5,7.0,1\n",
    "6.0,5.0,0\n",
    "6.5,8.5,1\n",
    "7.0,9.0,1\n",
    "7.5,6.0,1\n",
    "8.0,9.5,1\n",
    "8.5,7.5,1\n",
    "9.0,10.0,1\n",
    "9.5,5.5,1\n",
    "10.0,8.5,1\n",
    "10.5,9.0,1\n",
    "```\n",
    "\n",
    "#### **Columns**\n",
    "- `Study_Hours`: Hours studied (numerical, range: 1.0–10.5)  \n",
    "- `Sleep_Hours`: Hours slept (numerical, range: 4.0–10.0)  \n",
    "- `Pass`: Binary label (`0` = Fail, `1` = Pass)  \n",
    "\n",
    "Lets visualize the data here, to see how it talks to us: "
   ]
  },
  {
   "cell_type": "code",
   "execution_count": 2,
   "id": "f9d0edd3",
   "metadata": {
    "execution": {
     "iopub.execute_input": "2025-06-21T09:23:26.805013Z",
     "iopub.status.busy": "2025-06-21T09:23:26.804572Z",
     "iopub.status.idle": "2025-06-21T09:23:26.814314Z",
     "shell.execute_reply": "2025-06-21T09:23:26.813270Z"
    },
    "papermill": {
     "duration": 0.019965,
     "end_time": "2025-06-21T09:23:26.815938",
     "exception": false,
     "start_time": "2025-06-21T09:23:26.795973",
     "status": "completed"
    },
    "tags": []
   },
   "outputs": [
    {
     "name": "stdout",
     "output_type": "stream",
     "text": [
      "Features (X):\n",
      " [[ 1.   4. ]\n",
      " [ 1.5  5. ]\n",
      " [ 2.   6. ]\n",
      " [ 2.5  4.5]\n",
      " [ 3.   5.5]\n",
      " [ 3.5  7. ]\n",
      " [ 4.   6.5]\n",
      " [ 4.5  7.5]\n",
      " [ 5.   8. ]\n",
      " [ 5.5  7. ]\n",
      " [ 6.   5. ]\n",
      " [ 6.5  8.5]\n",
      " [ 7.   9. ]\n",
      " [ 7.5  6. ]\n",
      " [ 8.   9.5]\n",
      " [ 8.5  7.5]\n",
      " [ 9.  10. ]\n",
      " [ 9.5  5.5]\n",
      " [10.   8.5]\n",
      " [10.5  9. ]]\n",
      "Labels (y): [0 0 0 0 0 1 1 1 1 1 0 1 1 1 1 1 1 1 1 1]\n"
     ]
    }
   ],
   "source": [
    "import numpy as np\n",
    "\n",
    "# Features (Study Hours, Sleep Hours)\n",
    "X = np.array([\n",
    "    [1.0, 4.0], [1.5, 5.0], [2.0, 6.0], [2.5, 4.5], [3.0, 5.5],\n",
    "    [3.5, 7.0], [4.0, 6.5], [4.5, 7.5], [5.0, 8.0], [5.5, 7.0],\n",
    "    [6.0, 5.0], [6.5, 8.5], [7.0, 9.0], [7.5, 6.0], [8.0, 9.5],\n",
    "    [8.5, 7.5], [9.0, 10.0], [9.5, 5.5], [10.0, 8.5], [10.5, 9.0]\n",
    "])\n",
    "\n",
    "# Labels (0 = Fail, 1 = Pass)\n",
    "y = np.array([0, 0, 0, 0, 0, 1, 1, 1, 1, 1, 0, 1, 1, 1, 1, 1, 1, 1, 1, 1])\n",
    "\n",
    "print(\"Features (X):\\n\", X)\n",
    "print(\"Labels (y):\", y)"
   ]
  },
  {
   "cell_type": "code",
   "execution_count": 3,
   "id": "29182770",
   "metadata": {
    "execution": {
     "iopub.execute_input": "2025-06-21T09:23:26.833646Z",
     "iopub.status.busy": "2025-06-21T09:23:26.832958Z",
     "iopub.status.idle": "2025-06-21T09:23:26.840457Z",
     "shell.execute_reply": "2025-06-21T09:23:26.839509Z"
    },
    "papermill": {
     "duration": 0.01844,
     "end_time": "2025-06-21T09:23:26.841978",
     "exception": false,
     "start_time": "2025-06-21T09:23:26.823538",
     "status": "completed"
    },
    "tags": []
   },
   "outputs": [],
   "source": [
    "df = pd.DataFrame({\n",
    "    'Study_Hours': X[:, 0],  # First column of X\n",
    "    'Sleep_Hours': X[:, 1],  # Second column of X\n",
    "    'Pass': y\n",
    "})"
   ]
  },
  {
   "cell_type": "code",
   "execution_count": 4,
   "id": "114ea455",
   "metadata": {
    "execution": {
     "iopub.execute_input": "2025-06-21T09:23:26.858893Z",
     "iopub.status.busy": "2025-06-21T09:23:26.858619Z",
     "iopub.status.idle": "2025-06-21T09:23:27.168030Z",
     "shell.execute_reply": "2025-06-21T09:23:27.167153Z"
    },
    "papermill": {
     "duration": 0.319614,
     "end_time": "2025-06-21T09:23:27.169539",
     "exception": false,
     "start_time": "2025-06-21T09:23:26.849925",
     "status": "completed"
    },
    "tags": []
   },
   "outputs": [
    {
     "data": {
      "image/png": "[encoded data removed]",
      "text/plain": [
       "<Figure size 640x480 with 1 Axes>"
      ]
     },
     "metadata": {},
     "output_type": "display_data"
    }
   ],
   "source": [
    "import matplotlib.pyplot as plt\n",
    "\n",
    "plt.scatter(X[y == 0, 0], X[y == 0, 1], color='red', label='Fail')\n",
    "plt.scatter(X[y == 1, 0], X[y == 1, 1], color='green', label='Pass')\n",
    "plt.xlabel('Study Hours')\n",
    "plt.ylabel('Sleep Hours')\n",
    "plt.legend()\n",
    "plt.title('Exam Performance Dataset')\n",
    "plt.show()"
   ]
  },
  {
   "cell_type": "code",
   "execution_count": 5,
   "id": "af831473",
   "metadata": {
    "execution": {
     "iopub.execute_input": "2025-06-21T09:23:27.187018Z",
     "iopub.status.busy": "2025-06-21T09:23:27.186219Z",
     "iopub.status.idle": "2025-06-21T09:23:29.166073Z",
     "shell.execute_reply": "2025-06-21T09:23:29.165245Z"
    },
    "papermill": {
     "duration": 1.990009,
     "end_time": "2025-06-21T09:23:29.167667",
     "exception": false,
     "start_time": "2025-06-21T09:23:27.177658",
     "status": "completed"
    },
    "tags": []
   },
   "outputs": [
    {
     "data": {
      "text/plain": [
       "<Axes: xlabel='Study_Hours', ylabel='Sleep_Hours'>"
      ]
     },
     "execution_count": 5,
     "metadata": {},
     "output_type": "execute_result"
    },
    {
     "data": {
      "image/png": "[encoded data removed]",
      "text/plain": [
       "<Figure size 640x480 with 1 Axes>"
      ]
     },
     "metadata": {},
     "output_type": "display_data"
    }
   ],
   "source": [
    "import seaborn as sns\n",
    "sns.scatterplot(data=df, x='Study_Hours', y='Sleep_Hours', hue='Pass', palette=['red', 'green'])"
   ]
  },
  {
   "cell_type": "markdown",
   "id": "8d6857cd",
   "metadata": {
    "papermill": {
     "duration": 0.007952,
     "end_time": "2025-06-21T09:23:29.184320",
     "exception": false,
     "start_time": "2025-06-21T09:23:29.176368",
     "status": "completed"
    },
    "tags": []
   },
   "source": [
    "Hmm, it's pretty easy. Because it's made up. We can almost divide the 0 and 1 simply by drawing a line between them. Lets see how that works. "
   ]
  },
  {
   "cell_type": "markdown",
   "id": "f6aa8b4f",
   "metadata": {
    "papermill": {
     "duration": 0.010775,
     "end_time": "2025-06-21T09:23:29.203871",
     "exception": false,
     "start_time": "2025-06-21T09:23:29.193096",
     "status": "completed"
    },
    "tags": []
   },
   "source": [
    "As we said before, we can try to draw a straight line and separate the reds from greens. Lets take that approach.\n",
    "If we want to draw a line, we need a line's equation. The simplest equation we have is:\n",
    "\n",
    "$$Y = ax + b$$\n",
    "\n",
    "where, \"a\" is the slope of \"x\", the input variable. And \"b\" is the bias. \"a\" decide the rate of change in Y from x, and \"b\" is the headstart, or how much elevation we get.\n",
    "Now, we need to find Y, and Y isn't exactly ax + b. We have to apply a function to get Y. It's more like $$Y = some_function(ax + b)$$\n",
    "Let's take a another variable z, z = ax+b. Later we can get the value of Y from z.  \n",
    "One more problem, we have two different values of x here. The \"study hours\" and the \"sleep hours\".\n",
    "We can work with that. Essentialy, we have to assume that study hours and sleep hours dont affect result similarly. Probably study hour is more important? And sleep hour is not that important? But we can not run on 0 hour of sleep, can we?\n",
    "So, these two independant variable, x1 (study hour), and x2(sleep hour) should be \"weighted\" differently. \n",
    "Here, weights = [w1, w2]\n",
    "So, $$z = w1 * x1 + w2 * x2 + b$$"
   ]
  },
  {
   "cell_type": "code",
   "execution_count": 6,
   "id": "96203373",
   "metadata": {
    "execution": {
     "iopub.execute_input": "2025-06-21T09:23:29.226392Z",
     "iopub.status.busy": "2025-06-21T09:23:29.225839Z",
     "iopub.status.idle": "2025-06-21T09:23:29.231119Z",
     "shell.execute_reply": "2025-06-21T09:23:29.230119Z"
    },
    "papermill": {
     "duration": 0.019081,
     "end_time": "2025-06-21T09:23:29.232951",
     "exception": false,
     "start_time": "2025-06-21T09:23:29.213870",
     "status": "completed"
    },
    "tags": []
   },
   "outputs": [],
   "source": [
    "X_bias = np.c_[np.ones((X.shape[0], 1)), X]"
   ]
  },
  {
   "cell_type": "markdown",
   "id": "557f3237",
   "metadata": {
    "papermill": {
     "duration": 0.008092,
     "end_time": "2025-06-21T09:23:29.253646",
     "exception": false,
     "start_time": "2025-06-21T09:23:29.245554",
     "status": "completed"
    },
    "tags": []
   },
   "source": [
    "X_bias is an array that consist of b, x1, x2."
   ]
  },
  {
   "cell_type": "markdown",
   "id": "6d7f58e4",
   "metadata": {
    "papermill": {
     "duration": 0.007824,
     "end_time": "2025-06-21T09:23:29.269840",
     "exception": false,
     "start_time": "2025-06-21T09:23:29.262016",
     "status": "completed"
    },
    "tags": []
   },
   "source": [
    "We are going to split the dataset into train and test part. Our regression will learn from train set, and test the hypothesis on the test set.\n",
    "We are doing 80% 20% split here."
   ]
  },
  {
   "cell_type": "code",
   "execution_count": 7,
   "id": "9453e119",
   "metadata": {
    "execution": {
     "iopub.execute_input": "2025-06-21T09:23:29.286999Z",
     "iopub.status.busy": "2025-06-21T09:23:29.286691Z",
     "iopub.status.idle": "2025-06-21T09:23:29.291970Z",
     "shell.execute_reply": "2025-06-21T09:23:29.291114Z"
    },
    "papermill": {
     "duration": 0.015632,
     "end_time": "2025-06-21T09:23:29.293484",
     "exception": false,
     "start_time": "2025-06-21T09:23:29.277852",
     "status": "completed"
    },
    "tags": []
   },
   "outputs": [],
   "source": [
    "np.random.shuffle(X_bias) #shuffling the dataset"
   ]
  },
  {
   "cell_type": "code",
   "execution_count": 8,
   "id": "a84dd6f5",
   "metadata": {
    "execution": {
     "iopub.execute_input": "2025-06-21T09:23:29.312346Z",
     "iopub.status.busy": "2025-06-21T09:23:29.311682Z",
     "iopub.status.idle": "2025-06-21T09:23:29.316076Z",
     "shell.execute_reply": "2025-06-21T09:23:29.315377Z"
    },
    "papermill": {
     "duration": 0.015087,
     "end_time": "2025-06-21T09:23:29.317429",
     "exception": false,
     "start_time": "2025-06-21T09:23:29.302342",
     "status": "completed"
    },
    "tags": []
   },
   "outputs": [],
   "source": [
    "train_size = int(len(X_bias) * 0.8)  # 80% of the total length\n",
    "train_set = X_bias[:train_size]  # First 80% of elements\n",
    "test_set = X_bias[train_size:]  # Remaining 20% of elements"
   ]
  },
  {
   "cell_type": "markdown",
   "id": "b0bbe3a2",
   "metadata": {
    "papermill": {
     "duration": 0.007883,
     "end_time": "2025-06-21T09:23:29.334160",
     "exception": false,
     "start_time": "2025-06-21T09:23:29.326277",
     "status": "completed"
    },
    "tags": []
   },
   "source": [
    "We are initializing weight array."
   ]
  },
  {
   "cell_type": "code",
   "execution_count": 9,
   "id": "c4ed31d1",
   "metadata": {
    "execution": {
     "iopub.execute_input": "2025-06-21T09:23:29.351957Z",
     "iopub.status.busy": "2025-06-21T09:23:29.351066Z",
     "iopub.status.idle": "2025-06-21T09:23:29.355457Z",
     "shell.execute_reply": "2025-06-21T09:23:29.354640Z"
    },
    "papermill": {
     "duration": 0.014544,
     "end_time": "2025-06-21T09:23:29.356778",
     "exception": false,
     "start_time": "2025-06-21T09:23:29.342234",
     "status": "completed"
    },
    "tags": []
   },
   "outputs": [],
   "source": [
    "w = np.zeros(X_bias.shape[1])  # Shape: (3,) for [bias, w1, w2]"
   ]
  },
  {
   "cell_type": "markdown",
   "id": "1f0ee2e5",
   "metadata": {
    "papermill": {
     "duration": 0.008013,
     "end_time": "2025-06-21T09:23:29.434811",
     "exception": false,
     "start_time": "2025-06-21T09:23:29.426798",
     "status": "completed"
    },
    "tags": []
   },
   "source": [
    "Remeber when we said we need to put \"z\" through some function to get \"Y\"? We have to make that function now. That function is sigmoid function. Its a function that maps real number values to 0 or 1. That means, we send some \"z\", we get some 0 or 1, and those values are \"y\".\n",
    "\n",
    "The sigmoid function is defined as:\n",
    "\n",
    "$$\\sigma(x) = \\frac{1}{1 + e^{-x}}$$\n",
    "\n",
    "\n",
    "now we are going to implement the function here."
   ]
  },
  {
   "cell_type": "code",
   "execution_count": 10,
   "id": "4d3231a4",
   "metadata": {
    "execution": {
     "iopub.execute_input": "2025-06-21T09:23:29.453068Z",
     "iopub.status.busy": "2025-06-21T09:23:29.452294Z",
     "iopub.status.idle": "2025-06-21T09:23:29.456865Z",
     "shell.execute_reply": "2025-06-21T09:23:29.456167Z"
    },
    "papermill": {
     "duration": 0.015303,
     "end_time": "2025-06-21T09:23:29.458313",
     "exception": false,
     "start_time": "2025-06-21T09:23:29.443010",
     "status": "completed"
    },
    "tags": []
   },
   "outputs": [],
   "source": [
    "def sigmoid(z):\n",
    "    return 1 / (1 + np.exp(-z))"
   ]
  },
  {
   "cell_type": "markdown",
   "id": "3429705c",
   "metadata": {
    "papermill": {
     "duration": 0.007936,
     "end_time": "2025-06-21T09:23:29.474875",
     "exception": false,
     "start_time": "2025-06-21T09:23:29.466939",
     "status": "completed"
    },
    "tags": []
   },
   "source": [
    "Now, the weight and bias we initiated randomly, aren't necessarily accurate. We need to change that. In fact, we need to change it a lot of times till it gives us a line that's the perfect fit. If not, it should be near perfect. Also, the need to see the cost or the error. Error is the difference of the real value of y and the hypothetical value of y. Here, the cost function is \n",
    "$$J(w) = -\\frac{1}{m} \\sum_{i=1}^{m} \\left[ y^{(i)} \\log a^{(i)} + (1 - y^{(i)}) \\log (1 - a^{(i)}) \\right]$$\n",
    "where:\n",
    "- \\( m \\) is the number of training examples.\n",
    "- \\( y^{(i)} \\) is the actual label (0 or 1).\n",
    "- \\( a^{(i)} \\) is the predicted probability from the sigmoid function.\n",
    "\n",
    "We have to update the weights till we find the optimal weights. That means, we have to find the perfect or near perfect w1, w2 weights for variable x1, x2 to plug into the equation.\n",
    "\n",
    "### Gradient Descent Formula\n",
    "\n",
    "The weight update rule in gradient descent is:\n",
    "\n",
    "$$ w := w - \\alpha \\frac{\\partial J}{\\partial w} $$\n",
    "\n",
    "where:\n",
    "- \\( w \\) represents the weights.\n",
    "- \\( \\alpha \\) is the learning rate.\n",
    "- \\( \\frac{\\partial J}{\\partial w} \\) is the gradient of the cost function with respect to \\( w \\).\n",
    "\n",
    "For logistic regression, the gradient descent update for weights and bias is:\n",
    "\n",
    "$$ w := w - \\alpha \\frac{1}{m} \\sum_{i=1}^{m} X^{(i)} (A^{(i)} - Y^{(i)}) $$\n",
    "\n",
    "$$ b := b - \\alpha \\frac{1}{m} \\sum_{i=1}^{m} (A^{(i)} - Y^{(i)}) $$\n",
    "\n",
    "where:\n",
    "- \\( m \\) is the number of training examples.\n",
    "- \\( X^{(i)} \\) is the input feature vector.\n",
    "- \\( A^{(i)} \\) is the predicted probability from the sigmoid function.\n",
    "- \\( Y^{(i)} \\) is the actual label.\n",
    "\n",
    "\n",
    "We will adjust the weights 1000 times. These attempts are called epochs. \n",
    "\n",
    "\n",
    "### What Happens in One Epoch: ###\n"
   ]
  },
  {
   "cell_type": "markdown",
   "id": "59d12803",
   "metadata": {
    "papermill": {
     "duration": 0.007793,
     "end_time": "2025-06-21T09:23:29.490728",
     "exception": false,
     "start_time": "2025-06-21T09:23:29.482935",
     "status": "completed"
    },
    "tags": []
   },
   "source": [
    "*Forward Pass:* Compute predictions (A) and cost for all 20 examples."
   ]
  },
  {
   "cell_type": "code",
   "execution_count": 11,
   "id": "1ca410ef",
   "metadata": {
    "execution": {
     "iopub.execute_input": "2025-06-21T09:23:29.513819Z",
     "iopub.status.busy": "2025-06-21T09:23:29.513468Z",
     "iopub.status.idle": "2025-06-21T09:23:29.518502Z",
     "shell.execute_reply": "2025-06-21T09:23:29.517627Z"
    },
    "papermill": {
     "duration": 0.018631,
     "end_time": "2025-06-21T09:23:29.519929",
     "exception": false,
     "start_time": "2025-06-21T09:23:29.501298",
     "status": "completed"
    },
    "tags": []
   },
   "outputs": [],
   "source": [
    "def forward(X, w):\n",
    "    z = np.dot(X, w)\n",
    "    A = sigmoid(z)  # Predicted probabilities\n",
    "    J = -np.mean(y * np.log(A) + (1 - y) * np.log(1 - A))  # Cross-entropy cost\n",
    "    return A, J"
   ]
  },
  {
   "cell_type": "markdown",
   "id": "299dd241",
   "metadata": {
    "papermill": {
     "duration": 0.012298,
     "end_time": "2025-06-21T09:23:29.545657",
     "exception": false,
     "start_time": "2025-06-21T09:23:29.533359",
     "status": "completed"
    },
    "tags": []
   },
   "source": [
    "*Backward Pass:* Calculate the gradient (dw) by averaging contributions from all examples."
   ]
  },
  {
   "cell_type": "code",
   "execution_count": 12,
   "id": "52817a3a",
   "metadata": {
    "execution": {
     "iopub.execute_input": "2025-06-21T09:23:29.563628Z",
     "iopub.status.busy": "2025-06-21T09:23:29.563292Z",
     "iopub.status.idle": "2025-06-21T09:23:29.567492Z",
     "shell.execute_reply": "2025-06-21T09:23:29.566643Z"
    },
    "papermill": {
     "duration": 0.014794,
     "end_time": "2025-06-21T09:23:29.568836",
     "exception": false,
     "start_time": "2025-06-21T09:23:29.554042",
     "status": "completed"
    },
    "tags": []
   },
   "outputs": [],
   "source": [
    "def backward(X, A, y):\n",
    "    dw = np.dot(X.T, (A - y)) / len(y)  # Gradient for weights\n",
    "    return dw"
   ]
  },
  {
   "cell_type": "markdown",
   "id": "b7b8406a",
   "metadata": {
    "papermill": {
     "duration": 0.007871,
     "end_time": "2025-06-21T09:23:29.585130",
     "exception": false,
     "start_time": "2025-06-21T09:23:29.577259",
     "status": "completed"
    },
    "tags": []
   },
   "source": [
    "*Update Weights:* Adjust w using the gradient: $$w = w - \\alpha * dw.$$\n",
    "Here, $$\\alpha$$ is the learning rate.\n",
    "\n",
    "We have the liberty to choose the learning rate. But we should be careful, since with smaller learning rate, we need way more epochs and if we set it too big, we might cross the optimal point."
   ]
  },
  {
   "cell_type": "code",
   "execution_count": 13,
   "id": "76956b7d",
   "metadata": {
    "execution": {
     "iopub.execute_input": "2025-06-21T09:23:29.602941Z",
     "iopub.status.busy": "2025-06-21T09:23:29.602656Z",
     "iopub.status.idle": "2025-06-21T09:23:29.614658Z",
     "shell.execute_reply": "2025-06-21T09:23:29.613755Z"
    },
    "papermill": {
     "duration": 0.022456,
     "end_time": "2025-06-21T09:23:29.616016",
     "exception": false,
     "start_time": "2025-06-21T09:23:29.593560",
     "status": "completed"
    },
    "tags": []
   },
   "outputs": [
    {
     "name": "stdout",
     "output_type": "stream",
     "text": [
      "Epoch 0, Cost: 0.6931\n"
     ]
    }
   ],
   "source": [
    "alpha = 0.01  # Learning rate\n",
    "epochs = 100\n",
    "\n",
    "for epoch in range(epochs):\n",
    "    A, cost = forward(X_bias, w)  # Forward pass\n",
    "    dw = backward(X_bias, A, y)   # Backward pass\n",
    "    w -= alpha * dw               # Update weights\n",
    "    \n",
    "    if epoch % 100 == 0:\n",
    "        print(f\"Epoch {epoch}, Cost: {cost:.4f}\")"
   ]
  },
  {
   "cell_type": "markdown",
   "id": "50a09ce6",
   "metadata": {
    "papermill": {
     "duration": 0.007845,
     "end_time": "2025-06-21T09:23:29.632065",
     "exception": false,
     "start_time": "2025-06-21T09:23:29.624220",
     "status": "completed"
    },
    "tags": []
   },
   "source": [
    "Now we check how good our hypothesis is after adjusting the weights **1,000** times!"
   ]
  },
  {
   "cell_type": "code",
   "execution_count": 14,
   "id": "6053aec4",
   "metadata": {
    "execution": {
     "iopub.execute_input": "2025-06-21T09:23:29.649711Z",
     "iopub.status.busy": "2025-06-21T09:23:29.649435Z",
     "iopub.status.idle": "2025-06-21T09:23:29.654284Z",
     "shell.execute_reply": "2025-06-21T09:23:29.653437Z"
    },
    "papermill": {
     "duration": 0.015525,
     "end_time": "2025-06-21T09:23:29.655890",
     "exception": false,
     "start_time": "2025-06-21T09:23:29.640365",
     "status": "completed"
    },
    "tags": []
   },
   "outputs": [],
   "source": [
    "def predict(X, w):\n",
    "    A, _ = forward(X, w)\n",
    "    return (A >= 0.5).astype(int)  # Threshold at 0.5\n",
    "\n",
    "y_pred = predict(X_bias, w)"
   ]
  },
  {
   "cell_type": "code",
   "execution_count": 15,
   "id": "4d5d9370",
   "metadata": {
    "execution": {
     "iopub.execute_input": "2025-06-21T09:23:29.674389Z",
     "iopub.status.busy": "2025-06-21T09:23:29.673749Z",
     "iopub.status.idle": "2025-06-21T09:23:29.678402Z",
     "shell.execute_reply": "2025-06-21T09:23:29.677636Z"
    },
    "papermill": {
     "duration": 0.015711,
     "end_time": "2025-06-21T09:23:29.680229",
     "exception": false,
     "start_time": "2025-06-21T09:23:29.664518",
     "status": "completed"
    },
    "tags": []
   },
   "outputs": [
    {
     "name": "stdout",
     "output_type": "stream",
     "text": [
      "Accuracy: 70.00%\n"
     ]
    }
   ],
   "source": [
    "accuracy = np.mean(y_pred == y)\n",
    "print(f\"Accuracy: {accuracy * 100:.2f}%\")"
   ]
  },
  {
   "cell_type": "markdown",
   "id": "d58edd4d",
   "metadata": {
    "papermill": {
     "duration": 0.008118,
     "end_time": "2025-06-21T09:23:29.697297",
     "exception": false,
     "start_time": "2025-06-21T09:23:29.689179",
     "status": "completed"
    },
    "tags": []
   },
   "source": [
    "Honestly, it's not good. **Only 70.00% accuracy!**\n",
    "But at least we learned something.\n",
    "Let's visually see  how our hypothesis worked."
   ]
  },
  {
   "cell_type": "code",
   "execution_count": 16,
   "id": "58479f5b",
   "metadata": {
    "execution": {
     "iopub.execute_input": "2025-06-21T09:23:29.715133Z",
     "iopub.status.busy": "2025-06-21T09:23:29.714838Z",
     "iopub.status.idle": "2025-06-21T09:23:29.938123Z",
     "shell.execute_reply": "2025-06-21T09:23:29.936987Z"
    },
    "papermill": {
     "duration": 0.234228,
     "end_time": "2025-06-21T09:23:29.939794",
     "exception": false,
     "start_time": "2025-06-21T09:23:29.705566",
     "status": "completed"
    },
    "tags": []
   },
   "outputs": [
    {
     "data": {
      "image/png": "[encoded data removed]",
      "text/plain": [
       "<Figure size 500x300 with 1 Axes>"
      ]
     },
     "metadata": {},
     "output_type": "display_data"
    }
   ],
   "source": [
    "# Fix Sleep_Hours at median (or mean)\n",
    "sleep_fixed = np.median(X[:, 1])  # Try np.mean() if needed\n",
    "\n",
    "# Create a range of Study_Hours values\n",
    "study_range = np.linspace(min(X[:, 0]), max(X[:, 0]), 100)\n",
    "\n",
    "# Compute predicted probabilities (A) for each Study_Hours\n",
    "z = w[0] + w[1] * study_range + w[2] * sleep_fixed\n",
    "A = sigmoid(z)  # S-curve probabilities\n",
    "\n",
    "# Plot\n",
    "plt.figure(figsize=(5, 3))\n",
    "plt.plot(study_range, A, color='red', linewidth=3, label='Sigmoid Curve')\n",
    "plt.scatter(X[:, 0], y, color='blue', label='True Labels (0/1)')  # Actual data\n",
    "plt.xlabel('Study_Hours')\n",
    "plt.ylabel('Probability of Passing (A)')\n",
    "plt.title('S-shaped Sigmoid Curve: P(Pass) vs. Study_Hours')\n",
    "plt.axhline(y=0.5, color='gray', linestyle='--', label='Decision Threshold (A=0.5)')\n",
    "plt.legend()\n",
    "plt.grid(True)\n",
    "plt.show()"
   ]
  },
  {
   "cell_type": "markdown",
   "id": "20b36433",
   "metadata": {
    "papermill": {
     "duration": 0.00971,
     "end_time": "2025-06-21T09:23:29.959067",
     "exception": false,
     "start_time": "2025-06-21T09:23:29.949357",
     "status": "completed"
    },
    "tags": []
   },
   "source": [
    "### Real dataset ###\n",
    "\n",
    "As the next step of our learning, we should see how to apply our knowledge on real life dataset."
   ]
  },
  {
   "cell_type": "markdown",
   "id": "0ab2c06f",
   "metadata": {
    "papermill": {
     "duration": 0.009093,
     "end_time": "2025-06-21T09:23:29.978605",
     "exception": false,
     "start_time": "2025-06-21T09:23:29.969512",
     "status": "completed"
    },
    "tags": []
   },
   "source": [
    "This is dataset that consists of cancer images and images that are not of cancer. This could be a good dataset to train a model for binary classification."
   ]
  },
  {
   "cell_type": "code",
   "execution_count": 17,
   "id": "a3cee723",
   "metadata": {
    "execution": {
     "iopub.execute_input": "2025-06-21T09:23:29.997757Z",
     "iopub.status.busy": "2025-06-21T09:23:29.997450Z",
     "iopub.status.idle": "2025-06-21T09:23:35.127236Z",
     "shell.execute_reply": "2025-06-21T09:23:35.126305Z"
    },
    "papermill": {
     "duration": 5.141481,
     "end_time": "2025-06-21T09:23:35.129001",
     "exception": false,
     "start_time": "2025-06-21T09:23:29.987520",
     "status": "completed"
    },
    "tags": []
   },
   "outputs": [
    {
     "name": "stdout",
     "output_type": "stream",
     "text": [
      "Loaded images shape: (288, 64, 64, 3)\n",
      "Labels shape: (288,)\n"
     ]
    }
   ],
   "source": [
    "import os\n",
    "import cv2\n",
    "import numpy as np\n",
    "\n",
    "# Path to your dataset\n",
    "dataset_path = '/kaggle/input/skin-cancer-binary-classification-dataset/Skin_Data'\n",
    "\n",
    "# Initialize lists\n",
    "images = []\n",
    "labels = []\n",
    "\n",
    "# Label map based on top-level folder names\n",
    "label_map = {'Cancer': 1, 'Non_Cancer': 0}\n",
    "\n",
    "# Walk through directory tree\n",
    "for category in ['Cancer', 'Non_Cancer']:\n",
    "    for split in ['Training', 'Testing']:\n",
    "        folder_path = os.path.join(dataset_path, category, split)\n",
    "        for filename in os.listdir(folder_path):\n",
    "            if filename.lower().endswith(('.jpg', '.png')):\n",
    "                img_path = os.path.join(folder_path, filename)\n",
    "                img = cv2.imread(img_path)\n",
    "                img = cv2.resize(img, (64, 64))  # Resize to match model input\n",
    "                images.append(img)\n",
    "                labels.append(label_map[category])\n",
    "\n",
    "# Convert to NumPy arrays\n",
    "X = np.array(images) / 255.0  # Normalize pixel values\n",
    "y = np.array(labels)\n",
    "\n",
    "print(\"Loaded images shape:\", X.shape)\n",
    "print(\"Labels shape:\", y.shape)\n"
   ]
  },
  {
   "cell_type": "code",
   "execution_count": 18,
   "id": "bda4e7e1",
   "metadata": {
    "execution": {
     "iopub.execute_input": "2025-06-21T09:23:35.149469Z",
     "iopub.status.busy": "2025-06-21T09:23:35.149144Z",
     "iopub.status.idle": "2025-06-21T09:23:35.247286Z",
     "shell.execute_reply": "2025-06-21T09:23:35.246062Z"
    },
    "papermill": {
     "duration": 0.11005,
     "end_time": "2025-06-21T09:23:35.248908",
     "exception": false,
     "start_time": "2025-06-21T09:23:35.138858",
     "status": "completed"
    },
    "tags": []
   },
   "outputs": [
    {
     "data": {
      "image/png": "[encoded data removed]",
      "text/plain": [
       "<Figure size 640x480 with 1 Axes>"
      ]
     },
     "metadata": {},
     "output_type": "display_data"
    }
   ],
   "source": [
    "import matplotlib.pyplot as plt\n",
    "\n",
    "idx = 166\n",
    "\n",
    "plt.imshow(X[idx])\n",
    "plt.axis('off')\n",
    "plt.title(\"Cancer\" if y[idx] == 1 else 'Non Cancer')\n",
    "plt.show()"
   ]
  },
  {
   "cell_type": "markdown",
   "id": "6da0e386",
   "metadata": {
    "papermill": {
     "duration": 0.00914,
     "end_time": "2025-06-21T09:23:35.267774",
     "exception": false,
     "start_time": "2025-06-21T09:23:35.258634",
     "status": "completed"
    },
    "tags": []
   },
   "source": [
    "Now, we have loaded the images in an array X and the labels in an array y. But there is a slight problem."
   ]
  },
  {
   "cell_type": "code",
   "execution_count": 19,
   "id": "dfa29f1e",
   "metadata": {
    "execution": {
     "iopub.execute_input": "2025-06-21T09:23:35.287868Z",
     "iopub.status.busy": "2025-06-21T09:23:35.287563Z",
     "iopub.status.idle": "2025-06-21T09:23:35.293568Z",
     "shell.execute_reply": "2025-06-21T09:23:35.292670Z"
    },
    "papermill": {
     "duration": 0.017955,
     "end_time": "2025-06-21T09:23:35.295056",
     "exception": false,
     "start_time": "2025-06-21T09:23:35.277101",
     "status": "completed"
    },
    "tags": []
   },
   "outputs": [
    {
     "data": {
      "text/plain": [
       "(288, 64, 64, 3)"
      ]
     },
     "execution_count": 19,
     "metadata": {},
     "output_type": "execute_result"
    }
   ],
   "source": [
    "X.shape"
   ]
  },
  {
   "cell_type": "markdown",
   "id": "19f90bd6",
   "metadata": {
    "papermill": {
     "duration": 0.009053,
     "end_time": "2025-06-21T09:23:35.313874",
     "exception": false,
     "start_time": "2025-06-21T09:23:35.304821",
     "status": "completed"
    },
    "tags": []
   },
   "source": [
    "There are 288 examples. That's not the problem. The problem is, instead of two attributes like \"study hours\" and \"sleep hours\", we have a 3D array of shape (64, 64, 3) size!\n",
    "That is because, the images are 64 * 64 pixels big, and has 3 color combinations (RGB values). So we have to deal with 64 * 64 * 3 = 12,288 numerical values for each images! But we can do that.\n",
    "\n",
    "To deal with 3 dimensional instances, at first we have to flatten them. making X.shape = (288, 64, 64, 3) to X.shape = (288, 12288)"
   ]
  },
  {
   "cell_type": "code",
   "execution_count": 20,
   "id": "52351fd6",
   "metadata": {
    "execution": {
     "iopub.execute_input": "2025-06-21T09:23:35.333724Z",
     "iopub.status.busy": "2025-06-21T09:23:35.333390Z",
     "iopub.status.idle": "2025-06-21T09:23:35.339233Z",
     "shell.execute_reply": "2025-06-21T09:23:35.338276Z"
    },
    "papermill": {
     "duration": 0.017724,
     "end_time": "2025-06-21T09:23:35.340783",
     "exception": false,
     "start_time": "2025-06-21T09:23:35.323059",
     "status": "completed"
    },
    "tags": []
   },
   "outputs": [
    {
     "data": {
      "text/plain": [
       "(288, 12288)"
      ]
     },
     "execution_count": 20,
     "metadata": {},
     "output_type": "execute_result"
    }
   ],
   "source": [
    "X_flattened = X.reshape(X.shape[0], -1)  # Shape: (288, 12288)\n",
    "X_flattened.shape"
   ]
  },
  {
   "cell_type": "markdown",
   "id": "a1a08401",
   "metadata": {
    "papermill": {
     "duration": 0.009278,
     "end_time": "2025-06-21T09:23:35.359950",
     "exception": false,
     "start_time": "2025-06-21T09:23:35.350672",
     "status": "completed"
    },
    "tags": []
   },
   "source": [
    "Now, all of these 188 * 12288 values are between 0 to 255 because they are RGB values. We normalize this value by dividing them by 255, so now they have values between 0.0 and 1.0."
   ]
  },
  {
   "cell_type": "code",
   "execution_count": 21,
   "id": "89bd06b4",
   "metadata": {
    "execution": {
     "iopub.execute_input": "2025-06-21T09:23:35.380355Z",
     "iopub.status.busy": "2025-06-21T09:23:35.379781Z",
     "iopub.status.idle": "2025-06-21T09:23:35.397226Z",
     "shell.execute_reply": "2025-06-21T09:23:35.396317Z"
    },
    "papermill": {
     "duration": 0.029404,
     "end_time": "2025-06-21T09:23:35.398819",
     "exception": false,
     "start_time": "2025-06-21T09:23:35.369415",
     "status": "completed"
    },
    "tags": []
   },
   "outputs": [],
   "source": [
    "X_normalized = X_flattened / 255.0"
   ]
  },
  {
   "cell_type": "markdown",
   "id": "04ba2e8e",
   "metadata": {
    "papermill": {
     "duration": 0.009229,
     "end_time": "2025-06-21T09:23:35.417899",
     "exception": false,
     "start_time": "2025-06-21T09:23:35.408670",
     "status": "completed"
    },
    "tags": []
   },
   "source": [
    "We are appending bias weight with the dataset now."
   ]
  },
  {
   "cell_type": "code",
   "execution_count": 22,
   "id": "4f14c85a",
   "metadata": {
    "execution": {
     "iopub.execute_input": "2025-06-21T09:23:35.438899Z",
     "iopub.status.busy": "2025-06-21T09:23:35.438088Z",
     "iopub.status.idle": "2025-06-21T09:23:35.456805Z",
     "shell.execute_reply": "2025-06-21T09:23:35.455950Z"
    },
    "papermill": {
     "duration": 0.031195,
     "end_time": "2025-06-21T09:23:35.458414",
     "exception": false,
     "start_time": "2025-06-21T09:23:35.427219",
     "status": "completed"
    },
    "tags": []
   },
   "outputs": [],
   "source": [
    "X_bias = np.c_[np.ones(X_normalized.shape[0]), X_normalized]  # Shape: (288, 12289)"
   ]
  },
  {
   "cell_type": "markdown",
   "id": "6105ae87",
   "metadata": {
    "papermill": {
     "duration": 0.009546,
     "end_time": "2025-06-21T09:23:35.478006",
     "exception": false,
     "start_time": "2025-06-21T09:23:35.468460",
     "status": "completed"
    },
    "tags": []
   },
   "source": [
    " Here, the weight matrix is initiated, and the shape is 12289. Why 12289 instead of 12288? because, $$z = w_0 + w_1x_1 + w_2x_2 + w_3x_3 + ...... + w_12288x_12288 $$"
   ]
  },
  {
   "cell_type": "markdown",
   "id": "29383c69",
   "metadata": {
    "papermill": {
     "duration": 0.009891,
     "end_time": "2025-06-21T09:23:35.497668",
     "exception": false,
     "start_time": "2025-06-21T09:23:35.487777",
     "status": "completed"
    },
    "tags": []
   },
   "source": [
    "we have to initiate bias matrices. They have to be initiated randomly and the values shouldn't be very large."
   ]
  },
  {
   "cell_type": "code",
   "execution_count": 23,
   "id": "45390147",
   "metadata": {
    "execution": {
     "iopub.execute_input": "2025-06-21T09:23:35.518793Z",
     "iopub.status.busy": "2025-06-21T09:23:35.517908Z",
     "iopub.status.idle": "2025-06-21T09:23:35.522642Z",
     "shell.execute_reply": "2025-06-21T09:23:35.521974Z"
    },
    "papermill": {
     "duration": 0.016765,
     "end_time": "2025-06-21T09:23:35.523989",
     "exception": false,
     "start_time": "2025-06-21T09:23:35.507224",
     "status": "completed"
    },
    "tags": []
   },
   "outputs": [],
   "source": [
    "np.random.seed(42)\n",
    "w = np.random.randn(X_bias.shape[1]) * 0.01  # Shape: (12289,)"
   ]
  },
  {
   "cell_type": "markdown",
   "id": "9bdadf5e",
   "metadata": {
    "papermill": {
     "duration": 0.009382,
     "end_time": "2025-06-21T09:23:35.543115",
     "exception": false,
     "start_time": "2025-06-21T09:23:35.533733",
     "status": "completed"
    },
    "tags": []
   },
   "source": [
    "Now we train our model. We run it for 1000 epochs and learning rate = 0.01"
   ]
  },
  {
   "cell_type": "code",
   "execution_count": 24,
   "id": "455f19e3",
   "metadata": {
    "execution": {
     "iopub.execute_input": "2025-06-21T09:23:35.563510Z",
     "iopub.status.busy": "2025-06-21T09:23:35.563181Z",
     "iopub.status.idle": "2025-06-21T09:23:37.478824Z",
     "shell.execute_reply": "2025-06-21T09:23:37.477908Z"
    },
    "papermill": {
     "duration": 1.927789,
     "end_time": "2025-06-21T09:23:37.480470",
     "exception": false,
     "start_time": "2025-06-21T09:23:35.552681",
     "status": "completed"
    },
    "tags": []
   },
   "outputs": [
    {
     "name": "stdout",
     "output_type": "stream",
     "text": [
      "Epoch 0, Loss: 0.6940\n",
      "Epoch 100, Loss: 0.6582\n",
      "Epoch 200, Loss: 0.6369\n",
      "Epoch 300, Loss: 0.6241\n",
      "Epoch 400, Loss: 0.6162\n",
      "Epoch 500, Loss: 0.6114\n",
      "Epoch 600, Loss: 0.6084\n",
      "Epoch 700, Loss: 0.6065\n",
      "Epoch 800, Loss: 0.6053\n",
      "Epoch 900, Loss: 0.6045\n"
     ]
    }
   ],
   "source": [
    "learning_rate = 0.01\n",
    "epochs = 1000\n",
    "\n",
    "for epoch in range(epochs):\n",
    "    # Forward pass\n",
    "    A, loss = forward(X_bias, w)\n",
    "    \n",
    "    # Backward pass\n",
    "    dw = backward(X_bias, A, y)\n",
    "    \n",
    "    # Update weights\n",
    "    w -= learning_rate * dw\n",
    "    \n",
    "    # Print progress\n",
    "    if epoch % 100 == 0:\n",
    "        print(f\"Epoch {epoch}, Loss: {loss:.4f}\")"
   ]
  },
  {
   "cell_type": "markdown",
   "id": "ef23f13a",
   "metadata": {
    "papermill": {
     "duration": 0.0095,
     "end_time": "2025-06-21T09:23:37.499949",
     "exception": false,
     "start_time": "2025-06-21T09:23:37.490449",
     "status": "completed"
    },
    "tags": []
   },
   "source": [
    "lets predict and see the accuracy of our logistic regression model"
   ]
  },
  {
   "cell_type": "code",
   "execution_count": 25,
   "id": "5e8727d2",
   "metadata": {
    "execution": {
     "iopub.execute_input": "2025-06-21T09:23:37.520852Z",
     "iopub.status.busy": "2025-06-21T09:23:37.520525Z",
     "iopub.status.idle": "2025-06-21T09:23:37.527769Z",
     "shell.execute_reply": "2025-06-21T09:23:37.526893Z"
    },
    "papermill": {
     "duration": 0.01937,
     "end_time": "2025-06-21T09:23:37.529229",
     "exception": false,
     "start_time": "2025-06-21T09:23:37.509859",
     "status": "completed"
    },
    "tags": []
   },
   "outputs": [
    {
     "name": "stdout",
     "output_type": "stream",
     "text": [
      "Accuracy: 70.83%\n"
     ]
    }
   ],
   "source": [
    "def predict(X, w):\n",
    "    A = sigmoid(np.dot(X, w))\n",
    "    return (A >= 0.5).astype(int)\n",
    "\n",
    "y_pred = predict(X_bias, w)\n",
    "accuracy = np.mean(y_pred == y)\n",
    "print(f\"Accuracy: {accuracy * 100:.2f}%\")"
   ]
  },
  {
   "cell_type": "markdown",
   "id": "cbb62420",
   "metadata": {
    "papermill": {
     "duration": 0.009711,
     "end_time": "2025-06-21T09:23:37.548743",
     "exception": false,
     "start_time": "2025-06-21T09:23:37.539032",
     "status": "completed"
    },
    "tags": []
   },
   "source": [
    "The loss curve is visualised here. We can see that the loss is decreasing with more epochs."
   ]
  },
  {
   "cell_type": "code",
   "execution_count": 26,
   "id": "b71da370",
   "metadata": {
    "execution": {
     "iopub.execute_input": "2025-06-21T09:23:37.569881Z",
     "iopub.status.busy": "2025-06-21T09:23:37.569606Z",
     "iopub.status.idle": "2025-06-21T09:23:39.620349Z",
     "shell.execute_reply": "2025-06-21T09:23:39.619324Z"
    },
    "papermill": {
     "duration": 2.063164,
     "end_time": "2025-06-21T09:23:39.621936",
     "exception": false,
     "start_time": "2025-06-21T09:23:37.558772",
     "status": "completed"
    },
    "tags": []
   },
   "outputs": [
    {
     "data": {
      "image/png": "[encoded data removed]",
      "text/plain": [
       "<Figure size 800x400 with 1 Axes>"
      ]
     },
     "metadata": {},
     "output_type": "display_data"
    }
   ],
   "source": [
    "loss_history = []\n",
    "for epoch in range(epochs):\n",
    "    A, loss = forward(X_bias, w)\n",
    "    dw = backward(X_bias, A, y)\n",
    "    w -= learning_rate * dw\n",
    "    loss_history.append(loss)  # Store loss\n",
    "\n",
    "# Plot\n",
    "plt.figure(figsize=(8, 4))\n",
    "plt.plot(loss_history)\n",
    "plt.xlabel('Epochs')\n",
    "plt.ylabel('Loss')\n",
    "plt.title('Training Loss Curve')\n",
    "plt.grid(True)\n",
    "plt.show()"
   ]
  },
  {
   "cell_type": "code",
   "execution_count": 27,
   "id": "dfd01c44",
   "metadata": {
    "execution": {
     "iopub.execute_input": "2025-06-21T09:23:39.645843Z",
     "iopub.status.busy": "2025-06-21T09:23:39.645032Z",
     "iopub.status.idle": "2025-06-21T09:23:40.607768Z",
     "shell.execute_reply": "2025-06-21T09:23:40.606785Z"
    },
    "papermill": {
     "duration": 0.97612,
     "end_time": "2025-06-21T09:23:40.609239",
     "exception": false,
     "start_time": "2025-06-21T09:23:39.633119",
     "status": "completed"
    },
    "tags": []
   },
   "outputs": [
    {
     "data": {
      "image/png": "[encoded data removed]",
      "text/plain": [
       "<Figure size 800x600 with 2 Axes>"
      ]
     },
     "metadata": {},
     "output_type": "display_data"
    }
   ],
   "source": [
    "from sklearn.decomposition import PCA\n",
    "\n",
    "# Reduce to 2D for visualization\n",
    "pca = PCA(n_components=2)\n",
    "X_2d = pca.fit_transform(X_normalized)\n",
    "\n",
    "# Train logistic regression on 2D data (for visualization only)\n",
    "w_2d = np.random.randn(3) * 0.01  # 2 features + bias\n",
    "X_2d_bias = np.c_[np.ones(X_2d.shape[0]), X_2d]\n",
    "\n",
    "for _ in range(1000):\n",
    "    A_2d, _ = forward(X_2d_bias, w_2d)\n",
    "    dw_2d = backward(X_2d_bias, A_2d, y)\n",
    "    w_2d -= 0.1 * dw_2d\n",
    "\n",
    "# Plot\n",
    "plt.figure(figsize=(8, 6))\n",
    "plt.scatter(X_2d[:, 0], X_2d[:, 1], c=y, cmap='coolwarm', alpha=0.7)\n",
    "\n",
    "# Create decision boundary grid\n",
    "x_min, x_max = X_2d[:, 0].min() - 1, X_2d[:, 0].max() + 1\n",
    "y_min, y_max = X_2d[:, 1].min() - 1, X_2d[:, 1].max() + 1\n",
    "xx, yy = np.meshgrid(np.linspace(x_min, x_max, 100), \n",
    "                     np.linspace(y_min, y_max, 100))\n",
    "Z = sigmoid(w_2d[0] + w_2d[1] * xx.ravel() + w_2d[2] * yy.ravel())\n",
    "Z = Z.reshape(xx.shape)\n",
    "plt.contourf(xx, yy, Z, levels=[0, 0.5, 1], colors=['blue', 'red'], alpha=0.2)\n",
    "plt.colorbar()\n",
    "plt.title('2D Decision Boundary (PCA Projection)')\n",
    "plt.xlabel('Principal Component 1')\n",
    "plt.ylabel('Principal Component 2')\n",
    "plt.show()"
   ]
  }
 ],
 "metadata": {
  "kaggle": {
   "accelerator": "none",
   "dataSources": [
    {
     "datasetId": 2921725,
     "sourceId": 5034040,
     "sourceType": "datasetVersion"
    },
    {
     "datasetId": 5700459,
     "sourceId": 9393137,
     "sourceType": "datasetVersion"
    }
   ],
   "dockerImageVersionId": 31040,
   "isGpuEnabled": false,
   "isInternetEnabled": true,
   "language": "python",
   "sourceType": "notebook"
  },
  "kernelspec": {
   "display_name": "Python 3",
   "language": "python",
   "name": "python3"
  },
  "language_info": {
   "codemirror_mode": {
    "name": "ipython",
    "version": 3
   },
   "file_extension": ".py",
   "mimetype": "text/x-python",
   "name": "python",
   "nbconvert_exporter": "python",
   "pygments_lexer": "ipython3",
   "version": "3.11.11"
  },
  "papermill": {
   "default_parameters": {},
   "duration": 21.005469,
   "end_time": "2025-06-21T09:23:41.342822",
   "environment_variables": {},
   "exception": null,
   "input_path": "__notebook__.ipynb",
   "output_path": "__notebook__.ipynb",
   "parameters": {},
   "start_time": "2025-06-21T09:23:20.337353",
   "version": "2.6.0"
  }
 },
 "nbformat": 4,
 "nbformat_minor": 5
}
