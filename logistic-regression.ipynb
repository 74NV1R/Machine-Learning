{
 "cells": [
  {
   "cell_type": "markdown",
   "id": "4856c4b9",
   "metadata": {
    "papermill": {
     "duration": 0.006187,
     "end_time": "2025-06-12T19:34:36.050184",
     "exception": false,
     "start_time": "2025-06-12T19:34:36.043997",
     "status": "completed"
    },
    "tags": []
   },
   "source": [
    "We are about to do the Logistic Regression, one of the basic statistical methods. Even though the name says \"Regression\", its actually a binary classification. So the output is yes or no, 1 or 0, cat or not cat, delay or no delay etc. "
   ]
  },
  {
   "cell_type": "markdown",
   "id": "594b3d18",
   "metadata": {
    "papermill": {
     "duration": 0.004836,
     "end_time": "2025-06-12T19:34:36.060363",
     "exception": false,
     "start_time": "2025-06-12T19:34:36.055527",
     "status": "completed"
    },
    "tags": []
   },
   "source": [
    "To out learning curve smooth, lets start with something simple.\n",
    "Lets work with a simple dataset.\n",
    "And as always, at first we import the essential libraries, Pandas and NumPy."
   ]
  },
  {
   "cell_type": "code",
   "execution_count": 1,
   "id": "24b168a8",
   "metadata": {
    "execution": {
     "iopub.execute_input": "2025-06-12T19:34:36.071624Z",
     "iopub.status.busy": "2025-06-12T19:34:36.071308Z",
     "iopub.status.idle": "2025-06-12T19:34:37.960101Z",
     "shell.execute_reply": "2025-06-12T19:34:37.958912Z"
    },
    "papermill": {
     "duration": 1.896504,
     "end_time": "2025-06-12T19:34:37.961875",
     "exception": false,
     "start_time": "2025-06-12T19:34:36.065371",
     "status": "completed"
    },
    "tags": []
   },
   "outputs": [],
   "source": [
    "import pandas as pd\n",
    "import numpy as np"
   ]
  },
  {
   "cell_type": "markdown",
   "id": "8dae0768",
   "metadata": {
    "papermill": {
     "duration": 0.00506,
     "end_time": "2025-06-12T19:34:37.972742",
     "exception": false,
     "start_time": "2025-06-12T19:34:37.967682",
     "status": "completed"
    },
    "tags": []
   },
   "source": [
    "### **Toy Dataset: Exam Performance Prediction (Binary Classification)**\n",
    "**Description**: Predict whether a student passes (`1`) or fails (`0`) based on study hours and sleep hours.\n",
    "\n",
    "```csv\n",
    "Study_Hours,Sleep_Hours,Pass\n",
    "1.0,4.0,0\n",
    "1.5,5.0,0\n",
    "2.0,6.0,0\n",
    "2.5,4.5,0\n",
    "3.0,5.5,0\n",
    "3.5,7.0,1\n",
    "4.0,6.5,1\n",
    "4.5,7.5,1\n",
    "5.0,8.0,1\n",
    "5.5,7.0,1\n",
    "6.0,5.0,0\n",
    "6.5,8.5,1\n",
    "7.0,9.0,1\n",
    "7.5,6.0,1\n",
    "8.0,9.5,1\n",
    "8.5,7.5,1\n",
    "9.0,10.0,1\n",
    "9.5,5.5,1\n",
    "10.0,8.5,1\n",
    "10.5,9.0,1\n",
    "```\n",
    "\n",
    "#### **Columns**\n",
    "- `Study_Hours`: Hours studied (numerical, range: 1.0–10.5)  \n",
    "- `Sleep_Hours`: Hours slept (numerical, range: 4.0–10.0)  \n",
    "- `Pass`: Binary label (`0` = Fail, `1` = Pass)  \n",
    "\n",
    "Lets visualize the data here, to see how it talks to us: "
   ]
  },
  {
   "cell_type": "code",
   "execution_count": 2,
   "id": "902f4112",
   "metadata": {
    "execution": {
     "iopub.execute_input": "2025-06-12T19:34:37.984045Z",
     "iopub.status.busy": "2025-06-12T19:34:37.983626Z",
     "iopub.status.idle": "2025-06-12T19:34:37.993914Z",
     "shell.execute_reply": "2025-06-12T19:34:37.992847Z"
    },
    "papermill": {
     "duration": 0.017792,
     "end_time": "2025-06-12T19:34:37.995473",
     "exception": false,
     "start_time": "2025-06-12T19:34:37.977681",
     "status": "completed"
    },
    "tags": []
   },
   "outputs": [
    {
     "name": "stdout",
     "output_type": "stream",
     "text": [
      "Features (X):\n",
      " [[ 1.   4. ]\n",
      " [ 1.5  5. ]\n",
      " [ 2.   6. ]\n",
      " [ 2.5  4.5]\n",
      " [ 3.   5.5]\n",
      " [ 3.5  7. ]\n",
      " [ 4.   6.5]\n",
      " [ 4.5  7.5]\n",
      " [ 5.   8. ]\n",
      " [ 5.5  7. ]\n",
      " [ 6.   5. ]\n",
      " [ 6.5  8.5]\n",
      " [ 7.   9. ]\n",
      " [ 7.5  6. ]\n",
      " [ 8.   9.5]\n",
      " [ 8.5  7.5]\n",
      " [ 9.  10. ]\n",
      " [ 9.5  5.5]\n",
      " [10.   8.5]\n",
      " [10.5  9. ]]\n",
      "Labels (y): [0 0 0 0 0 1 1 1 1 1 0 1 1 1 1 1 1 1 1 1]\n"
     ]
    }
   ],
   "source": [
    "import numpy as np\n",
    "\n",
    "# Features (Study Hours, Sleep Hours)\n",
    "X = np.array([\n",
    "    [1.0, 4.0], [1.5, 5.0], [2.0, 6.0], [2.5, 4.5], [3.0, 5.5],\n",
    "    [3.5, 7.0], [4.0, 6.5], [4.5, 7.5], [5.0, 8.0], [5.5, 7.0],\n",
    "    [6.0, 5.0], [6.5, 8.5], [7.0, 9.0], [7.5, 6.0], [8.0, 9.5],\n",
    "    [8.5, 7.5], [9.0, 10.0], [9.5, 5.5], [10.0, 8.5], [10.5, 9.0]\n",
    "])\n",
    "\n",
    "# Labels (0 = Fail, 1 = Pass)\n",
    "y = np.array([0, 0, 0, 0, 0, 1, 1, 1, 1, 1, 0, 1, 1, 1, 1, 1, 1, 1, 1, 1])\n",
    "\n",
    "print(\"Features (X):\\n\", X)\n",
    "print(\"Labels (y):\", y)"
   ]
  },
  {
   "cell_type": "code",
   "execution_count": 3,
   "id": "0ad21334",
   "metadata": {
    "execution": {
     "iopub.execute_input": "2025-06-12T19:34:38.007835Z",
     "iopub.status.busy": "2025-06-12T19:34:38.007479Z",
     "iopub.status.idle": "2025-06-12T19:34:38.015354Z",
     "shell.execute_reply": "2025-06-12T19:34:38.014304Z"
    },
    "papermill": {
     "duration": 0.015941,
     "end_time": "2025-06-12T19:34:38.016846",
     "exception": false,
     "start_time": "2025-06-12T19:34:38.000905",
     "status": "completed"
    },
    "tags": []
   },
   "outputs": [],
   "source": [
    "df = pd.DataFrame({\n",
    "    'Study_Hours': X[:, 0],  # First column of X\n",
    "    'Sleep_Hours': X[:, 1],  # Second column of X\n",
    "    'Pass': y\n",
    "})"
   ]
  },
  {
   "cell_type": "code",
   "execution_count": 4,
   "id": "a0392be1",
   "metadata": {
    "execution": {
     "iopub.execute_input": "2025-06-12T19:34:38.028473Z",
     "iopub.status.busy": "2025-06-12T19:34:38.028077Z",
     "iopub.status.idle": "2025-06-12T19:34:38.378993Z",
     "shell.execute_reply": "2025-06-12T19:34:38.377900Z"
    },
    "papermill": {
     "duration": 0.358641,
     "end_time": "2025-06-12T19:34:38.380617",
     "exception": false,
     "start_time": "2025-06-12T19:34:38.021976",
     "status": "completed"
    },
    "tags": []
   },
   "outputs": [
    {
     "data": {
      "image/png": "[encoded data removed]",
      "text/plain": [
       "<Figure size 640x480 with 1 Axes>"
      ]
     },
     "metadata": {},
     "output_type": "display_data"
    }
   ],
   "source": [
    "import matplotlib.pyplot as plt\n",
    "\n",
    "plt.scatter(X[y == 0, 0], X[y == 0, 1], color='red', label='Fail')\n",
    "plt.scatter(X[y == 1, 0], X[y == 1, 1], color='green', label='Pass')\n",
    "plt.xlabel('Study Hours')\n",
    "plt.ylabel('Sleep Hours')\n",
    "plt.legend()\n",
    "plt.title('Exam Performance Dataset')\n",
    "plt.show()"
   ]
  },
  {
   "cell_type": "code",
   "execution_count": 5,
   "id": "88741844",
   "metadata": {
    "execution": {
     "iopub.execute_input": "2025-06-12T19:34:38.393928Z",
     "iopub.status.busy": "2025-06-12T19:34:38.392982Z",
     "iopub.status.idle": "2025-06-12T19:34:40.521944Z",
     "shell.execute_reply": "2025-06-12T19:34:40.520966Z"
    },
    "papermill": {
     "duration": 2.13712,
     "end_time": "2025-06-12T19:34:40.523493",
     "exception": false,
     "start_time": "2025-06-12T19:34:38.386373",
     "status": "completed"
    },
    "tags": []
   },
   "outputs": [
    {
     "data": {
      "text/plain": [
       "<Axes: xlabel='Study_Hours', ylabel='Sleep_Hours'>"
      ]
     },
     "execution_count": 5,
     "metadata": {},
     "output_type": "execute_result"
    },
    {
     "data": {
      "image/png": "[encoded data removed]",
      "text/plain": [
       "<Figure size 640x480 with 1 Axes>"
      ]
     },
     "metadata": {},
     "output_type": "display_data"
    }
   ],
   "source": [
    "import seaborn as sns\n",
    "sns.scatterplot(data=df, x='Study_Hours', y='Sleep_Hours', hue='Pass', palette=['red', 'green'])"
   ]
  },
  {
   "cell_type": "markdown",
   "id": "f5b389fc",
   "metadata": {
    "papermill": {
     "duration": 0.005765,
     "end_time": "2025-06-12T19:34:40.535517",
     "exception": false,
     "start_time": "2025-06-12T19:34:40.529752",
     "status": "completed"
    },
    "tags": []
   },
   "source": [
    "Hmm, it's pretty easy. Because it's made up. We can almost divide the 0 and 1 simply by drawing a line between them. Lets see how that works. "
   ]
  },
  {
   "cell_type": "markdown",
   "id": "052ee5ab",
   "metadata": {
    "papermill": {
     "duration": 0.005553,
     "end_time": "2025-06-12T19:34:40.547436",
     "exception": false,
     "start_time": "2025-06-12T19:34:40.541883",
     "status": "completed"
    },
    "tags": []
   },
   "source": [
    "As we said before, we can try to draw a straight line and separate the reds from greens. Lets take that approach.\n",
    "If we want to draw a line, we need a line's equation. The simplest equation we have is:\n",
    "\n",
    "$$Y = ax + b$$\n",
    "\n",
    "where, \"a\" is the slope of \"x\", the input variable. And \"b\" is the bias. \"a\" decide the rate of change in Y from x, and \"b\" is the headstart, or how much elevation we get.\n",
    "Now, we need to find Y, and Y isn't exactly ax + b. We have to apply a function to get Y. It's more like $$Y = some_function(ax + b)$$\n",
    "Let's take a another variable z, z = ax+b. Later we can get the value of Y from z.  \n",
    "One more problem, we have two different values of x here. The \"study hours\" and the \"sleep hours\".\n",
    "We can work with that. Essentialy, we have to assume that study hours and sleep hours dont affect result similarly. Probably study hour is more important? And sleep hour is not that important? But we can not run on 0 hour of sleep, can we?\n",
    "So, these two independant variable, x1 (study hour), and x2(sleep hour) should be \"weighted\" differently. \n",
    "Here, weights = [w1, w2]\n",
    "So, $$z = w1 * x1 + w2 * x2 + b$$"
   ]
  },
  {
   "cell_type": "code",
   "execution_count": 6,
   "id": "81ffae8d",
   "metadata": {
    "execution": {
     "iopub.execute_input": "2025-06-12T19:34:40.560624Z",
     "iopub.status.busy": "2025-06-12T19:34:40.560153Z",
     "iopub.status.idle": "2025-06-12T19:34:40.565219Z",
     "shell.execute_reply": "2025-06-12T19:34:40.564197Z"
    },
    "papermill": {
     "duration": 0.013499,
     "end_time": "2025-06-12T19:34:40.566771",
     "exception": false,
     "start_time": "2025-06-12T19:34:40.553272",
     "status": "completed"
    },
    "tags": []
   },
   "outputs": [],
   "source": [
    "X_bias = np.c_[np.ones((X.shape[0], 1)), X]"
   ]
  },
  {
   "cell_type": "markdown",
   "id": "014b16c6",
   "metadata": {
    "papermill": {
     "duration": 0.00566,
     "end_time": "2025-06-12T19:34:40.578574",
     "exception": false,
     "start_time": "2025-06-12T19:34:40.572914",
     "status": "completed"
    },
    "tags": []
   },
   "source": [
    "X_bias is an array that consist of b, x1, x2."
   ]
  },
  {
   "cell_type": "markdown",
   "id": "9e93ed65",
   "metadata": {
    "papermill": {
     "duration": 0.005703,
     "end_time": "2025-06-12T19:34:40.590265",
     "exception": false,
     "start_time": "2025-06-12T19:34:40.584562",
     "status": "completed"
    },
    "tags": []
   },
   "source": [
    "We are going to split the dataset into train and test part. Our regression will learn from train set, and test the hypothesis on the test set.\n",
    "We are doing 80% 20% split here."
   ]
  },
  {
   "cell_type": "code",
   "execution_count": 7,
   "id": "0711e77a",
   "metadata": {
    "execution": {
     "iopub.execute_input": "2025-06-12T19:34:40.603518Z",
     "iopub.status.busy": "2025-06-12T19:34:40.603208Z",
     "iopub.status.idle": "2025-06-12T19:34:40.607708Z",
     "shell.execute_reply": "2025-06-12T19:34:40.606950Z"
    },
    "papermill": {
     "duration": 0.012902,
     "end_time": "2025-06-12T19:34:40.609087",
     "exception": false,
     "start_time": "2025-06-12T19:34:40.596185",
     "status": "completed"
    },
    "tags": []
   },
   "outputs": [],
   "source": [
    "np.random.shuffle(X_bias) #shuffling the dataset"
   ]
  },
  {
   "cell_type": "code",
   "execution_count": 8,
   "id": "55663cc8",
   "metadata": {
    "execution": {
     "iopub.execute_input": "2025-06-12T19:34:40.622826Z",
     "iopub.status.busy": "2025-06-12T19:34:40.622074Z",
     "iopub.status.idle": "2025-06-12T19:34:40.626720Z",
     "shell.execute_reply": "2025-06-12T19:34:40.625937Z"
    },
    "papermill": {
     "duration": 0.01303,
     "end_time": "2025-06-12T19:34:40.628202",
     "exception": false,
     "start_time": "2025-06-12T19:34:40.615172",
     "status": "completed"
    },
    "tags": []
   },
   "outputs": [],
   "source": [
    "train_size = int(len(X_bias) * 0.8)  # 80% of the total length\n",
    "train_set = X_bias[:train_size]  # First 80% of elements\n",
    "test_set = X_bias[train_size:]  # Remaining 20% of elements"
   ]
  },
  {
   "cell_type": "markdown",
   "id": "03702ca2",
   "metadata": {
    "papermill": {
     "duration": 0.005668,
     "end_time": "2025-06-12T19:34:40.639992",
     "exception": false,
     "start_time": "2025-06-12T19:34:40.634324",
     "status": "completed"
    },
    "tags": []
   },
   "source": [
    "We are initializing weight array."
   ]
  },
  {
   "cell_type": "code",
   "execution_count": 9,
   "id": "a5beae35",
   "metadata": {
    "execution": {
     "iopub.execute_input": "2025-06-12T19:34:40.653102Z",
     "iopub.status.busy": "2025-06-12T19:34:40.652572Z",
     "iopub.status.idle": "2025-06-12T19:34:40.656929Z",
     "shell.execute_reply": "2025-06-12T19:34:40.656178Z"
    },
    "papermill": {
     "duration": 0.012626,
     "end_time": "2025-06-12T19:34:40.658419",
     "exception": false,
     "start_time": "2025-06-12T19:34:40.645793",
     "status": "completed"
    },
    "tags": []
   },
   "outputs": [],
   "source": [
    "w = np.zeros(X_bias.shape[1])  # Shape: (3,) for [bias, w1, w2]"
   ]
  },
  {
   "cell_type": "markdown",
   "id": "b37e85b2",
   "metadata": {
    "papermill": {
     "duration": 0.005839,
     "end_time": "2025-06-12T19:34:40.670359",
     "exception": false,
     "start_time": "2025-06-12T19:34:40.664520",
     "status": "completed"
    },
    "tags": []
   },
   "source": [
    "Remeber when we said we need to put \"z\" through some function to get \"Y\"? We have to make that function now. That function is sigmoid function. Its a function that maps real number values to 0 or 1. That means, we send some \"z\", we get some 0 or 1, and those values are \"y\".\n",
    "\n",
    "The sigmoid function is defined as:\n",
    "\n",
    "$$\\sigma(x) = \\frac{1}{1 + e^{-x}}$$\n",
    "\n",
    "\n",
    "now we are going to implement the function here."
   ]
  },
  {
   "cell_type": "code",
   "execution_count": 10,
   "id": "c1413d97",
   "metadata": {
    "execution": {
     "iopub.execute_input": "2025-06-12T19:34:40.683376Z",
     "iopub.status.busy": "2025-06-12T19:34:40.683042Z",
     "iopub.status.idle": "2025-06-12T19:34:40.687912Z",
     "shell.execute_reply": "2025-06-12T19:34:40.686840Z"
    },
    "papermill": {
     "duration": 0.013079,
     "end_time": "2025-06-12T19:34:40.689471",
     "exception": false,
     "start_time": "2025-06-12T19:34:40.676392",
     "status": "completed"
    },
    "tags": []
   },
   "outputs": [],
   "source": [
    "def sigmoid(z):\n",
    "    return 1 / (1 + np.exp(-z))"
   ]
  },
  {
   "cell_type": "markdown",
   "id": "012a244d",
   "metadata": {
    "papermill": {
     "duration": 0.005751,
     "end_time": "2025-06-12T19:34:40.701264",
     "exception": false,
     "start_time": "2025-06-12T19:34:40.695513",
     "status": "completed"
    },
    "tags": []
   },
   "source": [
    "Now, the weight and bias we initiated randomly, aren't necessarily accurate. We need to change that. In fact, we need to change it a lot of times till it gives us a line that's the perfect fit. If not, it should be near perfect. Also, the need to see the cost or the error. Error is the difference of the real value of y and the hypothetical value of y. Here, the cost function is \n",
    "$$J(w) = -\\frac{1}{m} \\sum_{i=1}^{m} \\left[ y^{(i)} \\log a^{(i)} + (1 - y^{(i)}) \\log (1 - a^{(i)}) \\right]$$\n",
    "where:\n",
    "- \\( m \\) is the number of training examples.\n",
    "- \\( y^{(i)} \\) is the actual label (0 or 1).\n",
    "- \\( a^{(i)} \\) is the predicted probability from the sigmoid function.\n",
    "\n",
    "We have to update the weights till we find the optimal weights. That means, we have to find the perfect or near perfect w1, w2 weights for variable x1, x2 to plug into the equation.\n",
    "\n",
    "### Gradient Descent Formula\n",
    "\n",
    "The weight update rule in gradient descent is:\n",
    "\n",
    "$$ w := w - \\alpha \\frac{\\partial J}{\\partial w} $$\n",
    "\n",
    "where:\n",
    "- \\( w \\) represents the weights.\n",
    "- \\( \\alpha \\) is the learning rate.\n",
    "- \\( \\frac{\\partial J}{\\partial w} \\) is the gradient of the cost function with respect to \\( w \\).\n",
    "\n",
    "For logistic regression, the gradient descent update for weights and bias is:\n",
    "\n",
    "$$ w := w - \\alpha \\frac{1}{m} \\sum_{i=1}^{m} X^{(i)} (A^{(i)} - Y^{(i)}) $$\n",
    "\n",
    "$$ b := b - \\alpha \\frac{1}{m} \\sum_{i=1}^{m} (A^{(i)} - Y^{(i)}) $$\n",
    "\n",
    "where:\n",
    "- \\( m \\) is the number of training examples.\n",
    "- \\( X^{(i)} \\) is the input feature vector.\n",
    "- \\( A^{(i)} \\) is the predicted probability from the sigmoid function.\n",
    "- \\( Y^{(i)} \\) is the actual label.\n",
    "\n",
    "\n",
    "We will adjust the weights 1000 times. These attempts are called epochs. \n",
    "\n",
    "\n",
    "### What Happens in One Epoch: ###\n"
   ]
  },
  {
   "cell_type": "markdown",
   "id": "e35375bf",
   "metadata": {
    "papermill": {
     "duration": 0.00553,
     "end_time": "2025-06-12T19:34:40.712597",
     "exception": false,
     "start_time": "2025-06-12T19:34:40.707067",
     "status": "completed"
    },
    "tags": []
   },
   "source": [
    "*Forward Pass:* Compute predictions (A) and cost for all 20 examples."
   ]
  },
  {
   "cell_type": "code",
   "execution_count": 11,
   "id": "c5c3db47",
   "metadata": {
    "execution": {
     "iopub.execute_input": "2025-06-12T19:34:40.725507Z",
     "iopub.status.busy": "2025-06-12T19:34:40.725180Z",
     "iopub.status.idle": "2025-06-12T19:34:40.730309Z",
     "shell.execute_reply": "2025-06-12T19:34:40.729332Z"
    },
    "papermill": {
     "duration": 0.013365,
     "end_time": "2025-06-12T19:34:40.731900",
     "exception": false,
     "start_time": "2025-06-12T19:34:40.718535",
     "status": "completed"
    },
    "tags": []
   },
   "outputs": [],
   "source": [
    "def forward(X, w):\n",
    "    z = np.dot(X, w)\n",
    "    A = sigmoid(z)  # Predicted probabilities\n",
    "    J = -np.mean(y * np.log(A) + (1 - y) * np.log(1 - A))  # Cross-entropy cost\n",
    "    return A, J"
   ]
  },
  {
   "cell_type": "markdown",
   "id": "782c14a3",
   "metadata": {
    "papermill": {
     "duration": 0.005711,
     "end_time": "2025-06-12T19:34:40.743677",
     "exception": false,
     "start_time": "2025-06-12T19:34:40.737966",
     "status": "completed"
    },
    "tags": []
   },
   "source": [
    "*Backward Pass:* Calculate the gradient (dw) by averaging contributions from all examples."
   ]
  },
  {
   "cell_type": "code",
   "execution_count": 12,
   "id": "3e82dfdf",
   "metadata": {
    "execution": {
     "iopub.execute_input": "2025-06-12T19:34:40.757168Z",
     "iopub.status.busy": "2025-06-12T19:34:40.756375Z",
     "iopub.status.idle": "2025-06-12T19:34:40.760830Z",
     "shell.execute_reply": "2025-06-12T19:34:40.760083Z"
    },
    "papermill": {
     "duration": 0.012525,
     "end_time": "2025-06-12T19:34:40.762085",
     "exception": false,
     "start_time": "2025-06-12T19:34:40.749560",
     "status": "completed"
    },
    "tags": []
   },
   "outputs": [],
   "source": [
    "def backward(X, A, y):\n",
    "    dw = np.dot(X.T, (A - y)) / len(y)  # Gradient for weights\n",
    "    return dw"
   ]
  },
  {
   "cell_type": "markdown",
   "id": "c88fe61b",
   "metadata": {
    "papermill": {
     "duration": 0.005537,
     "end_time": "2025-06-12T19:34:40.773778",
     "exception": false,
     "start_time": "2025-06-12T19:34:40.768241",
     "status": "completed"
    },
    "tags": []
   },
   "source": [
    "*Update Weights:* Adjust w using the gradient: $$w = w - \\alpha * dw.$$\n",
    "Here, $$\\alpha$$ is the learning rate.\n",
    "\n",
    "We have the liberty to choose the learning rate. But we should be careful, since with smaller learning rate, we need way more epochs and if we set it too big, we might cross the optimal point."
   ]
  },
  {
   "cell_type": "code",
   "execution_count": 13,
   "id": "75a7db27",
   "metadata": {
    "execution": {
     "iopub.execute_input": "2025-06-12T19:34:40.786759Z",
     "iopub.status.busy": "2025-06-12T19:34:40.786432Z",
     "iopub.status.idle": "2025-06-12T19:34:40.804092Z",
     "shell.execute_reply": "2025-06-12T19:34:40.802979Z"
    },
    "papermill": {
     "duration": 0.026109,
     "end_time": "2025-06-12T19:34:40.805709",
     "exception": false,
     "start_time": "2025-06-12T19:34:40.779600",
     "status": "completed"
    },
    "tags": []
   },
   "outputs": [
    {
     "name": "stdout",
     "output_type": "stream",
     "text": [
      "Epoch 0, Cost: 0.6931\n"
     ]
    }
   ],
   "source": [
    "alpha = 0.01  # Learning rate\n",
    "epochs = 100\n",
    "\n",
    "for epoch in range(epochs):\n",
    "    A, cost = forward(X_bias, w)  # Forward pass\n",
    "    dw = backward(X_bias, A, y)   # Backward pass\n",
    "    w -= alpha * dw               # Update weights\n",
    "    \n",
    "    if epoch % 100 == 0:\n",
    "        print(f\"Epoch {epoch}, Cost: {cost:.4f}\")"
   ]
  },
  {
   "cell_type": "markdown",
   "id": "888bf5d3",
   "metadata": {
    "papermill": {
     "duration": 0.005916,
     "end_time": "2025-06-12T19:34:40.817709",
     "exception": false,
     "start_time": "2025-06-12T19:34:40.811793",
     "status": "completed"
    },
    "tags": []
   },
   "source": [
    "Now we check how good our hypothesis is after adjusting the weights **1,000** times!"
   ]
  },
  {
   "cell_type": "code",
   "execution_count": 14,
   "id": "7bdd7e5a",
   "metadata": {
    "execution": {
     "iopub.execute_input": "2025-06-12T19:34:40.831261Z",
     "iopub.status.busy": "2025-06-12T19:34:40.830858Z",
     "iopub.status.idle": "2025-06-12T19:34:40.835906Z",
     "shell.execute_reply": "2025-06-12T19:34:40.834988Z"
    },
    "papermill": {
     "duration": 0.013623,
     "end_time": "2025-06-12T19:34:40.837506",
     "exception": false,
     "start_time": "2025-06-12T19:34:40.823883",
     "status": "completed"
    },
    "tags": []
   },
   "outputs": [],
   "source": [
    "def predict(X, w):\n",
    "    A, _ = forward(X, w)\n",
    "    return (A >= 0.5).astype(int)  # Threshold at 0.5\n",
    "\n",
    "y_pred = predict(X_bias, w)"
   ]
  },
  {
   "cell_type": "code",
   "execution_count": 15,
   "id": "a79288b9",
   "metadata": {
    "execution": {
     "iopub.execute_input": "2025-06-12T19:34:40.851844Z",
     "iopub.status.busy": "2025-06-12T19:34:40.850990Z",
     "iopub.status.idle": "2025-06-12T19:34:40.856334Z",
     "shell.execute_reply": "2025-06-12T19:34:40.855201Z"
    },
    "papermill": {
     "duration": 0.014296,
     "end_time": "2025-06-12T19:34:40.857969",
     "exception": false,
     "start_time": "2025-06-12T19:34:40.843673",
     "status": "completed"
    },
    "tags": []
   },
   "outputs": [
    {
     "name": "stdout",
     "output_type": "stream",
     "text": [
      "Accuracy: 70.00%\n"
     ]
    }
   ],
   "source": [
    "accuracy = np.mean(y_pred == y)\n",
    "print(f\"Accuracy: {accuracy * 100:.2f}%\")"
   ]
  },
  {
   "cell_type": "markdown",
   "id": "8c75051a",
   "metadata": {
    "papermill": {
     "duration": 0.005797,
     "end_time": "2025-06-12T19:34:40.870143",
     "exception": false,
     "start_time": "2025-06-12T19:34:40.864346",
     "status": "completed"
    },
    "tags": []
   },
   "source": [
    "Honestly, it's not good. **Only 70.00% accuracy!**\n",
    "But at least we learned something.\n",
    "Let's visually see  how our hypothesis worked."
   ]
  },
  {
   "cell_type": "code",
   "execution_count": 16,
   "id": "df90eb72",
   "metadata": {
    "execution": {
     "iopub.execute_input": "2025-06-12T19:34:40.883800Z",
     "iopub.status.busy": "2025-06-12T19:34:40.882984Z",
     "iopub.status.idle": "2025-06-12T19:34:41.105931Z",
     "shell.execute_reply": "2025-06-12T19:34:41.105060Z"
    },
    "papermill": {
     "duration": 0.231373,
     "end_time": "2025-06-12T19:34:41.107581",
     "exception": false,
     "start_time": "2025-06-12T19:34:40.876208",
     "status": "completed"
    },
    "tags": []
   },
   "outputs": [
    {
     "data": {
      "image/png": "[encoded data removed]",
      "text/plain": [
       "<Figure size 500x300 with 1 Axes>"
      ]
     },
     "metadata": {},
     "output_type": "display_data"
    }
   ],
   "source": [
    "# Fix Sleep_Hours at median (or mean)\n",
    "sleep_fixed = np.median(X[:, 1])  # Try np.mean() if needed\n",
    "\n",
    "# Create a range of Study_Hours values\n",
    "study_range = np.linspace(min(X[:, 0]), max(X[:, 0]), 100)\n",
    "\n",
    "# Compute predicted probabilities (A) for each Study_Hours\n",
    "z = w[0] + w[1] * study_range + w[2] * sleep_fixed\n",
    "A = sigmoid(z)  # S-curve probabilities\n",
    "\n",
    "# Plot\n",
    "plt.figure(figsize=(5, 3))\n",
    "plt.plot(study_range, A, color='red', linewidth=3, label='Sigmoid Curve')\n",
    "plt.scatter(X[:, 0], y, color='blue', label='True Labels (0/1)')  # Actual data\n",
    "plt.xlabel('Study_Hours')\n",
    "plt.ylabel('Probability of Passing (A)')\n",
    "plt.title('S-shaped Sigmoid Curve: P(Pass) vs. Study_Hours')\n",
    "plt.axhline(y=0.5, color='gray', linestyle='--', label='Decision Threshold (A=0.5)')\n",
    "plt.legend()\n",
    "plt.grid(True)\n",
    "plt.show()"
   ]
  },
  {
   "cell_type": "markdown",
   "id": "f8b5aae3",
   "metadata": {
    "papermill": {
     "duration": 0.006637,
     "end_time": "2025-06-12T19:34:41.121211",
     "exception": false,
     "start_time": "2025-06-12T19:34:41.114574",
     "status": "completed"
    },
    "tags": []
   },
   "source": [
    "### Real dataset ###\n",
    "\n",
    "As the next step of our learning, we should see how to apply our knowledge on real life dataset."
   ]
  },
  {
   "cell_type": "code",
   "execution_count": 17,
   "id": "71a44f3e",
   "metadata": {
    "execution": {
     "iopub.execute_input": "2025-06-12T19:34:41.135661Z",
     "iopub.status.busy": "2025-06-12T19:34:41.135334Z",
     "iopub.status.idle": "2025-06-12T19:34:41.139690Z",
     "shell.execute_reply": "2025-06-12T19:34:41.138809Z"
    },
    "papermill": {
     "duration": 0.013462,
     "end_time": "2025-06-12T19:34:41.141203",
     "exception": false,
     "start_time": "2025-06-12T19:34:41.127741",
     "status": "completed"
    },
    "tags": []
   },
   "outputs": [],
   "source": [
    "dataDir = \"/kaggle/input/retina-image-for-binary-classification\""
   ]
  }
 ],
 "metadata": {
  "kaggle": {
   "accelerator": "none",
   "dataSources": [
    {
     "datasetId": 5700459,
     "sourceId": 9393137,
     "sourceType": "datasetVersion"
    }
   ],
   "dockerImageVersionId": 31040,
   "isGpuEnabled": false,
   "isInternetEnabled": true,
   "language": "python",
   "sourceType": "notebook"
  },
  "kernelspec": {
   "display_name": "Python 3",
   "language": "python",
   "name": "python3"
  },
  "language_info": {
   "codemirror_mode": {
    "name": "ipython",
    "version": 3
   },
   "file_extension": ".py",
   "mimetype": "text/x-python",
   "name": "python",
   "nbconvert_exporter": "python",
   "pygments_lexer": "ipython3",
   "version": "3.11.11"
  },
  "papermill": {
   "default_parameters": {},
   "duration": 10.407299,
   "end_time": "2025-06-12T19:34:41.767919",
   "environment_variables": {},
   "exception": null,
   "input_path": "__notebook__.ipynb",
   "output_path": "__notebook__.ipynb",
   "parameters": {},
   "start_time": "2025-06-12T19:34:31.360620",
   "version": "2.6.0"
  }
 },
 "nbformat": 4,
 "nbformat_minor": 5
}
