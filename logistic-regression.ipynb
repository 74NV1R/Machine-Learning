{
 "cells": [
  {
   "cell_type": "markdown",
   "id": "961970a5",
   "metadata": {
    "papermill": {
     "duration": 0.010078,
     "end_time": "2025-06-10T16:55:44.406512",
     "exception": false,
     "start_time": "2025-06-10T16:55:44.396434",
     "status": "completed"
    },
    "tags": []
   },
   "source": [
    "We are about to do the Logistic Regression, one of the basic statistical methods. Even though the name says \"Regression\", its actually a binary classification. So the output is yes or no, 1 or 0, cat or not cat, delay or no delay etc. "
   ]
  },
  {
   "cell_type": "markdown",
   "id": "b2bdb184",
   "metadata": {
    "papermill": {
     "duration": 0.004535,
     "end_time": "2025-06-10T16:55:44.416644",
     "exception": false,
     "start_time": "2025-06-10T16:55:44.412109",
     "status": "completed"
    },
    "tags": []
   },
   "source": [
    "To out learning curve smooth, lets start with something simple.\n",
    "Lets work with a simple dataset.\n",
    "And as always, at first we import the essential libraries, Pandas and NumPy."
   ]
  },
  {
   "cell_type": "code",
   "execution_count": 1,
   "id": "75c57c1c",
   "metadata": {
    "execution": {
     "iopub.execute_input": "2025-06-10T16:55:44.427611Z",
     "iopub.status.busy": "2025-06-10T16:55:44.427234Z",
     "iopub.status.idle": "2025-06-10T16:55:46.312591Z",
     "shell.execute_reply": "2025-06-10T16:55:46.311615Z"
    },
    "papermill": {
     "duration": 1.893077,
     "end_time": "2025-06-10T16:55:46.314438",
     "exception": false,
     "start_time": "2025-06-10T16:55:44.421361",
     "status": "completed"
    },
    "tags": []
   },
   "outputs": [],
   "source": [
    "import pandas as pd\n",
    "import numpy as np"
   ]
  },
  {
   "cell_type": "markdown",
   "id": "7beaa8ec",
   "metadata": {
    "papermill": {
     "duration": 0.004623,
     "end_time": "2025-06-10T16:55:46.323889",
     "exception": false,
     "start_time": "2025-06-10T16:55:46.319266",
     "status": "completed"
    },
    "tags": []
   },
   "source": [
    "### **Toy Dataset: Exam Performance Prediction (Binary Classification)**\n",
    "**Description**: Predict whether a student passes (`1`) or fails (`0`) based on study hours and sleep hours.\n",
    "\n",
    "```csv\n",
    "Study_Hours,Sleep_Hours,Pass\n",
    "1.0,4.0,0\n",
    "1.5,5.0,0\n",
    "2.0,6.0,0\n",
    "2.5,4.5,0\n",
    "3.0,5.5,0\n",
    "3.5,7.0,1\n",
    "4.0,6.5,1\n",
    "4.5,7.5,1\n",
    "5.0,8.0,1\n",
    "5.5,7.0,1\n",
    "6.0,5.0,0\n",
    "6.5,8.5,1\n",
    "7.0,9.0,1\n",
    "7.5,6.0,1\n",
    "8.0,9.5,1\n",
    "8.5,7.5,1\n",
    "9.0,10.0,1\n",
    "9.5,5.5,1\n",
    "10.0,8.5,1\n",
    "10.5,9.0,1\n",
    "```\n",
    "\n",
    "#### **Columns**\n",
    "- `Study_Hours`: Hours studied (numerical, range: 1.0–10.5)  \n",
    "- `Sleep_Hours`: Hours slept (numerical, range: 4.0–10.0)  \n",
    "- `Pass`: Binary label (`0` = Fail, `1` = Pass)  \n",
    "\n",
    "Lets visualize the data here, to see how it talks to us: "
   ]
  },
  {
   "cell_type": "code",
   "execution_count": 2,
   "id": "cb30249b",
   "metadata": {
    "execution": {
     "iopub.execute_input": "2025-06-10T16:55:46.334908Z",
     "iopub.status.busy": "2025-06-10T16:55:46.334076Z",
     "iopub.status.idle": "2025-06-10T16:55:46.343914Z",
     "shell.execute_reply": "2025-06-10T16:55:46.342886Z"
    },
    "papermill": {
     "duration": 0.016958,
     "end_time": "2025-06-10T16:55:46.345424",
     "exception": false,
     "start_time": "2025-06-10T16:55:46.328466",
     "status": "completed"
    },
    "tags": []
   },
   "outputs": [
    {
     "name": "stdout",
     "output_type": "stream",
     "text": [
      "Features (X):\n",
      " [[ 1.   4. ]\n",
      " [ 1.5  5. ]\n",
      " [ 2.   6. ]\n",
      " [ 2.5  4.5]\n",
      " [ 3.   5.5]\n",
      " [ 3.5  7. ]\n",
      " [ 4.   6.5]\n",
      " [ 4.5  7.5]\n",
      " [ 5.   8. ]\n",
      " [ 5.5  7. ]\n",
      " [ 6.   5. ]\n",
      " [ 6.5  8.5]\n",
      " [ 7.   9. ]\n",
      " [ 7.5  6. ]\n",
      " [ 8.   9.5]\n",
      " [ 8.5  7.5]\n",
      " [ 9.  10. ]\n",
      " [ 9.5  5.5]\n",
      " [10.   8.5]\n",
      " [10.5  9. ]]\n",
      "Labels (y): [0 0 0 0 0 1 1 1 1 1 0 1 1 1 1 1 1 1 1 1]\n"
     ]
    }
   ],
   "source": [
    "import numpy as np\n",
    "\n",
    "# Features (Study Hours, Sleep Hours)\n",
    "X = np.array([\n",
    "    [1.0, 4.0], [1.5, 5.0], [2.0, 6.0], [2.5, 4.5], [3.0, 5.5],\n",
    "    [3.5, 7.0], [4.0, 6.5], [4.5, 7.5], [5.0, 8.0], [5.5, 7.0],\n",
    "    [6.0, 5.0], [6.5, 8.5], [7.0, 9.0], [7.5, 6.0], [8.0, 9.5],\n",
    "    [8.5, 7.5], [9.0, 10.0], [9.5, 5.5], [10.0, 8.5], [10.5, 9.0]\n",
    "])\n",
    "\n",
    "# Labels (0 = Fail, 1 = Pass)\n",
    "y = np.array([0, 0, 0, 0, 0, 1, 1, 1, 1, 1, 0, 1, 1, 1, 1, 1, 1, 1, 1, 1])\n",
    "\n",
    "print(\"Features (X):\\n\", X)\n",
    "print(\"Labels (y):\", y)"
   ]
  },
  {
   "cell_type": "code",
   "execution_count": 3,
   "id": "8f06fd10",
   "metadata": {
    "execution": {
     "iopub.execute_input": "2025-06-10T16:55:46.356415Z",
     "iopub.status.busy": "2025-06-10T16:55:46.356100Z",
     "iopub.status.idle": "2025-06-10T16:55:46.363875Z",
     "shell.execute_reply": "2025-06-10T16:55:46.363029Z"
    },
    "papermill": {
     "duration": 0.015401,
     "end_time": "2025-06-10T16:55:46.365732",
     "exception": false,
     "start_time": "2025-06-10T16:55:46.350331",
     "status": "completed"
    },
    "tags": []
   },
   "outputs": [],
   "source": [
    "df = pd.DataFrame({\n",
    "    'Study_Hours': X[:, 0],  # First column of X\n",
    "    'Sleep_Hours': X[:, 1],  # Second column of X\n",
    "    'Pass': y\n",
    "})"
   ]
  },
  {
   "cell_type": "code",
   "execution_count": 4,
   "id": "d912d235",
   "metadata": {
    "execution": {
     "iopub.execute_input": "2025-06-10T16:55:46.377551Z",
     "iopub.status.busy": "2025-06-10T16:55:46.376670Z",
     "iopub.status.idle": "2025-06-10T16:55:46.699458Z",
     "shell.execute_reply": "2025-06-10T16:55:46.698496Z"
    },
    "papermill": {
     "duration": 0.330339,
     "end_time": "2025-06-10T16:55:46.701063",
     "exception": false,
     "start_time": "2025-06-10T16:55:46.370724",
     "status": "completed"
    },
    "tags": []
   },
   "outputs": [
    {
     "data": {
      "image/png": "[encoded data removed]",
      "text/plain": [
       "<Figure size 640x480 with 1 Axes>"
      ]
     },
     "metadata": {},
     "output_type": "display_data"
    }
   ],
   "source": [
    "import matplotlib.pyplot as plt\n",
    "\n",
    "plt.scatter(X[y == 0, 0], X[y == 0, 1], color='red', label='Fail')\n",
    "plt.scatter(X[y == 1, 0], X[y == 1, 1], color='green', label='Pass')\n",
    "plt.xlabel('Study Hours')\n",
    "plt.ylabel('Sleep Hours')\n",
    "plt.legend()\n",
    "plt.title('Exam Performance Dataset')\n",
    "plt.show()"
   ]
  },
  {
   "cell_type": "code",
   "execution_count": 5,
   "id": "d1dad1fa",
   "metadata": {
    "execution": {
     "iopub.execute_input": "2025-06-10T16:55:46.713212Z",
     "iopub.status.busy": "2025-06-10T16:55:46.712864Z",
     "iopub.status.idle": "2025-06-10T16:55:48.916870Z",
     "shell.execute_reply": "2025-06-10T16:55:48.916013Z"
    },
    "papermill": {
     "duration": 2.211803,
     "end_time": "2025-06-10T16:55:48.918501",
     "exception": false,
     "start_time": "2025-06-10T16:55:46.706698",
     "status": "completed"
    },
    "tags": []
   },
   "outputs": [
    {
     "data": {
      "text/plain": [
       "<Axes: xlabel='Study_Hours', ylabel='Sleep_Hours'>"
      ]
     },
     "execution_count": 5,
     "metadata": {},
     "output_type": "execute_result"
    },
    {
     "data": {
      "image/png": "[encoded data removed]",
      "text/plain": [
       "<Figure size 640x480 with 1 Axes>"
      ]
     },
     "metadata": {},
     "output_type": "display_data"
    }
   ],
   "source": [
    "import seaborn as sns\n",
    "sns.scatterplot(data=df, x='Study_Hours', y='Sleep_Hours', hue='Pass', palette=['red', 'green'])"
   ]
  },
  {
   "cell_type": "markdown",
   "id": "0371cf08",
   "metadata": {
    "papermill": {
     "duration": 0.006338,
     "end_time": "2025-06-10T16:55:48.931058",
     "exception": false,
     "start_time": "2025-06-10T16:55:48.924720",
     "status": "completed"
    },
    "tags": []
   },
   "source": [
    "Hmm, it's pretty easy. Because it's made up. We can almost divide the 0 and 1 simply by drawing a line between them. Lets see how that works. "
   ]
  },
  {
   "cell_type": "markdown",
   "id": "f802f608",
   "metadata": {
    "papermill": {
     "duration": 0.005249,
     "end_time": "2025-06-10T16:55:48.941807",
     "exception": false,
     "start_time": "2025-06-10T16:55:48.936558",
     "status": "completed"
    },
    "tags": []
   },
   "source": [
    "As we said before, we can try to draw a straight line and separate the reds from greens. Lets take that approach.\n",
    "If we want to draw a line, we need a line's equation. The simplest equation we have is:\n",
    "\n",
    "$$Y = ax + b$$\n",
    "\n",
    "where, \"a\" is the slope of \"x\", the input variable. And \"b\" is the bias. \"a\" decide the rate of change in Y from x, and \"b\" is the headstart, or how much elevation we get.\n",
    "Now, we need to find Y, and Y isn't exactly ax + b. We have to apply a function to get Y. It's more like $$Y = some_function(ax + b)$$\n",
    "Let's take a another variable z, z = ax+b. Later we can get the value of Y from z.  \n",
    "One more problem, we have two different values of x here. The \"study hours\" and the \"sleep hours\".\n",
    "We can work with that. Essentialy, we have to assume that study hours and sleep hours dont affect result similarly. Probably study hour is more important? And sleep hour is not that important? But we can not run on 0 hour of sleep, can we?\n",
    "So, these two independant variable, x1 (study hour), and x2(sleep hour) should be \"weighted\" differently. \n",
    "Here, weights = [w1, w2]\n",
    "So, $$z = w1 * x1 + w2 * x2 + b$$"
   ]
  },
  {
   "cell_type": "code",
   "execution_count": 6,
   "id": "cc4a83b0",
   "metadata": {
    "execution": {
     "iopub.execute_input": "2025-06-10T16:55:48.954603Z",
     "iopub.status.busy": "2025-06-10T16:55:48.953781Z",
     "iopub.status.idle": "2025-06-10T16:55:48.958754Z",
     "shell.execute_reply": "2025-06-10T16:55:48.957947Z"
    },
    "papermill": {
     "duration": 0.01284,
     "end_time": "2025-06-10T16:55:48.960218",
     "exception": false,
     "start_time": "2025-06-10T16:55:48.947378",
     "status": "completed"
    },
    "tags": []
   },
   "outputs": [],
   "source": [
    "X_bias = np.c_[np.ones((X.shape[0], 1)), X]"
   ]
  },
  {
   "cell_type": "markdown",
   "id": "6520f3f6",
   "metadata": {
    "papermill": {
     "duration": 0.005214,
     "end_time": "2025-06-10T16:55:48.971008",
     "exception": false,
     "start_time": "2025-06-10T16:55:48.965794",
     "status": "completed"
    },
    "tags": []
   },
   "source": [
    "X_bias is an array that consist of b, x1, x2."
   ]
  },
  {
   "cell_type": "markdown",
   "id": "b49e28ea",
   "metadata": {
    "papermill": {
     "duration": 0.005171,
     "end_time": "2025-06-10T16:55:48.981645",
     "exception": false,
     "start_time": "2025-06-10T16:55:48.976474",
     "status": "completed"
    },
    "tags": []
   },
   "source": [
    "We are going to split the dataset into train and test part. Our regression will learn from train set, and test the hypothesis on the test set.\n",
    "We are doing 80% 20% split here."
   ]
  },
  {
   "cell_type": "code",
   "execution_count": 7,
   "id": "9dbc9a2e",
   "metadata": {
    "execution": {
     "iopub.execute_input": "2025-06-10T16:55:48.994210Z",
     "iopub.status.busy": "2025-06-10T16:55:48.993613Z",
     "iopub.status.idle": "2025-06-10T16:55:48.998212Z",
     "shell.execute_reply": "2025-06-10T16:55:48.997329Z"
    },
    "papermill": {
     "duration": 0.012438,
     "end_time": "2025-06-10T16:55:48.999639",
     "exception": false,
     "start_time": "2025-06-10T16:55:48.987201",
     "status": "completed"
    },
    "tags": []
   },
   "outputs": [],
   "source": [
    "np.random.shuffle(X_bias) #shuffling the dataset"
   ]
  },
  {
   "cell_type": "code",
   "execution_count": 8,
   "id": "c54b26ae",
   "metadata": {
    "execution": {
     "iopub.execute_input": "2025-06-10T16:55:49.012824Z",
     "iopub.status.busy": "2025-06-10T16:55:49.012530Z",
     "iopub.status.idle": "2025-06-10T16:55:49.017228Z",
     "shell.execute_reply": "2025-06-10T16:55:49.016436Z"
    },
    "papermill": {
     "duration": 0.013121,
     "end_time": "2025-06-10T16:55:49.018729",
     "exception": false,
     "start_time": "2025-06-10T16:55:49.005608",
     "status": "completed"
    },
    "tags": []
   },
   "outputs": [],
   "source": [
    "train_size = int(len(X_bias) * 0.8)  # 80% of the total length\n",
    "train_set = X_bias[:train_size]  # First 80% of elements\n",
    "test_set = X_bias[train_size:]  # Remaining 20% of elements"
   ]
  },
  {
   "cell_type": "markdown",
   "id": "fad28e43",
   "metadata": {
    "papermill": {
     "duration": 0.005336,
     "end_time": "2025-06-10T16:55:49.029769",
     "exception": false,
     "start_time": "2025-06-10T16:55:49.024433",
     "status": "completed"
    },
    "tags": []
   },
   "source": [
    "We are initializing weight array."
   ]
  },
  {
   "cell_type": "code",
   "execution_count": 9,
   "id": "4c887df0",
   "metadata": {
    "execution": {
     "iopub.execute_input": "2025-06-10T16:55:49.042352Z",
     "iopub.status.busy": "2025-06-10T16:55:49.041817Z",
     "iopub.status.idle": "2025-06-10T16:55:49.046856Z",
     "shell.execute_reply": "2025-06-10T16:55:49.045832Z"
    },
    "papermill": {
     "duration": 0.013114,
     "end_time": "2025-06-10T16:55:49.048560",
     "exception": false,
     "start_time": "2025-06-10T16:55:49.035446",
     "status": "completed"
    },
    "tags": []
   },
   "outputs": [],
   "source": [
    "w = np.zeros(X_bias.shape[1])  # Shape: (3,) for [bias, w1, w2]"
   ]
  },
  {
   "cell_type": "markdown",
   "id": "7257d909",
   "metadata": {
    "papermill": {
     "duration": 0.005419,
     "end_time": "2025-06-10T16:55:49.060186",
     "exception": false,
     "start_time": "2025-06-10T16:55:49.054767",
     "status": "completed"
    },
    "tags": []
   },
   "source": [
    "Remeber when we said we need to put \"z\" through some function to get \"Y\"? We have to make that function now. That function is sigmoid function. Its a function that maps real number values to 0 or 1. That means, we send some \"z\", we get some 0 or 1, and those values are \"y\".\n",
    "\n",
    "The sigmoid function is defined as:\n",
    "\n",
    "$$\\sigma(x) = \\frac{1}{1 + e^{-x}}$$\n",
    "\n",
    "\n",
    "now we are going to implement the function here."
   ]
  },
  {
   "cell_type": "code",
   "execution_count": 10,
   "id": "a43573fb",
   "metadata": {
    "execution": {
     "iopub.execute_input": "2025-06-10T16:55:49.072812Z",
     "iopub.status.busy": "2025-06-10T16:55:49.072499Z",
     "iopub.status.idle": "2025-06-10T16:55:49.076840Z",
     "shell.execute_reply": "2025-06-10T16:55:49.075927Z"
    },
    "papermill": {
     "duration": 0.012594,
     "end_time": "2025-06-10T16:55:49.078460",
     "exception": false,
     "start_time": "2025-06-10T16:55:49.065866",
     "status": "completed"
    },
    "tags": []
   },
   "outputs": [],
   "source": [
    "def sigmoid(z):\n",
    "    return 1 / (1 + np.exp(-z))"
   ]
  },
  {
   "cell_type": "markdown",
   "id": "a719cc1a",
   "metadata": {
    "papermill": {
     "duration": 0.005383,
     "end_time": "2025-06-10T16:55:49.089566",
     "exception": false,
     "start_time": "2025-06-10T16:55:49.084183",
     "status": "completed"
    },
    "tags": []
   },
   "source": [
    "Now, the weight and bias we initiated randomly, aren't necessarily accurate. We need to change that. In fact, we need to change it a lot of times till it gives us a line that's the perfect fit. If not, it should be near perfect. Also, the need to see the cost or the error. Error is the difference of the real value of y and the hypothetical value of y. Here, the cost function is \n",
    "$$J(w) = -\\frac{1}{m} \\sum_{i=1}^{m} \\left[ y^{(i)} \\log a^{(i)} + (1 - y^{(i)}) \\log (1 - a^{(i)}) \\right]$$\n",
    "where:\n",
    "- \\( m \\) is the number of training examples.\n",
    "- \\( y^{(i)} \\) is the actual label (0 or 1).\n",
    "- \\( a^{(i)} \\) is the predicted probability from the sigmoid function.\n",
    "\n",
    "We have to update the weights till we find the optimal weights. That means, we have to find the perfect or near perfect w1, w2 weights for variable x1, x2 to plug into the equation.\n",
    "\n",
    "### Gradient Descent Formula\n",
    "\n",
    "The weight update rule in gradient descent is:\n",
    "\n",
    "$$ w := w - \\alpha \\frac{\\partial J}{\\partial w} $$\n",
    "\n",
    "where:\n",
    "- \\( w \\) represents the weights.\n",
    "- \\( \\alpha \\) is the learning rate.\n",
    "- \\( \\frac{\\partial J}{\\partial w} \\) is the gradient of the cost function with respect to \\( w \\).\n",
    "\n",
    "For logistic regression, the gradient descent update for weights and bias is:\n",
    "\n",
    "$$ w := w - \\alpha \\frac{1}{m} \\sum_{i=1}^{m} X^{(i)} (A^{(i)} - Y^{(i)}) $$\n",
    "\n",
    "$$ b := b - \\alpha \\frac{1}{m} \\sum_{i=1}^{m} (A^{(i)} - Y^{(i)}) $$\n",
    "\n",
    "where:\n",
    "- \\( m \\) is the number of training examples.\n",
    "- \\( X^{(i)} \\) is the input feature vector.\n",
    "- \\( A^{(i)} \\) is the predicted probability from the sigmoid function.\n",
    "- \\( Y^{(i)} \\) is the actual label.\n",
    "\n",
    "\n",
    "We will adjust the weights 1000 times. These attempts are called epochs. \n",
    "\n",
    "\n",
    "### What Happens in One Epoch: ###\n"
   ]
  },
  {
   "cell_type": "markdown",
   "id": "46af5fd4",
   "metadata": {
    "papermill": {
     "duration": 0.005248,
     "end_time": "2025-06-10T16:55:49.100417",
     "exception": false,
     "start_time": "2025-06-10T16:55:49.095169",
     "status": "completed"
    },
    "tags": []
   },
   "source": [
    "*Forward Pass:* Compute predictions (A) and cost for all 20 examples."
   ]
  },
  {
   "cell_type": "code",
   "execution_count": 11,
   "id": "d282a145",
   "metadata": {
    "execution": {
     "iopub.execute_input": "2025-06-10T16:55:49.112954Z",
     "iopub.status.busy": "2025-06-10T16:55:49.112367Z",
     "iopub.status.idle": "2025-06-10T16:55:49.117508Z",
     "shell.execute_reply": "2025-06-10T16:55:49.116545Z"
    },
    "papermill": {
     "duration": 0.013133,
     "end_time": "2025-06-10T16:55:49.119011",
     "exception": false,
     "start_time": "2025-06-10T16:55:49.105878",
     "status": "completed"
    },
    "tags": []
   },
   "outputs": [],
   "source": [
    "def forward(X, w):\n",
    "    z = np.dot(X, w)\n",
    "    A = sigmoid(z)  # Predicted probabilities\n",
    "    J = -np.mean(y * np.log(A) + (1 - y) * np.log(1 - A))  # Cross-entropy cost\n",
    "    return A, J"
   ]
  },
  {
   "cell_type": "markdown",
   "id": "69585f24",
   "metadata": {
    "papermill": {
     "duration": 0.005581,
     "end_time": "2025-06-10T16:55:49.130941",
     "exception": false,
     "start_time": "2025-06-10T16:55:49.125360",
     "status": "completed"
    },
    "tags": []
   },
   "source": [
    "*Backward Pass:* Calculate the gradient (dw) by averaging contributions from all examples."
   ]
  },
  {
   "cell_type": "code",
   "execution_count": 12,
   "id": "9d7b6316",
   "metadata": {
    "execution": {
     "iopub.execute_input": "2025-06-10T16:55:49.143753Z",
     "iopub.status.busy": "2025-06-10T16:55:49.142996Z",
     "iopub.status.idle": "2025-06-10T16:55:49.147735Z",
     "shell.execute_reply": "2025-06-10T16:55:49.146822Z"
    },
    "papermill": {
     "duration": 0.012812,
     "end_time": "2025-06-10T16:55:49.149303",
     "exception": false,
     "start_time": "2025-06-10T16:55:49.136491",
     "status": "completed"
    },
    "tags": []
   },
   "outputs": [],
   "source": [
    "def backward(X, A, y):\n",
    "    dw = np.dot(X.T, (A - y)) / len(y)  # Gradient for weights\n",
    "    return dw"
   ]
  },
  {
   "cell_type": "markdown",
   "id": "2a128c81",
   "metadata": {
    "papermill": {
     "duration": 0.005298,
     "end_time": "2025-06-10T16:55:49.160362",
     "exception": false,
     "start_time": "2025-06-10T16:55:49.155064",
     "status": "completed"
    },
    "tags": []
   },
   "source": [
    "*Update Weights:* Adjust w using the gradient: $$w = w - \\alpha * dw.$$\n",
    "Here, $$\\alpha$$ is the learning rate.\n",
    "\n",
    "We have the liberty to choose the learning rate. But we should be careful, since with smaller learning rate, we need way more epochs and if we set it too big, we might cross the optimal point."
   ]
  },
  {
   "cell_type": "code",
   "execution_count": 13,
   "id": "1379f642",
   "metadata": {
    "execution": {
     "iopub.execute_input": "2025-06-10T16:55:49.172742Z",
     "iopub.status.busy": "2025-06-10T16:55:49.172422Z",
     "iopub.status.idle": "2025-06-10T16:55:49.215331Z",
     "shell.execute_reply": "2025-06-10T16:55:49.214162Z"
    },
    "papermill": {
     "duration": 0.051174,
     "end_time": "2025-06-10T16:55:49.217035",
     "exception": false,
     "start_time": "2025-06-10T16:55:49.165861",
     "status": "completed"
    },
    "tags": []
   },
   "outputs": [
    {
     "name": "stdout",
     "output_type": "stream",
     "text": [
      "Epoch 0, Cost: 0.6931\n",
      "Epoch 100, Cost: 0.6351\n",
      "Epoch 200, Cost: 0.6333\n",
      "Epoch 300, Cost: 0.6315\n",
      "Epoch 400, Cost: 0.6297\n",
      "Epoch 500, Cost: 0.6280\n",
      "Epoch 600, Cost: 0.6263\n",
      "Epoch 700, Cost: 0.6247\n",
      "Epoch 800, Cost: 0.6231\n",
      "Epoch 900, Cost: 0.6216\n"
     ]
    }
   ],
   "source": [
    "alpha = 0.01  # Learning rate\n",
    "epochs = 1000\n",
    "\n",
    "for epoch in range(epochs):\n",
    "    A, cost = forward(X_bias, w)  # Forward pass\n",
    "    dw = backward(X_bias, A, y)   # Backward pass\n",
    "    w -= alpha * dw               # Update weights\n",
    "    \n",
    "    if epoch % 100 == 0:\n",
    "        print(f\"Epoch {epoch}, Cost: {cost:.4f}\")"
   ]
  },
  {
   "cell_type": "markdown",
   "id": "3bb81d98",
   "metadata": {
    "papermill": {
     "duration": 0.005543,
     "end_time": "2025-06-10T16:55:49.228709",
     "exception": false,
     "start_time": "2025-06-10T16:55:49.223166",
     "status": "completed"
    },
    "tags": []
   },
   "source": [
    "Now we check how good our hypothesis is after adjusting the weights **1,000** times!"
   ]
  },
  {
   "cell_type": "code",
   "execution_count": 14,
   "id": "1261c5fa",
   "metadata": {
    "execution": {
     "iopub.execute_input": "2025-06-10T16:55:49.241621Z",
     "iopub.status.busy": "2025-06-10T16:55:49.241294Z",
     "iopub.status.idle": "2025-06-10T16:55:49.246328Z",
     "shell.execute_reply": "2025-06-10T16:55:49.245419Z"
    },
    "papermill": {
     "duration": 0.013434,
     "end_time": "2025-06-10T16:55:49.247822",
     "exception": false,
     "start_time": "2025-06-10T16:55:49.234388",
     "status": "completed"
    },
    "tags": []
   },
   "outputs": [],
   "source": [
    "def predict(X, w):\n",
    "    A, _ = forward(X, w)\n",
    "    return (A >= 0.5).astype(int)  # Threshold at 0.5\n",
    "\n",
    "y_pred = predict(X_bias, w)"
   ]
  },
  {
   "cell_type": "code",
   "execution_count": 15,
   "id": "f27d6451",
   "metadata": {
    "execution": {
     "iopub.execute_input": "2025-06-10T16:55:49.260883Z",
     "iopub.status.busy": "2025-06-10T16:55:49.260571Z",
     "iopub.status.idle": "2025-06-10T16:55:49.265840Z",
     "shell.execute_reply": "2025-06-10T16:55:49.264962Z"
    },
    "papermill": {
     "duration": 0.013504,
     "end_time": "2025-06-10T16:55:49.267331",
     "exception": false,
     "start_time": "2025-06-10T16:55:49.253827",
     "status": "completed"
    },
    "tags": []
   },
   "outputs": [
    {
     "name": "stdout",
     "output_type": "stream",
     "text": [
      "Accuracy: 70.00%\n"
     ]
    }
   ],
   "source": [
    "accuracy = np.mean(y_pred == y)\n",
    "print(f\"Accuracy: {accuracy * 100:.2f}%\")"
   ]
  },
  {
   "cell_type": "markdown",
   "id": "57b69649",
   "metadata": {
    "papermill": {
     "duration": 0.005413,
     "end_time": "2025-06-10T16:55:49.278836",
     "exception": false,
     "start_time": "2025-06-10T16:55:49.273423",
     "status": "completed"
    },
    "tags": []
   },
   "source": [
    "Honestly, it's not good. **Only 60.00% accuracy!**\n",
    "But at least we learned something.\n",
    "Let's visually see  how our hypothesis worked."
   ]
  },
  {
   "cell_type": "code",
   "execution_count": 16,
   "id": "906e631c",
   "metadata": {
    "execution": {
     "iopub.execute_input": "2025-06-10T16:55:49.291442Z",
     "iopub.status.busy": "2025-06-10T16:55:49.291141Z",
     "iopub.status.idle": "2025-06-10T16:55:49.421923Z",
     "shell.execute_reply": "2025-06-10T16:55:49.421117Z"
    },
    "papermill": {
     "duration": 0.139119,
     "end_time": "2025-06-10T16:55:49.423537",
     "exception": false,
     "start_time": "2025-06-10T16:55:49.284418",
     "status": "completed"
    },
    "tags": []
   },
   "outputs": [
    {
     "data": {
      "image/png": "[encoded data removed]",
      "text/plain": [
       "<Figure size 640x480 with 1 Axes>"
      ]
     },
     "metadata": {},
     "output_type": "display_data"
    }
   ],
   "source": [
    "plt.scatter(X[:, 0], X[:, 1], c=y, cmap='coolwarm')\n",
    "x1 = np.linspace(1, 11, 100)\n",
    "x2 = -(w[0] + w[1] * x1) / w[2]  # Decision boundary line\n",
    "plt.plot(x1, x2, 'k-')\n",
    "plt.show()"
   ]
  }
 ],
 "metadata": {
  "kaggle": {
   "accelerator": "none",
   "dataSources": [],
   "dockerImageVersionId": 31040,
   "isGpuEnabled": false,
   "isInternetEnabled": true,
   "language": "python",
   "sourceType": "notebook"
  },
  "kernelspec": {
   "display_name": "Python 3",
   "language": "python",
   "name": "python3"
  },
  "language_info": {
   "codemirror_mode": {
    "name": "ipython",
    "version": 3
   },
   "file_extension": ".py",
   "mimetype": "text/x-python",
   "name": "python",
   "nbconvert_exporter": "python",
   "pygments_lexer": "ipython3",
   "version": "3.11.11"
  },
  "papermill": {
   "default_parameters": {},
   "duration": 10.547058,
   "end_time": "2025-06-10T16:55:50.050418",
   "environment_variables": {},
   "exception": null,
   "input_path": "__notebook__.ipynb",
   "output_path": "__notebook__.ipynb",
   "parameters": {},
   "start_time": "2025-06-10T16:55:39.503360",
   "version": "2.6.0"
  }
 },
 "nbformat": 4,
 "nbformat_minor": 5
}
