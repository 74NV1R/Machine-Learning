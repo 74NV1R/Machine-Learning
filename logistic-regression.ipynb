{
 "cells": [
  {
   "cell_type": "markdown",
   "id": "24a9ea2c",
   "metadata": {
    "papermill": {
     "duration": 0.009149,
     "end_time": "2025-06-20T13:56:20.963037",
     "exception": false,
     "start_time": "2025-06-20T13:56:20.953888",
     "status": "completed"
    },
    "tags": []
   },
   "source": [
    "We are about to do the Logistic Regression, one of the basic statistical methods. Even though the name says \"Regression\", its actually a binary classification. So the output is yes or no, 1 or 0, cat or not cat, delay or no delay etc. "
   ]
  },
  {
   "cell_type": "markdown",
   "id": "85eb7684",
   "metadata": {
    "papermill": {
     "duration": 0.008018,
     "end_time": "2025-06-20T13:56:20.979494",
     "exception": false,
     "start_time": "2025-06-20T13:56:20.971476",
     "status": "completed"
    },
    "tags": []
   },
   "source": [
    "To out learning curve smooth, lets start with something simple.\n",
    "Lets work with a simple dataset.\n",
    "And as always, at first we import the essential libraries, Pandas and NumPy."
   ]
  },
  {
   "cell_type": "code",
   "execution_count": 1,
   "id": "5344ba3a",
   "metadata": {
    "execution": {
     "iopub.execute_input": "2025-06-20T13:56:20.998362Z",
     "iopub.status.busy": "2025-06-20T13:56:20.997629Z",
     "iopub.status.idle": "2025-06-20T13:56:23.108552Z",
     "shell.execute_reply": "2025-06-20T13:56:23.107383Z"
    },
    "papermill": {
     "duration": 2.121998,
     "end_time": "2025-06-20T13:56:23.110428",
     "exception": false,
     "start_time": "2025-06-20T13:56:20.988430",
     "status": "completed"
    },
    "tags": []
   },
   "outputs": [],
   "source": [
    "import pandas as pd\n",
    "import numpy as np"
   ]
  },
  {
   "cell_type": "markdown",
   "id": "9d7dbd86",
   "metadata": {
    "papermill": {
     "duration": 0.008102,
     "end_time": "2025-06-20T13:56:23.127017",
     "exception": false,
     "start_time": "2025-06-20T13:56:23.118915",
     "status": "completed"
    },
    "tags": []
   },
   "source": [
    "### **Toy Dataset: Exam Performance Prediction (Binary Classification)**\n",
    "**Description**: Predict whether a student passes (`1`) or fails (`0`) based on study hours and sleep hours.\n",
    "\n",
    "```csv\n",
    "Study_Hours,Sleep_Hours,Pass\n",
    "1.0,4.0,0\n",
    "1.5,5.0,0\n",
    "2.0,6.0,0\n",
    "2.5,4.5,0\n",
    "3.0,5.5,0\n",
    "3.5,7.0,1\n",
    "4.0,6.5,1\n",
    "4.5,7.5,1\n",
    "5.0,8.0,1\n",
    "5.5,7.0,1\n",
    "6.0,5.0,0\n",
    "6.5,8.5,1\n",
    "7.0,9.0,1\n",
    "7.5,6.0,1\n",
    "8.0,9.5,1\n",
    "8.5,7.5,1\n",
    "9.0,10.0,1\n",
    "9.5,5.5,1\n",
    "10.0,8.5,1\n",
    "10.5,9.0,1\n",
    "```\n",
    "\n",
    "#### **Columns**\n",
    "- `Study_Hours`: Hours studied (numerical, range: 1.0–10.5)  \n",
    "- `Sleep_Hours`: Hours slept (numerical, range: 4.0–10.0)  \n",
    "- `Pass`: Binary label (`0` = Fail, `1` = Pass)  \n",
    "\n",
    "Lets visualize the data here, to see how it talks to us: "
   ]
  },
  {
   "cell_type": "code",
   "execution_count": 2,
   "id": "53e84bba",
   "metadata": {
    "execution": {
     "iopub.execute_input": "2025-06-20T13:56:23.145874Z",
     "iopub.status.busy": "2025-06-20T13:56:23.145431Z",
     "iopub.status.idle": "2025-06-20T13:56:23.158158Z",
     "shell.execute_reply": "2025-06-20T13:56:23.156722Z"
    },
    "papermill": {
     "duration": 0.024591,
     "end_time": "2025-06-20T13:56:23.160190",
     "exception": false,
     "start_time": "2025-06-20T13:56:23.135599",
     "status": "completed"
    },
    "tags": []
   },
   "outputs": [
    {
     "name": "stdout",
     "output_type": "stream",
     "text": [
      "Features (X):\n",
      " [[ 1.   4. ]\n",
      " [ 1.5  5. ]\n",
      " [ 2.   6. ]\n",
      " [ 2.5  4.5]\n",
      " [ 3.   5.5]\n",
      " [ 3.5  7. ]\n",
      " [ 4.   6.5]\n",
      " [ 4.5  7.5]\n",
      " [ 5.   8. ]\n",
      " [ 5.5  7. ]\n",
      " [ 6.   5. ]\n",
      " [ 6.5  8.5]\n",
      " [ 7.   9. ]\n",
      " [ 7.5  6. ]\n",
      " [ 8.   9.5]\n",
      " [ 8.5  7.5]\n",
      " [ 9.  10. ]\n",
      " [ 9.5  5.5]\n",
      " [10.   8.5]\n",
      " [10.5  9. ]]\n",
      "Labels (y): [0 0 0 0 0 1 1 1 1 1 0 1 1 1 1 1 1 1 1 1]\n"
     ]
    }
   ],
   "source": [
    "import numpy as np\n",
    "\n",
    "# Features (Study Hours, Sleep Hours)\n",
    "X = np.array([\n",
    "    [1.0, 4.0], [1.5, 5.0], [2.0, 6.0], [2.5, 4.5], [3.0, 5.5],\n",
    "    [3.5, 7.0], [4.0, 6.5], [4.5, 7.5], [5.0, 8.0], [5.5, 7.0],\n",
    "    [6.0, 5.0], [6.5, 8.5], [7.0, 9.0], [7.5, 6.0], [8.0, 9.5],\n",
    "    [8.5, 7.5], [9.0, 10.0], [9.5, 5.5], [10.0, 8.5], [10.5, 9.0]\n",
    "])\n",
    "\n",
    "# Labels (0 = Fail, 1 = Pass)\n",
    "y = np.array([0, 0, 0, 0, 0, 1, 1, 1, 1, 1, 0, 1, 1, 1, 1, 1, 1, 1, 1, 1])\n",
    "\n",
    "print(\"Features (X):\\n\", X)\n",
    "print(\"Labels (y):\", y)"
   ]
  },
  {
   "cell_type": "code",
   "execution_count": 3,
   "id": "b2231246",
   "metadata": {
    "execution": {
     "iopub.execute_input": "2025-06-20T13:56:23.178494Z",
     "iopub.status.busy": "2025-06-20T13:56:23.178145Z",
     "iopub.status.idle": "2025-06-20T13:56:23.186392Z",
     "shell.execute_reply": "2025-06-20T13:56:23.185402Z"
    },
    "papermill": {
     "duration": 0.01943,
     "end_time": "2025-06-20T13:56:23.188198",
     "exception": false,
     "start_time": "2025-06-20T13:56:23.168768",
     "status": "completed"
    },
    "tags": []
   },
   "outputs": [],
   "source": [
    "df = pd.DataFrame({\n",
    "    'Study_Hours': X[:, 0],  # First column of X\n",
    "    'Sleep_Hours': X[:, 1],  # Second column of X\n",
    "    'Pass': y\n",
    "})"
   ]
  },
  {
   "cell_type": "code",
   "execution_count": 4,
   "id": "9bf7e4d2",
   "metadata": {
    "execution": {
     "iopub.execute_input": "2025-06-20T13:56:23.206921Z",
     "iopub.status.busy": "2025-06-20T13:56:23.206079Z",
     "iopub.status.idle": "2025-06-20T13:56:23.599030Z",
     "shell.execute_reply": "2025-06-20T13:56:23.598011Z"
    },
    "papermill": {
     "duration": 0.404273,
     "end_time": "2025-06-20T13:56:23.600903",
     "exception": false,
     "start_time": "2025-06-20T13:56:23.196630",
     "status": "completed"
    },
    "tags": []
   },
   "outputs": [
    {
     "data": {
      "image/png": "[encoded data removed]",
      "text/plain": [
       "<Figure size 640x480 with 1 Axes>"
      ]
     },
     "metadata": {},
     "output_type": "display_data"
    }
   ],
   "source": [
    "import matplotlib.pyplot as plt\n",
    "\n",
    "plt.scatter(X[y == 0, 0], X[y == 0, 1], color='red', label='Fail')\n",
    "plt.scatter(X[y == 1, 0], X[y == 1, 1], color='green', label='Pass')\n",
    "plt.xlabel('Study Hours')\n",
    "plt.ylabel('Sleep Hours')\n",
    "plt.legend()\n",
    "plt.title('Exam Performance Dataset')\n",
    "plt.show()"
   ]
  },
  {
   "cell_type": "code",
   "execution_count": 5,
   "id": "fadf1a37",
   "metadata": {
    "execution": {
     "iopub.execute_input": "2025-06-20T13:56:23.620979Z",
     "iopub.status.busy": "2025-06-20T13:56:23.620650Z",
     "iopub.status.idle": "2025-06-20T13:56:25.887765Z",
     "shell.execute_reply": "2025-06-20T13:56:25.886738Z"
    },
    "papermill": {
     "duration": 2.278648,
     "end_time": "2025-06-20T13:56:25.889443",
     "exception": false,
     "start_time": "2025-06-20T13:56:23.610795",
     "status": "completed"
    },
    "tags": []
   },
   "outputs": [
    {
     "data": {
      "text/plain": [
       "<Axes: xlabel='Study_Hours', ylabel='Sleep_Hours'>"
      ]
     },
     "execution_count": 5,
     "metadata": {},
     "output_type": "execute_result"
    },
    {
     "data": {
      "image/png": "[encoded data removed]",
      "text/plain": [
       "<Figure size 640x480 with 1 Axes>"
      ]
     },
     "metadata": {},
     "output_type": "display_data"
    }
   ],
   "source": [
    "import seaborn as sns\n",
    "sns.scatterplot(data=df, x='Study_Hours', y='Sleep_Hours', hue='Pass', palette=['red', 'green'])"
   ]
  },
  {
   "cell_type": "markdown",
   "id": "65d07d2c",
   "metadata": {
    "papermill": {
     "duration": 0.009089,
     "end_time": "2025-06-20T13:56:25.908421",
     "exception": false,
     "start_time": "2025-06-20T13:56:25.899332",
     "status": "completed"
    },
    "tags": []
   },
   "source": [
    "Hmm, it's pretty easy. Because it's made up. We can almost divide the 0 and 1 simply by drawing a line between them. Lets see how that works. "
   ]
  },
  {
   "cell_type": "markdown",
   "id": "c98b9f7a",
   "metadata": {
    "papermill": {
     "duration": 0.009029,
     "end_time": "2025-06-20T13:56:25.926754",
     "exception": false,
     "start_time": "2025-06-20T13:56:25.917725",
     "status": "completed"
    },
    "tags": []
   },
   "source": [
    "As we said before, we can try to draw a straight line and separate the reds from greens. Lets take that approach.\n",
    "If we want to draw a line, we need a line's equation. The simplest equation we have is:\n",
    "\n",
    "$$Y = ax + b$$\n",
    "\n",
    "where, \"a\" is the slope of \"x\", the input variable. And \"b\" is the bias. \"a\" decide the rate of change in Y from x, and \"b\" is the headstart, or how much elevation we get.\n",
    "Now, we need to find Y, and Y isn't exactly ax + b. We have to apply a function to get Y. It's more like $$Y = some_function(ax + b)$$\n",
    "Let's take a another variable z, z = ax+b. Later we can get the value of Y from z.  \n",
    "One more problem, we have two different values of x here. The \"study hours\" and the \"sleep hours\".\n",
    "We can work with that. Essentialy, we have to assume that study hours and sleep hours dont affect result similarly. Probably study hour is more important? And sleep hour is not that important? But we can not run on 0 hour of sleep, can we?\n",
    "So, these two independant variable, x1 (study hour), and x2(sleep hour) should be \"weighted\" differently. \n",
    "Here, weights = [w1, w2]\n",
    "So, $$z = w1 * x1 + w2 * x2 + b$$"
   ]
  },
  {
   "cell_type": "code",
   "execution_count": 6,
   "id": "795e48af",
   "metadata": {
    "execution": {
     "iopub.execute_input": "2025-06-20T13:56:25.946799Z",
     "iopub.status.busy": "2025-06-20T13:56:25.946310Z",
     "iopub.status.idle": "2025-06-20T13:56:25.951814Z",
     "shell.execute_reply": "2025-06-20T13:56:25.950857Z"
    },
    "papermill": {
     "duration": 0.017923,
     "end_time": "2025-06-20T13:56:25.953837",
     "exception": false,
     "start_time": "2025-06-20T13:56:25.935914",
     "status": "completed"
    },
    "tags": []
   },
   "outputs": [],
   "source": [
    "X_bias = np.c_[np.ones((X.shape[0], 1)), X]"
   ]
  },
  {
   "cell_type": "markdown",
   "id": "62776f4c",
   "metadata": {
    "papermill": {
     "duration": 0.008977,
     "end_time": "2025-06-20T13:56:25.972446",
     "exception": false,
     "start_time": "2025-06-20T13:56:25.963469",
     "status": "completed"
    },
    "tags": []
   },
   "source": [
    "X_bias is an array that consist of b, x1, x2."
   ]
  },
  {
   "cell_type": "markdown",
   "id": "dc0412ac",
   "metadata": {
    "papermill": {
     "duration": 0.009739,
     "end_time": "2025-06-20T13:56:25.992760",
     "exception": false,
     "start_time": "2025-06-20T13:56:25.983021",
     "status": "completed"
    },
    "tags": []
   },
   "source": [
    "We are going to split the dataset into train and test part. Our regression will learn from train set, and test the hypothesis on the test set.\n",
    "We are doing 80% 20% split here."
   ]
  },
  {
   "cell_type": "code",
   "execution_count": 7,
   "id": "c08d80ba",
   "metadata": {
    "execution": {
     "iopub.execute_input": "2025-06-20T13:56:26.013161Z",
     "iopub.status.busy": "2025-06-20T13:56:26.012833Z",
     "iopub.status.idle": "2025-06-20T13:56:26.017847Z",
     "shell.execute_reply": "2025-06-20T13:56:26.016914Z"
    },
    "papermill": {
     "duration": 0.017427,
     "end_time": "2025-06-20T13:56:26.019499",
     "exception": false,
     "start_time": "2025-06-20T13:56:26.002072",
     "status": "completed"
    },
    "tags": []
   },
   "outputs": [],
   "source": [
    "np.random.shuffle(X_bias) #shuffling the dataset"
   ]
  },
  {
   "cell_type": "code",
   "execution_count": 8,
   "id": "8a5057e6",
   "metadata": {
    "execution": {
     "iopub.execute_input": "2025-06-20T13:56:26.040143Z",
     "iopub.status.busy": "2025-06-20T13:56:26.039387Z",
     "iopub.status.idle": "2025-06-20T13:56:26.044974Z",
     "shell.execute_reply": "2025-06-20T13:56:26.043761Z"
    },
    "papermill": {
     "duration": 0.017839,
     "end_time": "2025-06-20T13:56:26.046807",
     "exception": false,
     "start_time": "2025-06-20T13:56:26.028968",
     "status": "completed"
    },
    "tags": []
   },
   "outputs": [],
   "source": [
    "train_size = int(len(X_bias) * 0.8)  # 80% of the total length\n",
    "train_set = X_bias[:train_size]  # First 80% of elements\n",
    "test_set = X_bias[train_size:]  # Remaining 20% of elements"
   ]
  },
  {
   "cell_type": "markdown",
   "id": "b59bb214",
   "metadata": {
    "papermill": {
     "duration": 0.009588,
     "end_time": "2025-06-20T13:56:26.066399",
     "exception": false,
     "start_time": "2025-06-20T13:56:26.056811",
     "status": "completed"
    },
    "tags": []
   },
   "source": [
    "We are initializing weight array."
   ]
  },
  {
   "cell_type": "code",
   "execution_count": 9,
   "id": "51c243a6",
   "metadata": {
    "execution": {
     "iopub.execute_input": "2025-06-20T13:56:26.086738Z",
     "iopub.status.busy": "2025-06-20T13:56:26.086435Z",
     "iopub.status.idle": "2025-06-20T13:56:26.091202Z",
     "shell.execute_reply": "2025-06-20T13:56:26.090201Z"
    },
    "papermill": {
     "duration": 0.017161,
     "end_time": "2025-06-20T13:56:26.092791",
     "exception": false,
     "start_time": "2025-06-20T13:56:26.075630",
     "status": "completed"
    },
    "tags": []
   },
   "outputs": [],
   "source": [
    "w = np.zeros(X_bias.shape[1])  # Shape: (3,) for [bias, w1, w2]"
   ]
  },
  {
   "cell_type": "markdown",
   "id": "6910735a",
   "metadata": {
    "papermill": {
     "duration": 0.009054,
     "end_time": "2025-06-20T13:56:26.170261",
     "exception": false,
     "start_time": "2025-06-20T13:56:26.161207",
     "status": "completed"
    },
    "tags": []
   },
   "source": [
    "Remeber when we said we need to put \"z\" through some function to get \"Y\"? We have to make that function now. That function is sigmoid function. Its a function that maps real number values to 0 or 1. That means, we send some \"z\", we get some 0 or 1, and those values are \"y\".\n",
    "\n",
    "The sigmoid function is defined as:\n",
    "\n",
    "$$\\sigma(x) = \\frac{1}{1 + e^{-x}}$$\n",
    "\n",
    "\n",
    "now we are going to implement the function here."
   ]
  },
  {
   "cell_type": "code",
   "execution_count": 10,
   "id": "0c0186c1",
   "metadata": {
    "execution": {
     "iopub.execute_input": "2025-06-20T13:56:26.190202Z",
     "iopub.status.busy": "2025-06-20T13:56:26.189800Z",
     "iopub.status.idle": "2025-06-20T13:56:26.195106Z",
     "shell.execute_reply": "2025-06-20T13:56:26.194113Z"
    },
    "papermill": {
     "duration": 0.01728,
     "end_time": "2025-06-20T13:56:26.196747",
     "exception": false,
     "start_time": "2025-06-20T13:56:26.179467",
     "status": "completed"
    },
    "tags": []
   },
   "outputs": [],
   "source": [
    "def sigmoid(z):\n",
    "    return 1 / (1 + np.exp(-z))"
   ]
  },
  {
   "cell_type": "markdown",
   "id": "0ecb7a3a",
   "metadata": {
    "papermill": {
     "duration": 0.009053,
     "end_time": "2025-06-20T13:56:26.215458",
     "exception": false,
     "start_time": "2025-06-20T13:56:26.206405",
     "status": "completed"
    },
    "tags": []
   },
   "source": [
    "Now, the weight and bias we initiated randomly, aren't necessarily accurate. We need to change that. In fact, we need to change it a lot of times till it gives us a line that's the perfect fit. If not, it should be near perfect. Also, the need to see the cost or the error. Error is the difference of the real value of y and the hypothetical value of y. Here, the cost function is \n",
    "$$J(w) = -\\frac{1}{m} \\sum_{i=1}^{m} \\left[ y^{(i)} \\log a^{(i)} + (1 - y^{(i)}) \\log (1 - a^{(i)}) \\right]$$\n",
    "where:\n",
    "- \\( m \\) is the number of training examples.\n",
    "- \\( y^{(i)} \\) is the actual label (0 or 1).\n",
    "- \\( a^{(i)} \\) is the predicted probability from the sigmoid function.\n",
    "\n",
    "We have to update the weights till we find the optimal weights. That means, we have to find the perfect or near perfect w1, w2 weights for variable x1, x2 to plug into the equation.\n",
    "\n",
    "### Gradient Descent Formula\n",
    "\n",
    "The weight update rule in gradient descent is:\n",
    "\n",
    "$$ w := w - \\alpha \\frac{\\partial J}{\\partial w} $$\n",
    "\n",
    "where:\n",
    "- \\( w \\) represents the weights.\n",
    "- \\( \\alpha \\) is the learning rate.\n",
    "- \\( \\frac{\\partial J}{\\partial w} \\) is the gradient of the cost function with respect to \\( w \\).\n",
    "\n",
    "For logistic regression, the gradient descent update for weights and bias is:\n",
    "\n",
    "$$ w := w - \\alpha \\frac{1}{m} \\sum_{i=1}^{m} X^{(i)} (A^{(i)} - Y^{(i)}) $$\n",
    "\n",
    "$$ b := b - \\alpha \\frac{1}{m} \\sum_{i=1}^{m} (A^{(i)} - Y^{(i)}) $$\n",
    "\n",
    "where:\n",
    "- \\( m \\) is the number of training examples.\n",
    "- \\( X^{(i)} \\) is the input feature vector.\n",
    "- \\( A^{(i)} \\) is the predicted probability from the sigmoid function.\n",
    "- \\( Y^{(i)} \\) is the actual label.\n",
    "\n",
    "\n",
    "We will adjust the weights 1000 times. These attempts are called epochs. \n",
    "\n",
    "\n",
    "### What Happens in One Epoch: ###\n"
   ]
  },
  {
   "cell_type": "markdown",
   "id": "cacccb7e",
   "metadata": {
    "papermill": {
     "duration": 0.00896,
     "end_time": "2025-06-20T13:56:26.233715",
     "exception": false,
     "start_time": "2025-06-20T13:56:26.224755",
     "status": "completed"
    },
    "tags": []
   },
   "source": [
    "*Forward Pass:* Compute predictions (A) and cost for all 20 examples."
   ]
  },
  {
   "cell_type": "code",
   "execution_count": 11,
   "id": "85166abc",
   "metadata": {
    "execution": {
     "iopub.execute_input": "2025-06-20T13:56:26.253987Z",
     "iopub.status.busy": "2025-06-20T13:56:26.253059Z",
     "iopub.status.idle": "2025-06-20T13:56:26.258769Z",
     "shell.execute_reply": "2025-06-20T13:56:26.257715Z"
    },
    "papermill": {
     "duration": 0.017592,
     "end_time": "2025-06-20T13:56:26.260401",
     "exception": false,
     "start_time": "2025-06-20T13:56:26.242809",
     "status": "completed"
    },
    "tags": []
   },
   "outputs": [],
   "source": [
    "def forward(X, w):\n",
    "    z = np.dot(X, w)\n",
    "    A = sigmoid(z)  # Predicted probabilities\n",
    "    J = -np.mean(y * np.log(A) + (1 - y) * np.log(1 - A))  # Cross-entropy cost\n",
    "    return A, J"
   ]
  },
  {
   "cell_type": "markdown",
   "id": "12c3cc32",
   "metadata": {
    "papermill": {
     "duration": 0.009481,
     "end_time": "2025-06-20T13:56:26.279878",
     "exception": false,
     "start_time": "2025-06-20T13:56:26.270397",
     "status": "completed"
    },
    "tags": []
   },
   "source": [
    "*Backward Pass:* Calculate the gradient (dw) by averaging contributions from all examples."
   ]
  },
  {
   "cell_type": "code",
   "execution_count": 12,
   "id": "814da028",
   "metadata": {
    "execution": {
     "iopub.execute_input": "2025-06-20T13:56:26.301220Z",
     "iopub.status.busy": "2025-06-20T13:56:26.300863Z",
     "iopub.status.idle": "2025-06-20T13:56:26.305620Z",
     "shell.execute_reply": "2025-06-20T13:56:26.304863Z"
    },
    "papermill": {
     "duration": 0.016525,
     "end_time": "2025-06-20T13:56:26.307121",
     "exception": false,
     "start_time": "2025-06-20T13:56:26.290596",
     "status": "completed"
    },
    "tags": []
   },
   "outputs": [],
   "source": [
    "def backward(X, A, y):\n",
    "    dw = np.dot(X.T, (A - y)) / len(y)  # Gradient for weights\n",
    "    return dw"
   ]
  },
  {
   "cell_type": "markdown",
   "id": "d8ed4963",
   "metadata": {
    "papermill": {
     "duration": 0.009156,
     "end_time": "2025-06-20T13:56:26.325713",
     "exception": false,
     "start_time": "2025-06-20T13:56:26.316557",
     "status": "completed"
    },
    "tags": []
   },
   "source": [
    "*Update Weights:* Adjust w using the gradient: $$w = w - \\alpha * dw.$$\n",
    "Here, $$\\alpha$$ is the learning rate.\n",
    "\n",
    "We have the liberty to choose the learning rate. But we should be careful, since with smaller learning rate, we need way more epochs and if we set it too big, we might cross the optimal point."
   ]
  },
  {
   "cell_type": "code",
   "execution_count": 13,
   "id": "18eea802",
   "metadata": {
    "execution": {
     "iopub.execute_input": "2025-06-20T13:56:26.345719Z",
     "iopub.status.busy": "2025-06-20T13:56:26.345426Z",
     "iopub.status.idle": "2025-06-20T13:56:26.359764Z",
     "shell.execute_reply": "2025-06-20T13:56:26.358434Z"
    },
    "papermill": {
     "duration": 0.026345,
     "end_time": "2025-06-20T13:56:26.361426",
     "exception": false,
     "start_time": "2025-06-20T13:56:26.335081",
     "status": "completed"
    },
    "tags": []
   },
   "outputs": [
    {
     "name": "stdout",
     "output_type": "stream",
     "text": [
      "Epoch 0, Cost: 0.6931\n"
     ]
    }
   ],
   "source": [
    "alpha = 0.01  # Learning rate\n",
    "epochs = 100\n",
    "\n",
    "for epoch in range(epochs):\n",
    "    A, cost = forward(X_bias, w)  # Forward pass\n",
    "    dw = backward(X_bias, A, y)   # Backward pass\n",
    "    w -= alpha * dw               # Update weights\n",
    "    \n",
    "    if epoch % 100 == 0:\n",
    "        print(f\"Epoch {epoch}, Cost: {cost:.4f}\")"
   ]
  },
  {
   "cell_type": "markdown",
   "id": "567b86f9",
   "metadata": {
    "papermill": {
     "duration": 0.009127,
     "end_time": "2025-06-20T13:56:26.380142",
     "exception": false,
     "start_time": "2025-06-20T13:56:26.371015",
     "status": "completed"
    },
    "tags": []
   },
   "source": [
    "Now we check how good our hypothesis is after adjusting the weights **1,000** times!"
   ]
  },
  {
   "cell_type": "code",
   "execution_count": 14,
   "id": "2526ea22",
   "metadata": {
    "execution": {
     "iopub.execute_input": "2025-06-20T13:56:26.401989Z",
     "iopub.status.busy": "2025-06-20T13:56:26.401598Z",
     "iopub.status.idle": "2025-06-20T13:56:26.407327Z",
     "shell.execute_reply": "2025-06-20T13:56:26.406369Z"
    },
    "papermill": {
     "duration": 0.019557,
     "end_time": "2025-06-20T13:56:26.409081",
     "exception": false,
     "start_time": "2025-06-20T13:56:26.389524",
     "status": "completed"
    },
    "tags": []
   },
   "outputs": [],
   "source": [
    "def predict(X, w):\n",
    "    A, _ = forward(X, w)\n",
    "    return (A >= 0.5).astype(int)  # Threshold at 0.5\n",
    "\n",
    "y_pred = predict(X_bias, w)"
   ]
  },
  {
   "cell_type": "code",
   "execution_count": 15,
   "id": "804e2ab4",
   "metadata": {
    "execution": {
     "iopub.execute_input": "2025-06-20T13:56:26.430319Z",
     "iopub.status.busy": "2025-06-20T13:56:26.430027Z",
     "iopub.status.idle": "2025-06-20T13:56:26.434972Z",
     "shell.execute_reply": "2025-06-20T13:56:26.434183Z"
    },
    "papermill": {
     "duration": 0.017538,
     "end_time": "2025-06-20T13:56:26.436611",
     "exception": false,
     "start_time": "2025-06-20T13:56:26.419073",
     "status": "completed"
    },
    "tags": []
   },
   "outputs": [
    {
     "name": "stdout",
     "output_type": "stream",
     "text": [
      "Accuracy: 70.00%\n"
     ]
    }
   ],
   "source": [
    "accuracy = np.mean(y_pred == y)\n",
    "print(f\"Accuracy: {accuracy * 100:.2f}%\")"
   ]
  },
  {
   "cell_type": "markdown",
   "id": "37e32ae1",
   "metadata": {
    "papermill": {
     "duration": 0.009396,
     "end_time": "2025-06-20T13:56:26.455807",
     "exception": false,
     "start_time": "2025-06-20T13:56:26.446411",
     "status": "completed"
    },
    "tags": []
   },
   "source": [
    "Honestly, it's not good. **Only 70.00% accuracy!**\n",
    "But at least we learned something.\n",
    "Let's visually see  how our hypothesis worked."
   ]
  },
  {
   "cell_type": "code",
   "execution_count": 16,
   "id": "eed01161",
   "metadata": {
    "execution": {
     "iopub.execute_input": "2025-06-20T13:56:26.476838Z",
     "iopub.status.busy": "2025-06-20T13:56:26.476481Z",
     "iopub.status.idle": "2025-06-20T13:56:26.719087Z",
     "shell.execute_reply": "2025-06-20T13:56:26.718008Z"
    },
    "papermill": {
     "duration": 0.255658,
     "end_time": "2025-06-20T13:56:26.720884",
     "exception": false,
     "start_time": "2025-06-20T13:56:26.465226",
     "status": "completed"
    },
    "tags": []
   },
   "outputs": [
    {
     "data": {
      "image/png": "[encoded data removed]",
      "text/plain": [
       "<Figure size 500x300 with 1 Axes>"
      ]
     },
     "metadata": {},
     "output_type": "display_data"
    }
   ],
   "source": [
    "# Fix Sleep_Hours at median (or mean)\n",
    "sleep_fixed = np.median(X[:, 1])  # Try np.mean() if needed\n",
    "\n",
    "# Create a range of Study_Hours values\n",
    "study_range = np.linspace(min(X[:, 0]), max(X[:, 0]), 100)\n",
    "\n",
    "# Compute predicted probabilities (A) for each Study_Hours\n",
    "z = w[0] + w[1] * study_range + w[2] * sleep_fixed\n",
    "A = sigmoid(z)  # S-curve probabilities\n",
    "\n",
    "# Plot\n",
    "plt.figure(figsize=(5, 3))\n",
    "plt.plot(study_range, A, color='red', linewidth=3, label='Sigmoid Curve')\n",
    "plt.scatter(X[:, 0], y, color='blue', label='True Labels (0/1)')  # Actual data\n",
    "plt.xlabel('Study_Hours')\n",
    "plt.ylabel('Probability of Passing (A)')\n",
    "plt.title('S-shaped Sigmoid Curve: P(Pass) vs. Study_Hours')\n",
    "plt.axhline(y=0.5, color='gray', linestyle='--', label='Decision Threshold (A=0.5)')\n",
    "plt.legend()\n",
    "plt.grid(True)\n",
    "plt.show()"
   ]
  },
  {
   "cell_type": "markdown",
   "id": "0bc87255",
   "metadata": {
    "papermill": {
     "duration": 0.010475,
     "end_time": "2025-06-20T13:56:26.741978",
     "exception": false,
     "start_time": "2025-06-20T13:56:26.731503",
     "status": "completed"
    },
    "tags": []
   },
   "source": [
    "### Real dataset ###\n",
    "\n",
    "As the next step of our learning, we should see how to apply our knowledge on real life dataset."
   ]
  },
  {
   "cell_type": "markdown",
   "id": "cd293ec6",
   "metadata": {
    "papermill": {
     "duration": 0.009995,
     "end_time": "2025-06-20T13:56:26.762221",
     "exception": false,
     "start_time": "2025-06-20T13:56:26.752226",
     "status": "completed"
    },
    "tags": []
   },
   "source": [
    "This is dataset that consists of cancer images and images that are not of cancer. This could be a good dataset to train a model for binary classification."
   ]
  },
  {
   "cell_type": "code",
   "execution_count": 17,
   "id": "eda8da0d",
   "metadata": {
    "execution": {
     "iopub.execute_input": "2025-06-20T13:56:26.784178Z",
     "iopub.status.busy": "2025-06-20T13:56:26.783821Z",
     "iopub.status.idle": "2025-06-20T13:56:30.633423Z",
     "shell.execute_reply": "2025-06-20T13:56:30.632332Z"
    },
    "papermill": {
     "duration": 3.862703,
     "end_time": "2025-06-20T13:56:30.635099",
     "exception": false,
     "start_time": "2025-06-20T13:56:26.772396",
     "status": "completed"
    },
    "tags": []
   },
   "outputs": [
    {
     "name": "stdout",
     "output_type": "stream",
     "text": [
      "Loaded images shape: (288, 64, 64, 3)\n",
      "Labels shape: (288,)\n"
     ]
    }
   ],
   "source": [
    "import os\n",
    "import cv2\n",
    "import numpy as np\n",
    "\n",
    "# Path to your dataset\n",
    "dataset_path = '/kaggle/input/skin-cancer-binary-classification-dataset/Skin_Data'\n",
    "\n",
    "# Initialize lists\n",
    "images = []\n",
    "labels = []\n",
    "\n",
    "# Label map based on top-level folder names\n",
    "label_map = {'Cancer': 1, 'Non_Cancer': 0}\n",
    "\n",
    "# Walk through directory tree\n",
    "for category in ['Cancer', 'Non_Cancer']:\n",
    "    for split in ['Training', 'Testing']:\n",
    "        folder_path = os.path.join(dataset_path, category, split)\n",
    "        for filename in os.listdir(folder_path):\n",
    "            if filename.lower().endswith(('.jpg', '.png')):\n",
    "                img_path = os.path.join(folder_path, filename)\n",
    "                img = cv2.imread(img_path)\n",
    "                img = cv2.resize(img, (64, 64))  # Resize to match model input\n",
    "                images.append(img)\n",
    "                labels.append(label_map[category])\n",
    "\n",
    "# Convert to NumPy arrays\n",
    "X = np.array(images) / 255.0  # Normalize pixel values\n",
    "y = np.array(labels)\n",
    "\n",
    "print(\"Loaded images shape:\", X.shape)\n",
    "print(\"Labels shape:\", y.shape)\n"
   ]
  },
  {
   "cell_type": "code",
   "execution_count": 18,
   "id": "f133541c",
   "metadata": {
    "execution": {
     "iopub.execute_input": "2025-06-20T13:56:30.656921Z",
     "iopub.status.busy": "2025-06-20T13:56:30.656604Z",
     "iopub.status.idle": "2025-06-20T13:56:30.765627Z",
     "shell.execute_reply": "2025-06-20T13:56:30.764222Z"
    },
    "papermill": {
     "duration": 0.123738,
     "end_time": "2025-06-20T13:56:30.769165",
     "exception": false,
     "start_time": "2025-06-20T13:56:30.645427",
     "status": "completed"
    },
    "tags": []
   },
   "outputs": [
    {
     "data": {
      "image/png": "[encoded data removed]",
      "text/plain": [
       "<Figure size 640x480 with 1 Axes>"
      ]
     },
     "metadata": {},
     "output_type": "display_data"
    }
   ],
   "source": [
    "import matplotlib.pyplot as plt\n",
    "\n",
    "idx = 166\n",
    "\n",
    "plt.imshow(X[idx])\n",
    "plt.axis('off')\n",
    "plt.title(\"Cancer\" if y[idx] == 1 else 'Non Cancer')\n",
    "plt.show()"
   ]
  },
  {
   "cell_type": "markdown",
   "id": "cc5a9284",
   "metadata": {
    "papermill": {
     "duration": 0.011349,
     "end_time": "2025-06-20T13:56:30.793190",
     "exception": false,
     "start_time": "2025-06-20T13:56:30.781841",
     "status": "completed"
    },
    "tags": []
   },
   "source": [
    "Now, we have loaded the images in an array X and the labels in an array y. But there is a slight problem."
   ]
  },
  {
   "cell_type": "code",
   "execution_count": 19,
   "id": "54c82827",
   "metadata": {
    "execution": {
     "iopub.execute_input": "2025-06-20T13:56:30.829849Z",
     "iopub.status.busy": "2025-06-20T13:56:30.829518Z",
     "iopub.status.idle": "2025-06-20T13:56:30.835636Z",
     "shell.execute_reply": "2025-06-20T13:56:30.834714Z"
    },
    "papermill": {
     "duration": 0.026962,
     "end_time": "2025-06-20T13:56:30.837156",
     "exception": false,
     "start_time": "2025-06-20T13:56:30.810194",
     "status": "completed"
    },
    "tags": []
   },
   "outputs": [
    {
     "data": {
      "text/plain": [
       "(288, 64, 64, 3)"
      ]
     },
     "execution_count": 19,
     "metadata": {},
     "output_type": "execute_result"
    }
   ],
   "source": [
    "X.shape"
   ]
  },
  {
   "cell_type": "markdown",
   "id": "9857affb",
   "metadata": {
    "papermill": {
     "duration": 0.013578,
     "end_time": "2025-06-20T13:56:30.862593",
     "exception": false,
     "start_time": "2025-06-20T13:56:30.849015",
     "status": "completed"
    },
    "tags": []
   },
   "source": [
    "There are 288 examples. That's not the problem. The problem is, instead of two attributes like \"study hours\" and \"sleep hours\", we have an 3D array of shape (64, 64, 3) size!\n",
    "That is because, the images are 64 * 64 pixels big, and has 3 color combinations (RGB values). So we have to deal with 64 * 64 * 3 = 12,288 numerical values for each images! But we can do that.\n",
    "\n",
    "To deal with 3 dimensional instances, at first we have to flatten them. making X.shape = (288, 64, 64, 3) to X.shape = (288, 12288)"
   ]
  },
  {
   "cell_type": "code",
   "execution_count": 20,
   "id": "ba8ff4c4",
   "metadata": {
    "execution": {
     "iopub.execute_input": "2025-06-20T13:56:30.897223Z",
     "iopub.status.busy": "2025-06-20T13:56:30.896095Z",
     "iopub.status.idle": "2025-06-20T13:56:30.903804Z",
     "shell.execute_reply": "2025-06-20T13:56:30.902752Z"
    },
    "papermill": {
     "duration": 0.028756,
     "end_time": "2025-06-20T13:56:30.905554",
     "exception": false,
     "start_time": "2025-06-20T13:56:30.876798",
     "status": "completed"
    },
    "tags": []
   },
   "outputs": [
    {
     "data": {
      "text/plain": [
       "(288, 12288)"
      ]
     },
     "execution_count": 20,
     "metadata": {},
     "output_type": "execute_result"
    }
   ],
   "source": [
    "X_flattened = X.reshape(X.shape[0], -1)  # Shape: (288, 12288)\n",
    "X_flattened.shape"
   ]
  },
  {
   "cell_type": "markdown",
   "id": "30fe55e1",
   "metadata": {
    "papermill": {
     "duration": 0.0109,
     "end_time": "2025-06-20T13:56:30.928097",
     "exception": false,
     "start_time": "2025-06-20T13:56:30.917197",
     "status": "completed"
    },
    "tags": []
   },
   "source": [
    "Now, all of these 188 * 12288 values are between 0 to 255 because they are RGB values. We normalize this value by dividing them by 255, so now they have values between 0.0 and 1.0."
   ]
  },
  {
   "cell_type": "code",
   "execution_count": 21,
   "id": "c9e8c4b2",
   "metadata": {
    "execution": {
     "iopub.execute_input": "2025-06-20T13:56:30.951657Z",
     "iopub.status.busy": "2025-06-20T13:56:30.951342Z",
     "iopub.status.idle": "2025-06-20T13:56:30.967048Z",
     "shell.execute_reply": "2025-06-20T13:56:30.966029Z"
    },
    "papermill": {
     "duration": 0.029686,
     "end_time": "2025-06-20T13:56:30.968904",
     "exception": false,
     "start_time": "2025-06-20T13:56:30.939218",
     "status": "completed"
    },
    "tags": []
   },
   "outputs": [],
   "source": [
    "X_normalized = X_flattened / 255.0"
   ]
  },
  {
   "cell_type": "markdown",
   "id": "13f70515",
   "metadata": {
    "papermill": {
     "duration": 0.011267,
     "end_time": "2025-06-20T13:56:30.991414",
     "exception": false,
     "start_time": "2025-06-20T13:56:30.980147",
     "status": "completed"
    },
    "tags": []
   },
   "source": [
    "We are appending bias weight with the dataset now."
   ]
  },
  {
   "cell_type": "code",
   "execution_count": 22,
   "id": "bc2c88de",
   "metadata": {
    "execution": {
     "iopub.execute_input": "2025-06-20T13:56:31.017834Z",
     "iopub.status.busy": "2025-06-20T13:56:31.017394Z",
     "iopub.status.idle": "2025-06-20T13:56:31.042087Z",
     "shell.execute_reply": "2025-06-20T13:56:31.040847Z"
    },
    "papermill": {
     "duration": 0.041566,
     "end_time": "2025-06-20T13:56:31.045493",
     "exception": false,
     "start_time": "2025-06-20T13:56:31.003927",
     "status": "completed"
    },
    "tags": []
   },
   "outputs": [],
   "source": [
    "X_bias = np.c_[np.ones(X_normalized.shape[0]), X_normalized]  # Shape: (288, 12289)"
   ]
  },
  {
   "cell_type": "markdown",
   "id": "0ef84875",
   "metadata": {
    "papermill": {
     "duration": 0.012317,
     "end_time": "2025-06-20T13:56:31.071024",
     "exception": false,
     "start_time": "2025-06-20T13:56:31.058707",
     "status": "completed"
    },
    "tags": []
   },
   "source": [
    " Here, the weight matrix is initiated, and the shape is 12289. Why 12289 instead of 12288? because, $$z = w_0 + w_1x_1 + w_2x_2 + w_3x_3 + ...... + w_12288x_12288 $$"
   ]
  },
  {
   "cell_type": "markdown",
   "id": "b280068c",
   "metadata": {
    "papermill": {
     "duration": 0.012314,
     "end_time": "2025-06-20T13:56:31.095725",
     "exception": false,
     "start_time": "2025-06-20T13:56:31.083411",
     "status": "completed"
    },
    "tags": []
   },
   "source": [
    "we have to initiate bias matrices. They have to be initiated randomly and the values shouldn't be very large."
   ]
  },
  {
   "cell_type": "code",
   "execution_count": 23,
   "id": "92558fac",
   "metadata": {
    "execution": {
     "iopub.execute_input": "2025-06-20T13:56:31.119993Z",
     "iopub.status.busy": "2025-06-20T13:56:31.119639Z",
     "iopub.status.idle": "2025-06-20T13:56:31.124892Z",
     "shell.execute_reply": "2025-06-20T13:56:31.123866Z"
    },
    "papermill": {
     "duration": 0.019765,
     "end_time": "2025-06-20T13:56:31.126777",
     "exception": false,
     "start_time": "2025-06-20T13:56:31.107012",
     "status": "completed"
    },
    "tags": []
   },
   "outputs": [],
   "source": [
    "np.random.seed(42)\n",
    "w = np.random.randn(X_bias.shape[1]) * 0.01  # Shape: (12289,)"
   ]
  },
  {
   "cell_type": "markdown",
   "id": "46ba755e",
   "metadata": {
    "papermill": {
     "duration": 0.011118,
     "end_time": "2025-06-20T13:56:31.149520",
     "exception": false,
     "start_time": "2025-06-20T13:56:31.138402",
     "status": "completed"
    },
    "tags": []
   },
   "source": [
    "Now we train our model. We run it for 1000 epochs and learning rate = 0.01"
   ]
  },
  {
   "cell_type": "code",
   "execution_count": 24,
   "id": "667db9c2",
   "metadata": {
    "execution": {
     "iopub.execute_input": "2025-06-20T13:56:31.173165Z",
     "iopub.status.busy": "2025-06-20T13:56:31.172735Z",
     "iopub.status.idle": "2025-06-20T13:56:33.329917Z",
     "shell.execute_reply": "2025-06-20T13:56:33.328708Z"
    },
    "papermill": {
     "duration": 2.171115,
     "end_time": "2025-06-20T13:56:33.331706",
     "exception": false,
     "start_time": "2025-06-20T13:56:31.160591",
     "status": "completed"
    },
    "tags": []
   },
   "outputs": [
    {
     "name": "stdout",
     "output_type": "stream",
     "text": [
      "Epoch 0, Loss: 0.6940\n",
      "Epoch 100, Loss: 0.6582\n",
      "Epoch 200, Loss: 0.6369\n",
      "Epoch 300, Loss: 0.6241\n",
      "Epoch 400, Loss: 0.6162\n",
      "Epoch 500, Loss: 0.6114\n",
      "Epoch 600, Loss: 0.6084\n",
      "Epoch 700, Loss: 0.6065\n",
      "Epoch 800, Loss: 0.6053\n",
      "Epoch 900, Loss: 0.6045\n"
     ]
    }
   ],
   "source": [
    "learning_rate = 0.01\n",
    "epochs = 1000\n",
    "\n",
    "for epoch in range(epochs):\n",
    "    # Forward pass\n",
    "    A, loss = forward(X_bias, w)\n",
    "    \n",
    "    # Backward pass\n",
    "    dw = backward(X_bias, A, y)\n",
    "    \n",
    "    # Update weights\n",
    "    w -= learning_rate * dw\n",
    "    \n",
    "    # Print progress\n",
    "    if epoch % 100 == 0:\n",
    "        print(f\"Epoch {epoch}, Loss: {loss:.4f}\")"
   ]
  },
  {
   "cell_type": "markdown",
   "id": "f7464575",
   "metadata": {
    "papermill": {
     "duration": 0.012085,
     "end_time": "2025-06-20T13:56:33.355423",
     "exception": false,
     "start_time": "2025-06-20T13:56:33.343338",
     "status": "completed"
    },
    "tags": []
   },
   "source": [
    "lets see the accuracy"
   ]
  },
  {
   "cell_type": "code",
   "execution_count": 25,
   "id": "943706c4",
   "metadata": {
    "execution": {
     "iopub.execute_input": "2025-06-20T13:56:33.381047Z",
     "iopub.status.busy": "2025-06-20T13:56:33.380663Z",
     "iopub.status.idle": "2025-06-20T13:56:33.387981Z",
     "shell.execute_reply": "2025-06-20T13:56:33.386921Z"
    },
    "papermill": {
     "duration": 0.02176,
     "end_time": "2025-06-20T13:56:33.389788",
     "exception": false,
     "start_time": "2025-06-20T13:56:33.368028",
     "status": "completed"
    },
    "tags": []
   },
   "outputs": [
    {
     "name": "stdout",
     "output_type": "stream",
     "text": [
      "Accuracy: 70.83%\n"
     ]
    }
   ],
   "source": [
    "def predict(X, w):\n",
    "    A = sigmoid(np.dot(X, w))\n",
    "    return (A >= 0.5).astype(int)\n",
    "\n",
    "y_pred = predict(X_bias, w)\n",
    "accuracy = np.mean(y_pred == y)\n",
    "print(f\"Accuracy: {accuracy * 100:.2f}%\")"
   ]
  },
  {
   "cell_type": "code",
   "execution_count": 26,
   "id": "0fc46aa5",
   "metadata": {
    "execution": {
     "iopub.execute_input": "2025-06-20T13:56:33.415334Z",
     "iopub.status.busy": "2025-06-20T13:56:33.414786Z",
     "iopub.status.idle": "2025-06-20T13:56:35.727979Z",
     "shell.execute_reply": "2025-06-20T13:56:35.726772Z"
    },
    "papermill": {
     "duration": 2.328117,
     "end_time": "2025-06-20T13:56:35.729743",
     "exception": false,
     "start_time": "2025-06-20T13:56:33.401626",
     "status": "completed"
    },
    "tags": []
   },
   "outputs": [
    {
     "data": {
      "image/png": "[encoded data removed]",
      "text/plain": [
       "<Figure size 800x400 with 1 Axes>"
      ]
     },
     "metadata": {},
     "output_type": "display_data"
    }
   ],
   "source": [
    "loss_history = []\n",
    "for epoch in range(epochs):\n",
    "    A, loss = forward(X_bias, w)\n",
    "    dw = backward(X_bias, A, y)\n",
    "    w -= learning_rate * dw\n",
    "    loss_history.append(loss)  # Store loss\n",
    "\n",
    "# Plot\n",
    "plt.figure(figsize=(8, 4))\n",
    "plt.plot(loss_history)\n",
    "plt.xlabel('Epochs')\n",
    "plt.ylabel('Loss')\n",
    "plt.title('Training Loss Curve')\n",
    "plt.grid(True)\n",
    "plt.show()"
   ]
  },
  {
   "cell_type": "code",
   "execution_count": 27,
   "id": "2f1c9e99",
   "metadata": {
    "execution": {
     "iopub.execute_input": "2025-06-20T13:56:35.756160Z",
     "iopub.status.busy": "2025-06-20T13:56:35.755788Z",
     "iopub.status.idle": "2025-06-20T13:56:36.840478Z",
     "shell.execute_reply": "2025-06-20T13:56:36.839510Z"
    },
    "papermill": {
     "duration": 1.099613,
     "end_time": "2025-06-20T13:56:36.842143",
     "exception": false,
     "start_time": "2025-06-20T13:56:35.742530",
     "status": "completed"
    },
    "tags": []
   },
   "outputs": [
    {
     "data": {
      "image/png": "[encoded data removed]",
      "text/plain": [
       "<Figure size 800x600 with 2 Axes>"
      ]
     },
     "metadata": {},
     "output_type": "display_data"
    }
   ],
   "source": [
    "from sklearn.decomposition import PCA\n",
    "\n",
    "# Reduce to 2D for visualization\n",
    "pca = PCA(n_components=2)\n",
    "X_2d = pca.fit_transform(X_normalized)\n",
    "\n",
    "# Train logistic regression on 2D data (for visualization only)\n",
    "w_2d = np.random.randn(3) * 0.01  # 2 features + bias\n",
    "X_2d_bias = np.c_[np.ones(X_2d.shape[0]), X_2d]\n",
    "\n",
    "for _ in range(1000):\n",
    "    A_2d, _ = forward(X_2d_bias, w_2d)\n",
    "    dw_2d = backward(X_2d_bias, A_2d, y)\n",
    "    w_2d -= 0.1 * dw_2d\n",
    "\n",
    "# Plot\n",
    "plt.figure(figsize=(8, 6))\n",
    "plt.scatter(X_2d[:, 0], X_2d[:, 1], c=y, cmap='coolwarm', alpha=0.7)\n",
    "\n",
    "# Create decision boundary grid\n",
    "x_min, x_max = X_2d[:, 0].min() - 1, X_2d[:, 0].max() + 1\n",
    "y_min, y_max = X_2d[:, 1].min() - 1, X_2d[:, 1].max() + 1\n",
    "xx, yy = np.meshgrid(np.linspace(x_min, x_max, 100), \n",
    "                     np.linspace(y_min, y_max, 100))\n",
    "Z = sigmoid(w_2d[0] + w_2d[1] * xx.ravel() + w_2d[2] * yy.ravel())\n",
    "Z = Z.reshape(xx.shape)\n",
    "plt.contourf(xx, yy, Z, levels=[0, 0.5, 1], colors=['blue', 'red'], alpha=0.2)\n",
    "plt.colorbar()\n",
    "plt.title('2D Decision Boundary (PCA Projection)')\n",
    "plt.xlabel('Principal Component 1')\n",
    "plt.ylabel('Principal Component 2')\n",
    "plt.show()"
   ]
  }
 ],
 "metadata": {
  "kaggle": {
   "accelerator": "none",
   "dataSources": [
    {
     "datasetId": 5700459,
     "sourceId": 9393137,
     "sourceType": "datasetVersion"
    },
    {
     "datasetId": 2921725,
     "sourceId": 5034040,
     "sourceType": "datasetVersion"
    }
   ],
   "dockerImageVersionId": 31040,
   "isGpuEnabled": false,
   "isInternetEnabled": true,
   "language": "python",
   "sourceType": "notebook"
  },
  "kernelspec": {
   "display_name": "Python 3",
   "language": "python",
   "name": "python3"
  },
  "language_info": {
   "codemirror_mode": {
    "name": "ipython",
    "version": 3
   },
   "file_extension": ".py",
   "mimetype": "text/x-python",
   "name": "python",
   "nbconvert_exporter": "python",
   "pygments_lexer": "ipython3",
   "version": "3.11.11"
  },
  "papermill": {
   "default_parameters": {},
   "duration": 22.0176,
   "end_time": "2025-06-20T13:56:37.577621",
   "environment_variables": {},
   "exception": null,
   "input_path": "__notebook__.ipynb",
   "output_path": "__notebook__.ipynb",
   "parameters": {},
   "start_time": "2025-06-20T13:56:15.560021",
   "version": "2.6.0"
  }
 },
 "nbformat": 4,
 "nbformat_minor": 5
}
