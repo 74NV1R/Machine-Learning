{
 "cells": [
  {
   "cell_type": "markdown",
   "id": "2d5a0671",
   "metadata": {
    "papermill": {
     "duration": 0.004666,
     "end_time": "2025-06-11T20:40:01.644526",
     "exception": false,
     "start_time": "2025-06-11T20:40:01.639860",
     "status": "completed"
    },
    "tags": []
   },
   "source": [
    "We are about to do the Logistic Regression, one of the basic statistical methods. Even though the name says \"Regression\", its actually a binary classification. So the output is yes or no, 1 or 0, cat or not cat, delay or no delay etc. "
   ]
  },
  {
   "cell_type": "markdown",
   "id": "2187a6ef",
   "metadata": {
    "papermill": {
     "duration": 0.003467,
     "end_time": "2025-06-11T20:40:01.651756",
     "exception": false,
     "start_time": "2025-06-11T20:40:01.648289",
     "status": "completed"
    },
    "tags": []
   },
   "source": [
    "To out learning curve smooth, lets start with something simple.\n",
    "Lets work with a simple dataset.\n",
    "And as always, at first we import the essential libraries, Pandas and NumPy."
   ]
  },
  {
   "cell_type": "code",
   "execution_count": 1,
   "id": "df5e4cd8",
   "metadata": {
    "execution": {
     "iopub.execute_input": "2025-06-11T20:40:01.660080Z",
     "iopub.status.busy": "2025-06-11T20:40:01.659835Z",
     "iopub.status.idle": "2025-06-11T20:40:03.280619Z",
     "shell.execute_reply": "2025-06-11T20:40:03.279666Z"
    },
    "papermill": {
     "duration": 1.626998,
     "end_time": "2025-06-11T20:40:03.282338",
     "exception": false,
     "start_time": "2025-06-11T20:40:01.655340",
     "status": "completed"
    },
    "tags": []
   },
   "outputs": [],
   "source": [
    "import pandas as pd\n",
    "import numpy as np"
   ]
  },
  {
   "cell_type": "markdown",
   "id": "8bc1edfa",
   "metadata": {
    "papermill": {
     "duration": 0.003407,
     "end_time": "2025-06-11T20:40:03.290108",
     "exception": false,
     "start_time": "2025-06-11T20:40:03.286701",
     "status": "completed"
    },
    "tags": []
   },
   "source": [
    "### **Toy Dataset: Exam Performance Prediction (Binary Classification)**\n",
    "**Description**: Predict whether a student passes (`1`) or fails (`0`) based on study hours and sleep hours.\n",
    "\n",
    "```csv\n",
    "Study_Hours,Sleep_Hours,Pass\n",
    "1.0,4.0,0\n",
    "1.5,5.0,0\n",
    "2.0,6.0,0\n",
    "2.5,4.5,0\n",
    "3.0,5.5,0\n",
    "3.5,7.0,1\n",
    "4.0,6.5,1\n",
    "4.5,7.5,1\n",
    "5.0,8.0,1\n",
    "5.5,7.0,1\n",
    "6.0,5.0,0\n",
    "6.5,8.5,1\n",
    "7.0,9.0,1\n",
    "7.5,6.0,1\n",
    "8.0,9.5,1\n",
    "8.5,7.5,1\n",
    "9.0,10.0,1\n",
    "9.5,5.5,1\n",
    "10.0,8.5,1\n",
    "10.5,9.0,1\n",
    "```\n",
    "\n",
    "#### **Columns**\n",
    "- `Study_Hours`: Hours studied (numerical, range: 1.0–10.5)  \n",
    "- `Sleep_Hours`: Hours slept (numerical, range: 4.0–10.0)  \n",
    "- `Pass`: Binary label (`0` = Fail, `1` = Pass)  \n",
    "\n",
    "Lets visualize the data here, to see how it talks to us: "
   ]
  },
  {
   "cell_type": "code",
   "execution_count": 2,
   "id": "702184d5",
   "metadata": {
    "execution": {
     "iopub.execute_input": "2025-06-11T20:40:03.299244Z",
     "iopub.status.busy": "2025-06-11T20:40:03.298258Z",
     "iopub.status.idle": "2025-06-11T20:40:03.307432Z",
     "shell.execute_reply": "2025-06-11T20:40:03.306435Z"
    },
    "papermill": {
     "duration": 0.015036,
     "end_time": "2025-06-11T20:40:03.308697",
     "exception": false,
     "start_time": "2025-06-11T20:40:03.293661",
     "status": "completed"
    },
    "tags": []
   },
   "outputs": [
    {
     "name": "stdout",
     "output_type": "stream",
     "text": [
      "Features (X):\n",
      " [[ 1.   4. ]\n",
      " [ 1.5  5. ]\n",
      " [ 2.   6. ]\n",
      " [ 2.5  4.5]\n",
      " [ 3.   5.5]\n",
      " [ 3.5  7. ]\n",
      " [ 4.   6.5]\n",
      " [ 4.5  7.5]\n",
      " [ 5.   8. ]\n",
      " [ 5.5  7. ]\n",
      " [ 6.   5. ]\n",
      " [ 6.5  8.5]\n",
      " [ 7.   9. ]\n",
      " [ 7.5  6. ]\n",
      " [ 8.   9.5]\n",
      " [ 8.5  7.5]\n",
      " [ 9.  10. ]\n",
      " [ 9.5  5.5]\n",
      " [10.   8.5]\n",
      " [10.5  9. ]]\n",
      "Labels (y): [0 0 0 0 0 1 1 1 1 1 0 1 1 1 1 1 1 1 1 1]\n"
     ]
    }
   ],
   "source": [
    "import numpy as np\n",
    "\n",
    "# Features (Study Hours, Sleep Hours)\n",
    "X = np.array([\n",
    "    [1.0, 4.0], [1.5, 5.0], [2.0, 6.0], [2.5, 4.5], [3.0, 5.5],\n",
    "    [3.5, 7.0], [4.0, 6.5], [4.5, 7.5], [5.0, 8.0], [5.5, 7.0],\n",
    "    [6.0, 5.0], [6.5, 8.5], [7.0, 9.0], [7.5, 6.0], [8.0, 9.5],\n",
    "    [8.5, 7.5], [9.0, 10.0], [9.5, 5.5], [10.0, 8.5], [10.5, 9.0]\n",
    "])\n",
    "\n",
    "# Labels (0 = Fail, 1 = Pass)\n",
    "y = np.array([0, 0, 0, 0, 0, 1, 1, 1, 1, 1, 0, 1, 1, 1, 1, 1, 1, 1, 1, 1])\n",
    "\n",
    "print(\"Features (X):\\n\", X)\n",
    "print(\"Labels (y):\", y)"
   ]
  },
  {
   "cell_type": "code",
   "execution_count": 3,
   "id": "cd6c292f",
   "metadata": {
    "execution": {
     "iopub.execute_input": "2025-06-11T20:40:03.317408Z",
     "iopub.status.busy": "2025-06-11T20:40:03.317135Z",
     "iopub.status.idle": "2025-06-11T20:40:03.324505Z",
     "shell.execute_reply": "2025-06-11T20:40:03.323757Z"
    },
    "papermill": {
     "duration": 0.012967,
     "end_time": "2025-06-11T20:40:03.325662",
     "exception": false,
     "start_time": "2025-06-11T20:40:03.312695",
     "status": "completed"
    },
    "tags": []
   },
   "outputs": [],
   "source": [
    "df = pd.DataFrame({\n",
    "    'Study_Hours': X[:, 0],  # First column of X\n",
    "    'Sleep_Hours': X[:, 1],  # Second column of X\n",
    "    'Pass': y\n",
    "})"
   ]
  },
  {
   "cell_type": "code",
   "execution_count": 4,
   "id": "7c85c470",
   "metadata": {
    "execution": {
     "iopub.execute_input": "2025-06-11T20:40:03.336133Z",
     "iopub.status.busy": "2025-06-11T20:40:03.335060Z",
     "iopub.status.idle": "2025-06-11T20:40:03.590481Z",
     "shell.execute_reply": "2025-06-11T20:40:03.589561Z"
    },
    "papermill": {
     "duration": 0.26197,
     "end_time": "2025-06-11T20:40:03.591794",
     "exception": false,
     "start_time": "2025-06-11T20:40:03.329824",
     "status": "completed"
    },
    "tags": []
   },
   "outputs": [
    {
     "data": {
      "image/png": "[encoded data removed]",
      "text/plain": [
       "<Figure size 640x480 with 1 Axes>"
      ]
     },
     "metadata": {},
     "output_type": "display_data"
    }
   ],
   "source": [
    "import matplotlib.pyplot as plt\n",
    "\n",
    "plt.scatter(X[y == 0, 0], X[y == 0, 1], color='red', label='Fail')\n",
    "plt.scatter(X[y == 1, 0], X[y == 1, 1], color='green', label='Pass')\n",
    "plt.xlabel('Study Hours')\n",
    "plt.ylabel('Sleep Hours')\n",
    "plt.legend()\n",
    "plt.title('Exam Performance Dataset')\n",
    "plt.show()"
   ]
  },
  {
   "cell_type": "code",
   "execution_count": 5,
   "id": "46c0809a",
   "metadata": {
    "execution": {
     "iopub.execute_input": "2025-06-11T20:40:03.601979Z",
     "iopub.status.busy": "2025-06-11T20:40:03.601649Z",
     "iopub.status.idle": "2025-06-11T20:40:05.618160Z",
     "shell.execute_reply": "2025-06-11T20:40:05.617584Z"
    },
    "papermill": {
     "duration": 2.022759,
     "end_time": "2025-06-11T20:40:05.619237",
     "exception": false,
     "start_time": "2025-06-11T20:40:03.596478",
     "status": "completed"
    },
    "tags": []
   },
   "outputs": [
    {
     "data": {
      "text/plain": [
       "<Axes: xlabel='Study_Hours', ylabel='Sleep_Hours'>"
      ]
     },
     "execution_count": 5,
     "metadata": {},
     "output_type": "execute_result"
    },
    {
     "data": {
      "image/png": "[encoded data removed]",
      "text/plain": [
       "<Figure size 640x480 with 1 Axes>"
      ]
     },
     "metadata": {},
     "output_type": "display_data"
    }
   ],
   "source": [
    "import seaborn as sns\n",
    "sns.scatterplot(data=df, x='Study_Hours', y='Sleep_Hours', hue='Pass', palette=['red', 'green'])"
   ]
  },
  {
   "cell_type": "markdown",
   "id": "196eec0a",
   "metadata": {
    "papermill": {
     "duration": 0.00428,
     "end_time": "2025-06-11T20:40:05.628185",
     "exception": false,
     "start_time": "2025-06-11T20:40:05.623905",
     "status": "completed"
    },
    "tags": []
   },
   "source": [
    "Hmm, it's pretty easy. Because it's made up. We can almost divide the 0 and 1 simply by drawing a line between them. Lets see how that works. "
   ]
  },
  {
   "cell_type": "markdown",
   "id": "2e096dbd",
   "metadata": {
    "papermill": {
     "duration": 0.004095,
     "end_time": "2025-06-11T20:40:05.636916",
     "exception": false,
     "start_time": "2025-06-11T20:40:05.632821",
     "status": "completed"
    },
    "tags": []
   },
   "source": [
    "As we said before, we can try to draw a straight line and separate the reds from greens. Lets take that approach.\n",
    "If we want to draw a line, we need a line's equation. The simplest equation we have is:\n",
    "\n",
    "$$Y = ax + b$$\n",
    "\n",
    "where, \"a\" is the slope of \"x\", the input variable. And \"b\" is the bias. \"a\" decide the rate of change in Y from x, and \"b\" is the headstart, or how much elevation we get.\n",
    "Now, we need to find Y, and Y isn't exactly ax + b. We have to apply a function to get Y. It's more like $$Y = some_function(ax + b)$$\n",
    "Let's take a another variable z, z = ax+b. Later we can get the value of Y from z.  \n",
    "One more problem, we have two different values of x here. The \"study hours\" and the \"sleep hours\".\n",
    "We can work with that. Essentialy, we have to assume that study hours and sleep hours dont affect result similarly. Probably study hour is more important? And sleep hour is not that important? But we can not run on 0 hour of sleep, can we?\n",
    "So, these two independant variable, x1 (study hour), and x2(sleep hour) should be \"weighted\" differently. \n",
    "Here, weights = [w1, w2]\n",
    "So, $$z = w1 * x1 + w2 * x2 + b$$"
   ]
  },
  {
   "cell_type": "code",
   "execution_count": 6,
   "id": "90f5641d",
   "metadata": {
    "execution": {
     "iopub.execute_input": "2025-06-11T20:40:05.648056Z",
     "iopub.status.busy": "2025-06-11T20:40:05.647624Z",
     "iopub.status.idle": "2025-06-11T20:40:05.651749Z",
     "shell.execute_reply": "2025-06-11T20:40:05.651063Z"
    },
    "papermill": {
     "duration": 0.011626,
     "end_time": "2025-06-11T20:40:05.653062",
     "exception": false,
     "start_time": "2025-06-11T20:40:05.641436",
     "status": "completed"
    },
    "tags": []
   },
   "outputs": [],
   "source": [
    "X_bias = np.c_[np.ones((X.shape[0], 1)), X]"
   ]
  },
  {
   "cell_type": "markdown",
   "id": "b1eafedc",
   "metadata": {
    "papermill": {
     "duration": 0.004115,
     "end_time": "2025-06-11T20:40:05.662037",
     "exception": false,
     "start_time": "2025-06-11T20:40:05.657922",
     "status": "completed"
    },
    "tags": []
   },
   "source": [
    "X_bias is an array that consist of b, x1, x2."
   ]
  },
  {
   "cell_type": "markdown",
   "id": "ec34484d",
   "metadata": {
    "papermill": {
     "duration": 0.003999,
     "end_time": "2025-06-11T20:40:05.670311",
     "exception": false,
     "start_time": "2025-06-11T20:40:05.666312",
     "status": "completed"
    },
    "tags": []
   },
   "source": [
    "We are going to split the dataset into train and test part. Our regression will learn from train set, and test the hypothesis on the test set.\n",
    "We are doing 80% 20% split here."
   ]
  },
  {
   "cell_type": "code",
   "execution_count": 7,
   "id": "14055647",
   "metadata": {
    "execution": {
     "iopub.execute_input": "2025-06-11T20:40:05.680102Z",
     "iopub.status.busy": "2025-06-11T20:40:05.679833Z",
     "iopub.status.idle": "2025-06-11T20:40:05.685014Z",
     "shell.execute_reply": "2025-06-11T20:40:05.684180Z"
    },
    "papermill": {
     "duration": 0.01167,
     "end_time": "2025-06-11T20:40:05.686186",
     "exception": false,
     "start_time": "2025-06-11T20:40:05.674516",
     "status": "completed"
    },
    "tags": []
   },
   "outputs": [],
   "source": [
    "np.random.shuffle(X_bias) #shuffling the dataset"
   ]
  },
  {
   "cell_type": "code",
   "execution_count": 8,
   "id": "a9423412",
   "metadata": {
    "execution": {
     "iopub.execute_input": "2025-06-11T20:40:05.696668Z",
     "iopub.status.busy": "2025-06-11T20:40:05.696357Z",
     "iopub.status.idle": "2025-06-11T20:40:05.700176Z",
     "shell.execute_reply": "2025-06-11T20:40:05.699605Z"
    },
    "papermill": {
     "duration": 0.010056,
     "end_time": "2025-06-11T20:40:05.701184",
     "exception": false,
     "start_time": "2025-06-11T20:40:05.691128",
     "status": "completed"
    },
    "tags": []
   },
   "outputs": [],
   "source": [
    "train_size = int(len(X_bias) * 0.8)  # 80% of the total length\n",
    "train_set = X_bias[:train_size]  # First 80% of elements\n",
    "test_set = X_bias[train_size:]  # Remaining 20% of elements"
   ]
  },
  {
   "cell_type": "markdown",
   "id": "027059ef",
   "metadata": {
    "papermill": {
     "duration": 0.004142,
     "end_time": "2025-06-11T20:40:05.709699",
     "exception": false,
     "start_time": "2025-06-11T20:40:05.705557",
     "status": "completed"
    },
    "tags": []
   },
   "source": [
    "We are initializing weight array."
   ]
  },
  {
   "cell_type": "code",
   "execution_count": 9,
   "id": "e6dca678",
   "metadata": {
    "execution": {
     "iopub.execute_input": "2025-06-11T20:40:05.719111Z",
     "iopub.status.busy": "2025-06-11T20:40:05.718851Z",
     "iopub.status.idle": "2025-06-11T20:40:05.722355Z",
     "shell.execute_reply": "2025-06-11T20:40:05.721778Z"
    },
    "papermill": {
     "duration": 0.009592,
     "end_time": "2025-06-11T20:40:05.723414",
     "exception": false,
     "start_time": "2025-06-11T20:40:05.713822",
     "status": "completed"
    },
    "tags": []
   },
   "outputs": [],
   "source": [
    "w = np.zeros(X_bias.shape[1])  # Shape: (3,) for [bias, w1, w2]"
   ]
  },
  {
   "cell_type": "markdown",
   "id": "bd8f2918",
   "metadata": {
    "papermill": {
     "duration": 0.003959,
     "end_time": "2025-06-11T20:40:05.732130",
     "exception": false,
     "start_time": "2025-06-11T20:40:05.728171",
     "status": "completed"
    },
    "tags": []
   },
   "source": [
    "Remeber when we said we need to put \"z\" through some function to get \"Y\"? We have to make that function now. That function is sigmoid function. Its a function that maps real number values to 0 or 1. That means, we send some \"z\", we get some 0 or 1, and those values are \"y\".\n",
    "\n",
    "The sigmoid function is defined as:\n",
    "\n",
    "$$\\sigma(x) = \\frac{1}{1 + e^{-x}}$$\n",
    "\n",
    "\n",
    "now we are going to implement the function here."
   ]
  },
  {
   "cell_type": "code",
   "execution_count": 10,
   "id": "c8f8b684",
   "metadata": {
    "execution": {
     "iopub.execute_input": "2025-06-11T20:40:05.742906Z",
     "iopub.status.busy": "2025-06-11T20:40:05.742612Z",
     "iopub.status.idle": "2025-06-11T20:40:05.746233Z",
     "shell.execute_reply": "2025-06-11T20:40:05.745625Z"
    },
    "papermill": {
     "duration": 0.010582,
     "end_time": "2025-06-11T20:40:05.747234",
     "exception": false,
     "start_time": "2025-06-11T20:40:05.736652",
     "status": "completed"
    },
    "tags": []
   },
   "outputs": [],
   "source": [
    "def sigmoid(z):\n",
    "    return 1 / (1 + np.exp(-z))"
   ]
  },
  {
   "cell_type": "markdown",
   "id": "2db2a2f9",
   "metadata": {
    "papermill": {
     "duration": 0.004177,
     "end_time": "2025-06-11T20:40:05.756167",
     "exception": false,
     "start_time": "2025-06-11T20:40:05.751990",
     "status": "completed"
    },
    "tags": []
   },
   "source": [
    "Now, the weight and bias we initiated randomly, aren't necessarily accurate. We need to change that. In fact, we need to change it a lot of times till it gives us a line that's the perfect fit. If not, it should be near perfect. Also, the need to see the cost or the error. Error is the difference of the real value of y and the hypothetical value of y. Here, the cost function is \n",
    "$$J(w) = -\\frac{1}{m} \\sum_{i=1}^{m} \\left[ y^{(i)} \\log a^{(i)} + (1 - y^{(i)}) \\log (1 - a^{(i)}) \\right]$$\n",
    "where:\n",
    "- \\( m \\) is the number of training examples.\n",
    "- \\( y^{(i)} \\) is the actual label (0 or 1).\n",
    "- \\( a^{(i)} \\) is the predicted probability from the sigmoid function.\n",
    "\n",
    "We have to update the weights till we find the optimal weights. That means, we have to find the perfect or near perfect w1, w2 weights for variable x1, x2 to plug into the equation.\n",
    "\n",
    "### Gradient Descent Formula\n",
    "\n",
    "The weight update rule in gradient descent is:\n",
    "\n",
    "$$ w := w - \\alpha \\frac{\\partial J}{\\partial w} $$\n",
    "\n",
    "where:\n",
    "- \\( w \\) represents the weights.\n",
    "- \\( \\alpha \\) is the learning rate.\n",
    "- \\( \\frac{\\partial J}{\\partial w} \\) is the gradient of the cost function with respect to \\( w \\).\n",
    "\n",
    "For logistic regression, the gradient descent update for weights and bias is:\n",
    "\n",
    "$$ w := w - \\alpha \\frac{1}{m} \\sum_{i=1}^{m} X^{(i)} (A^{(i)} - Y^{(i)}) $$\n",
    "\n",
    "$$ b := b - \\alpha \\frac{1}{m} \\sum_{i=1}^{m} (A^{(i)} - Y^{(i)}) $$\n",
    "\n",
    "where:\n",
    "- \\( m \\) is the number of training examples.\n",
    "- \\( X^{(i)} \\) is the input feature vector.\n",
    "- \\( A^{(i)} \\) is the predicted probability from the sigmoid function.\n",
    "- \\( Y^{(i)} \\) is the actual label.\n",
    "\n",
    "\n",
    "We will adjust the weights 1000 times. These attempts are called epochs. \n",
    "\n",
    "\n",
    "### What Happens in One Epoch: ###\n"
   ]
  },
  {
   "cell_type": "markdown",
   "id": "b14ffb7a",
   "metadata": {
    "papermill": {
     "duration": 0.004263,
     "end_time": "2025-06-11T20:40:05.764584",
     "exception": false,
     "start_time": "2025-06-11T20:40:05.760321",
     "status": "completed"
    },
    "tags": []
   },
   "source": [
    "*Forward Pass:* Compute predictions (A) and cost for all 20 examples."
   ]
  },
  {
   "cell_type": "code",
   "execution_count": 11,
   "id": "af7f8d8b",
   "metadata": {
    "execution": {
     "iopub.execute_input": "2025-06-11T20:40:05.777964Z",
     "iopub.status.busy": "2025-06-11T20:40:05.777666Z",
     "iopub.status.idle": "2025-06-11T20:40:05.782280Z",
     "shell.execute_reply": "2025-06-11T20:40:05.781482Z"
    },
    "papermill": {
     "duration": 0.012794,
     "end_time": "2025-06-11T20:40:05.783876",
     "exception": false,
     "start_time": "2025-06-11T20:40:05.771082",
     "status": "completed"
    },
    "tags": []
   },
   "outputs": [],
   "source": [
    "def forward(X, w):\n",
    "    z = np.dot(X, w)\n",
    "    A = sigmoid(z)  # Predicted probabilities\n",
    "    J = -np.mean(y * np.log(A) + (1 - y) * np.log(1 - A))  # Cross-entropy cost\n",
    "    return A, J"
   ]
  },
  {
   "cell_type": "markdown",
   "id": "d8e0bbb6",
   "metadata": {
    "papermill": {
     "duration": 0.004082,
     "end_time": "2025-06-11T20:40:05.792838",
     "exception": false,
     "start_time": "2025-06-11T20:40:05.788756",
     "status": "completed"
    },
    "tags": []
   },
   "source": [
    "*Backward Pass:* Calculate the gradient (dw) by averaging contributions from all examples."
   ]
  },
  {
   "cell_type": "code",
   "execution_count": 12,
   "id": "bdb3dc6e",
   "metadata": {
    "execution": {
     "iopub.execute_input": "2025-06-11T20:40:05.802175Z",
     "iopub.status.busy": "2025-06-11T20:40:05.801944Z",
     "iopub.status.idle": "2025-06-11T20:40:05.805987Z",
     "shell.execute_reply": "2025-06-11T20:40:05.805181Z"
    },
    "papermill": {
     "duration": 0.010103,
     "end_time": "2025-06-11T20:40:05.807151",
     "exception": false,
     "start_time": "2025-06-11T20:40:05.797048",
     "status": "completed"
    },
    "tags": []
   },
   "outputs": [],
   "source": [
    "def backward(X, A, y):\n",
    "    dw = np.dot(X.T, (A - y)) / len(y)  # Gradient for weights\n",
    "    return dw"
   ]
  },
  {
   "cell_type": "markdown",
   "id": "f41716f8",
   "metadata": {
    "papermill": {
     "duration": 0.004145,
     "end_time": "2025-06-11T20:40:05.816078",
     "exception": false,
     "start_time": "2025-06-11T20:40:05.811933",
     "status": "completed"
    },
    "tags": []
   },
   "source": [
    "*Update Weights:* Adjust w using the gradient: $$w = w - \\alpha * dw.$$\n",
    "Here, $$\\alpha$$ is the learning rate.\n",
    "\n",
    "We have the liberty to choose the learning rate. But we should be careful, since with smaller learning rate, we need way more epochs and if we set it too big, we might cross the optimal point."
   ]
  },
  {
   "cell_type": "code",
   "execution_count": 13,
   "id": "aab3f0bc",
   "metadata": {
    "execution": {
     "iopub.execute_input": "2025-06-11T20:40:05.825932Z",
     "iopub.status.busy": "2025-06-11T20:40:05.825632Z",
     "iopub.status.idle": "2025-06-11T20:40:05.837397Z",
     "shell.execute_reply": "2025-06-11T20:40:05.836515Z"
    },
    "papermill": {
     "duration": 0.018268,
     "end_time": "2025-06-11T20:40:05.838617",
     "exception": false,
     "start_time": "2025-06-11T20:40:05.820349",
     "status": "completed"
    },
    "tags": []
   },
   "outputs": [
    {
     "name": "stdout",
     "output_type": "stream",
     "text": [
      "Epoch 0, Cost: 0.6931\n"
     ]
    }
   ],
   "source": [
    "alpha = 0.01  # Learning rate\n",
    "epochs = 100\n",
    "\n",
    "for epoch in range(epochs):\n",
    "    A, cost = forward(X_bias, w)  # Forward pass\n",
    "    dw = backward(X_bias, A, y)   # Backward pass\n",
    "    w -= alpha * dw               # Update weights\n",
    "    \n",
    "    if epoch % 100 == 0:\n",
    "        print(f\"Epoch {epoch}, Cost: {cost:.4f}\")"
   ]
  },
  {
   "cell_type": "markdown",
   "id": "416ec47d",
   "metadata": {
    "papermill": {
     "duration": 0.004188,
     "end_time": "2025-06-11T20:40:05.847507",
     "exception": false,
     "start_time": "2025-06-11T20:40:05.843319",
     "status": "completed"
    },
    "tags": []
   },
   "source": [
    "Now we check how good our hypothesis is after adjusting the weights **1,000** times!"
   ]
  },
  {
   "cell_type": "code",
   "execution_count": 14,
   "id": "ca75d96d",
   "metadata": {
    "execution": {
     "iopub.execute_input": "2025-06-11T20:40:05.858058Z",
     "iopub.status.busy": "2025-06-11T20:40:05.857174Z",
     "iopub.status.idle": "2025-06-11T20:40:05.861342Z",
     "shell.execute_reply": "2025-06-11T20:40:05.860753Z"
    },
    "papermill": {
     "duration": 0.011131,
     "end_time": "2025-06-11T20:40:05.863070",
     "exception": false,
     "start_time": "2025-06-11T20:40:05.851939",
     "status": "completed"
    },
    "tags": []
   },
   "outputs": [],
   "source": [
    "def predict(X, w):\n",
    "    A, _ = forward(X, w)\n",
    "    return (A >= 0.5).astype(int)  # Threshold at 0.5\n",
    "\n",
    "y_pred = predict(X_bias, w)"
   ]
  },
  {
   "cell_type": "code",
   "execution_count": 15,
   "id": "546532ab",
   "metadata": {
    "execution": {
     "iopub.execute_input": "2025-06-11T20:40:05.873491Z",
     "iopub.status.busy": "2025-06-11T20:40:05.873196Z",
     "iopub.status.idle": "2025-06-11T20:40:05.877833Z",
     "shell.execute_reply": "2025-06-11T20:40:05.876810Z"
    },
    "papermill": {
     "duration": 0.011597,
     "end_time": "2025-06-11T20:40:05.879525",
     "exception": false,
     "start_time": "2025-06-11T20:40:05.867928",
     "status": "completed"
    },
    "tags": []
   },
   "outputs": [
    {
     "name": "stdout",
     "output_type": "stream",
     "text": [
      "Accuracy: 70.00%\n"
     ]
    }
   ],
   "source": [
    "accuracy = np.mean(y_pred == y)\n",
    "print(f\"Accuracy: {accuracy * 100:.2f}%\")"
   ]
  },
  {
   "cell_type": "markdown",
   "id": "3534da67",
   "metadata": {
    "papermill": {
     "duration": 0.004139,
     "end_time": "2025-06-11T20:40:05.888624",
     "exception": false,
     "start_time": "2025-06-11T20:40:05.884485",
     "status": "completed"
    },
    "tags": []
   },
   "source": [
    "Honestly, it's not good. **Only 70.00% accuracy!**\n",
    "But at least we learned something.\n",
    "Let's visually see  how our hypothesis worked."
   ]
  },
  {
   "cell_type": "code",
   "execution_count": 16,
   "id": "b5a0b0af",
   "metadata": {
    "execution": {
     "iopub.execute_input": "2025-06-11T20:40:05.898761Z",
     "iopub.status.busy": "2025-06-11T20:40:05.898448Z",
     "iopub.status.idle": "2025-06-11T20:40:06.059948Z",
     "shell.execute_reply": "2025-06-11T20:40:06.059115Z"
    },
    "papermill": {
     "duration": 0.168022,
     "end_time": "2025-06-11T20:40:06.061152",
     "exception": false,
     "start_time": "2025-06-11T20:40:05.893130",
     "status": "completed"
    },
    "tags": []
   },
   "outputs": [
    {
     "data": {
      "image/png": "[encoded data removed]",
      "text/plain": [
       "<Figure size 500x300 with 1 Axes>"
      ]
     },
     "metadata": {},
     "output_type": "display_data"
    }
   ],
   "source": [
    "# Fix Sleep_Hours at median (or mean)\n",
    "sleep_fixed = np.median(X[:, 1])  # Try np.mean() if needed\n",
    "\n",
    "# Create a range of Study_Hours values\n",
    "study_range = np.linspace(min(X[:, 0]), max(X[:, 0]), 100)\n",
    "\n",
    "# Compute predicted probabilities (A) for each Study_Hours\n",
    "z = w[0] + w[1] * study_range + w[2] * sleep_fixed\n",
    "A = sigmoid(z)  # S-curve probabilities\n",
    "\n",
    "# Plot\n",
    "plt.figure(figsize=(5, 3))\n",
    "plt.plot(study_range, A, color='red', linewidth=3, label='Sigmoid Curve')\n",
    "plt.scatter(X[:, 0], y, color='blue', label='True Labels (0/1)')  # Actual data\n",
    "plt.xlabel('Study_Hours')\n",
    "plt.ylabel('Probability of Passing (A)')\n",
    "plt.title('S-shaped Sigmoid Curve: P(Pass) vs. Study_Hours')\n",
    "plt.axhline(y=0.5, color='gray', linestyle='--', label='Decision Threshold (A=0.5)')\n",
    "plt.legend()\n",
    "plt.grid(True)\n",
    "plt.show()"
   ]
  },
  {
   "cell_type": "markdown",
   "id": "23f88814",
   "metadata": {
    "papermill": {
     "duration": 0.006518,
     "end_time": "2025-06-11T20:40:06.074605",
     "exception": false,
     "start_time": "2025-06-11T20:40:06.068087",
     "status": "completed"
    },
    "tags": []
   },
   "source": [
    "### Real dataset ###\n",
    "\n",
    "As the next step of our learning, we should see how to apply our knowledge on real life dataset."
   ]
  },
  {
   "cell_type": "code",
   "execution_count": null,
   "id": "07699fb8",
   "metadata": {
    "papermill": {
     "duration": 0.004955,
     "end_time": "2025-06-11T20:40:06.086202",
     "exception": false,
     "start_time": "2025-06-11T20:40:06.081247",
     "status": "completed"
    },
    "tags": []
   },
   "outputs": [],
   "source": []
  }
 ],
 "metadata": {
  "kaggle": {
   "accelerator": "none",
   "dataSources": [],
   "dockerImageVersionId": 31040,
   "isGpuEnabled": false,
   "isInternetEnabled": true,
   "language": "python",
   "sourceType": "notebook"
  },
  "kernelspec": {
   "display_name": "Python 3",
   "language": "python",
   "name": "python3"
  },
  "language_info": {
   "codemirror_mode": {
    "name": "ipython",
    "version": 3
   },
   "file_extension": ".py",
   "mimetype": "text/x-python",
   "name": "python",
   "nbconvert_exporter": "python",
   "pygments_lexer": "ipython3",
   "version": "3.11.11"
  },
  "papermill": {
   "default_parameters": {},
   "duration": 9.352063,
   "end_time": "2025-06-11T20:40:06.814458",
   "environment_variables": {},
   "exception": null,
   "input_path": "__notebook__.ipynb",
   "output_path": "__notebook__.ipynb",
   "parameters": {},
   "start_time": "2025-06-11T20:39:57.462395",
   "version": "2.6.0"
  }
 },
 "nbformat": 4,
 "nbformat_minor": 5
}
