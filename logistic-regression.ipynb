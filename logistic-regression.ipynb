{
 "cells": [
  {
   "cell_type": "markdown",
   "id": "d9082e53",
   "metadata": {
    "papermill": {
     "duration": 0.005001,
     "end_time": "2025-06-10T15:06:29.453410",
     "exception": false,
     "start_time": "2025-06-10T15:06:29.448409",
     "status": "completed"
    },
    "tags": []
   },
   "source": [
    "We are about to do the Logistic Regression, one of the basic statistical methods. Even though the name says \"Regression\", its actually a binary classification. So the output is yes or no, 1 or 0, cat or not cat, delay or no delay etc. "
   ]
  },
  {
   "cell_type": "markdown",
   "id": "434370e7",
   "metadata": {
    "papermill": {
     "duration": 0.004548,
     "end_time": "2025-06-10T15:06:29.462285",
     "exception": false,
     "start_time": "2025-06-10T15:06:29.457737",
     "status": "completed"
    },
    "tags": []
   },
   "source": [
    "To out learning curve smooth, lets start with something simple.\n",
    "Lets work with a simple dataset.\n",
    "And as always, at first we import the essential libraries, Pandas and NumPy."
   ]
  },
  {
   "cell_type": "code",
   "execution_count": 1,
   "id": "b5dfa94b",
   "metadata": {
    "execution": {
     "iopub.execute_input": "2025-06-10T15:06:29.471878Z",
     "iopub.status.busy": "2025-06-10T15:06:29.471508Z",
     "iopub.status.idle": "2025-06-10T15:06:31.307171Z",
     "shell.execute_reply": "2025-06-10T15:06:31.306244Z"
    },
    "papermill": {
     "duration": 1.842589,
     "end_time": "2025-06-10T15:06:31.309036",
     "exception": false,
     "start_time": "2025-06-10T15:06:29.466447",
     "status": "completed"
    },
    "tags": []
   },
   "outputs": [],
   "source": [
    "import pandas as pd\n",
    "import numpy as np"
   ]
  },
  {
   "cell_type": "markdown",
   "id": "cfddd4f4",
   "metadata": {
    "papermill": {
     "duration": 0.003854,
     "end_time": "2025-06-10T15:06:31.317240",
     "exception": false,
     "start_time": "2025-06-10T15:06:31.313386",
     "status": "completed"
    },
    "tags": []
   },
   "source": [
    "### **Toy Dataset: Exam Performance Prediction (Binary Classification)**\n",
    "**Description**: Predict whether a student passes (`1`) or fails (`0`) based on study hours and sleep hours.\n",
    "\n",
    "```csv\n",
    "Study_Hours,Sleep_Hours,Pass\n",
    "1.0,4.0,0\n",
    "1.5,5.0,0\n",
    "2.0,6.0,0\n",
    "2.5,4.5,0\n",
    "3.0,5.5,0\n",
    "3.5,7.0,1\n",
    "4.0,6.5,1\n",
    "4.5,7.5,1\n",
    "5.0,8.0,1\n",
    "5.5,7.0,1\n",
    "6.0,5.0,0\n",
    "6.5,8.5,1\n",
    "7.0,9.0,1\n",
    "7.5,6.0,1\n",
    "8.0,9.5,1\n",
    "8.5,7.5,1\n",
    "9.0,10.0,1\n",
    "9.5,5.5,1\n",
    "10.0,8.5,1\n",
    "10.5,9.0,1\n",
    "```\n",
    "\n",
    "#### **Columns**\n",
    "- `Study_Hours`: Hours studied (numerical, range: 1.0–10.5)  \n",
    "- `Sleep_Hours`: Hours slept (numerical, range: 4.0–10.0)  \n",
    "- `Pass`: Binary label (`0` = Fail, `1` = Pass)  \n",
    "\n",
    "Lets visualize the data here, to see how it talks to us: "
   ]
  },
  {
   "cell_type": "code",
   "execution_count": 2,
   "id": "eb26857e",
   "metadata": {
    "execution": {
     "iopub.execute_input": "2025-06-10T15:06:31.326760Z",
     "iopub.status.busy": "2025-06-10T15:06:31.326054Z",
     "iopub.status.idle": "2025-06-10T15:06:31.335747Z",
     "shell.execute_reply": "2025-06-10T15:06:31.334798Z"
    },
    "papermill": {
     "duration": 0.016314,
     "end_time": "2025-06-10T15:06:31.337485",
     "exception": false,
     "start_time": "2025-06-10T15:06:31.321171",
     "status": "completed"
    },
    "tags": []
   },
   "outputs": [
    {
     "name": "stdout",
     "output_type": "stream",
     "text": [
      "Features (X):\n",
      " [[ 1.   4. ]\n",
      " [ 1.5  5. ]\n",
      " [ 2.   6. ]\n",
      " [ 2.5  4.5]\n",
      " [ 3.   5.5]\n",
      " [ 3.5  7. ]\n",
      " [ 4.   6.5]\n",
      " [ 4.5  7.5]\n",
      " [ 5.   8. ]\n",
      " [ 5.5  7. ]\n",
      " [ 6.   5. ]\n",
      " [ 6.5  8.5]\n",
      " [ 7.   9. ]\n",
      " [ 7.5  6. ]\n",
      " [ 8.   9.5]\n",
      " [ 8.5  7.5]\n",
      " [ 9.  10. ]\n",
      " [ 9.5  5.5]\n",
      " [10.   8.5]\n",
      " [10.5  9. ]]\n",
      "Labels (y): [0 0 0 0 0 1 1 1 1 1 0 1 1 1 1 1 1 1 1 1]\n"
     ]
    }
   ],
   "source": [
    "import numpy as np\n",
    "\n",
    "# Features (Study Hours, Sleep Hours)\n",
    "X = np.array([\n",
    "    [1.0, 4.0], [1.5, 5.0], [2.0, 6.0], [2.5, 4.5], [3.0, 5.5],\n",
    "    [3.5, 7.0], [4.0, 6.5], [4.5, 7.5], [5.0, 8.0], [5.5, 7.0],\n",
    "    [6.0, 5.0], [6.5, 8.5], [7.0, 9.0], [7.5, 6.0], [8.0, 9.5],\n",
    "    [8.5, 7.5], [9.0, 10.0], [9.5, 5.5], [10.0, 8.5], [10.5, 9.0]\n",
    "])\n",
    "\n",
    "# Labels (0 = Fail, 1 = Pass)\n",
    "y = np.array([0, 0, 0, 0, 0, 1, 1, 1, 1, 1, 0, 1, 1, 1, 1, 1, 1, 1, 1, 1])\n",
    "\n",
    "print(\"Features (X):\\n\", X)\n",
    "print(\"Labels (y):\", y)"
   ]
  },
  {
   "cell_type": "code",
   "execution_count": 3,
   "id": "eed7eb32",
   "metadata": {
    "execution": {
     "iopub.execute_input": "2025-06-10T15:06:31.347284Z",
     "iopub.status.busy": "2025-06-10T15:06:31.346950Z",
     "iopub.status.idle": "2025-06-10T15:06:31.354359Z",
     "shell.execute_reply": "2025-06-10T15:06:31.353614Z"
    },
    "papermill": {
     "duration": 0.013869,
     "end_time": "2025-06-10T15:06:31.355828",
     "exception": false,
     "start_time": "2025-06-10T15:06:31.341959",
     "status": "completed"
    },
    "tags": []
   },
   "outputs": [],
   "source": [
    "df = pd.DataFrame({\n",
    "    'Study_Hours': X[:, 0],  # First column of X\n",
    "    'Sleep_Hours': X[:, 1],  # Second column of X\n",
    "    'Pass': y\n",
    "})"
   ]
  },
  {
   "cell_type": "code",
   "execution_count": 4,
   "id": "e557eef7",
   "metadata": {
    "execution": {
     "iopub.execute_input": "2025-06-10T15:06:31.365761Z",
     "iopub.status.busy": "2025-06-10T15:06:31.365454Z",
     "iopub.status.idle": "2025-06-10T15:06:31.666912Z",
     "shell.execute_reply": "2025-06-10T15:06:31.666083Z"
    },
    "papermill": {
     "duration": 0.308464,
     "end_time": "2025-06-10T15:06:31.668573",
     "exception": false,
     "start_time": "2025-06-10T15:06:31.360109",
     "status": "completed"
    },
    "tags": []
   },
   "outputs": [
    {
     "data": {
      "image/png": "[encoded data removed]",
      "text/plain": [
       "<Figure size 640x480 with 1 Axes>"
      ]
     },
     "metadata": {},
     "output_type": "display_data"
    }
   ],
   "source": [
    "import matplotlib.pyplot as plt\n",
    "\n",
    "plt.scatter(X[y == 0, 0], X[y == 0, 1], color='red', label='Fail')\n",
    "plt.scatter(X[y == 1, 0], X[y == 1, 1], color='green', label='Pass')\n",
    "plt.xlabel('Study Hours')\n",
    "plt.ylabel('Sleep Hours')\n",
    "plt.legend()\n",
    "plt.title('Exam Performance Dataset')\n",
    "plt.show()"
   ]
  },
  {
   "cell_type": "code",
   "execution_count": 5,
   "id": "e9977409",
   "metadata": {
    "execution": {
     "iopub.execute_input": "2025-06-10T15:06:31.679257Z",
     "iopub.status.busy": "2025-06-10T15:06:31.678929Z",
     "iopub.status.idle": "2025-06-10T15:06:33.909696Z",
     "shell.execute_reply": "2025-06-10T15:06:33.908776Z"
    },
    "papermill": {
     "duration": 2.237843,
     "end_time": "2025-06-10T15:06:33.911300",
     "exception": false,
     "start_time": "2025-06-10T15:06:31.673457",
     "status": "completed"
    },
    "tags": []
   },
   "outputs": [
    {
     "data": {
      "text/plain": [
       "<Axes: xlabel='Study_Hours', ylabel='Sleep_Hours'>"
      ]
     },
     "execution_count": 5,
     "metadata": {},
     "output_type": "execute_result"
    },
    {
     "data": {
      "image/png": "[encoded data removed]",
      "text/plain": [
       "<Figure size 640x480 with 1 Axes>"
      ]
     },
     "metadata": {},
     "output_type": "display_data"
    }
   ],
   "source": [
    "import seaborn as sns\n",
    "sns.scatterplot(data=df, x='Study_Hours', y='Sleep_Hours', hue='Pass', palette=['red', 'green'])"
   ]
  },
  {
   "cell_type": "markdown",
   "id": "c1acdea0",
   "metadata": {
    "papermill": {
     "duration": 0.004873,
     "end_time": "2025-06-10T15:06:33.921631",
     "exception": false,
     "start_time": "2025-06-10T15:06:33.916758",
     "status": "completed"
    },
    "tags": []
   },
   "source": [
    "Hmm, it's pretty easy. Because it's made up. We can divide the 0 ans 1 simply by drawing a line between them. Lets see how that works. "
   ]
  },
  {
   "cell_type": "markdown",
   "id": "ba19008c",
   "metadata": {
    "papermill": {
     "duration": 0.005029,
     "end_time": "2025-06-10T15:06:33.932151",
     "exception": false,
     "start_time": "2025-06-10T15:06:33.927122",
     "status": "completed"
    },
    "tags": []
   },
   "source": [
    "As we said before, we can just draw a straight line and separate the reds from greens. Lets take that approach.\n",
    "If we want to draw a line, we need a line's equation. The simplest equation we have is:\n",
    "\n",
    "$$Y = ax + b$$\n",
    "\n",
    "where, \"a\" is the slope of \"x\", the input variable. And \"b\" is the bias. \"a\" decide the rate of change in Y from x, and \"b\" is the headstart, or how much elevation we get.\n",
    "Now, we need to find Y, and Y isn't exactly ax + b. We have to apply a function to get Y. It's more like $$Y = some_function(ax + b)$$. Let's take a another variable z, z = ax+b. Later we can get the value of Y from z.  \n",
    "One more problem, we have two different values of x here. The \"study hours\" and the \"sleep hours\".\n",
    "We can work with that. Essentialy, we have to assume that study hours and sleep hours dont affect result similarly. Probably study hour is more important? And sleep hour is not that important? But we can not run on 0 hour of sleep, can we?\n",
    "So, these two independant variable, x1 (study hour), and x2(sleep hour) should be \"weighted\" differently. \n",
    "Here, weights = [w1, w2]\n",
    "So, $$z = w1 * x1 + w2 * x2 + b$$"
   ]
  },
  {
   "cell_type": "code",
   "execution_count": 6,
   "id": "6b01a0eb",
   "metadata": {
    "execution": {
     "iopub.execute_input": "2025-06-10T15:06:33.944020Z",
     "iopub.status.busy": "2025-06-10T15:06:33.943551Z",
     "iopub.status.idle": "2025-06-10T15:06:33.948345Z",
     "shell.execute_reply": "2025-06-10T15:06:33.947425Z"
    },
    "papermill": {
     "duration": 0.012193,
     "end_time": "2025-06-10T15:06:33.949764",
     "exception": false,
     "start_time": "2025-06-10T15:06:33.937571",
     "status": "completed"
    },
    "tags": []
   },
   "outputs": [],
   "source": [
    "X_bias = np.c_[np.ones((X.shape[0], 1)), X]"
   ]
  },
  {
   "cell_type": "markdown",
   "id": "9b9eae91",
   "metadata": {
    "papermill": {
     "duration": 0.005108,
     "end_time": "2025-06-10T15:06:33.960524",
     "exception": false,
     "start_time": "2025-06-10T15:06:33.955416",
     "status": "completed"
    },
    "tags": []
   },
   "source": [
    "X_bias is an array that consist of b, x1, x2."
   ]
  },
  {
   "cell_type": "markdown",
   "id": "c3720671",
   "metadata": {
    "papermill": {
     "duration": 0.004726,
     "end_time": "2025-06-10T15:06:33.970347",
     "exception": false,
     "start_time": "2025-06-10T15:06:33.965621",
     "status": "completed"
    },
    "tags": []
   },
   "source": [
    "We are going to split the dataset into train and test part. Our regression will learn from train set, and test the hypothesis on the test set.\n",
    "We are doing 80% 20% split here."
   ]
  },
  {
   "cell_type": "code",
   "execution_count": 7,
   "id": "319990d7",
   "metadata": {
    "execution": {
     "iopub.execute_input": "2025-06-10T15:06:33.981372Z",
     "iopub.status.busy": "2025-06-10T15:06:33.981029Z",
     "iopub.status.idle": "2025-06-10T15:06:33.986661Z",
     "shell.execute_reply": "2025-06-10T15:06:33.985480Z"
    },
    "papermill": {
     "duration": 0.013011,
     "end_time": "2025-06-10T15:06:33.988212",
     "exception": false,
     "start_time": "2025-06-10T15:06:33.975201",
     "status": "completed"
    },
    "tags": []
   },
   "outputs": [],
   "source": [
    "np.random.shuffle(X_bias) #shuffling the dataset"
   ]
  },
  {
   "cell_type": "code",
   "execution_count": 8,
   "id": "ca453823",
   "metadata": {
    "execution": {
     "iopub.execute_input": "2025-06-10T15:06:34.000305Z",
     "iopub.status.busy": "2025-06-10T15:06:33.999960Z",
     "iopub.status.idle": "2025-06-10T15:06:34.004673Z",
     "shell.execute_reply": "2025-06-10T15:06:34.003674Z"
    },
    "papermill": {
     "duration": 0.012708,
     "end_time": "2025-06-10T15:06:34.006160",
     "exception": false,
     "start_time": "2025-06-10T15:06:33.993452",
     "status": "completed"
    },
    "tags": []
   },
   "outputs": [],
   "source": [
    "train_size = int(len(X_bias) * 0.8)  # 80% of the total length\n",
    "train_set = X_bias[:train_size]  # First 80% of elements\n",
    "test_set = X_bias[train_size:]  # Remaining 20% of elements"
   ]
  },
  {
   "cell_type": "markdown",
   "id": "1ad130bf",
   "metadata": {
    "papermill": {
     "duration": 0.004908,
     "end_time": "2025-06-10T15:06:34.016352",
     "exception": false,
     "start_time": "2025-06-10T15:06:34.011444",
     "status": "completed"
    },
    "tags": []
   },
   "source": [
    "We are initializing weight array."
   ]
  },
  {
   "cell_type": "code",
   "execution_count": 9,
   "id": "4e2532f9",
   "metadata": {
    "execution": {
     "iopub.execute_input": "2025-06-10T15:06:34.028311Z",
     "iopub.status.busy": "2025-06-10T15:06:34.027653Z",
     "iopub.status.idle": "2025-06-10T15:06:34.032090Z",
     "shell.execute_reply": "2025-06-10T15:06:34.031282Z"
    },
    "papermill": {
     "duration": 0.012186,
     "end_time": "2025-06-10T15:06:34.033612",
     "exception": false,
     "start_time": "2025-06-10T15:06:34.021426",
     "status": "completed"
    },
    "tags": []
   },
   "outputs": [],
   "source": [
    "w = np.zeros(X_bias.shape[1])  # Shape: (3,) for [bias, w1, w2]"
   ]
  },
  {
   "cell_type": "markdown",
   "id": "2baa10f9",
   "metadata": {
    "papermill": {
     "duration": 0.004711,
     "end_time": "2025-06-10T15:06:34.043713",
     "exception": false,
     "start_time": "2025-06-10T15:06:34.039002",
     "status": "completed"
    },
    "tags": []
   },
   "source": [
    "Remeber when we said we need to put \"z\" through some function to get \"Y\"? We have to make that function now. That function is sigmoid function. Its a function that maps real number values to 0 or 1. That means, we send some \"z\", we get some 0 or 1, and those values are \"y\".\n",
    "\n",
    "The sigmoid function is defined as:\n",
    "\n",
    "$$\\sigma(x) = \\frac{1}{1 + e^{-x}}$$\n",
    "\n",
    "\n",
    "now we are going to implement the function here."
   ]
  },
  {
   "cell_type": "code",
   "execution_count": 10,
   "id": "6edafd8f",
   "metadata": {
    "execution": {
     "iopub.execute_input": "2025-06-10T15:06:34.054793Z",
     "iopub.status.busy": "2025-06-10T15:06:34.054504Z",
     "iopub.status.idle": "2025-06-10T15:06:34.059237Z",
     "shell.execute_reply": "2025-06-10T15:06:34.058302Z"
    },
    "papermill": {
     "duration": 0.012312,
     "end_time": "2025-06-10T15:06:34.060968",
     "exception": false,
     "start_time": "2025-06-10T15:06:34.048656",
     "status": "completed"
    },
    "tags": []
   },
   "outputs": [],
   "source": [
    "def sigmoid(z):\n",
    "    return 1 / (1 + np.exp(-z))"
   ]
  },
  {
   "cell_type": "code",
   "execution_count": 11,
   "id": "1a586542",
   "metadata": {
    "execution": {
     "iopub.execute_input": "2025-06-10T15:06:34.073662Z",
     "iopub.status.busy": "2025-06-10T15:06:34.073360Z",
     "iopub.status.idle": "2025-06-10T15:06:34.078050Z",
     "shell.execute_reply": "2025-06-10T15:06:34.077246Z"
    },
    "papermill": {
     "duration": 0.012376,
     "end_time": "2025-06-10T15:06:34.079629",
     "exception": false,
     "start_time": "2025-06-10T15:06:34.067253",
     "status": "completed"
    },
    "tags": []
   },
   "outputs": [],
   "source": [
    "def forward(X, w):\n",
    "    z = np.dot(X, w)\n",
    "    A = sigmoid(z)  # Predicted probabilities\n",
    "    J = -np.mean(y * np.log(A) + (1 - y) * np.log(1 - A))  # Cross-entropy cost\n",
    "    return A, J"
   ]
  },
  {
   "cell_type": "code",
   "execution_count": 12,
   "id": "c8b48792",
   "metadata": {
    "execution": {
     "iopub.execute_input": "2025-06-10T15:06:34.091310Z",
     "iopub.status.busy": "2025-06-10T15:06:34.090976Z",
     "iopub.status.idle": "2025-06-10T15:06:34.095552Z",
     "shell.execute_reply": "2025-06-10T15:06:34.094653Z"
    },
    "papermill": {
     "duration": 0.012243,
     "end_time": "2025-06-10T15:06:34.097133",
     "exception": false,
     "start_time": "2025-06-10T15:06:34.084890",
     "status": "completed"
    },
    "tags": []
   },
   "outputs": [],
   "source": [
    "def backward(X, A, y):\n",
    "    dw = np.dot(X.T, (A - y)) / len(y)  # Gradient for weights\n",
    "    return dw"
   ]
  },
  {
   "cell_type": "code",
   "execution_count": 13,
   "id": "8042a7bb",
   "metadata": {
    "execution": {
     "iopub.execute_input": "2025-06-10T15:06:34.108718Z",
     "iopub.status.busy": "2025-06-10T15:06:34.108407Z",
     "iopub.status.idle": "2025-06-10T15:06:34.151670Z",
     "shell.execute_reply": "2025-06-10T15:06:34.150548Z"
    },
    "papermill": {
     "duration": 0.051147,
     "end_time": "2025-06-10T15:06:34.153467",
     "exception": false,
     "start_time": "2025-06-10T15:06:34.102320",
     "status": "completed"
    },
    "tags": []
   },
   "outputs": [
    {
     "name": "stdout",
     "output_type": "stream",
     "text": [
      "Epoch 0, Cost: 0.6931\n",
      "Epoch 100, Cost: 0.6142\n",
      "Epoch 200, Cost: 0.6101\n",
      "Epoch 300, Cost: 0.6089\n",
      "Epoch 400, Cost: 0.6084\n",
      "Epoch 500, Cost: 0.6082\n",
      "Epoch 600, Cost: 0.6081\n",
      "Epoch 700, Cost: 0.6079\n",
      "Epoch 800, Cost: 0.6078\n",
      "Epoch 900, Cost: 0.6077\n"
     ]
    }
   ],
   "source": [
    "alpha = 0.01  # Learning rate\n",
    "epochs = 1000\n",
    "\n",
    "for epoch in range(epochs):\n",
    "    A, cost = forward(X_bias, w)  # Forward pass\n",
    "    dw = backward(X_bias, A, y)   # Backward pass\n",
    "    w -= alpha * dw               # Update weights\n",
    "    \n",
    "    if epoch % 100 == 0:\n",
    "        print(f\"Epoch {epoch}, Cost: {cost:.4f}\")"
   ]
  },
  {
   "cell_type": "code",
   "execution_count": 14,
   "id": "d30bee02",
   "metadata": {
    "execution": {
     "iopub.execute_input": "2025-06-10T15:06:34.166299Z",
     "iopub.status.busy": "2025-06-10T15:06:34.165949Z",
     "iopub.status.idle": "2025-06-10T15:06:34.171171Z",
     "shell.execute_reply": "2025-06-10T15:06:34.170382Z"
    },
    "papermill": {
     "duration": 0.013816,
     "end_time": "2025-06-10T15:06:34.172765",
     "exception": false,
     "start_time": "2025-06-10T15:06:34.158949",
     "status": "completed"
    },
    "tags": []
   },
   "outputs": [],
   "source": [
    "def predict(X, w):\n",
    "    A, _ = forward(X, w)\n",
    "    return (A >= 0.5).astype(int)  # Threshold at 0.5\n",
    "\n",
    "y_pred = predict(X_bias, w)"
   ]
  },
  {
   "cell_type": "code",
   "execution_count": 15,
   "id": "027793f6",
   "metadata": {
    "execution": {
     "iopub.execute_input": "2025-06-10T15:06:34.184890Z",
     "iopub.status.busy": "2025-06-10T15:06:34.184571Z",
     "iopub.status.idle": "2025-06-10T15:06:34.190048Z",
     "shell.execute_reply": "2025-06-10T15:06:34.189170Z"
    },
    "papermill": {
     "duration": 0.013464,
     "end_time": "2025-06-10T15:06:34.191789",
     "exception": false,
     "start_time": "2025-06-10T15:06:34.178325",
     "status": "completed"
    },
    "tags": []
   },
   "outputs": [
    {
     "name": "stdout",
     "output_type": "stream",
     "text": [
      "Accuracy: 70.00%\n"
     ]
    }
   ],
   "source": [
    "accuracy = np.mean(y_pred == y)\n",
    "print(f\"Accuracy: {accuracy * 100:.2f}%\")"
   ]
  },
  {
   "cell_type": "code",
   "execution_count": 16,
   "id": "ca2fa357",
   "metadata": {
    "execution": {
     "iopub.execute_input": "2025-06-10T15:06:34.203864Z",
     "iopub.status.busy": "2025-06-10T15:06:34.203555Z",
     "iopub.status.idle": "2025-06-10T15:06:34.336200Z",
     "shell.execute_reply": "2025-06-10T15:06:34.335344Z"
    },
    "papermill": {
     "duration": 0.140317,
     "end_time": "2025-06-10T15:06:34.337678",
     "exception": false,
     "start_time": "2025-06-10T15:06:34.197361",
     "status": "completed"
    },
    "tags": []
   },
   "outputs": [
    {
     "data": {
      "image/png": "[encoded data removed]",
      "text/plain": [
       "<Figure size 640x480 with 1 Axes>"
      ]
     },
     "metadata": {},
     "output_type": "display_data"
    }
   ],
   "source": [
    "plt.scatter(X[:, 0], X[:, 1], c=y, cmap='coolwarm')\n",
    "x1 = np.linspace(1, 11, 100)\n",
    "x2 = -(w[0] + w[1] * x1) / w[2]  # Decision boundary line\n",
    "plt.plot(x1, x2, 'k-')\n",
    "plt.show()"
   ]
  }
 ],
 "metadata": {
  "kaggle": {
   "accelerator": "none",
   "dataSources": [],
   "dockerImageVersionId": 31040,
   "isGpuEnabled": false,
   "isInternetEnabled": true,
   "language": "python",
   "sourceType": "notebook"
  },
  "kernelspec": {
   "display_name": "Python 3",
   "language": "python",
   "name": "python3"
  },
  "language_info": {
   "codemirror_mode": {
    "name": "ipython",
    "version": 3
   },
   "file_extension": ".py",
   "mimetype": "text/x-python",
   "name": "python",
   "nbconvert_exporter": "python",
   "pygments_lexer": "ipython3",
   "version": "3.11.11"
  },
  "papermill": {
   "default_parameters": {},
   "duration": 10.244801,
   "end_time": "2025-06-10T15:06:34.963166",
   "environment_variables": {},
   "exception": null,
   "input_path": "__notebook__.ipynb",
   "output_path": "__notebook__.ipynb",
   "parameters": {},
   "start_time": "2025-06-10T15:06:24.718365",
   "version": "2.6.0"
  }
 },
 "nbformat": 4,
 "nbformat_minor": 5
}
