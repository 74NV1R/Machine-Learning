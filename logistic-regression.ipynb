{
 "cells": [
  {
   "cell_type": "markdown",
   "id": "4de62374",
   "metadata": {
    "papermill": {
     "duration": 0.006227,
     "end_time": "2025-06-10T17:39:59.604038",
     "exception": false,
     "start_time": "2025-06-10T17:39:59.597811",
     "status": "completed"
    },
    "tags": []
   },
   "source": [
    "We are about to do the Logistic Regression, one of the basic statistical methods. Even though the name says \"Regression\", its actually a binary classification. So the output is yes or no, 1 or 0, cat or not cat, delay or no delay etc. "
   ]
  },
  {
   "cell_type": "markdown",
   "id": "cee61108",
   "metadata": {
    "papermill": {
     "duration": 0.004477,
     "end_time": "2025-06-10T17:39:59.613541",
     "exception": false,
     "start_time": "2025-06-10T17:39:59.609064",
     "status": "completed"
    },
    "tags": []
   },
   "source": [
    "To out learning curve smooth, lets start with something simple.\n",
    "Lets work with a simple dataset.\n",
    "And as always, at first we import the essential libraries, Pandas and NumPy."
   ]
  },
  {
   "cell_type": "code",
   "execution_count": 1,
   "id": "460e4641",
   "metadata": {
    "execution": {
     "iopub.execute_input": "2025-06-10T17:39:59.624321Z",
     "iopub.status.busy": "2025-06-10T17:39:59.623911Z",
     "iopub.status.idle": "2025-06-10T17:40:01.764429Z",
     "shell.execute_reply": "2025-06-10T17:40:01.763449Z"
    },
    "papermill": {
     "duration": 2.14797,
     "end_time": "2025-06-10T17:40:01.766123",
     "exception": false,
     "start_time": "2025-06-10T17:39:59.618153",
     "status": "completed"
    },
    "tags": []
   },
   "outputs": [],
   "source": [
    "import pandas as pd\n",
    "import numpy as np"
   ]
  },
  {
   "cell_type": "markdown",
   "id": "e4fd1836",
   "metadata": {
    "papermill": {
     "duration": 0.004499,
     "end_time": "2025-06-10T17:40:01.775494",
     "exception": false,
     "start_time": "2025-06-10T17:40:01.770995",
     "status": "completed"
    },
    "tags": []
   },
   "source": [
    "### **Toy Dataset: Exam Performance Prediction (Binary Classification)**\n",
    "**Description**: Predict whether a student passes (`1`) or fails (`0`) based on study hours and sleep hours.\n",
    "\n",
    "```csv\n",
    "Study_Hours,Sleep_Hours,Pass\n",
    "1.0,4.0,0\n",
    "1.5,5.0,0\n",
    "2.0,6.0,0\n",
    "2.5,4.5,0\n",
    "3.0,5.5,0\n",
    "3.5,7.0,1\n",
    "4.0,6.5,1\n",
    "4.5,7.5,1\n",
    "5.0,8.0,1\n",
    "5.5,7.0,1\n",
    "6.0,5.0,0\n",
    "6.5,8.5,1\n",
    "7.0,9.0,1\n",
    "7.5,6.0,1\n",
    "8.0,9.5,1\n",
    "8.5,7.5,1\n",
    "9.0,10.0,1\n",
    "9.5,5.5,1\n",
    "10.0,8.5,1\n",
    "10.5,9.0,1\n",
    "```\n",
    "\n",
    "#### **Columns**\n",
    "- `Study_Hours`: Hours studied (numerical, range: 1.0–10.5)  \n",
    "- `Sleep_Hours`: Hours slept (numerical, range: 4.0–10.0)  \n",
    "- `Pass`: Binary label (`0` = Fail, `1` = Pass)  \n",
    "\n",
    "Lets visualize the data here, to see how it talks to us: "
   ]
  },
  {
   "cell_type": "code",
   "execution_count": 2,
   "id": "e5e146fa",
   "metadata": {
    "execution": {
     "iopub.execute_input": "2025-06-10T17:40:01.786618Z",
     "iopub.status.busy": "2025-06-10T17:40:01.786208Z",
     "iopub.status.idle": "2025-06-10T17:40:01.797130Z",
     "shell.execute_reply": "2025-06-10T17:40:01.795799Z"
    },
    "papermill": {
     "duration": 0.018176,
     "end_time": "2025-06-10T17:40:01.798564",
     "exception": false,
     "start_time": "2025-06-10T17:40:01.780388",
     "status": "completed"
    },
    "tags": []
   },
   "outputs": [
    {
     "name": "stdout",
     "output_type": "stream",
     "text": [
      "Features (X):\n",
      " [[ 1.   4. ]\n",
      " [ 1.5  5. ]\n",
      " [ 2.   6. ]\n",
      " [ 2.5  4.5]\n",
      " [ 3.   5.5]\n",
      " [ 3.5  7. ]\n",
      " [ 4.   6.5]\n",
      " [ 4.5  7.5]\n",
      " [ 5.   8. ]\n",
      " [ 5.5  7. ]\n",
      " [ 6.   5. ]\n",
      " [ 6.5  8.5]\n",
      " [ 7.   9. ]\n",
      " [ 7.5  6. ]\n",
      " [ 8.   9.5]\n",
      " [ 8.5  7.5]\n",
      " [ 9.  10. ]\n",
      " [ 9.5  5.5]\n",
      " [10.   8.5]\n",
      " [10.5  9. ]]\n",
      "Labels (y): [0 0 0 0 0 1 1 1 1 1 0 1 1 1 1 1 1 1 1 1]\n"
     ]
    }
   ],
   "source": [
    "import numpy as np\n",
    "\n",
    "# Features (Study Hours, Sleep Hours)\n",
    "X = np.array([\n",
    "    [1.0, 4.0], [1.5, 5.0], [2.0, 6.0], [2.5, 4.5], [3.0, 5.5],\n",
    "    [3.5, 7.0], [4.0, 6.5], [4.5, 7.5], [5.0, 8.0], [5.5, 7.0],\n",
    "    [6.0, 5.0], [6.5, 8.5], [7.0, 9.0], [7.5, 6.0], [8.0, 9.5],\n",
    "    [8.5, 7.5], [9.0, 10.0], [9.5, 5.5], [10.0, 8.5], [10.5, 9.0]\n",
    "])\n",
    "\n",
    "# Labels (0 = Fail, 1 = Pass)\n",
    "y = np.array([0, 0, 0, 0, 0, 1, 1, 1, 1, 1, 0, 1, 1, 1, 1, 1, 1, 1, 1, 1])\n",
    "\n",
    "print(\"Features (X):\\n\", X)\n",
    "print(\"Labels (y):\", y)"
   ]
  },
  {
   "cell_type": "code",
   "execution_count": 3,
   "id": "4af257e8",
   "metadata": {
    "execution": {
     "iopub.execute_input": "2025-06-10T17:40:01.810087Z",
     "iopub.status.busy": "2025-06-10T17:40:01.809741Z",
     "iopub.status.idle": "2025-06-10T17:40:01.817942Z",
     "shell.execute_reply": "2025-06-10T17:40:01.816829Z"
    },
    "papermill": {
     "duration": 0.01587,
     "end_time": "2025-06-10T17:40:01.819650",
     "exception": false,
     "start_time": "2025-06-10T17:40:01.803780",
     "status": "completed"
    },
    "tags": []
   },
   "outputs": [],
   "source": [
    "df = pd.DataFrame({\n",
    "    'Study_Hours': X[:, 0],  # First column of X\n",
    "    'Sleep_Hours': X[:, 1],  # Second column of X\n",
    "    'Pass': y\n",
    "})"
   ]
  },
  {
   "cell_type": "code",
   "execution_count": 4,
   "id": "bc792afa",
   "metadata": {
    "execution": {
     "iopub.execute_input": "2025-06-10T17:40:01.831774Z",
     "iopub.status.busy": "2025-06-10T17:40:01.831209Z",
     "iopub.status.idle": "2025-06-10T17:40:02.162107Z",
     "shell.execute_reply": "2025-06-10T17:40:02.160996Z"
    },
    "papermill": {
     "duration": 0.338515,
     "end_time": "2025-06-10T17:40:02.163809",
     "exception": false,
     "start_time": "2025-06-10T17:40:01.825294",
     "status": "completed"
    },
    "tags": []
   },
   "outputs": [
    {
     "data": {
      "image/png": "[encoded data removed]",
      "text/plain": [
       "<Figure size 640x480 with 1 Axes>"
      ]
     },
     "metadata": {},
     "output_type": "display_data"
    }
   ],
   "source": [
    "import matplotlib.pyplot as plt\n",
    "\n",
    "plt.scatter(X[y == 0, 0], X[y == 0, 1], color='red', label='Fail')\n",
    "plt.scatter(X[y == 1, 0], X[y == 1, 1], color='green', label='Pass')\n",
    "plt.xlabel('Study Hours')\n",
    "plt.ylabel('Sleep Hours')\n",
    "plt.legend()\n",
    "plt.title('Exam Performance Dataset')\n",
    "plt.show()"
   ]
  },
  {
   "cell_type": "code",
   "execution_count": 5,
   "id": "c8b1fe2d",
   "metadata": {
    "execution": {
     "iopub.execute_input": "2025-06-10T17:40:02.176330Z",
     "iopub.status.busy": "2025-06-10T17:40:02.175970Z",
     "iopub.status.idle": "2025-06-10T17:40:04.551792Z",
     "shell.execute_reply": "2025-06-10T17:40:04.550662Z"
    },
    "papermill": {
     "duration": 2.384099,
     "end_time": "2025-06-10T17:40:04.553618",
     "exception": false,
     "start_time": "2025-06-10T17:40:02.169519",
     "status": "completed"
    },
    "tags": []
   },
   "outputs": [
    {
     "data": {
      "text/plain": [
       "<Axes: xlabel='Study_Hours', ylabel='Sleep_Hours'>"
      ]
     },
     "execution_count": 5,
     "metadata": {},
     "output_type": "execute_result"
    },
    {
     "data": {
      "image/png": "[encoded data removed]",
      "text/plain": [
       "<Figure size 640x480 with 1 Axes>"
      ]
     },
     "metadata": {},
     "output_type": "display_data"
    }
   ],
   "source": [
    "import seaborn as sns\n",
    "sns.scatterplot(data=df, x='Study_Hours', y='Sleep_Hours', hue='Pass', palette=['red', 'green'])"
   ]
  },
  {
   "cell_type": "markdown",
   "id": "5f4383d8",
   "metadata": {
    "papermill": {
     "duration": 0.006268,
     "end_time": "2025-06-10T17:40:04.566470",
     "exception": false,
     "start_time": "2025-06-10T17:40:04.560202",
     "status": "completed"
    },
    "tags": []
   },
   "source": [
    "Hmm, it's pretty easy. Because it's made up. We can almost divide the 0 and 1 simply by drawing a line between them. Lets see how that works. "
   ]
  },
  {
   "cell_type": "markdown",
   "id": "5b0bec30",
   "metadata": {
    "papermill": {
     "duration": 0.005509,
     "end_time": "2025-06-10T17:40:04.577620",
     "exception": false,
     "start_time": "2025-06-10T17:40:04.572111",
     "status": "completed"
    },
    "tags": []
   },
   "source": [
    "As we said before, we can try to draw a straight line and separate the reds from greens. Lets take that approach.\n",
    "If we want to draw a line, we need a line's equation. The simplest equation we have is:\n",
    "\n",
    "$$Y = ax + b$$\n",
    "\n",
    "where, \"a\" is the slope of \"x\", the input variable. And \"b\" is the bias. \"a\" decide the rate of change in Y from x, and \"b\" is the headstart, or how much elevation we get.\n",
    "Now, we need to find Y, and Y isn't exactly ax + b. We have to apply a function to get Y. It's more like $$Y = some_function(ax + b)$$\n",
    "Let's take a another variable z, z = ax+b. Later we can get the value of Y from z.  \n",
    "One more problem, we have two different values of x here. The \"study hours\" and the \"sleep hours\".\n",
    "We can work with that. Essentialy, we have to assume that study hours and sleep hours dont affect result similarly. Probably study hour is more important? And sleep hour is not that important? But we can not run on 0 hour of sleep, can we?\n",
    "So, these two independant variable, x1 (study hour), and x2(sleep hour) should be \"weighted\" differently. \n",
    "Here, weights = [w1, w2]\n",
    "So, $$z = w1 * x1 + w2 * x2 + b$$"
   ]
  },
  {
   "cell_type": "code",
   "execution_count": 6,
   "id": "8f8d4154",
   "metadata": {
    "execution": {
     "iopub.execute_input": "2025-06-10T17:40:04.590873Z",
     "iopub.status.busy": "2025-06-10T17:40:04.590413Z",
     "iopub.status.idle": "2025-06-10T17:40:04.595482Z",
     "shell.execute_reply": "2025-06-10T17:40:04.594526Z"
    },
    "papermill": {
     "duration": 0.013358,
     "end_time": "2025-06-10T17:40:04.596899",
     "exception": false,
     "start_time": "2025-06-10T17:40:04.583541",
     "status": "completed"
    },
    "tags": []
   },
   "outputs": [],
   "source": [
    "X_bias = np.c_[np.ones((X.shape[0], 1)), X]"
   ]
  },
  {
   "cell_type": "markdown",
   "id": "72beee37",
   "metadata": {
    "papermill": {
     "duration": 0.005705,
     "end_time": "2025-06-10T17:40:04.608555",
     "exception": false,
     "start_time": "2025-06-10T17:40:04.602850",
     "status": "completed"
    },
    "tags": []
   },
   "source": [
    "X_bias is an array that consist of b, x1, x2."
   ]
  },
  {
   "cell_type": "markdown",
   "id": "193a543f",
   "metadata": {
    "papermill": {
     "duration": 0.005705,
     "end_time": "2025-06-10T17:40:04.620237",
     "exception": false,
     "start_time": "2025-06-10T17:40:04.614532",
     "status": "completed"
    },
    "tags": []
   },
   "source": [
    "We are going to split the dataset into train and test part. Our regression will learn from train set, and test the hypothesis on the test set.\n",
    "We are doing 80% 20% split here."
   ]
  },
  {
   "cell_type": "code",
   "execution_count": 7,
   "id": "1cbe7f76",
   "metadata": {
    "execution": {
     "iopub.execute_input": "2025-06-10T17:40:04.633493Z",
     "iopub.status.busy": "2025-06-10T17:40:04.633148Z",
     "iopub.status.idle": "2025-06-10T17:40:04.639102Z",
     "shell.execute_reply": "2025-06-10T17:40:04.638177Z"
    },
    "papermill": {
     "duration": 0.014366,
     "end_time": "2025-06-10T17:40:04.640700",
     "exception": false,
     "start_time": "2025-06-10T17:40:04.626334",
     "status": "completed"
    },
    "tags": []
   },
   "outputs": [],
   "source": [
    "np.random.shuffle(X_bias) #shuffling the dataset"
   ]
  },
  {
   "cell_type": "code",
   "execution_count": 8,
   "id": "7d209bbb",
   "metadata": {
    "execution": {
     "iopub.execute_input": "2025-06-10T17:40:04.654664Z",
     "iopub.status.busy": "2025-06-10T17:40:04.654354Z",
     "iopub.status.idle": "2025-06-10T17:40:04.659052Z",
     "shell.execute_reply": "2025-06-10T17:40:04.658160Z"
    },
    "papermill": {
     "duration": 0.014209,
     "end_time": "2025-06-10T17:40:04.660836",
     "exception": false,
     "start_time": "2025-06-10T17:40:04.646627",
     "status": "completed"
    },
    "tags": []
   },
   "outputs": [],
   "source": [
    "train_size = int(len(X_bias) * 0.8)  # 80% of the total length\n",
    "train_set = X_bias[:train_size]  # First 80% of elements\n",
    "test_set = X_bias[train_size:]  # Remaining 20% of elements"
   ]
  },
  {
   "cell_type": "markdown",
   "id": "ec9cd70a",
   "metadata": {
    "papermill": {
     "duration": 0.005441,
     "end_time": "2025-06-10T17:40:04.672261",
     "exception": false,
     "start_time": "2025-06-10T17:40:04.666820",
     "status": "completed"
    },
    "tags": []
   },
   "source": [
    "We are initializing weight array."
   ]
  },
  {
   "cell_type": "code",
   "execution_count": 9,
   "id": "4be1a17d",
   "metadata": {
    "execution": {
     "iopub.execute_input": "2025-06-10T17:40:04.684896Z",
     "iopub.status.busy": "2025-06-10T17:40:04.684600Z",
     "iopub.status.idle": "2025-06-10T17:40:04.689060Z",
     "shell.execute_reply": "2025-06-10T17:40:04.688115Z"
    },
    "papermill": {
     "duration": 0.013186,
     "end_time": "2025-06-10T17:40:04.691134",
     "exception": false,
     "start_time": "2025-06-10T17:40:04.677948",
     "status": "completed"
    },
    "tags": []
   },
   "outputs": [],
   "source": [
    "w = np.zeros(X_bias.shape[1])  # Shape: (3,) for [bias, w1, w2]"
   ]
  },
  {
   "cell_type": "markdown",
   "id": "9477d640",
   "metadata": {
    "papermill": {
     "duration": 0.005561,
     "end_time": "2025-06-10T17:40:04.702796",
     "exception": false,
     "start_time": "2025-06-10T17:40:04.697235",
     "status": "completed"
    },
    "tags": []
   },
   "source": [
    "Remeber when we said we need to put \"z\" through some function to get \"Y\"? We have to make that function now. That function is sigmoid function. Its a function that maps real number values to 0 or 1. That means, we send some \"z\", we get some 0 or 1, and those values are \"y\".\n",
    "\n",
    "The sigmoid function is defined as:\n",
    "\n",
    "$$\\sigma(x) = \\frac{1}{1 + e^{-x}}$$\n",
    "\n",
    "\n",
    "now we are going to implement the function here."
   ]
  },
  {
   "cell_type": "code",
   "execution_count": 10,
   "id": "5e143938",
   "metadata": {
    "execution": {
     "iopub.execute_input": "2025-06-10T17:40:04.715885Z",
     "iopub.status.busy": "2025-06-10T17:40:04.715516Z",
     "iopub.status.idle": "2025-06-10T17:40:04.720229Z",
     "shell.execute_reply": "2025-06-10T17:40:04.719175Z"
    },
    "papermill": {
     "duration": 0.013534,
     "end_time": "2025-06-10T17:40:04.722095",
     "exception": false,
     "start_time": "2025-06-10T17:40:04.708561",
     "status": "completed"
    },
    "tags": []
   },
   "outputs": [],
   "source": [
    "def sigmoid(z):\n",
    "    return 1 / (1 + np.exp(-z))"
   ]
  },
  {
   "cell_type": "markdown",
   "id": "5648b334",
   "metadata": {
    "papermill": {
     "duration": 0.005582,
     "end_time": "2025-06-10T17:40:04.733705",
     "exception": false,
     "start_time": "2025-06-10T17:40:04.728123",
     "status": "completed"
    },
    "tags": []
   },
   "source": [
    "Now, the weight and bias we initiated randomly, aren't necessarily accurate. We need to change that. In fact, we need to change it a lot of times till it gives us a line that's the perfect fit. If not, it should be near perfect. Also, the need to see the cost or the error. Error is the difference of the real value of y and the hypothetical value of y. Here, the cost function is \n",
    "$$J(w) = -\\frac{1}{m} \\sum_{i=1}^{m} \\left[ y^{(i)} \\log a^{(i)} + (1 - y^{(i)}) \\log (1 - a^{(i)}) \\right]$$\n",
    "where:\n",
    "- \\( m \\) is the number of training examples.\n",
    "- \\( y^{(i)} \\) is the actual label (0 or 1).\n",
    "- \\( a^{(i)} \\) is the predicted probability from the sigmoid function.\n",
    "\n",
    "We have to update the weights till we find the optimal weights. That means, we have to find the perfect or near perfect w1, w2 weights for variable x1, x2 to plug into the equation.\n",
    "\n",
    "### Gradient Descent Formula\n",
    "\n",
    "The weight update rule in gradient descent is:\n",
    "\n",
    "$$ w := w - \\alpha \\frac{\\partial J}{\\partial w} $$\n",
    "\n",
    "where:\n",
    "- \\( w \\) represents the weights.\n",
    "- \\( \\alpha \\) is the learning rate.\n",
    "- \\( \\frac{\\partial J}{\\partial w} \\) is the gradient of the cost function with respect to \\( w \\).\n",
    "\n",
    "For logistic regression, the gradient descent update for weights and bias is:\n",
    "\n",
    "$$ w := w - \\alpha \\frac{1}{m} \\sum_{i=1}^{m} X^{(i)} (A^{(i)} - Y^{(i)}) $$\n",
    "\n",
    "$$ b := b - \\alpha \\frac{1}{m} \\sum_{i=1}^{m} (A^{(i)} - Y^{(i)}) $$\n",
    "\n",
    "where:\n",
    "- \\( m \\) is the number of training examples.\n",
    "- \\( X^{(i)} \\) is the input feature vector.\n",
    "- \\( A^{(i)} \\) is the predicted probability from the sigmoid function.\n",
    "- \\( Y^{(i)} \\) is the actual label.\n",
    "\n",
    "\n",
    "We will adjust the weights 1000 times. These attempts are called epochs. \n",
    "\n",
    "\n",
    "### What Happens in One Epoch: ###\n"
   ]
  },
  {
   "cell_type": "markdown",
   "id": "5a7bdbe7",
   "metadata": {
    "papermill": {
     "duration": 0.005483,
     "end_time": "2025-06-10T17:40:04.744995",
     "exception": false,
     "start_time": "2025-06-10T17:40:04.739512",
     "status": "completed"
    },
    "tags": []
   },
   "source": [
    "*Forward Pass:* Compute predictions (A) and cost for all 20 examples."
   ]
  },
  {
   "cell_type": "code",
   "execution_count": 11,
   "id": "618afd5d",
   "metadata": {
    "execution": {
     "iopub.execute_input": "2025-06-10T17:40:04.757993Z",
     "iopub.status.busy": "2025-06-10T17:40:04.757657Z",
     "iopub.status.idle": "2025-06-10T17:40:04.763264Z",
     "shell.execute_reply": "2025-06-10T17:40:04.762150Z"
    },
    "papermill": {
     "duration": 0.013821,
     "end_time": "2025-06-10T17:40:04.764761",
     "exception": false,
     "start_time": "2025-06-10T17:40:04.750940",
     "status": "completed"
    },
    "tags": []
   },
   "outputs": [],
   "source": [
    "def forward(X, w):\n",
    "    z = np.dot(X, w)\n",
    "    A = sigmoid(z)  # Predicted probabilities\n",
    "    J = -np.mean(y * np.log(A) + (1 - y) * np.log(1 - A))  # Cross-entropy cost\n",
    "    return A, J"
   ]
  },
  {
   "cell_type": "markdown",
   "id": "0d621913",
   "metadata": {
    "papermill": {
     "duration": 0.005509,
     "end_time": "2025-06-10T17:40:04.776191",
     "exception": false,
     "start_time": "2025-06-10T17:40:04.770682",
     "status": "completed"
    },
    "tags": []
   },
   "source": [
    "*Backward Pass:* Calculate the gradient (dw) by averaging contributions from all examples."
   ]
  },
  {
   "cell_type": "code",
   "execution_count": 12,
   "id": "7c25eb0d",
   "metadata": {
    "execution": {
     "iopub.execute_input": "2025-06-10T17:40:04.788800Z",
     "iopub.status.busy": "2025-06-10T17:40:04.788476Z",
     "iopub.status.idle": "2025-06-10T17:40:04.793256Z",
     "shell.execute_reply": "2025-06-10T17:40:04.792198Z"
    },
    "papermill": {
     "duration": 0.013358,
     "end_time": "2025-06-10T17:40:04.795279",
     "exception": false,
     "start_time": "2025-06-10T17:40:04.781921",
     "status": "completed"
    },
    "tags": []
   },
   "outputs": [],
   "source": [
    "def backward(X, A, y):\n",
    "    dw = np.dot(X.T, (A - y)) / len(y)  # Gradient for weights\n",
    "    return dw"
   ]
  },
  {
   "cell_type": "markdown",
   "id": "f4bf3c23",
   "metadata": {
    "papermill": {
     "duration": 0.005951,
     "end_time": "2025-06-10T17:40:04.807984",
     "exception": false,
     "start_time": "2025-06-10T17:40:04.802033",
     "status": "completed"
    },
    "tags": []
   },
   "source": [
    "*Update Weights:* Adjust w using the gradient: $$w = w - \\alpha * dw.$$\n",
    "Here, $$\\alpha$$ is the learning rate.\n",
    "\n",
    "We have the liberty to choose the learning rate. But we should be careful, since with smaller learning rate, we need way more epochs and if we set it too big, we might cross the optimal point."
   ]
  },
  {
   "cell_type": "code",
   "execution_count": 13,
   "id": "e64d9d3a",
   "metadata": {
    "execution": {
     "iopub.execute_input": "2025-06-10T17:40:04.821671Z",
     "iopub.status.busy": "2025-06-10T17:40:04.821328Z",
     "iopub.status.idle": "2025-06-10T17:40:04.834425Z",
     "shell.execute_reply": "2025-06-10T17:40:04.833392Z"
    },
    "papermill": {
     "duration": 0.02204,
     "end_time": "2025-06-10T17:40:04.836226",
     "exception": false,
     "start_time": "2025-06-10T17:40:04.814186",
     "status": "completed"
    },
    "tags": []
   },
   "outputs": [
    {
     "name": "stdout",
     "output_type": "stream",
     "text": [
      "Epoch 0, Cost: 0.6931\n"
     ]
    }
   ],
   "source": [
    "alpha = 0.01  # Learning rate\n",
    "epochs = 100\n",
    "\n",
    "for epoch in range(epochs):\n",
    "    A, cost = forward(X_bias, w)  # Forward pass\n",
    "    dw = backward(X_bias, A, y)   # Backward pass\n",
    "    w -= alpha * dw               # Update weights\n",
    "    \n",
    "    if epoch % 100 == 0:\n",
    "        print(f\"Epoch {epoch}, Cost: {cost:.4f}\")"
   ]
  },
  {
   "cell_type": "markdown",
   "id": "15bee80a",
   "metadata": {
    "papermill": {
     "duration": 0.005675,
     "end_time": "2025-06-10T17:40:04.847874",
     "exception": false,
     "start_time": "2025-06-10T17:40:04.842199",
     "status": "completed"
    },
    "tags": []
   },
   "source": [
    "Now we check how good our hypothesis is after adjusting the weights **1,000** times!"
   ]
  },
  {
   "cell_type": "code",
   "execution_count": 14,
   "id": "0e124ebb",
   "metadata": {
    "execution": {
     "iopub.execute_input": "2025-06-10T17:40:04.860725Z",
     "iopub.status.busy": "2025-06-10T17:40:04.860415Z",
     "iopub.status.idle": "2025-06-10T17:40:04.866189Z",
     "shell.execute_reply": "2025-06-10T17:40:04.865180Z"
    },
    "papermill": {
     "duration": 0.014054,
     "end_time": "2025-06-10T17:40:04.867813",
     "exception": false,
     "start_time": "2025-06-10T17:40:04.853759",
     "status": "completed"
    },
    "tags": []
   },
   "outputs": [],
   "source": [
    "def predict(X, w):\n",
    "    A, _ = forward(X, w)\n",
    "    return (A >= 0.5).astype(int)  # Threshold at 0.5\n",
    "\n",
    "y_pred = predict(X_bias, w)"
   ]
  },
  {
   "cell_type": "code",
   "execution_count": 15,
   "id": "26cf696b",
   "metadata": {
    "execution": {
     "iopub.execute_input": "2025-06-10T17:40:04.880923Z",
     "iopub.status.busy": "2025-06-10T17:40:04.880628Z",
     "iopub.status.idle": "2025-06-10T17:40:04.886274Z",
     "shell.execute_reply": "2025-06-10T17:40:04.885053Z"
    },
    "papermill": {
     "duration": 0.014685,
     "end_time": "2025-06-10T17:40:04.888357",
     "exception": false,
     "start_time": "2025-06-10T17:40:04.873672",
     "status": "completed"
    },
    "tags": []
   },
   "outputs": [
    {
     "name": "stdout",
     "output_type": "stream",
     "text": [
      "Accuracy: 70.00%\n"
     ]
    }
   ],
   "source": [
    "accuracy = np.mean(y_pred == y)\n",
    "print(f\"Accuracy: {accuracy * 100:.2f}%\")"
   ]
  },
  {
   "cell_type": "markdown",
   "id": "963d84a0",
   "metadata": {
    "papermill": {
     "duration": 0.005631,
     "end_time": "2025-06-10T17:40:04.900064",
     "exception": false,
     "start_time": "2025-06-10T17:40:04.894433",
     "status": "completed"
    },
    "tags": []
   },
   "source": [
    "Honestly, it's not good. **Only 70.00% accuracy!**\n",
    "But at least we learned something.\n",
    "Let's visually see  how our hypothesis worked."
   ]
  },
  {
   "cell_type": "code",
   "execution_count": 16,
   "id": "068c7516",
   "metadata": {
    "execution": {
     "iopub.execute_input": "2025-06-10T17:40:04.913162Z",
     "iopub.status.busy": "2025-06-10T17:40:04.912787Z",
     "iopub.status.idle": "2025-06-10T17:40:05.140921Z",
     "shell.execute_reply": "2025-06-10T17:40:05.139929Z"
    },
    "papermill": {
     "duration": 0.23656,
     "end_time": "2025-06-10T17:40:05.142474",
     "exception": false,
     "start_time": "2025-06-10T17:40:04.905914",
     "status": "completed"
    },
    "tags": []
   },
   "outputs": [
    {
     "data": {
      "image/png": "[encoded data removed]",
      "text/plain": [
       "<Figure size 500x300 with 1 Axes>"
      ]
     },
     "metadata": {},
     "output_type": "display_data"
    }
   ],
   "source": [
    "# Fix Sleep_Hours at median (or mean)\n",
    "sleep_fixed = np.median(X[:, 1])  # Try np.mean() if needed\n",
    "\n",
    "# Create a range of Study_Hours values\n",
    "study_range = np.linspace(min(X[:, 0]), max(X[:, 0]), 100)\n",
    "\n",
    "# Compute predicted probabilities (A) for each Study_Hours\n",
    "z = w[0] + w[1] * study_range + w[2] * sleep_fixed\n",
    "A = sigmoid(z)  # S-curve probabilities\n",
    "\n",
    "# Plot\n",
    "plt.figure(figsize=(5, 3))\n",
    "plt.plot(study_range, A, color='red', linewidth=3, label='Sigmoid Curve')\n",
    "plt.scatter(X[:, 0], y, color='blue', label='True Labels (0/1)')  # Actual data\n",
    "plt.xlabel('Study_Hours')\n",
    "plt.ylabel('Probability of Passing (A)')\n",
    "plt.title('S-shaped Sigmoid Curve: P(Pass) vs. Study_Hours')\n",
    "plt.axhline(y=0.5, color='gray', linestyle='--', label='Decision Threshold (A=0.5)')\n",
    "plt.legend()\n",
    "plt.grid(True)\n",
    "plt.show()"
   ]
  }
 ],
 "metadata": {
  "kaggle": {
   "accelerator": "none",
   "dataSources": [],
   "dockerImageVersionId": 31040,
   "isGpuEnabled": false,
   "isInternetEnabled": true,
   "language": "python",
   "sourceType": "notebook"
  },
  "kernelspec": {
   "display_name": "Python 3",
   "language": "python",
   "name": "python3"
  },
  "language_info": {
   "codemirror_mode": {
    "name": "ipython",
    "version": 3
   },
   "file_extension": ".py",
   "mimetype": "text/x-python",
   "name": "python",
   "nbconvert_exporter": "python",
   "pygments_lexer": "ipython3",
   "version": "3.11.11"
  },
  "papermill": {
   "default_parameters": {},
   "duration": 11.277312,
   "end_time": "2025-06-10T17:40:05.872141",
   "environment_variables": {},
   "exception": null,
   "input_path": "__notebook__.ipynb",
   "output_path": "__notebook__.ipynb",
   "parameters": {},
   "start_time": "2025-06-10T17:39:54.594829",
   "version": "2.6.0"
  }
 },
 "nbformat": 4,
 "nbformat_minor": 5
}
