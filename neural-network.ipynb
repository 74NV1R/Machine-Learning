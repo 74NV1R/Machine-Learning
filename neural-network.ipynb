{
 "cells": [
  {
   "cell_type": "markdown",
   "id": "300e98b3",
   "metadata": {
    "papermill": {
     "duration": 0.003427,
     "end_time": "2025-06-21T15:22:24.077622",
     "exception": false,
     "start_time": "2025-06-21T15:22:24.074195",
     "status": "completed"
    },
    "tags": []
   },
   "source": [
    "### Previously, we worked on building a logistic regression model that achieved around 70% accuracy on a skin cancer image dataset. This time we will try to build a Neural Network model. And just like before, we will try our best to build it without importing any ML libraries, so it stays transparent and we can understand what's going on in every line"
   ]
  },
  {
   "cell_type": "code",
   "execution_count": 1,
   "id": "359bea56",
   "metadata": {
    "_cell_guid": "b1076dfc-b9ad-4769-8c92-a6c4dae69d19",
    "_uuid": "8f2839f25d086af736a60e9eeb907d3b93b6e0e5",
    "execution": {
     "iopub.execute_input": "2025-06-21T15:22:24.084699Z",
     "iopub.status.busy": "2025-06-21T15:22:24.084385Z",
     "iopub.status.idle": "2025-06-21T15:22:25.831139Z",
     "shell.execute_reply": "2025-06-21T15:22:25.830170Z"
    },
    "papermill": {
     "duration": 1.752106,
     "end_time": "2025-06-21T15:22:25.832819",
     "exception": false,
     "start_time": "2025-06-21T15:22:24.080713",
     "status": "completed"
    },
    "tags": []
   },
   "outputs": [],
   "source": [
    "# This Python 3 environment comes with many helpful analytics libraries installed\n",
    "# It is defined by the kaggle/python Docker image: https://github.com/kaggle/docker-python\n",
    "# For example, here's several helpful packages to load\n",
    "\n",
    "import numpy as np # linear algebra\n",
    "import pandas as pd # data processing, CSV file I/O (e.g. pd.read_csv)\n",
    "\n",
    "# Input data files are available in the read-only \"../input/\" directory\n",
    "# For example, running this (by clicking run or pressing Shift+Enter) will list all files under the input directory\n",
    "\n",
    "import os\n",
    "\n",
    "\n",
    "# You can write up to 20GB to the current directory (/kaggle/working/) that gets preserved as output when you create a version using \"Save & Run All\" \n",
    "# You can also write temporary files to /kaggle/temp/, but they won't be saved outside of the current session"
   ]
  },
  {
   "cell_type": "code",
   "execution_count": 2,
   "id": "fb9f20fe",
   "metadata": {
    "execution": {
     "iopub.execute_input": "2025-06-21T15:22:25.843933Z",
     "iopub.status.busy": "2025-06-21T15:22:25.843406Z",
     "iopub.status.idle": "2025-06-21T15:22:29.154604Z",
     "shell.execute_reply": "2025-06-21T15:22:29.153582Z"
    },
    "papermill": {
     "duration": 3.318587,
     "end_time": "2025-06-21T15:22:29.156141",
     "exception": false,
     "start_time": "2025-06-21T15:22:25.837554",
     "status": "completed"
    },
    "tags": []
   },
   "outputs": [
    {
     "name": "stdout",
     "output_type": "stream",
     "text": [
      "Loaded images shape: (288, 64, 64, 3)\n",
      "Labels shape: (288,)\n"
     ]
    }
   ],
   "source": [
    "import cv2\n",
    "\n",
    "dataset_path = '/kaggle/input/skin-cancer-binary-classification-dataset/Skin_Data'\n",
    "\n",
    "# Initialize lists\n",
    "images = []\n",
    "labels = []\n",
    "\n",
    "# Label map based on top-level folder names\n",
    "label_map = {'Cancer': 1, 'Non_Cancer': 0}\n",
    "\n",
    "# Walk through directory tree\n",
    "for category in ['Cancer', 'Non_Cancer']:\n",
    "    for split in ['Training', 'Testing']:\n",
    "        folder_path = os.path.join(dataset_path, category, split)\n",
    "        for filename in os.listdir(folder_path):\n",
    "            if filename.lower().endswith(('.jpg', '.png')):\n",
    "                img_path = os.path.join(folder_path, filename)\n",
    "                img = cv2.imread(img_path)\n",
    "                img = cv2.resize(img, (64, 64))  # Resize to match model input\n",
    "                images.append(img)\n",
    "                labels.append(label_map[category])\n",
    "\n",
    "# Convert to NumPy arrays\n",
    "X = np.array(images) / 255.0  # Normalize pixel values\n",
    "y = np.array(labels)\n",
    "\n",
    "print(\"Loaded images shape:\", X.shape)\n",
    "print(\"Labels shape:\", y.shape)\n"
   ]
  },
  {
   "cell_type": "code",
   "execution_count": 3,
   "id": "ef554e2c",
   "metadata": {
    "execution": {
     "iopub.execute_input": "2025-06-21T15:22:29.163386Z",
     "iopub.status.busy": "2025-06-21T15:22:29.163114Z",
     "iopub.status.idle": "2025-06-21T15:22:29.415552Z",
     "shell.execute_reply": "2025-06-21T15:22:29.414698Z"
    },
    "papermill": {
     "duration": 0.257467,
     "end_time": "2025-06-21T15:22:29.416922",
     "exception": false,
     "start_time": "2025-06-21T15:22:29.159455",
     "status": "completed"
    },
    "tags": []
   },
   "outputs": [
    {
     "data": {
      "image/png": "[encoded data removed]",
      "text/plain": [
       "<Figure size 640x480 with 1 Axes>"
      ]
     },
     "metadata": {},
     "output_type": "display_data"
    }
   ],
   "source": [
    "import matplotlib.pyplot as plt\n",
    "\n",
    "idx = 142\n",
    "\n",
    "plt.imshow(X[idx])\n",
    "plt.axis('off')\n",
    "plt.title(\"Cancer\" if y[idx] == 1 else 'Non Cancer')\n",
    "plt.show()"
   ]
  },
  {
   "cell_type": "code",
   "execution_count": 4,
   "id": "6efce1ad",
   "metadata": {
    "execution": {
     "iopub.execute_input": "2025-06-21T15:22:29.424474Z",
     "iopub.status.busy": "2025-06-21T15:22:29.424202Z",
     "iopub.status.idle": "2025-06-21T15:22:29.439238Z",
     "shell.execute_reply": "2025-06-21T15:22:29.438276Z"
    },
    "papermill": {
     "duration": 0.020618,
     "end_time": "2025-06-21T15:22:29.440890",
     "exception": false,
     "start_time": "2025-06-21T15:22:29.420272",
     "status": "completed"
    },
    "tags": []
   },
   "outputs": [],
   "source": [
    "X = X / 255.0"
   ]
  },
  {
   "cell_type": "code",
   "execution_count": 5,
   "id": "2d99e63f",
   "metadata": {
    "execution": {
     "iopub.execute_input": "2025-06-21T15:22:29.449250Z",
     "iopub.status.busy": "2025-06-21T15:22:29.448677Z",
     "iopub.status.idle": "2025-06-21T15:22:30.768099Z",
     "shell.execute_reply": "2025-06-21T15:22:30.767272Z"
    },
    "papermill": {
     "duration": 1.325194,
     "end_time": "2025-06-21T15:22:30.769771",
     "exception": false,
     "start_time": "2025-06-21T15:22:29.444577",
     "status": "completed"
    },
    "tags": []
   },
   "outputs": [],
   "source": [
    "from sklearn.model_selection import train_test_split\n",
    "X_train, X_test, y_train, y_test = train_test_split(X, y, test_size=0.2, random_state=42)"
   ]
  },
  {
   "cell_type": "code",
   "execution_count": 6,
   "id": "f9c3b636",
   "metadata": {
    "execution": {
     "iopub.execute_input": "2025-06-21T15:22:30.778076Z",
     "iopub.status.busy": "2025-06-21T15:22:30.777378Z",
     "iopub.status.idle": "2025-06-21T15:22:30.782991Z",
     "shell.execute_reply": "2025-06-21T15:22:30.782313Z"
    },
    "papermill": {
     "duration": 0.010798,
     "end_time": "2025-06-21T15:22:30.784241",
     "exception": false,
     "start_time": "2025-06-21T15:22:30.773443",
     "status": "completed"
    },
    "tags": []
   },
   "outputs": [
    {
     "data": {
      "text/plain": [
       "(230, 64, 64, 3)"
      ]
     },
     "execution_count": 6,
     "metadata": {},
     "output_type": "execute_result"
    }
   ],
   "source": [
    "X_train.shape"
   ]
  },
  {
   "cell_type": "code",
   "execution_count": 7,
   "id": "e28d2453",
   "metadata": {
    "execution": {
     "iopub.execute_input": "2025-06-21T15:22:30.791650Z",
     "iopub.status.busy": "2025-06-21T15:22:30.791434Z",
     "iopub.status.idle": "2025-06-21T15:22:30.798230Z",
     "shell.execute_reply": "2025-06-21T15:22:30.797563Z"
    },
    "papermill": {
     "duration": 0.011989,
     "end_time": "2025-06-21T15:22:30.799411",
     "exception": false,
     "start_time": "2025-06-21T15:22:30.787422",
     "status": "completed"
    },
    "tags": []
   },
   "outputs": [],
   "source": [
    "def conv_forward(X, W, b, stride=1, pad=0):\n",
    "    # X: (m, H_prev, W_prev, C_prev)\n",
    "    # W: (f, f, C_prev, C_out)\n",
    "    m, H_prev, W_prev, _ = X.shape\n",
    "    f, _, _, C_out = W.shape\n",
    "    \n",
    "    H = (H_prev - f + 2*pad) // stride + 1\n",
    "    W_out = (W_prev - f + 2*pad) // stride + 1\n",
    "    \n",
    "    # Add zero padding if needed\n",
    "    if pad > 0:\n",
    "        X_pad = np.pad(X, ((0,0), (pad,pad), (pad,pad), (0,0)), mode='constant')\n",
    "    else:\n",
    "        X_pad = X\n",
    "    \n",
    "    Z = np.zeros((m, H, W_out, C_out))\n",
    "    \n",
    "    for h in range(H):\n",
    "        for w in range(W_out):\n",
    "            h_start = h * stride\n",
    "            h_end = h_start + f\n",
    "            w_start = w * stride\n",
    "            w_end = w_start + f\n",
    "            \n",
    "            X_slice = X_pad[:, h_start:h_end, w_start:w_end, :]  # (m, f, f, C_prev)\n",
    "            Z[:, h, w, :] = np.tensordot(X_slice, W, axes=([1,2,3], [0,1,2])) + b\n",
    "            \n",
    "    return Z  # (m, H, W_out, C_out)"
   ]
  },
  {
   "cell_type": "code",
   "execution_count": 8,
   "id": "7de00afa",
   "metadata": {
    "execution": {
     "iopub.execute_input": "2025-06-21T15:22:30.806577Z",
     "iopub.status.busy": "2025-06-21T15:22:30.806320Z",
     "iopub.status.idle": "2025-06-21T15:22:30.810507Z",
     "shell.execute_reply": "2025-06-21T15:22:30.809878Z"
    },
    "papermill": {
     "duration": 0.009108,
     "end_time": "2025-06-21T15:22:30.811716",
     "exception": false,
     "start_time": "2025-06-21T15:22:30.802608",
     "status": "completed"
    },
    "tags": []
   },
   "outputs": [],
   "source": [
    "\n",
    "def softmax(z):\n",
    "    # Numerically stable version: subtract max(z) to avoid overflow\n",
    "    exp_z = np.exp(z - np.max(z, axis=1, keepdims=True))\n",
    "    return exp_z / np.sum(exp_z, axis=1, keepdims=True)"
   ]
  },
  {
   "cell_type": "code",
   "execution_count": 9,
   "id": "7d7f13dc",
   "metadata": {
    "execution": {
     "iopub.execute_input": "2025-06-21T15:22:30.818796Z",
     "iopub.status.busy": "2025-06-21T15:22:30.818550Z",
     "iopub.status.idle": "2025-06-21T15:22:30.823509Z",
     "shell.execute_reply": "2025-06-21T15:22:30.822906Z"
    },
    "papermill": {
     "duration": 0.009865,
     "end_time": "2025-06-21T15:22:30.824726",
     "exception": false,
     "start_time": "2025-06-21T15:22:30.814861",
     "status": "completed"
    },
    "tags": []
   },
   "outputs": [],
   "source": [
    "def avg_pool(X, f=2, stride=2):\n",
    "    m, H_prev, W_prev, C = X.shape\n",
    "    H = (H_prev - f) // stride + 1\n",
    "    W_out = (W_prev - f) // stride + 1\n",
    "    \n",
    "    A = np.zeros((m, H, W_out, C))\n",
    "    \n",
    "    for h in range(H):\n",
    "        for w in range(W_out):\n",
    "            h_start = h * stride\n",
    "            h_end = h_start + f\n",
    "            w_start = w * stride\n",
    "            w_end = w_start + f\n",
    "            \n",
    "            A[:, h, w, :] = np.mean(X[:, h_start:h_end, w_start:w_end, :], axis=(1,2))\n",
    "            \n",
    "    return A"
   ]
  },
  {
   "cell_type": "code",
   "execution_count": 10,
   "id": "0f88054d",
   "metadata": {
    "execution": {
     "iopub.execute_input": "2025-06-21T15:22:30.831945Z",
     "iopub.status.busy": "2025-06-21T15:22:30.831683Z",
     "iopub.status.idle": "2025-06-21T15:22:30.854635Z",
     "shell.execute_reply": "2025-06-21T15:22:30.853989Z"
    },
    "papermill": {
     "duration": 0.028133,
     "end_time": "2025-06-21T15:22:30.856011",
     "exception": false,
     "start_time": "2025-06-21T15:22:30.827878",
     "status": "completed"
    },
    "tags": []
   },
   "outputs": [],
   "source": [
    "# Initialize parameters\n",
    "W1 = np.random.randn(5, 5, 3, 6) * 0.01\n",
    "b1 = np.zeros(6)\n",
    "W2 = np.random.randn(5, 5, 6, 16) * 0.01\n",
    "b2 = np.zeros(16)\n",
    "W3 = np.random.randn(13*13*16, 120) * 0.01\n",
    "b3 = np.zeros(120)\n",
    "W4 = np.random.randn(120, 84) * 0.01\n",
    "b4 = np.zeros(84)\n",
    "W5 = np.random.randn(84, 10) * 0.01  # Assuming 10 classes\n",
    "b5 = np.zeros(10)\n",
    "\n",
    "# Forward pass\n",
    "def forward(X):\n",
    "    # Conv1\n",
    "    Z1 = conv_forward(X, W1, b1, stride=1, pad=0)  # (288, 60, 60, 6)\n",
    "    A1 = np.tanh(Z1)  # LeNet uses tanh\n",
    "    \n",
    "    # Pool1\n",
    "    P1 = avg_pool(A1)  # (288, 30, 30, 6)\n",
    "    \n",
    "    # Conv2\n",
    "    Z2 = conv_forward(P1, W2, b2, stride=1, pad=0)  # (288, 26, 26, 16)\n",
    "    A2 = np.tanh(Z2)\n",
    "    \n",
    "    # Pool2\n",
    "    P2 = avg_pool(A2)  # (288, 13, 13, 16)\n",
    "    \n",
    "    # Flatten\n",
    "    P2_flat = P2.reshape(P2.shape[0], -1)  # (288, 2704)\n",
    "    \n",
    "    # FC layers\n",
    "    Z3 = P2_flat @ W3 + b3  # (288, 120)\n",
    "    A3 = np.tanh(Z3)\n",
    "    \n",
    "    Z4 = A3 @ W4 + b4  # (288, 84)\n",
    "    A4 = np.tanh(Z4)\n",
    "    \n",
    "    Z5 = A4 @ W5 + b5  # (288, 10)\n",
    "    A5 = softmax(Z5)  # Output probabilities\n",
    "    \n",
    "    return A5"
   ]
  },
  {
   "cell_type": "code",
   "execution_count": 11,
   "id": "94adefdb",
   "metadata": {
    "execution": {
     "iopub.execute_input": "2025-06-21T15:22:30.863333Z",
     "iopub.status.busy": "2025-06-21T15:22:30.863079Z",
     "iopub.status.idle": "2025-06-21T15:22:30.868296Z",
     "shell.execute_reply": "2025-06-21T15:22:30.867512Z"
    },
    "papermill": {
     "duration": 0.010278,
     "end_time": "2025-06-21T15:22:30.869603",
     "exception": false,
     "start_time": "2025-06-21T15:22:30.859325",
     "status": "completed"
    },
    "tags": []
   },
   "outputs": [],
   "source": [
    "def cross_entropy_loss(y_pred, y_true):\n",
    "    m = y_true.shape[0]\n",
    "    log_probs = -np.log(y_pred[range(m), y_true])\n",
    "    return np.sum(log_probs) / m\n",
    "\n",
    "def train(X, y, epochs=1000, lr=0.01):\n",
    "    for epoch in range(epochs):\n",
    "        # Forward pass\n",
    "        y_pred = forward(X)\n",
    "        loss = cross_entropy_loss(y_pred, y)\n",
    "        \n",
    "        # Backward pass (implement this next)\n",
    "        # ...\n",
    "        \n",
    "        # Update weights (example for W1)\n",
    "        #W1 -= lr * dW1\n",
    "        #b1 -= lr * db1\n",
    "        \n",
    "        if epoch % 1 == 0:\n",
    "            print(f\"Epoch {epoch}, Loss: {loss:.4f}\")"
   ]
  },
  {
   "cell_type": "code",
   "execution_count": 12,
   "id": "34941570",
   "metadata": {
    "execution": {
     "iopub.execute_input": "2025-06-21T15:22:30.877136Z",
     "iopub.status.busy": "2025-06-21T15:22:30.876506Z",
     "iopub.status.idle": "2025-06-21T15:22:31.732590Z",
     "shell.execute_reply": "2025-06-21T15:22:31.731627Z"
    },
    "papermill": {
     "duration": 0.861239,
     "end_time": "2025-06-21T15:22:31.734051",
     "exception": false,
     "start_time": "2025-06-21T15:22:30.872812",
     "status": "completed"
    },
    "tags": []
   },
   "outputs": [
    {
     "name": "stdout",
     "output_type": "stream",
     "text": [
      "Train Loss: 2.3026, Train Accuracy: 0.00%\n",
      "Test Loss: 2.3026, Test Accuracy: 0.00%\n"
     ]
    }
   ],
   "source": [
    "def evaluate(X, y_true, W1, b1, W2, b2, W3, b3, W4, b4, W5, b5):\n",
    "    y_pred = forward(X)  # Uses the forward() function defined earlier\n",
    "    loss = cross_entropy_loss(y_pred, y_true)\n",
    "    accuracy = np.mean(np.argmax(y_pred, axis=1) == y_true)\n",
    "    return loss, accuracy\n",
    "\n",
    "# After training:\n",
    "train_loss, train_acc = evaluate(X_train, y_train, W1, b1, W2, b2, W3, b3, W4, b4, W5, b5)\n",
    "test_loss, test_acc = evaluate(X_test, y_test, W1, b1, W2, b2, W3, b3, W4, b4, W5, b5)\n",
    "\n",
    "print(f\"Train Loss: {train_loss:.4f}, Train Accuracy: {train_acc*100:.2f}%\")\n",
    "print(f\"Test Loss: {test_loss:.4f}, Test Accuracy: {test_acc*100:.2f}%\")"
   ]
  }
 ],
 "metadata": {
  "kaggle": {
   "accelerator": "none",
   "dataSources": [
    {
     "datasetId": 2921725,
     "sourceId": 5034040,
     "sourceType": "datasetVersion"
    }
   ],
   "dockerImageVersionId": 31040,
   "isGpuEnabled": false,
   "isInternetEnabled": true,
   "language": "python",
   "sourceType": "notebook"
  },
  "kernelspec": {
   "display_name": "Python 3",
   "language": "python",
   "name": "python3"
  },
  "language_info": {
   "codemirror_mode": {
    "name": "ipython",
    "version": 3
   },
   "file_extension": ".py",
   "mimetype": "text/x-python",
   "name": "python",
   "nbconvert_exporter": "python",
   "pygments_lexer": "ipython3",
   "version": "3.11.11"
  },
  "papermill": {
   "default_parameters": {},
   "duration": 13.339185,
   "end_time": "2025-06-21T15:22:32.356502",
   "environment_variables": {},
   "exception": null,
   "input_path": "__notebook__.ipynb",
   "output_path": "__notebook__.ipynb",
   "parameters": {},
   "start_time": "2025-06-21T15:22:19.017317",
   "version": "2.6.0"
  }
 },
 "nbformat": 4,
 "nbformat_minor": 5
}
