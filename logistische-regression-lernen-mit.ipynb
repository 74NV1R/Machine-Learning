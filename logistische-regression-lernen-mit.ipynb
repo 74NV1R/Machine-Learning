{
 "cells": [
  {
   "cell_type": "code",
   "execution_count": 1,
   "id": "256bb76f",
   "metadata": {
    "_cell_guid": "b1076dfc-b9ad-4769-8c92-a6c4dae69d19",
    "_uuid": "8f2839f25d086af736a60e9eeb907d3b93b6e0e5",
    "execution": {
     "iopub.execute_input": "2025-04-19T14:02:08.334222Z",
     "iopub.status.busy": "2025-04-19T14:02:08.333835Z",
     "iopub.status.idle": "2025-04-19T14:02:10.257051Z",
     "shell.execute_reply": "2025-04-19T14:02:10.255832Z"
    },
    "papermill": {
     "duration": 1.928806,
     "end_time": "2025-04-19T14:02:10.258843",
     "exception": false,
     "start_time": "2025-04-19T14:02:08.330037",
     "status": "completed"
    },
    "tags": []
   },
   "outputs": [],
   "source": [
    "# This Python 3 environment comes with many helpful analytics libraries installed\n",
    "# It is defined by the kaggle/python Docker image: https://github.com/kaggle/docker-python\n",
    "# For example, here's several helpful packages to load\n",
    "\n",
    "import numpy as np # linear algebra\n",
    "import pandas as pd # data processing, CSV file I/O (e.g. pd.read_csv)\n",
    "\n",
    "# Input data files are available in the read-only \"../input/\" directory\n",
    "# For example, running this (by clicking run or pressing Shift+Enter) will list all files under the input directory\n",
    "\n",
    "import os\n",
    "for dirname, _, filenames in os.walk('/kaggle/input'):\n",
    "    for filename in filenames:\n",
    "        print(os.path.join(dirname, filename))\n",
    "\n",
    "# You can write up to 20GB to the current directory (/kaggle/working/) that gets preserved as output when you create a version using \"Save & Run All\" \n",
    "# You can also write temporary files to /kaggle/temp/, but they won't be saved outside of the current session"
   ]
  },
  {
   "cell_type": "markdown",
   "id": "d6e73883",
   "metadata": {
    "papermill": {
     "duration": 0.001497,
     "end_time": "2025-04-19T14:02:10.262457",
     "exception": false,
     "start_time": "2025-04-19T14:02:10.260960",
     "status": "completed"
    },
    "tags": []
   },
   "source": [
    "\n",
    "# Ich lerne gerade maschinelles Lernen und Deutsch. Über beides führe ich hier Buch. Mal sehen, wie es uns nützt: Sehen wir uns heute **die logistische Regression** an. \n"
   ]
  },
  {
   "cell_type": "markdown",
   "id": "bbd79f31",
   "metadata": {
    "papermill": {
     "duration": 0.001929,
     "end_time": "2025-04-19T14:02:10.266039",
     "exception": false,
     "start_time": "2025-04-19T14:02:10.264110",
     "status": "completed"
    },
    "tags": []
   },
   "source": [
    "Die logistische Regression ist ein grundlegender Ansatz des maschinellen Lernens, der Ihre Daten analysiert und eine binäre Klassifizierung vornimmt. \n",
    "Es gibt also zwei Klassen.\n",
    "Zum Beispiel, positiv oder negativ.\n",
    "Eins oder Null.\n",
    "Dies kann verwendet werden, um zu entscheiden, ob Sie heute Abend Fußball spielen können oder nicht, ob Sie Diabetes haben oder nicht und viele andere Fälle, in denen Sie eine binäre Klassifizierung benötigen.  "
   ]
  },
  {
   "cell_type": "markdown",
   "id": "f5f5ff26",
   "metadata": {
    "papermill": {
     "duration": 0.001465,
     "end_time": "2025-04-19T14:02:10.270747",
     "exception": false,
     "start_time": "2025-04-19T14:02:10.269282",
     "status": "completed"
    },
    "tags": []
   },
   "source": []
  },
  {
   "cell_type": "code",
   "execution_count": null,
   "id": "0b17f3f2",
   "metadata": {
    "papermill": {
     "duration": 0.001287,
     "end_time": "2025-04-19T14:02:10.273591",
     "exception": false,
     "start_time": "2025-04-19T14:02:10.272304",
     "status": "completed"
    },
    "tags": []
   },
   "outputs": [],
   "source": []
  }
 ],
 "metadata": {
  "kaggle": {
   "accelerator": "none",
   "dataSources": [],
   "isGpuEnabled": false,
   "isInternetEnabled": true,
   "language": "python",
   "sourceType": "notebook"
  },
  "kernelspec": {
   "display_name": "Python 3",
   "language": "python",
   "name": "python3"
  },
  "language_info": {
   "codemirror_mode": {
    "name": "ipython",
    "version": 3
   },
   "file_extension": ".py",
   "mimetype": "text/x-python",
   "name": "python",
   "nbconvert_exporter": "python",
   "pygments_lexer": "ipython3",
   "version": "3.11.11"
  },
  "papermill": {
   "default_parameters": {},
   "duration": 7.431534,
   "end_time": "2025-04-19T14:02:10.896006",
   "environment_variables": {},
   "exception": null,
   "input_path": "__notebook__.ipynb",
   "output_path": "__notebook__.ipynb",
   "parameters": {},
   "start_time": "2025-04-19T14:02:03.464472",
   "version": "2.6.0"
  }
 },
 "nbformat": 4,
 "nbformat_minor": 5
}
